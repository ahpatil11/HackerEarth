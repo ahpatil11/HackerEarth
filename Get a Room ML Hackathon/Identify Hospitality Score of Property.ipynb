{
 "cells": [
  {
   "cell_type": "code",
   "execution_count": 220,
   "id": "c232d64d",
   "metadata": {},
   "outputs": [],
   "source": [
    "import numpy as np\n",
    "import pandas as pd\n",
    "import matplotlib.pyplot as plt\n",
    "import seaborn as sns"
   ]
  },
  {
   "cell_type": "code",
   "execution_count": 221,
   "id": "72da6961",
   "metadata": {},
   "outputs": [
    {
     "data": {
      "text/html": [
       "<div>\n",
       "<style scoped>\n",
       "    .dataframe tbody tr th:only-of-type {\n",
       "        vertical-align: middle;\n",
       "    }\n",
       "\n",
       "    .dataframe tbody tr th {\n",
       "        vertical-align: top;\n",
       "    }\n",
       "\n",
       "    .dataframe thead th {\n",
       "        text-align: right;\n",
       "    }\n",
       "</style>\n",
       "<table border=\"1\" class=\"dataframe\">\n",
       "  <thead>\n",
       "    <tr style=\"text-align: right;\">\n",
       "      <th></th>\n",
       "      <th>Property_ID</th>\n",
       "      <th>Property_Type</th>\n",
       "      <th>Property_Area</th>\n",
       "      <th>Number_of_Windows</th>\n",
       "      <th>Number_of_Doors</th>\n",
       "      <th>Furnishing</th>\n",
       "      <th>Frequency_of_Powercuts</th>\n",
       "      <th>Power_Backup</th>\n",
       "      <th>Water_Supply</th>\n",
       "      <th>Traffic_Density_Score</th>\n",
       "      <th>Crime_Rate</th>\n",
       "      <th>Dust_and_Noise</th>\n",
       "      <th>Air_Quality_Index</th>\n",
       "      <th>Neighborhood_Review</th>\n",
       "      <th>Habitability_score</th>\n",
       "    </tr>\n",
       "  </thead>\n",
       "  <tbody>\n",
       "    <tr>\n",
       "      <th>0</th>\n",
       "      <td>0x21e3</td>\n",
       "      <td>Apartment</td>\n",
       "      <td>106</td>\n",
       "      <td>NaN</td>\n",
       "      <td>1</td>\n",
       "      <td>Semi_Furnished</td>\n",
       "      <td>0.0</td>\n",
       "      <td>No</td>\n",
       "      <td>Once in a day - Morning</td>\n",
       "      <td>5.89</td>\n",
       "      <td>Slightly below average</td>\n",
       "      <td>Medium</td>\n",
       "      <td>90.0</td>\n",
       "      <td>3.86</td>\n",
       "      <td>71.98</td>\n",
       "    </tr>\n",
       "    <tr>\n",
       "      <th>1</th>\n",
       "      <td>0x68d4</td>\n",
       "      <td>Apartment</td>\n",
       "      <td>733</td>\n",
       "      <td>2.0</td>\n",
       "      <td>2</td>\n",
       "      <td>Unfurnished</td>\n",
       "      <td>1.0</td>\n",
       "      <td>No</td>\n",
       "      <td>Once in a day - Evening</td>\n",
       "      <td>4.37</td>\n",
       "      <td>Well below average</td>\n",
       "      <td>Medium</td>\n",
       "      <td>96.0</td>\n",
       "      <td>3.55</td>\n",
       "      <td>71.20</td>\n",
       "    </tr>\n",
       "    <tr>\n",
       "      <th>2</th>\n",
       "      <td>0x7d81</td>\n",
       "      <td>Apartment</td>\n",
       "      <td>737</td>\n",
       "      <td>4.0</td>\n",
       "      <td>2</td>\n",
       "      <td>Fully Furnished</td>\n",
       "      <td>0.0</td>\n",
       "      <td>No</td>\n",
       "      <td>Once in a day - Morning</td>\n",
       "      <td>7.45</td>\n",
       "      <td>Slightly below average</td>\n",
       "      <td>Medium</td>\n",
       "      <td>121.0</td>\n",
       "      <td>3.81</td>\n",
       "      <td>71.39</td>\n",
       "    </tr>\n",
       "    <tr>\n",
       "      <th>3</th>\n",
       "      <td>0x7a57</td>\n",
       "      <td>Apartment</td>\n",
       "      <td>900</td>\n",
       "      <td>3.0</td>\n",
       "      <td>2</td>\n",
       "      <td>Unfurnished</td>\n",
       "      <td>2.0</td>\n",
       "      <td>Yes</td>\n",
       "      <td>Once in a day - Morning</td>\n",
       "      <td>6.16</td>\n",
       "      <td>Well above average</td>\n",
       "      <td>Medium</td>\n",
       "      <td>100.0</td>\n",
       "      <td>1.34</td>\n",
       "      <td>31.46</td>\n",
       "    </tr>\n",
       "    <tr>\n",
       "      <th>4</th>\n",
       "      <td>0x9409</td>\n",
       "      <td>Bungalow</td>\n",
       "      <td>2238</td>\n",
       "      <td>14.0</td>\n",
       "      <td>6</td>\n",
       "      <td>Fully Furnished</td>\n",
       "      <td>0.0</td>\n",
       "      <td>No</td>\n",
       "      <td>All time</td>\n",
       "      <td>5.46</td>\n",
       "      <td>Well below average</td>\n",
       "      <td>Medium</td>\n",
       "      <td>116.0</td>\n",
       "      <td>4.77</td>\n",
       "      <td>93.70</td>\n",
       "    </tr>\n",
       "  </tbody>\n",
       "</table>\n",
       "</div>"
      ],
      "text/plain": [
       "  Property_ID Property_Type  Property_Area  Number_of_Windows  \\\n",
       "0      0x21e3     Apartment            106                NaN   \n",
       "1      0x68d4     Apartment            733                2.0   \n",
       "2      0x7d81     Apartment            737                4.0   \n",
       "3      0x7a57     Apartment            900                3.0   \n",
       "4      0x9409      Bungalow           2238               14.0   \n",
       "\n",
       "   Number_of_Doors       Furnishing  Frequency_of_Powercuts Power_Backup  \\\n",
       "0                1   Semi_Furnished                     0.0           No   \n",
       "1                2      Unfurnished                     1.0           No   \n",
       "2                2  Fully Furnished                     0.0           No   \n",
       "3                2      Unfurnished                     2.0          Yes   \n",
       "4                6  Fully Furnished                     0.0           No   \n",
       "\n",
       "              Water_Supply  Traffic_Density_Score              Crime_Rate  \\\n",
       "0  Once in a day - Morning                   5.89  Slightly below average   \n",
       "1  Once in a day - Evening                   4.37      Well below average   \n",
       "2  Once in a day - Morning                   7.45  Slightly below average   \n",
       "3  Once in a day - Morning                   6.16      Well above average   \n",
       "4                 All time                   5.46      Well below average   \n",
       "\n",
       "  Dust_and_Noise  Air_Quality_Index  Neighborhood_Review  Habitability_score  \n",
       "0         Medium               90.0                 3.86               71.98  \n",
       "1         Medium               96.0                 3.55               71.20  \n",
       "2         Medium              121.0                 3.81               71.39  \n",
       "3         Medium              100.0                 1.34               31.46  \n",
       "4         Medium              116.0                 4.77               93.70  "
      ]
     },
     "execution_count": 221,
     "metadata": {},
     "output_type": "execute_result"
    }
   ],
   "source": [
    "train = pd.read_csv('train.csv')\n",
    "train.head()"
   ]
  },
  {
   "cell_type": "code",
   "execution_count": 222,
   "id": "8c5f3a1c",
   "metadata": {},
   "outputs": [
    {
     "data": {
      "text/plain": [
       "(39499, 15)"
      ]
     },
     "execution_count": 222,
     "metadata": {},
     "output_type": "execute_result"
    }
   ],
   "source": [
    "train.shape"
   ]
  },
  {
   "cell_type": "code",
   "execution_count": 223,
   "id": "cb3ebd51",
   "metadata": {},
   "outputs": [
    {
     "data": {
      "text/plain": [
       "0"
      ]
     },
     "execution_count": 223,
     "metadata": {},
     "output_type": "execute_result"
    }
   ],
   "source": [
    "train.duplicated().sum()"
   ]
  },
  {
   "cell_type": "code",
   "execution_count": 224,
   "id": "dadcee7d",
   "metadata": {},
   "outputs": [
    {
     "data": {
      "text/plain": [
       "Property_ID                  0\n",
       "Property_Type                0\n",
       "Property_Area                0\n",
       "Number_of_Windows         1654\n",
       "Number_of_Doors              0\n",
       "Furnishing                1042\n",
       "Frequency_of_Powercuts    1383\n",
       "Power_Backup                 0\n",
       "Water_Supply                 0\n",
       "Traffic_Density_Score        0\n",
       "Crime_Rate                 787\n",
       "Dust_and_Noise            1219\n",
       "Air_Quality_Index            0\n",
       "Neighborhood_Review          0\n",
       "Habitability_score           0\n",
       "dtype: int64"
      ]
     },
     "execution_count": 224,
     "metadata": {},
     "output_type": "execute_result"
    }
   ],
   "source": [
    "train.isnull().sum()"
   ]
  },
  {
   "cell_type": "code",
   "execution_count": 225,
   "id": "7c929895",
   "metadata": {},
   "outputs": [
    {
     "data": {
      "text/html": [
       "<div>\n",
       "<style scoped>\n",
       "    .dataframe tbody tr th:only-of-type {\n",
       "        vertical-align: middle;\n",
       "    }\n",
       "\n",
       "    .dataframe tbody tr th {\n",
       "        vertical-align: top;\n",
       "    }\n",
       "\n",
       "    .dataframe thead th {\n",
       "        text-align: right;\n",
       "    }\n",
       "</style>\n",
       "<table border=\"1\" class=\"dataframe\">\n",
       "  <thead>\n",
       "    <tr style=\"text-align: right;\">\n",
       "      <th></th>\n",
       "      <th>Property_ID</th>\n",
       "      <th>Property_Type</th>\n",
       "      <th>Property_Area</th>\n",
       "      <th>Number_of_Windows</th>\n",
       "      <th>Number_of_Doors</th>\n",
       "      <th>Furnishing</th>\n",
       "      <th>Frequency_of_Powercuts</th>\n",
       "      <th>Power_Backup</th>\n",
       "      <th>Water_Supply</th>\n",
       "      <th>Traffic_Density_Score</th>\n",
       "      <th>Crime_Rate</th>\n",
       "      <th>Dust_and_Noise</th>\n",
       "      <th>Air_Quality_Index</th>\n",
       "      <th>Neighborhood_Review</th>\n",
       "    </tr>\n",
       "  </thead>\n",
       "  <tbody>\n",
       "    <tr>\n",
       "      <th>0</th>\n",
       "      <td>0x6e93</td>\n",
       "      <td>Apartment</td>\n",
       "      <td>293</td>\n",
       "      <td>3.0</td>\n",
       "      <td>1</td>\n",
       "      <td>Unfurnished</td>\n",
       "      <td>0.0</td>\n",
       "      <td>No</td>\n",
       "      <td>Once in a day - Morning</td>\n",
       "      <td>7.28</td>\n",
       "      <td>Well above average</td>\n",
       "      <td>Medium</td>\n",
       "      <td>152.0</td>\n",
       "      <td>2.52</td>\n",
       "    </tr>\n",
       "    <tr>\n",
       "      <th>1</th>\n",
       "      <td>0x8787</td>\n",
       "      <td>Apartment</td>\n",
       "      <td>586</td>\n",
       "      <td>4.0</td>\n",
       "      <td>1</td>\n",
       "      <td>Semi_Furnished</td>\n",
       "      <td>0.0</td>\n",
       "      <td>No</td>\n",
       "      <td>Once in a day - Evening</td>\n",
       "      <td>7.63</td>\n",
       "      <td>Well below average</td>\n",
       "      <td>Medium</td>\n",
       "      <td>92.0</td>\n",
       "      <td>4.16</td>\n",
       "    </tr>\n",
       "    <tr>\n",
       "      <th>2</th>\n",
       "      <td>0x6c17</td>\n",
       "      <td>Container Home</td>\n",
       "      <td>305</td>\n",
       "      <td>1.0</td>\n",
       "      <td>2</td>\n",
       "      <td>Semi_Furnished</td>\n",
       "      <td>1.0</td>\n",
       "      <td>No</td>\n",
       "      <td>All time</td>\n",
       "      <td>5.39</td>\n",
       "      <td>Slightly above average</td>\n",
       "      <td>Medium</td>\n",
       "      <td>90.0</td>\n",
       "      <td>2.92</td>\n",
       "    </tr>\n",
       "    <tr>\n",
       "      <th>3</th>\n",
       "      <td>0x9dbd</td>\n",
       "      <td>Apartment</td>\n",
       "      <td>258</td>\n",
       "      <td>2.0</td>\n",
       "      <td>1</td>\n",
       "      <td>Semi_Furnished</td>\n",
       "      <td>1.0</td>\n",
       "      <td>No</td>\n",
       "      <td>All time</td>\n",
       "      <td>7.53</td>\n",
       "      <td>Slightly below average</td>\n",
       "      <td>Medium</td>\n",
       "      <td>158.0</td>\n",
       "      <td>3.45</td>\n",
       "    </tr>\n",
       "    <tr>\n",
       "      <th>4</th>\n",
       "      <td>0xbfde</td>\n",
       "      <td>Bungalow</td>\n",
       "      <td>3031</td>\n",
       "      <td>12.0</td>\n",
       "      <td>4</td>\n",
       "      <td>Fully Furnished</td>\n",
       "      <td>0.0</td>\n",
       "      <td>No</td>\n",
       "      <td>All time</td>\n",
       "      <td>8.79</td>\n",
       "      <td>Well above average</td>\n",
       "      <td>High</td>\n",
       "      <td>186.0</td>\n",
       "      <td>2.72</td>\n",
       "    </tr>\n",
       "  </tbody>\n",
       "</table>\n",
       "</div>"
      ],
      "text/plain": [
       "  Property_ID   Property_Type  Property_Area  Number_of_Windows  \\\n",
       "0      0x6e93       Apartment            293                3.0   \n",
       "1      0x8787       Apartment            586                4.0   \n",
       "2      0x6c17  Container Home            305                1.0   \n",
       "3      0x9dbd       Apartment            258                2.0   \n",
       "4      0xbfde        Bungalow           3031               12.0   \n",
       "\n",
       "   Number_of_Doors       Furnishing  Frequency_of_Powercuts Power_Backup  \\\n",
       "0                1      Unfurnished                     0.0           No   \n",
       "1                1   Semi_Furnished                     0.0           No   \n",
       "2                2   Semi_Furnished                     1.0           No   \n",
       "3                1   Semi_Furnished                     1.0           No   \n",
       "4                4  Fully Furnished                     0.0           No   \n",
       "\n",
       "              Water_Supply  Traffic_Density_Score              Crime_Rate  \\\n",
       "0  Once in a day - Morning                   7.28      Well above average   \n",
       "1  Once in a day - Evening                   7.63      Well below average   \n",
       "2                 All time                   5.39  Slightly above average   \n",
       "3                 All time                   7.53  Slightly below average   \n",
       "4                 All time                   8.79      Well above average   \n",
       "\n",
       "  Dust_and_Noise  Air_Quality_Index  Neighborhood_Review  \n",
       "0         Medium              152.0                 2.52  \n",
       "1         Medium               92.0                 4.16  \n",
       "2         Medium               90.0                 2.92  \n",
       "3         Medium              158.0                 3.45  \n",
       "4           High              186.0                 2.72  "
      ]
     },
     "execution_count": 225,
     "metadata": {},
     "output_type": "execute_result"
    }
   ],
   "source": [
    "test = pd.read_csv('test.csv')\n",
    "test.head()"
   ]
  },
  {
   "cell_type": "code",
   "execution_count": 226,
   "id": "46eb4da8",
   "metadata": {},
   "outputs": [
    {
     "data": {
      "text/plain": [
       "(10500, 14)"
      ]
     },
     "execution_count": 226,
     "metadata": {},
     "output_type": "execute_result"
    }
   ],
   "source": [
    "test.shape"
   ]
  },
  {
   "cell_type": "code",
   "execution_count": 227,
   "id": "40222f1b",
   "metadata": {},
   "outputs": [
    {
     "data": {
      "text/plain": [
       "Property_ID                 0\n",
       "Property_Type               0\n",
       "Property_Area               0\n",
       "Number_of_Windows         445\n",
       "Number_of_Doors             0\n",
       "Furnishing                257\n",
       "Frequency_of_Powercuts    366\n",
       "Power_Backup                0\n",
       "Water_Supply                0\n",
       "Traffic_Density_Score       0\n",
       "Crime_Rate                212\n",
       "Dust_and_Noise            330\n",
       "Air_Quality_Index           0\n",
       "Neighborhood_Review         0\n",
       "dtype: int64"
      ]
     },
     "execution_count": 227,
     "metadata": {},
     "output_type": "execute_result"
    }
   ],
   "source": [
    "test.isnull().sum()"
   ]
  },
  {
   "cell_type": "code",
   "execution_count": 228,
   "id": "c46aed3f",
   "metadata": {},
   "outputs": [
    {
     "data": {
      "text/plain": [
       "(49999, 15)"
      ]
     },
     "execution_count": 228,
     "metadata": {},
     "output_type": "execute_result"
    }
   ],
   "source": [
    "combined = pd.concat([train, test], axis = 0)\n",
    "combined.shape"
   ]
  },
  {
   "cell_type": "code",
   "execution_count": 229,
   "id": "d59cb570",
   "metadata": {},
   "outputs": [
    {
     "name": "stdout",
     "output_type": "stream",
     "text": [
      "<class 'pandas.core.frame.DataFrame'>\n",
      "Int64Index: 49999 entries, 0 to 10499\n",
      "Data columns (total 15 columns):\n",
      " #   Column                  Non-Null Count  Dtype  \n",
      "---  ------                  --------------  -----  \n",
      " 0   Property_ID             49999 non-null  object \n",
      " 1   Property_Type           49999 non-null  object \n",
      " 2   Property_Area           49999 non-null  int64  \n",
      " 3   Number_of_Windows       47900 non-null  float64\n",
      " 4   Number_of_Doors         49999 non-null  int64  \n",
      " 5   Furnishing              48700 non-null  object \n",
      " 6   Frequency_of_Powercuts  48250 non-null  float64\n",
      " 7   Power_Backup            49999 non-null  object \n",
      " 8   Water_Supply            49999 non-null  object \n",
      " 9   Traffic_Density_Score   49999 non-null  float64\n",
      " 10  Crime_Rate              49000 non-null  object \n",
      " 11  Dust_and_Noise          48450 non-null  object \n",
      " 12  Air_Quality_Index       49999 non-null  float64\n",
      " 13  Neighborhood_Review     49999 non-null  float64\n",
      " 14  Habitability_score      39499 non-null  float64\n",
      "dtypes: float64(6), int64(2), object(7)\n",
      "memory usage: 6.1+ MB\n"
     ]
    }
   ],
   "source": [
    "combined.info()"
   ]
  },
  {
   "cell_type": "code",
   "execution_count": 230,
   "id": "44828e8a",
   "metadata": {},
   "outputs": [
    {
     "data": {
      "text/plain": [
       "Apartment             18449\n",
       "Single-family home    14579\n",
       "Duplex                 7326\n",
       "Bungalow               5343\n",
       "Container Home         3653\n",
       "#R%$G&867               649\n",
       "Name: Property_Type, dtype: int64"
      ]
     },
     "execution_count": 230,
     "metadata": {},
     "output_type": "execute_result"
    }
   ],
   "source": [
    "combined['Property_Type'].value_counts()"
   ]
  },
  {
   "cell_type": "code",
   "execution_count": 231,
   "id": "c1153236",
   "metadata": {},
   "outputs": [],
   "source": [
    "combined['Property_Type'] = combined['Property_Type'].replace({'#R%$G&867' : 'Other'})"
   ]
  },
  {
   "cell_type": "code",
   "execution_count": 232,
   "id": "0b431f6d",
   "metadata": {},
   "outputs": [
    {
     "data": {
      "text/plain": [
       "4.0     10150\n",
       "3.0      8990\n",
       "2.0      8781\n",
       "5.0      5843\n",
       "1.0      5397\n",
       "7.0      2273\n",
       "6.0      2235\n",
       "0.0       864\n",
       "9.0       447\n",
       "11.0      445\n",
       "12.0      433\n",
       "15.0      422\n",
       "10.0      416\n",
       "8.0       407\n",
       "14.0      399\n",
       "13.0      398\n",
       "Name: Number_of_Windows, dtype: int64"
      ]
     },
     "execution_count": 232,
     "metadata": {},
     "output_type": "execute_result"
    }
   ],
   "source": [
    "combined['Number_of_Windows'].value_counts()"
   ]
  },
  {
   "cell_type": "code",
   "execution_count": 233,
   "id": "cc4e0b32",
   "metadata": {},
   "outputs": [],
   "source": [
    "combined['Number_of_Windows'] = combined['Number_of_Windows'].fillna(4.0)"
   ]
  },
  {
   "cell_type": "code",
   "execution_count": 234,
   "id": "0c9f01eb",
   "metadata": {},
   "outputs": [
    {
     "data": {
      "text/plain": [
       "0.0    30966\n",
       "1.0    12691\n",
       "2.0     3087\n",
       "3.0     1506\n",
       "Name: Frequency_of_Powercuts, dtype: int64"
      ]
     },
     "execution_count": 234,
     "metadata": {},
     "output_type": "execute_result"
    }
   ],
   "source": [
    "combined['Frequency_of_Powercuts'].value_counts()"
   ]
  },
  {
   "cell_type": "code",
   "execution_count": 235,
   "id": "d6d7d6e3",
   "metadata": {},
   "outputs": [],
   "source": [
    "combined['Frequency_of_Powercuts'] = combined['Frequency_of_Powercuts'].fillna(0.0)"
   ]
  },
  {
   "cell_type": "code",
   "execution_count": 236,
   "id": "d51dd67c",
   "metadata": {},
   "outputs": [
    {
     "data": {
      "text/plain": [
       "Semi_Furnished     25775\n",
       "Unfurnished        13003\n",
       "Fully Furnished     9922\n",
       "Name: Furnishing, dtype: int64"
      ]
     },
     "execution_count": 236,
     "metadata": {},
     "output_type": "execute_result"
    }
   ],
   "source": [
    "combined['Furnishing'].value_counts()"
   ]
  },
  {
   "cell_type": "code",
   "execution_count": 237,
   "id": "0dd38d38",
   "metadata": {},
   "outputs": [
    {
     "data": {
      "text/plain": [
       "Well below average        24661\n",
       "Slightly below average    14612\n",
       "Slightly above average     6724\n",
       "Well above average         3003\n",
       "Name: Crime_Rate, dtype: int64"
      ]
     },
     "execution_count": 237,
     "metadata": {},
     "output_type": "execute_result"
    }
   ],
   "source": [
    "combined['Crime_Rate'].value_counts()"
   ]
  },
  {
   "cell_type": "code",
   "execution_count": 238,
   "id": "dcc49ac0",
   "metadata": {},
   "outputs": [
    {
     "data": {
      "text/plain": [
       "Medium    41822\n",
       "High       4014\n",
       "Low        2614\n",
       "Name: Dust_and_Noise, dtype: int64"
      ]
     },
     "execution_count": 238,
     "metadata": {},
     "output_type": "execute_result"
    }
   ],
   "source": [
    "combined['Dust_and_Noise'].value_counts()"
   ]
  },
  {
   "cell_type": "code",
   "execution_count": 239,
   "id": "a9f97141",
   "metadata": {},
   "outputs": [],
   "source": [
    "x = ['Furnishing', 'Crime_Rate', 'Dust_and_Noise']\n",
    "for i in x:\n",
    "    combined[i] = combined[i].fillna(combined[i].value_counts().index[0])"
   ]
  },
  {
   "cell_type": "code",
   "execution_count": 240,
   "id": "957074c1",
   "metadata": {},
   "outputs": [
    {
     "data": {
      "text/plain": [
       "No               37688\n",
       "Yes              11262\n",
       "NOT MENTIONED     1049\n",
       "Name: Power_Backup, dtype: int64"
      ]
     },
     "execution_count": 240,
     "metadata": {},
     "output_type": "execute_result"
    }
   ],
   "source": [
    "combined['Power_Backup'].value_counts()"
   ]
  },
  {
   "cell_type": "code",
   "execution_count": 241,
   "id": "dde7d391",
   "metadata": {},
   "outputs": [
    {
     "data": {
      "text/plain": [
       "All time                   24698\n",
       "Once in a day - Morning    12494\n",
       "Once in a day - Evening     9933\n",
       "Once in two days            2425\n",
       "NOT MENTIONED                449\n",
       "Name: Water_Supply, dtype: int64"
      ]
     },
     "execution_count": 241,
     "metadata": {},
     "output_type": "execute_result"
    }
   ],
   "source": [
    "combined['Water_Supply'].value_counts()"
   ]
  },
  {
   "cell_type": "code",
   "execution_count": 242,
   "id": "c1ed6376",
   "metadata": {},
   "outputs": [],
   "source": [
    "from sklearn.preprocessing import LabelEncoder\n",
    "le = LabelEncoder()"
   ]
  },
  {
   "cell_type": "code",
   "execution_count": 243,
   "id": "d1144c47",
   "metadata": {},
   "outputs": [],
   "source": [
    "x = ['Furnishing', 'Crime_Rate', 'Dust_and_Noise', 'Power_Backup', 'Water_Supply', 'Property_Type']\n",
    "for i in x:\n",
    "    combined[i] = le.fit_transform(combined[i])"
   ]
  },
  {
   "cell_type": "code",
   "execution_count": 244,
   "id": "01291027",
   "metadata": {},
   "outputs": [],
   "source": [
    "combined = combined.drop('Property_ID', axis = 1)"
   ]
  },
  {
   "cell_type": "code",
   "execution_count": 245,
   "id": "73a74374",
   "metadata": {},
   "outputs": [
    {
     "data": {
      "text/plain": [
       "(39499, 14)"
      ]
     },
     "execution_count": 245,
     "metadata": {},
     "output_type": "execute_result"
    }
   ],
   "source": [
    "newtrain = combined.iloc[0:39499, :]\n",
    "newtrain.shape"
   ]
  },
  {
   "cell_type": "code",
   "execution_count": 246,
   "id": "75010401",
   "metadata": {},
   "outputs": [
    {
     "data": {
      "text/plain": [
       "(10500, 13)"
      ]
     },
     "execution_count": 246,
     "metadata": {},
     "output_type": "execute_result"
    }
   ],
   "source": [
    "newtest = combined.iloc[39499: , :]\n",
    "newtest = newtest.drop('Habitability_score', axis = 1)\n",
    "newtest.shape"
   ]
  },
  {
   "cell_type": "code",
   "execution_count": 247,
   "id": "c93c7bb1",
   "metadata": {},
   "outputs": [],
   "source": [
    "x = newtrain.drop('Habitability_score', axis = 1)\n",
    "y = newtrain['Habitability_score']"
   ]
  },
  {
   "cell_type": "code",
   "execution_count": 248,
   "id": "c43a8529",
   "metadata": {},
   "outputs": [],
   "source": [
    "from sklearn.preprocessing import StandardScaler\n",
    "sc = StandardScaler()\n",
    "x_train = sc.fit_transform(x_train)\n",
    "x_test = sc.transform(x_test)"
   ]
  },
  {
   "cell_type": "code",
   "execution_count": 249,
   "id": "668bd41c",
   "metadata": {},
   "outputs": [],
   "source": [
    "from sklearn.feature_selection import mutual_info_regression"
   ]
  },
  {
   "cell_type": "code",
   "execution_count": 250,
   "id": "78f4715c",
   "metadata": {},
   "outputs": [
    {
     "data": {
      "image/png": "[encoded data removed]",
      "text/plain": [
       "<Figure size 720x1080 with 1 Axes>"
      ]
     },
     "metadata": {
      "needs_background": "light"
     },
     "output_type": "display_data"
    }
   ],
   "source": [
    "mic = mutual_info_regression(x, y)\n",
    "feat_importance = pd.Series(mic, index = newtrain.columns[0:-1])\n",
    "feat_importance.sort_values().plot(kind = 'barh', figsize = [10,15])\n",
    "plt.show()"
   ]
  },
  {
   "cell_type": "code",
   "execution_count": 251,
   "id": "e12518df",
   "metadata": {},
   "outputs": [],
   "source": [
    "features = feat_importance[feat_importance > 0.005].index.to_list()"
   ]
  },
  {
   "cell_type": "code",
   "execution_count": 252,
   "id": "e8dc05b2",
   "metadata": {},
   "outputs": [
    {
     "data": {
      "text/plain": [
       "['Property_Type',\n",
       " 'Property_Area',\n",
       " 'Number_of_Windows',\n",
       " 'Furnishing',\n",
       " 'Frequency_of_Powercuts',\n",
       " 'Power_Backup',\n",
       " 'Water_Supply',\n",
       " 'Traffic_Density_Score',\n",
       " 'Crime_Rate',\n",
       " 'Dust_and_Noise',\n",
       " 'Air_Quality_Index',\n",
       " 'Neighborhood_Review']"
      ]
     },
     "execution_count": 252,
     "metadata": {},
     "output_type": "execute_result"
    }
   ],
   "source": [
    "features"
   ]
  },
  {
   "cell_type": "markdown",
   "id": "dfb3098b",
   "metadata": {},
   "source": [
    "----------"
   ]
  },
  {
   "cell_type": "code",
   "execution_count": 253,
   "id": "0ccb303b",
   "metadata": {},
   "outputs": [],
   "source": [
    "x = newtrain[features]\n",
    "y = newtrain['Habitability_score']"
   ]
  },
  {
   "cell_type": "code",
   "execution_count": 254,
   "id": "5edb92de",
   "metadata": {},
   "outputs": [],
   "source": [
    "from sklearn.model_selection import train_test_split\n",
    "x_train, x_test, y_train, y_test = train_test_split(x, y, test_size = 0.2, random_state = 1)"
   ]
  },
  {
   "cell_type": "code",
   "execution_count": 255,
   "id": "e80c9c63",
   "metadata": {},
   "outputs": [],
   "source": [
    "from sklearn.metrics import r2_score"
   ]
  },
  {
   "cell_type": "code",
   "execution_count": null,
   "id": "d37b503b",
   "metadata": {},
   "outputs": [],
   "source": []
  },
  {
   "cell_type": "code",
   "execution_count": null,
   "id": "ad26366d",
   "metadata": {},
   "outputs": [],
   "source": []
  },
  {
   "cell_type": "code",
   "execution_count": null,
   "id": "b552c406",
   "metadata": {},
   "outputs": [],
   "source": []
  },
  {
   "cell_type": "code",
   "execution_count": null,
   "id": "0f59ba02",
   "metadata": {},
   "outputs": [],
   "source": []
  },
  {
   "cell_type": "code",
   "execution_count": 212,
   "id": "ce8c7035",
   "metadata": {},
   "outputs": [
    {
     "name": "stdout",
     "output_type": "stream",
     "text": [
      "82.1578490028309\n"
     ]
    }
   ],
   "source": [
    "from sklearn.ensemble import RandomForestRegressor\n",
    "rf = RandomForestRegressor()\n",
    "y_pred = rf.fit(x_train, y_train).predict(x_test)\n",
    "print(max(0, 100*(r2_score(y_test , y_pred))))"
   ]
  },
  {
   "cell_type": "code",
   "execution_count": 213,
   "id": "141e5c76",
   "metadata": {},
   "outputs": [
    {
     "data": {
      "image/png": "[encoded data removed]",
      "text/plain": [
       "<Figure size 720x360 with 1 Axes>"
      ]
     },
     "metadata": {
      "needs_background": "light"
     },
     "output_type": "display_data"
    }
   ],
   "source": [
    "feature_imp = pd.DataFrame(sorted(zip(rf.feature_importances_, x.columns), reverse=True)[:], columns=['Value','Feature'])\n",
    "plt.figure(figsize=(10,5))\n",
    "sns.barplot(x=\"Value\", y=\"Feature\", data=feature_imp.sort_values(by=\"Value\", ascending=False))\n",
    "plt.title('RF Features')\n",
    "plt.tight_layout()\n",
    "plt.show()"
   ]
  },
  {
   "cell_type": "code",
   "execution_count": 171,
   "id": "877e3c0d",
   "metadata": {},
   "outputs": [],
   "source": [
    "x_train = newtrain.drop('Habitability_score', axis = 1)\n",
    "y_train = newtrain['Habitability_score']\n",
    "x_test = newtest\n",
    "from sklearn.ensemble import RandomForestRegressor\n",
    "rf = RandomForestRegressor()\n",
    "y_pred = rf.fit(x_train, y_train).predict(x_test)\n",
    "solution = pd.DataFrame({'Property_ID' : test.Property_ID, 'Habitability_score': y_pred})\n",
    "solution.to_csv('RF4444.csv', index = False)"
   ]
  },
  {
   "cell_type": "code",
   "execution_count": null,
   "id": "d25357f3",
   "metadata": {},
   "outputs": [],
   "source": []
  },
  {
   "cell_type": "code",
   "execution_count": null,
   "id": "39472a31",
   "metadata": {},
   "outputs": [],
   "source": []
  }
 ],
 "metadata": {
  "kernelspec": {
   "display_name": "Python 3 (ipykernel)",
   "language": "python",
   "name": "python3"
  },
  "language_info": {
   "codemirror_mode": {
    "name": "ipython",
    "version": 3
   },
   "file_extension": ".py",
   "mimetype": "text/x-python",
   "name": "python",
   "nbconvert_exporter": "python",
   "pygments_lexer": "ipython3",
   "version": "3.9.7"
  }
 },
 "nbformat": 4,
 "nbformat_minor": 5
}
