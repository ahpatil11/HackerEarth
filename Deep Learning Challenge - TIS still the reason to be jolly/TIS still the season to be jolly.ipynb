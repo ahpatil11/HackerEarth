{
 "cells": [
  {
   "cell_type": "code",
   "execution_count": 1,
   "metadata": {},
   "outputs": [],
   "source": [
    "import numpy as np\n",
    "import pandas as pd\n",
    "import matplotlib.pyplot as plt\n",
    "import seaborn as sns"
   ]
  },
  {
   "cell_type": "code",
   "execution_count": 2,
   "metadata": {},
   "outputs": [],
   "source": [
    "import os"
   ]
  },
  {
   "cell_type": "code",
   "execution_count": 3,
   "metadata": {},
   "outputs": [
    {
     "data": {
      "text/plain": [
       "'C:\\\\Users\\\\Akshay\\\\Downloads\\\\Machine Learning Competition\\\\Hackerearth\\\\TIS still the season to be Jolly'"
      ]
     },
     "execution_count": 3,
     "metadata": {},
     "output_type": "execute_result"
    }
   ],
   "source": [
    "data_dir = 'C:\\\\Users\\\\Akshay\\\\Downloads\\\\Machine Learning Competition\\\\Hackerearth\\\\TIS still the season to be Jolly'\n",
    "data_dir"
   ]
  },
  {
   "cell_type": "code",
   "execution_count": 4,
   "metadata": {},
   "outputs": [],
   "source": [
    "test_path = data_dir+'\\\\test\\\\'\n",
    "train_path = data_dir+'\\\\train\\\\'"
   ]
  },
  {
   "cell_type": "code",
   "execution_count": 6,
   "metadata": {
    "scrolled": false
   },
   "outputs": [
    {
     "data": {
      "text/html": [
       "<div>\n",
       "<style scoped>\n",
       "    .dataframe tbody tr th:only-of-type {\n",
       "        vertical-align: middle;\n",
       "    }\n",
       "\n",
       "    .dataframe tbody tr th {\n",
       "        vertical-align: top;\n",
       "    }\n",
       "\n",
       "    .dataframe thead th {\n",
       "        text-align: right;\n",
       "    }\n",
       "</style>\n",
       "<table border=\"1\" class=\"dataframe\">\n",
       "  <thead>\n",
       "    <tr style=\"text-align: right;\">\n",
       "      <th></th>\n",
       "      <th>Image</th>\n",
       "      <th>Class</th>\n",
       "    </tr>\n",
       "  </thead>\n",
       "  <tbody>\n",
       "    <tr>\n",
       "      <th>0</th>\n",
       "      <td>image3476.jpg</td>\n",
       "      <td>Miscellaneous</td>\n",
       "    </tr>\n",
       "    <tr>\n",
       "      <th>1</th>\n",
       "      <td>image5198.jpg</td>\n",
       "      <td>Candle</td>\n",
       "    </tr>\n",
       "    <tr>\n",
       "      <th>2</th>\n",
       "      <td>image4183.jpg</td>\n",
       "      <td>Snowman</td>\n",
       "    </tr>\n",
       "    <tr>\n",
       "      <th>3</th>\n",
       "      <td>image1806.jpg</td>\n",
       "      <td>Miscellaneous</td>\n",
       "    </tr>\n",
       "    <tr>\n",
       "      <th>4</th>\n",
       "      <td>image7831.jpg</td>\n",
       "      <td>Miscellaneous</td>\n",
       "    </tr>\n",
       "  </tbody>\n",
       "</table>\n",
       "</div>"
      ],
      "text/plain": [
       "           Image          Class\n",
       "0  image3476.jpg  Miscellaneous\n",
       "1  image5198.jpg         Candle\n",
       "2  image4183.jpg        Snowman\n",
       "3  image1806.jpg  Miscellaneous\n",
       "4  image7831.jpg  Miscellaneous"
      ]
     },
     "execution_count": 6,
     "metadata": {},
     "output_type": "execute_result"
    }
   ],
   "source": [
    "train = pd.read_csv(os.path.join(train_path, 'train.csv'))\n",
    "##test = pd.read_csv(os.path.join(test_path, 'test.csv'))\n",
    "train.head()"
   ]
  },
  {
   "cell_type": "code",
   "execution_count": 7,
   "metadata": {},
   "outputs": [
    {
     "data": {
      "text/plain": [
       "(6469, 2)"
      ]
     },
     "execution_count": 7,
     "metadata": {},
     "output_type": "execute_result"
    }
   ],
   "source": [
    "train.shape"
   ]
  },
  {
   "cell_type": "code",
   "execution_count": 8,
   "metadata": {},
   "outputs": [
    {
     "data": {
      "text/plain": [
       "'image1000.jpg'"
      ]
     },
     "execution_count": 8,
     "metadata": {},
     "output_type": "execute_result"
    }
   ],
   "source": [
    "os.listdir(train_path)[1]"
   ]
  },
  {
   "cell_type": "code",
   "execution_count": 9,
   "metadata": {},
   "outputs": [
    {
     "data": {
      "text/plain": [
       "(120, 80, 3)"
      ]
     },
     "execution_count": 9,
     "metadata": {},
     "output_type": "execute_result"
    }
   ],
   "source": [
    "first_img = train_path+'image1000.jpg'\n",
    "first_img\n",
    "\n",
    "plt.imread(first_img).shape"
   ]
  },
  {
   "cell_type": "code",
   "execution_count": 10,
   "metadata": {},
   "outputs": [
    {
     "name": "stdout",
     "output_type": "stream",
     "text": [
      "74.03277168032153\n",
      "80.0\n"
     ]
    }
   ],
   "source": [
    "l1 = []\n",
    "l2 = []\n",
    "for i in os.listdir(train_path):\n",
    "    img = plt.imread(train_path+i)\n",
    "    i1 = img.shape[0]\n",
    "    i2 = img.shape[1]\n",
    "    l1.append(i1)\n",
    "    l2.append(i2)\n",
    "print(np.mean(l1))\n",
    "print(np.mean(l2))"
   ]
  },
  {
   "cell_type": "code",
   "execution_count": 11,
   "metadata": {},
   "outputs": [
    {
     "name": "stdout",
     "output_type": "stream",
     "text": [
      "73.91344224706219\n",
      "80.0\n"
     ]
    }
   ],
   "source": [
    "l1 = []\n",
    "l2 = []\n",
    "for i in os.listdir(test_path):\n",
    "    img = plt.imread(test_path+i)\n",
    "    i1 = img.shape[0]\n",
    "    i2 = img.shape[1]\n",
    "    l1.append(i1)\n",
    "    l2.append(i2)\n",
    "print(np.mean(l1))\n",
    "print(np.mean(l2))"
   ]
  },
  {
   "cell_type": "raw",
   "metadata": {},
   "source": [
    "from tqdm import tqdm\n",
    "from keras.preprocessing import image\n",
    "import random\n",
    "from skimage.transform import resize\n",
    "\n",
    "l1 = []\n",
    "i = random.choice(train.index)\n",
    "img_name = train.Image[i]\n",
    "for i in train.Image:\n",
    "    img_path = os.path.join(data_dir, 'train', i)\n",
    "    img = plt.imread(img_path)\n",
    "    img = resize(img, (74, 80, 3))\n",
    "    img = img.astype('float32')\n",
    "    l1.append(img)\n",
    "train_x = np.stack(l1)"
   ]
  },
  {
   "cell_type": "code",
   "execution_count": 12,
   "metadata": {},
   "outputs": [
    {
     "name": "stderr",
     "output_type": "stream",
     "text": [
      "  0%|          | 0/6469 [00:00<?, ?it/s]C:\\Users\\Akshay\\Anaconda3\\lib\\site-packages\\keras_preprocessing\\image\\utils.py:107: UserWarning: grayscale is deprecated. Please use color_mode = \"grayscale\"\n",
      "  warnings.warn('grayscale is deprecated. Please use '\n",
      "100%|██████████| 6469/6469 [00:04<00:00, 1315.32it/s]\n"
     ]
    }
   ],
   "source": [
    "from tqdm import tqdm\n",
    "from keras.preprocessing import image\n",
    "\n",
    "train_image = []\n",
    "for i in tqdm(range(train.shape[0])):\n",
    "    img = image.load_img('train/'+train['Image'][i], target_size=(74,80,1), grayscale=True)\n",
    "    img = image.img_to_array(img)\n",
    "    img = img/255\n",
    "    train_image.append(img)\n",
    "X = np.array(train_image)"
   ]
  },
  {
   "cell_type": "code",
   "execution_count": 13,
   "metadata": {},
   "outputs": [],
   "source": [
    "from sklearn.preprocessing import LabelEncoder\n",
    "le = LabelEncoder()\n",
    "train['Class'] = le.fit_transform(train['Class'])"
   ]
  },
  {
   "cell_type": "code",
   "execution_count": null,
   "metadata": {},
   "outputs": [],
   "source": []
  },
  {
   "cell_type": "code",
   "execution_count": 14,
   "metadata": {},
   "outputs": [
    {
     "name": "stdout",
     "output_type": "stream",
     "text": [
      "<class 'pandas.core.frame.DataFrame'>\n",
      "RangeIndex: 6469 entries, 0 to 6468\n",
      "Data columns (total 2 columns):\n",
      "Image    6469 non-null object\n",
      "Class    6469 non-null int32\n",
      "dtypes: int32(1), object(1)\n",
      "memory usage: 75.9+ KB\n"
     ]
    }
   ],
   "source": [
    "train.info()"
   ]
  },
  {
   "cell_type": "code",
   "execution_count": 15,
   "metadata": {},
   "outputs": [],
   "source": [
    "from keras.utils import to_categorical\n",
    "\n",
    "y = train['Class'].values\n",
    "y = to_categorical(y)"
   ]
  },
  {
   "cell_type": "code",
   "execution_count": 16,
   "metadata": {},
   "outputs": [
    {
     "data": {
      "text/plain": [
       "'image100.jpg'"
      ]
     },
     "execution_count": 16,
     "metadata": {},
     "output_type": "execute_result"
    }
   ],
   "source": [
    "os.listdir(test_path)[1]"
   ]
  },
  {
   "cell_type": "code",
   "execution_count": 17,
   "metadata": {},
   "outputs": [
    {
     "data": {
      "text/plain": [
       "(60, 80, 3)"
      ]
     },
     "execution_count": 17,
     "metadata": {},
     "output_type": "execute_result"
    }
   ],
   "source": [
    "first_img = test_path+'image100.jpg'\n",
    "first_img\n",
    "\n",
    "plt.imread(first_img).shape"
   ]
  },
  {
   "cell_type": "code",
   "execution_count": 18,
   "metadata": {
    "scrolled": false
   },
   "outputs": [
    {
     "data": {
      "text/html": [
       "<div>\n",
       "<style scoped>\n",
       "    .dataframe tbody tr th:only-of-type {\n",
       "        vertical-align: middle;\n",
       "    }\n",
       "\n",
       "    .dataframe tbody tr th {\n",
       "        vertical-align: top;\n",
       "    }\n",
       "\n",
       "    .dataframe thead th {\n",
       "        text-align: right;\n",
       "    }\n",
       "</style>\n",
       "<table border=\"1\" class=\"dataframe\">\n",
       "  <thead>\n",
       "    <tr style=\"text-align: right;\">\n",
       "      <th></th>\n",
       "      <th>Image</th>\n",
       "    </tr>\n",
       "  </thead>\n",
       "  <tbody>\n",
       "    <tr>\n",
       "      <th>0</th>\n",
       "      <td>image10.jpg</td>\n",
       "    </tr>\n",
       "    <tr>\n",
       "      <th>1</th>\n",
       "      <td>image100.jpg</td>\n",
       "    </tr>\n",
       "    <tr>\n",
       "      <th>2</th>\n",
       "      <td>image1013.jpg</td>\n",
       "    </tr>\n",
       "    <tr>\n",
       "      <th>3</th>\n",
       "      <td>image1014.jpg</td>\n",
       "    </tr>\n",
       "    <tr>\n",
       "      <th>4</th>\n",
       "      <td>image1018.jpg</td>\n",
       "    </tr>\n",
       "  </tbody>\n",
       "</table>\n",
       "</div>"
      ],
      "text/plain": [
       "           Image\n",
       "0    image10.jpg\n",
       "1   image100.jpg\n",
       "2  image1013.jpg\n",
       "3  image1014.jpg\n",
       "4  image1018.jpg"
      ]
     },
     "execution_count": 18,
     "metadata": {},
     "output_type": "execute_result"
    }
   ],
   "source": [
    "from PIL import Image\n",
    "images = [f for f in os.listdir(test_path) if os.path.splitext(f)[-1] == '.jpg']\n",
    "test = pd.DataFrame({'Image': images})\n",
    "test.to_csv('test.csv', index = False)\n",
    "test.head()"
   ]
  },
  {
   "cell_type": "code",
   "execution_count": 19,
   "metadata": {},
   "outputs": [
    {
     "data": {
      "text/plain": [
       "(3489, 1)"
      ]
     },
     "execution_count": 19,
     "metadata": {},
     "output_type": "execute_result"
    }
   ],
   "source": [
    "test.shape"
   ]
  },
  {
   "cell_type": "code",
   "execution_count": 139,
   "metadata": {},
   "outputs": [],
   "source": [
    "newtest = test\n",
    "newtest['Image'] = newtest['Image'].str.extract('(\\d+)')"
   ]
  },
  {
   "cell_type": "code",
   "execution_count": 142,
   "metadata": {},
   "outputs": [],
   "source": [
    "newtest['Image'] = newtest['Image'].astype(int)"
   ]
  },
  {
   "cell_type": "code",
   "execution_count": 145,
   "metadata": {},
   "outputs": [
    {
     "name": "stdout",
     "output_type": "stream",
     "text": [
      "<class 'pandas.core.frame.DataFrame'>\n",
      "RangeIndex: 3489 entries, 0 to 3488\n",
      "Data columns (total 1 columns):\n",
      "Image    3489 non-null int32\n",
      "dtypes: int32(1)\n",
      "memory usage: 13.7 KB\n"
     ]
    }
   ],
   "source": [
    "newtest.info()"
   ]
  },
  {
   "cell_type": "code",
   "execution_count": 20,
   "metadata": {},
   "outputs": [
    {
     "name": "stderr",
     "output_type": "stream",
     "text": [
      "  0%|          | 0/3489 [00:00<?, ?it/s]C:\\Users\\Akshay\\Anaconda3\\lib\\site-packages\\keras_preprocessing\\image\\utils.py:107: UserWarning: grayscale is deprecated. Please use color_mode = \"grayscale\"\n",
      "  warnings.warn('grayscale is deprecated. Please use '\n",
      "100%|██████████| 3489/3489 [00:02<00:00, 1336.63it/s]\n"
     ]
    }
   ],
   "source": [
    "test_image = []\n",
    "for i in tqdm(range(test.shape[0])):\n",
    "    img = image.load_img('test/'+test['Image'][i], target_size=(74,80,1), grayscale=True)\n",
    "    img = image.img_to_array(img)\n",
    "    img = img/255\n",
    "    test_image.append(img)\n",
    "test = np.array(test_image)\n"
   ]
  },
  {
   "cell_type": "code",
   "execution_count": 21,
   "metadata": {
    "colab": {},
    "colab_type": "code",
    "id": "RhJpHZPhN3BX"
   },
   "outputs": [],
   "source": [
    "X_train, X_test, y_train, y_test = train_test_split(X, y, random_state=42, test_size=0.2)\n"
   ]
  },
  {
   "cell_type": "code",
   "execution_count": 22,
   "metadata": {
    "colab": {},
    "colab_type": "code",
    "id": "Og0jkcr7OGja"
   },
   "outputs": [],
   "source": [
    "from keras.models import Sequential, load_model    \n",
    "from keras.layers import Conv2D, MaxPooling2D, Flatten, Dense, Dropout\n",
    "from keras.layers.normalization import BatchNormalization\n",
    "import cv2\n"
   ]
  },
  {
   "cell_type": "code",
   "execution_count": 31,
   "metadata": {
    "colab": {},
    "colab_type": "code",
    "id": "Bqcs5OLcOOqK"
   },
   "outputs": [],
   "source": [
    "model = Sequential()\n",
    "\n",
    "model.add(Conv2D(32, kernel_size=(3, 3),activation='relu',input_shape=(74,80,1)))\n",
    "\n",
    "model.add(Conv2D(64, (3, 3), activation='relu'))\n",
    "model.add(MaxPooling2D(pool_size=(3, 3)))\n",
    "model.add(Dropout(0.25))\n",
    "\n",
    "\n",
    "model.add(Flatten())\n",
    "\n",
    "model.add(Dense(128, activation='relu'))\n",
    "model.add(Dropout(0.5))\n",
    "\n",
    "model.add(Dense(6, activation='softmax'))\n"
   ]
  },
  {
   "cell_type": "code",
   "execution_count": 32,
   "metadata": {
    "colab": {},
    "colab_type": "code",
    "id": "tXx0sDF6OYFX"
   },
   "outputs": [],
   "source": [
    "model.compile(loss='categorical_crossentropy',optimizer='Adam',metrics=['accuracy'])\n"
   ]
  },
  {
   "cell_type": "code",
   "execution_count": 33,
   "metadata": {
    "colab": {
     "base_uri": "https://localhost:8080/",
     "height": 706
    },
    "colab_type": "code",
    "id": "G04_cY6KOafb",
    "outputId": "64093c5d-6907-4039-f08a-976f346740ae"
   },
   "outputs": [
    {
     "name": "stdout",
     "output_type": "stream",
     "text": [
      "Epoch 1/25\n",
      "162/162 [==============================] - 50s 308ms/step - loss: 1.3993 - accuracy: 0.4889 - val_loss: 1.1912 - val_accuracy: 0.5541\n",
      "Epoch 2/25\n",
      "162/162 [==============================] - 50s 309ms/step - loss: 1.1662 - accuracy: 0.5770 - val_loss: 1.0900 - val_accuracy: 0.6012\n",
      "Epoch 3/25\n",
      "162/162 [==============================] - 50s 306ms/step - loss: 1.0431 - accuracy: 0.6211 - val_loss: 1.0627 - val_accuracy: 0.6236\n",
      "Epoch 4/25\n",
      "162/162 [==============================] - 50s 308ms/step - loss: 0.9080 - accuracy: 0.6674 - val_loss: 1.0429 - val_accuracy: 0.6314\n",
      "Epoch 5/25\n",
      "162/162 [==============================] - 50s 308ms/step - loss: 0.7909 - accuracy: 0.7030 - val_loss: 1.0797 - val_accuracy: 0.6236\n",
      "Epoch 6/25\n",
      "162/162 [==============================] - 50s 307ms/step - loss: 0.6632 - accuracy: 0.7490 - val_loss: 1.0823 - val_accuracy: 0.6345\n",
      "Epoch 7/25\n",
      "162/162 [==============================] - 50s 307ms/step - loss: 0.5615 - accuracy: 0.7886 - val_loss: 1.1441 - val_accuracy: 0.6244\n",
      "Epoch 8/25\n",
      "162/162 [==============================] - 49s 303ms/step - loss: 0.4915 - accuracy: 0.8178 - val_loss: 1.1801 - val_accuracy: 0.6345\n",
      "Epoch 9/25\n",
      "162/162 [==============================] - 49s 302ms/step - loss: 0.4025 - accuracy: 0.8493 - val_loss: 1.2164 - val_accuracy: 0.6244\n",
      "Epoch 10/25\n",
      "162/162 [==============================] - 49s 301ms/step - loss: 0.3411 - accuracy: 0.8781 - val_loss: 1.3369 - val_accuracy: 0.6236\n",
      "Epoch 11/25\n",
      "162/162 [==============================] - 49s 304ms/step - loss: 0.3049 - accuracy: 0.8918 - val_loss: 1.4522 - val_accuracy: 0.6345\n",
      "Epoch 12/25\n",
      "162/162 [==============================] - 49s 303ms/step - loss: 0.2530 - accuracy: 0.9123 - val_loss: 1.5968 - val_accuracy: 0.6345\n",
      "Epoch 13/25\n",
      "162/162 [==============================] - 49s 301ms/step - loss: 0.2362 - accuracy: 0.9156 - val_loss: 1.4649 - val_accuracy: 0.6213\n",
      "Epoch 14/25\n",
      "162/162 [==============================] - 49s 302ms/step - loss: 0.1949 - accuracy: 0.9329 - val_loss: 1.6639 - val_accuracy: 0.6376\n",
      "Epoch 15/25\n",
      "162/162 [==============================] - 49s 304ms/step - loss: 0.1745 - accuracy: 0.9409 - val_loss: 1.6959 - val_accuracy: 0.6391\n",
      "Epoch 16/25\n",
      "162/162 [==============================] - 50s 309ms/step - loss: 0.1642 - accuracy: 0.9430 - val_loss: 1.8895 - val_accuracy: 0.6090\n",
      "Epoch 17/25\n",
      "162/162 [==============================] - 49s 305ms/step - loss: 0.1685 - accuracy: 0.9413 - val_loss: 1.7686 - val_accuracy: 0.6206\n",
      "Epoch 18/25\n",
      "162/162 [==============================] - 49s 305ms/step - loss: 0.1421 - accuracy: 0.9498 - val_loss: 1.7405 - val_accuracy: 0.6229\n",
      "Epoch 19/25\n",
      "162/162 [==============================] - 50s 309ms/step - loss: 0.1389 - accuracy: 0.9515 - val_loss: 1.9248 - val_accuracy: 0.6321\n",
      "Epoch 20/25\n",
      "162/162 [==============================] - 50s 311ms/step - loss: 0.1243 - accuracy: 0.9542 - val_loss: 1.8758 - val_accuracy: 0.6144\n",
      "Epoch 21/25\n",
      "162/162 [==============================] - 51s 312ms/step - loss: 0.1041 - accuracy: 0.9660 - val_loss: 2.1338 - val_accuracy: 0.6314\n",
      "Epoch 22/25\n",
      "162/162 [==============================] - 50s 308ms/step - loss: 0.1118 - accuracy: 0.9619 - val_loss: 2.1404 - val_accuracy: 0.6314\n",
      "Epoch 23/25\n",
      "162/162 [==============================] - 50s 309ms/step - loss: 0.1105 - accuracy: 0.9631 - val_loss: 2.4743 - val_accuracy: 0.6329\n",
      "Epoch 24/25\n",
      "162/162 [==============================] - 50s 309ms/step - loss: 0.1015 - accuracy: 0.9652 - val_loss: 2.2352 - val_accuracy: 0.6213\n",
      "Epoch 25/25\n",
      "162/162 [==============================] - 43s 264ms/step - loss: 0.1075 - accuracy: 0.9629 - val_loss: 2.2916 - val_accuracy: 0.5904\n"
     ]
    },
    {
     "data": {
      "text/plain": [
       "<tensorflow.python.keras.callbacks.History at 0x1f3d85e20b8>"
      ]
     },
     "execution_count": 33,
     "metadata": {},
     "output_type": "execute_result"
    }
   ],
   "source": [
    "model.fit(X_train, y_train, epochs=25, validation_data=(X_test, y_test))\n"
   ]
  },
  {
   "cell_type": "code",
   "execution_count": 40,
   "metadata": {
    "colab": {
     "base_uri": "https://localhost:8080/",
     "height": 87
    },
    "colab_type": "code",
    "id": "bAL4QvuMOlAx",
    "outputId": "fde3e36b-5b56-4b8a-d595-91bdae6b1aad"
   },
   "outputs": [],
   "source": [
    "prediction = model.predict_classes(test)\n"
   ]
  },
  {
   "cell_type": "code",
   "execution_count": 42,
   "metadata": {},
   "outputs": [
    {
     "data": {
      "text/plain": [
       "array([4, 4, 3, ..., 2, 1, 2], dtype=int64)"
      ]
     },
     "execution_count": 42,
     "metadata": {},
     "output_type": "execute_result"
    }
   ],
   "source": [
    "prediction"
   ]
  },
  {
   "cell_type": "code",
   "execution_count": 43,
   "metadata": {},
   "outputs": [
    {
     "data": {
      "text/html": [
       "<div>\n",
       "<style scoped>\n",
       "    .dataframe tbody tr th:only-of-type {\n",
       "        vertical-align: middle;\n",
       "    }\n",
       "\n",
       "    .dataframe tbody tr th {\n",
       "        vertical-align: top;\n",
       "    }\n",
       "\n",
       "    .dataframe thead th {\n",
       "        text-align: right;\n",
       "    }\n",
       "</style>\n",
       "<table border=\"1\" class=\"dataframe\">\n",
       "  <thead>\n",
       "    <tr style=\"text-align: right;\">\n",
       "      <th></th>\n",
       "      <th>Image</th>\n",
       "    </tr>\n",
       "  </thead>\n",
       "  <tbody>\n",
       "    <tr>\n",
       "      <th>0</th>\n",
       "      <td>image10.jpg</td>\n",
       "    </tr>\n",
       "    <tr>\n",
       "      <th>1</th>\n",
       "      <td>image100.jpg</td>\n",
       "    </tr>\n",
       "    <tr>\n",
       "      <th>2</th>\n",
       "      <td>image1013.jpg</td>\n",
       "    </tr>\n",
       "    <tr>\n",
       "      <th>3</th>\n",
       "      <td>image1014.jpg</td>\n",
       "    </tr>\n",
       "    <tr>\n",
       "      <th>4</th>\n",
       "      <td>image1018.jpg</td>\n",
       "    </tr>\n",
       "  </tbody>\n",
       "</table>\n",
       "</div>"
      ],
      "text/plain": [
       "           Image\n",
       "0    image10.jpg\n",
       "1   image100.jpg\n",
       "2  image1013.jpg\n",
       "3  image1014.jpg\n",
       "4  image1018.jpg"
      ]
     },
     "execution_count": 43,
     "metadata": {},
     "output_type": "execute_result"
    }
   ],
   "source": [
    "test1 = pd.read_csv('test.csv')\n",
    "test1.head()"
   ]
  },
  {
   "cell_type": "code",
   "execution_count": 44,
   "metadata": {},
   "outputs": [
    {
     "data": {
      "text/html": [
       "<div>\n",
       "<style scoped>\n",
       "    .dataframe tbody tr th:only-of-type {\n",
       "        vertical-align: middle;\n",
       "    }\n",
       "\n",
       "    .dataframe tbody tr th {\n",
       "        vertical-align: top;\n",
       "    }\n",
       "\n",
       "    .dataframe thead th {\n",
       "        text-align: right;\n",
       "    }\n",
       "</style>\n",
       "<table border=\"1\" class=\"dataframe\">\n",
       "  <thead>\n",
       "    <tr style=\"text-align: right;\">\n",
       "      <th></th>\n",
       "      <th>Image</th>\n",
       "      <th>Class</th>\n",
       "    </tr>\n",
       "  </thead>\n",
       "  <tbody>\n",
       "    <tr>\n",
       "      <th>0</th>\n",
       "      <td>image10.jpg</td>\n",
       "      <td>Miscellaneous</td>\n",
       "    </tr>\n",
       "    <tr>\n",
       "      <th>1</th>\n",
       "      <td>image100.jpg</td>\n",
       "      <td>Miscellaneous</td>\n",
       "    </tr>\n",
       "    <tr>\n",
       "      <th>2</th>\n",
       "      <td>image1013.jpg</td>\n",
       "      <td>Jacket</td>\n",
       "    </tr>\n",
       "    <tr>\n",
       "      <th>3</th>\n",
       "      <td>image1014.jpg</td>\n",
       "      <td>Miscellaneous</td>\n",
       "    </tr>\n",
       "    <tr>\n",
       "      <th>4</th>\n",
       "      <td>image1018.jpg</td>\n",
       "      <td>Miscellaneous</td>\n",
       "    </tr>\n",
       "  </tbody>\n",
       "</table>\n",
       "</div>"
      ],
      "text/plain": [
       "           Image          Class\n",
       "0    image10.jpg  Miscellaneous\n",
       "1   image100.jpg  Miscellaneous\n",
       "2  image1013.jpg         Jacket\n",
       "3  image1014.jpg  Miscellaneous\n",
       "4  image1018.jpg  Miscellaneous"
      ]
     },
     "execution_count": 44,
     "metadata": {},
     "output_type": "execute_result"
    }
   ],
   "source": [
    "solution = pd.DataFrame({'Image': test1.Image, 'Class':le.inverse_transform(prediction)})\n",
    "solution.head()"
   ]
  },
  {
   "cell_type": "raw",
   "metadata": {},
   "source": [
    "solution['breed'] = le.inverse_transform(solution['breed'])\n",
    "solution.head()"
   ]
  },
  {
   "cell_type": "code",
   "execution_count": 45,
   "metadata": {},
   "outputs": [],
   "source": [
    "solution.to_csv('Solution.csv', index = False)"
   ]
  },
  {
   "cell_type": "code",
   "execution_count": null,
   "metadata": {},
   "outputs": [],
   "source": []
  }
 ],
 "metadata": {
  "kernelspec": {
   "display_name": "Python 3",
   "language": "python",
   "name": "python3"
  },
  "language_info": {
   "codemirror_mode": {
    "name": "ipython",
    "version": 3
   },
   "file_extension": ".py",
   "mimetype": "text/x-python",
   "name": "python",
   "nbconvert_exporter": "python",
   "pygments_lexer": "ipython3",
   "version": "3.7.3"
  }
 },
 "nbformat": 4,
 "nbformat_minor": 2
}
