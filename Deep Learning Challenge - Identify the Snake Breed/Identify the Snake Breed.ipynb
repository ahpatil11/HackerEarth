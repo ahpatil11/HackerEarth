{
 "cells": [
  {
   "cell_type": "code",
   "execution_count": 1,
   "metadata": {},
   "outputs": [],
   "source": [
    "import numpy as np\n",
    "import pandas as pd\n",
    "import matplotlib.pyplot as plt\n",
    "import seaborn as sns"
   ]
  },
  {
   "cell_type": "code",
   "execution_count": 2,
   "metadata": {},
   "outputs": [],
   "source": [
    "import os"
   ]
  },
  {
   "cell_type": "code",
   "execution_count": 3,
   "metadata": {},
   "outputs": [
    {
     "data": {
      "text/plain": [
       "'C:\\\\Users\\\\Akshay\\\\Downloads\\\\Machine Learning Competition\\\\Hackerearth\\\\Identify the snake breed'"
      ]
     },
     "execution_count": 3,
     "metadata": {},
     "output_type": "execute_result"
    }
   ],
   "source": [
    "data_dir = 'C:\\\\Users\\\\Akshay\\\\Downloads\\\\Machine Learning Competition\\\\Hackerearth\\\\Identify the snake breed'\n",
    "data_dir"
   ]
  },
  {
   "cell_type": "code",
   "execution_count": 4,
   "metadata": {},
   "outputs": [],
   "source": [
    "test_path = data_dir+'\\\\Test\\\\'\n",
    "train_path = data_dir+'\\\\Train\\\\'"
   ]
  },
  {
   "cell_type": "code",
   "execution_count": 5,
   "metadata": {},
   "outputs": [
    {
     "data": {
      "text/html": [
       "<div>\n",
       "<style scoped>\n",
       "    .dataframe tbody tr th:only-of-type {\n",
       "        vertical-align: middle;\n",
       "    }\n",
       "\n",
       "    .dataframe tbody tr th {\n",
       "        vertical-align: top;\n",
       "    }\n",
       "\n",
       "    .dataframe thead th {\n",
       "        text-align: right;\n",
       "    }\n",
       "</style>\n",
       "<table border=\"1\" class=\"dataframe\">\n",
       "  <thead>\n",
       "    <tr style=\"text-align: right;\">\n",
       "      <th></th>\n",
       "      <th>image_id</th>\n",
       "      <th>breed</th>\n",
       "    </tr>\n",
       "  </thead>\n",
       "  <tbody>\n",
       "    <tr>\n",
       "      <th>0</th>\n",
       "      <td>a8b3ad1dde</td>\n",
       "      <td>nerodia-erythrogaster</td>\n",
       "    </tr>\n",
       "    <tr>\n",
       "      <th>1</th>\n",
       "      <td>8b492b973d</td>\n",
       "      <td>pantherophis-vulpinus</td>\n",
       "    </tr>\n",
       "    <tr>\n",
       "      <th>2</th>\n",
       "      <td>929b99ea92</td>\n",
       "      <td>thamnophis-sirtalis</td>\n",
       "    </tr>\n",
       "    <tr>\n",
       "      <th>3</th>\n",
       "      <td>bbac7385e2</td>\n",
       "      <td>pantherophis-obsoletus</td>\n",
       "    </tr>\n",
       "    <tr>\n",
       "      <th>4</th>\n",
       "      <td>ef776b1488</td>\n",
       "      <td>agkistrodon-contortrix</td>\n",
       "    </tr>\n",
       "  </tbody>\n",
       "</table>\n",
       "</div>"
      ],
      "text/plain": [
       "     image_id                   breed\n",
       "0  a8b3ad1dde   nerodia-erythrogaster\n",
       "1  8b492b973d   pantherophis-vulpinus\n",
       "2  929b99ea92     thamnophis-sirtalis\n",
       "3  bbac7385e2  pantherophis-obsoletus\n",
       "4  ef776b1488  agkistrodon-contortrix"
      ]
     },
     "execution_count": 5,
     "metadata": {},
     "output_type": "execute_result"
    }
   ],
   "source": [
    "train = pd.read_csv(os.path.join(train_path, 'train.csv'))\n",
    "test = pd.read_csv(os.path.join(test_path, 'test.csv'))\n",
    "train.head()"
   ]
  },
  {
   "cell_type": "code",
   "execution_count": 6,
   "metadata": {},
   "outputs": [
    {
     "data": {
      "text/plain": [
       "(5508, 2)"
      ]
     },
     "execution_count": 6,
     "metadata": {},
     "output_type": "execute_result"
    }
   ],
   "source": [
    "train.shape"
   ]
  },
  {
   "cell_type": "code",
   "execution_count": 7,
   "metadata": {},
   "outputs": [
    {
     "data": {
      "text/html": [
       "<div>\n",
       "<style scoped>\n",
       "    .dataframe tbody tr th:only-of-type {\n",
       "        vertical-align: middle;\n",
       "    }\n",
       "\n",
       "    .dataframe tbody tr th {\n",
       "        vertical-align: top;\n",
       "    }\n",
       "\n",
       "    .dataframe thead th {\n",
       "        text-align: right;\n",
       "    }\n",
       "</style>\n",
       "<table border=\"1\" class=\"dataframe\">\n",
       "  <thead>\n",
       "    <tr style=\"text-align: right;\">\n",
       "      <th></th>\n",
       "      <th>image_id</th>\n",
       "    </tr>\n",
       "  </thead>\n",
       "  <tbody>\n",
       "    <tr>\n",
       "      <th>0</th>\n",
       "      <td>7ede553357</td>\n",
       "    </tr>\n",
       "    <tr>\n",
       "      <th>1</th>\n",
       "      <td>3500b219e4</td>\n",
       "    </tr>\n",
       "    <tr>\n",
       "      <th>2</th>\n",
       "      <td>d43a78d6d9</td>\n",
       "    </tr>\n",
       "    <tr>\n",
       "      <th>3</th>\n",
       "      <td>1f36f26994</td>\n",
       "    </tr>\n",
       "    <tr>\n",
       "      <th>4</th>\n",
       "      <td>8cb85fc58e</td>\n",
       "    </tr>\n",
       "  </tbody>\n",
       "</table>\n",
       "</div>"
      ],
      "text/plain": [
       "     image_id\n",
       "0  7ede553357\n",
       "1  3500b219e4\n",
       "2  d43a78d6d9\n",
       "3  1f36f26994\n",
       "4  8cb85fc58e"
      ]
     },
     "execution_count": 7,
     "metadata": {},
     "output_type": "execute_result"
    }
   ],
   "source": [
    "test.head()"
   ]
  },
  {
   "cell_type": "code",
   "execution_count": 8,
   "metadata": {},
   "outputs": [
    {
     "data": {
      "text/plain": [
       "(2361, 1)"
      ]
     },
     "execution_count": 8,
     "metadata": {},
     "output_type": "execute_result"
    }
   ],
   "source": [
    "test.shape"
   ]
  },
  {
   "cell_type": "code",
   "execution_count": 9,
   "metadata": {},
   "outputs": [
    {
     "name": "stderr",
     "output_type": "stream",
     "text": [
      "  0%|          | 0/5508 [00:00<?, ?it/s]C:\\Users\\Akshay\\Anaconda3\\lib\\site-packages\\keras_preprocessing\\image\\utils.py:107: UserWarning: grayscale is deprecated. Please use color_mode = \"grayscale\"\n",
      "  warnings.warn('grayscale is deprecated. Please use '\n",
      "100%|██████████| 5508/5508 [00:08<00:00, 653.31it/s]\n"
     ]
    }
   ],
   "source": [
    "from tqdm import tqdm\n",
    "from keras.preprocessing import image\n",
    "\n",
    "train_image = []\n",
    "for i in tqdm(range(train.shape[0])):\n",
    "    img = image.load_img('train/'+train['image_id'][i]+'.jpg', target_size=(50,50,1), grayscale=True)\n",
    "    img = image.img_to_array(img)\n",
    "    img = img/255\n",
    "    train_image.append(img)\n",
    "X = np.array(train_image)"
   ]
  },
  {
   "cell_type": "code",
   "execution_count": 10,
   "metadata": {},
   "outputs": [],
   "source": [
    "from sklearn.preprocessing import LabelEncoder\n",
    "le = LabelEncoder()\n",
    "train['breed'] = le.fit_transform(train['breed'])"
   ]
  },
  {
   "cell_type": "code",
   "execution_count": 11,
   "metadata": {},
   "outputs": [
    {
     "name": "stdout",
     "output_type": "stream",
     "text": [
      "<class 'pandas.core.frame.DataFrame'>\n",
      "RangeIndex: 5508 entries, 0 to 5507\n",
      "Data columns (total 2 columns):\n",
      "image_id    5508 non-null object\n",
      "breed       5508 non-null int32\n",
      "dtypes: int32(1), object(1)\n",
      "memory usage: 64.6+ KB\n"
     ]
    }
   ],
   "source": [
    "train.info()"
   ]
  },
  {
   "cell_type": "code",
   "execution_count": 12,
   "metadata": {},
   "outputs": [],
   "source": [
    "from keras.utils import to_categorical\n",
    "\n",
    "y = train['breed'].values\n",
    "y = to_categorical(y)"
   ]
  },
  {
   "cell_type": "code",
   "execution_count": 13,
   "metadata": {},
   "outputs": [
    {
     "name": "stderr",
     "output_type": "stream",
     "text": [
      "  0%|          | 0/2361 [00:00<?, ?it/s]C:\\Users\\Akshay\\Anaconda3\\lib\\site-packages\\keras_preprocessing\\image\\utils.py:107: UserWarning: grayscale is deprecated. Please use color_mode = \"grayscale\"\n",
      "  warnings.warn('grayscale is deprecated. Please use '\n",
      "100%|██████████| 2361/2361 [00:03<00:00, 666.22it/s]\n"
     ]
    }
   ],
   "source": [
    "test_image = []\n",
    "for i in tqdm(range(test.shape[0])):\n",
    "    img = image.load_img('test/'+test['image_id'][i]+'.jpg', target_size=(50,50,1), grayscale=True)\n",
    "    img = image.img_to_array(img)\n",
    "    img = img/255\n",
    "    test_image.append(img)\n",
    "test = np.array(test_image)\n"
   ]
  },
  {
   "cell_type": "code",
   "execution_count": 14,
   "metadata": {
    "colab": {},
    "colab_type": "code",
    "id": "RhJpHZPhN3BX"
   },
   "outputs": [],
   "source": [
    "X_train, X_test, y_train, y_test = train_test_split(X, y, random_state=42, test_size=0.2)\n"
   ]
  },
  {
   "cell_type": "code",
   "execution_count": 15,
   "metadata": {
    "colab": {},
    "colab_type": "code",
    "id": "Og0jkcr7OGja"
   },
   "outputs": [],
   "source": [
    "from keras.models import Sequential, load_model    \n",
    "from keras.layers import Conv2D, MaxPooling2D, Flatten, Dense, Dropout\n",
    "from keras.layers.normalization import BatchNormalization\n",
    "import cv2\n"
   ]
  },
  {
   "cell_type": "code",
   "execution_count": 16,
   "metadata": {
    "colab": {},
    "colab_type": "code",
    "id": "Bqcs5OLcOOqK"
   },
   "outputs": [],
   "source": [
    "model = Sequential()\n",
    "\n",
    "model.add(Conv2D(32, kernel_size=(3, 3),activation='relu',input_shape=(50,50,1)))\n",
    "\n",
    "model.add(Conv2D(64, (3, 3), activation='relu'))\n",
    "model.add(MaxPooling2D(pool_size=(3, 3)))\n",
    "model.add(Dropout(0.25))\n",
    "\n",
    "\n",
    "model.add(Flatten())\n",
    "\n",
    "model.add(Dense(128, activation='relu'))\n",
    "model.add(Dropout(0.5))\n",
    "\n",
    "model.add(Dense(35, activation='softmax'))\n"
   ]
  },
  {
   "cell_type": "code",
   "execution_count": 17,
   "metadata": {
    "colab": {},
    "colab_type": "code",
    "id": "tXx0sDF6OYFX"
   },
   "outputs": [],
   "source": [
    "model.compile(loss='categorical_crossentropy',optimizer='Adam',metrics=['accuracy'])\n"
   ]
  },
  {
   "cell_type": "code",
   "execution_count": 18,
   "metadata": {
    "colab": {
     "base_uri": "https://localhost:8080/",
     "height": 706
    },
    "colab_type": "code",
    "id": "G04_cY6KOafb",
    "outputId": "64093c5d-6907-4039-f08a-976f346740ae"
   },
   "outputs": [
    {
     "name": "stdout",
     "output_type": "stream",
     "text": [
      "Epoch 1/50\n",
      "138/138 [==============================] - 17s 125ms/step - loss: 3.4400 - accuracy: 0.0883 - val_loss: 3.3955 - val_accuracy: 0.0844\n",
      "Epoch 2/50\n",
      "138/138 [==============================] - 20s 147ms/step - loss: 3.3921 - accuracy: 0.0892 - val_loss: 3.3829 - val_accuracy: 0.0844\n",
      "Epoch 3/50\n",
      "138/138 [==============================] - 18s 131ms/step - loss: 3.3752 - accuracy: 0.0983 - val_loss: 3.3938 - val_accuracy: 0.0844\n",
      "Epoch 4/50\n",
      "138/138 [==============================] - 19s 135ms/step - loss: 3.3320 - accuracy: 0.1026 - val_loss: 3.3669 - val_accuracy: 0.1080\n",
      "Epoch 5/50\n",
      "138/138 [==============================] - 18s 127ms/step - loss: 3.2603 - accuracy: 0.1185 - val_loss: 3.3587 - val_accuracy: 0.1198\n",
      "Epoch 6/50\n",
      "138/138 [==============================] - 17s 126ms/step - loss: 3.1486 - accuracy: 0.1496 - val_loss: 3.3471 - val_accuracy: 0.1071\n",
      "Epoch 7/50\n",
      "138/138 [==============================] - 18s 131ms/step - loss: 2.9991 - accuracy: 0.1784 - val_loss: 3.3980 - val_accuracy: 0.1098\n",
      "Epoch 8/50\n",
      "138/138 [==============================] - 19s 134ms/step - loss: 2.8083 - accuracy: 0.2197 - val_loss: 3.4059 - val_accuracy: 0.1125\n",
      "Epoch 9/50\n",
      "138/138 [==============================] - 18s 132ms/step - loss: 2.5499 - accuracy: 0.2835 - val_loss: 3.4989 - val_accuracy: 0.1025\n",
      "Epoch 10/50\n",
      "138/138 [==============================] - 17s 126ms/step - loss: 2.2930 - accuracy: 0.3379 - val_loss: 3.6077 - val_accuracy: 0.0926\n",
      "Epoch 11/50\n",
      "138/138 [==============================] - 18s 130ms/step - loss: 2.0677 - accuracy: 0.4079 - val_loss: 3.8692 - val_accuracy: 0.0998\n",
      "Epoch 12/50\n",
      "138/138 [==============================] - 20s 144ms/step - loss: 1.8248 - accuracy: 0.4635 - val_loss: 4.0261 - val_accuracy: 0.1089\n",
      "Epoch 13/50\n",
      "138/138 [==============================] - 20s 145ms/step - loss: 1.5963 - accuracy: 0.5256 - val_loss: 3.9554 - val_accuracy: 0.0926\n",
      "Epoch 14/50\n",
      "138/138 [==============================] - 18s 129ms/step - loss: 1.4271 - accuracy: 0.5738 - val_loss: 4.1968 - val_accuracy: 0.0953\n",
      "Epoch 15/50\n",
      "138/138 [==============================] - 17s 125ms/step - loss: 1.2899 - accuracy: 0.6078 - val_loss: 4.3427 - val_accuracy: 0.0953\n",
      "Epoch 16/50\n",
      "138/138 [==============================] - 17s 126ms/step - loss: 1.1591 - accuracy: 0.6434 - val_loss: 4.3840 - val_accuracy: 0.0907\n",
      "Epoch 17/50\n",
      "138/138 [==============================] - 17s 126ms/step - loss: 1.0630 - accuracy: 0.6768 - val_loss: 4.7536 - val_accuracy: 0.0835\n",
      "Epoch 18/50\n",
      "138/138 [==============================] - 17s 126ms/step - loss: 0.9929 - accuracy: 0.6916 - val_loss: 4.6716 - val_accuracy: 0.0771\n",
      "Epoch 19/50\n",
      "138/138 [==============================] - 17s 126ms/step - loss: 0.8814 - accuracy: 0.7247 - val_loss: 4.9090 - val_accuracy: 0.1034\n",
      "Epoch 20/50\n",
      "138/138 [==============================] - 17s 127ms/step - loss: 0.8346 - accuracy: 0.7324 - val_loss: 5.0058 - val_accuracy: 0.0989\n",
      "Epoch 21/50\n",
      "138/138 [==============================] - 18s 130ms/step - loss: 0.7637 - accuracy: 0.7544 - val_loss: 4.9272 - val_accuracy: 0.0935\n",
      "Epoch 22/50\n",
      "138/138 [==============================] - 21s 154ms/step - loss: 0.7303 - accuracy: 0.7694 - val_loss: 4.8526 - val_accuracy: 0.0826\n",
      "Epoch 23/50\n",
      "138/138 [==============================] - 18s 132ms/step - loss: 0.6384 - accuracy: 0.8021 - val_loss: 5.2250 - val_accuracy: 0.0926\n",
      "Epoch 24/50\n",
      "138/138 [==============================] - 18s 128ms/step - loss: 0.6779 - accuracy: 0.7819 - val_loss: 5.0910 - val_accuracy: 0.0880\n",
      "Epoch 25/50\n",
      "138/138 [==============================] - 17s 125ms/step - loss: 0.5981 - accuracy: 0.8123 - val_loss: 5.5605 - val_accuracy: 0.0944\n",
      "Epoch 26/50\n",
      "138/138 [==============================] - 17s 126ms/step - loss: 0.5686 - accuracy: 0.8175 - val_loss: 5.5415 - val_accuracy: 0.0808\n",
      "Epoch 27/50\n",
      "138/138 [==============================] - 17s 125ms/step - loss: 0.5513 - accuracy: 0.8182 - val_loss: 5.5803 - val_accuracy: 0.0871\n",
      "Epoch 28/50\n",
      "138/138 [==============================] - 17s 126ms/step - loss: 0.5533 - accuracy: 0.8207 - val_loss: 5.7922 - val_accuracy: 0.0844\n",
      "Epoch 29/50\n",
      "138/138 [==============================] - 17s 126ms/step - loss: 0.5051 - accuracy: 0.8357 - val_loss: 6.0161 - val_accuracy: 0.0862\n",
      "Epoch 30/50\n",
      "138/138 [==============================] - 18s 127ms/step - loss: 0.5216 - accuracy: 0.8289 - val_loss: 5.9484 - val_accuracy: 0.0744\n",
      "Epoch 31/50\n",
      "138/138 [==============================] - 18s 127ms/step - loss: 0.4858 - accuracy: 0.8438 - val_loss: 6.5205 - val_accuracy: 0.0944\n",
      "Epoch 32/50\n",
      "138/138 [==============================] - 18s 128ms/step - loss: 0.4761 - accuracy: 0.8452 - val_loss: 6.1539 - val_accuracy: 0.0835\n",
      "Epoch 33/50\n",
      "138/138 [==============================] - 18s 128ms/step - loss: 0.4525 - accuracy: 0.8502 - val_loss: 5.9767 - val_accuracy: 0.0744\n",
      "Epoch 34/50\n",
      "138/138 [==============================] - 18s 128ms/step - loss: 0.4536 - accuracy: 0.8547 - val_loss: 6.0337 - val_accuracy: 0.0853\n",
      "Epoch 35/50\n",
      "138/138 [==============================] - 17s 124ms/step - loss: 0.4326 - accuracy: 0.8627 - val_loss: 6.2593 - val_accuracy: 0.0771\n",
      "Epoch 36/50\n",
      "138/138 [==============================] - 18s 133ms/step - loss: 0.3906 - accuracy: 0.8740 - val_loss: 6.1008 - val_accuracy: 0.0789\n",
      "Epoch 37/50\n",
      "138/138 [==============================] - 19s 136ms/step - loss: 0.3967 - accuracy: 0.8729 - val_loss: 6.2137 - val_accuracy: 0.0789\n",
      "Epoch 38/50\n",
      "138/138 [==============================] - 19s 138ms/step - loss: 0.3863 - accuracy: 0.8722 - val_loss: 6.2588 - val_accuracy: 0.0771\n",
      "Epoch 39/50\n",
      "138/138 [==============================] - 19s 137ms/step - loss: 0.3934 - accuracy: 0.8713 - val_loss: 6.4646 - val_accuracy: 0.0835\n",
      "Epoch 40/50\n",
      "138/138 [==============================] - 19s 140ms/step - loss: 0.3839 - accuracy: 0.8754 - val_loss: 6.2316 - val_accuracy: 0.0717\n",
      "Epoch 41/50\n",
      "138/138 [==============================] - 20s 147ms/step - loss: 0.3919 - accuracy: 0.8749 - val_loss: 6.4291 - val_accuracy: 0.0753\n",
      "Epoch 42/50\n",
      "138/138 [==============================] - 19s 138ms/step - loss: 0.3787 - accuracy: 0.8745 - val_loss: 6.3712 - val_accuracy: 0.0708\n",
      "Epoch 43/50\n",
      "138/138 [==============================] - 19s 138ms/step - loss: 0.3577 - accuracy: 0.8781 - val_loss: 6.2812 - val_accuracy: 0.0744\n",
      "Epoch 44/50\n",
      "138/138 [==============================] - 19s 140ms/step - loss: 0.3503 - accuracy: 0.8788 - val_loss: 6.7526 - val_accuracy: 0.0753\n",
      "Epoch 45/50\n",
      "138/138 [==============================] - 20s 142ms/step - loss: 0.3478 - accuracy: 0.8865 - val_loss: 6.6590 - val_accuracy: 0.0789\n",
      "Epoch 46/50\n",
      "138/138 [==============================] - 20s 144ms/step - loss: 0.3358 - accuracy: 0.8892 - val_loss: 6.4203 - val_accuracy: 0.0762\n",
      "Epoch 47/50\n",
      "138/138 [==============================] - 19s 137ms/step - loss: 0.3387 - accuracy: 0.8915 - val_loss: 7.0978 - val_accuracy: 0.0789\n",
      "Epoch 48/50\n",
      "138/138 [==============================] - 19s 139ms/step - loss: 0.3387 - accuracy: 0.8818 - val_loss: 6.7934 - val_accuracy: 0.0771\n",
      "Epoch 49/50\n",
      "138/138 [==============================] - 19s 138ms/step - loss: 0.3238 - accuracy: 0.8913 - val_loss: 6.5865 - val_accuracy: 0.0862\n",
      "Epoch 50/50\n",
      "138/138 [==============================] - 20s 142ms/step - loss: 0.3360 - accuracy: 0.8842 - val_loss: 7.0805 - val_accuracy: 0.0935\n"
     ]
    },
    {
     "data": {
      "text/plain": [
       "<tensorflow.python.keras.callbacks.History at 0x18d49661ac8>"
      ]
     },
     "execution_count": 18,
     "metadata": {},
     "output_type": "execute_result"
    }
   ],
   "source": [
    "model.fit(X_train, y_train, epochs=50, validation_data=(X_test, y_test))\n"
   ]
  },
  {
   "cell_type": "code",
   "execution_count": 19,
   "metadata": {
    "colab": {
     "base_uri": "https://localhost:8080/",
     "height": 87
    },
    "colab_type": "code",
    "id": "bAL4QvuMOlAx",
    "outputId": "fde3e36b-5b56-4b8a-d595-91bdae6b1aad"
   },
   "outputs": [
    {
     "name": "stdout",
     "output_type": "stream",
     "text": [
      "WARNING:tensorflow:From <ipython-input-19-30a6dc5ea0d4>:1: Sequential.predict_classes (from tensorflow.python.keras.engine.sequential) is deprecated and will be removed after 2021-01-01.\n",
      "Instructions for updating:\n",
      "Please use instead:* `np.argmax(model.predict(x), axis=-1)`,   if your model does multi-class classification   (e.g. if it uses a `softmax` last-layer activation).* `(model.predict(x) > 0.5).astype(\"int32\")`,   if your model does binary classification   (e.g. if it uses a `sigmoid` last-layer activation).\n"
     ]
    }
   ],
   "source": [
    "prediction = model.predict_classes(test)\n"
   ]
  },
  {
   "cell_type": "code",
   "execution_count": 20,
   "metadata": {},
   "outputs": [
    {
     "data": {
      "text/plain": [
       "array([28, 12,  0, ..., 28, 34, 23], dtype=int64)"
      ]
     },
     "execution_count": 20,
     "metadata": {},
     "output_type": "execute_result"
    }
   ],
   "source": [
    "prediction"
   ]
  },
  {
   "cell_type": "code",
   "execution_count": 21,
   "metadata": {},
   "outputs": [
    {
     "data": {
      "text/html": [
       "<div>\n",
       "<style scoped>\n",
       "    .dataframe tbody tr th:only-of-type {\n",
       "        vertical-align: middle;\n",
       "    }\n",
       "\n",
       "    .dataframe tbody tr th {\n",
       "        vertical-align: top;\n",
       "    }\n",
       "\n",
       "    .dataframe thead th {\n",
       "        text-align: right;\n",
       "    }\n",
       "</style>\n",
       "<table border=\"1\" class=\"dataframe\">\n",
       "  <thead>\n",
       "    <tr style=\"text-align: right;\">\n",
       "      <th></th>\n",
       "      <th>image_id</th>\n",
       "    </tr>\n",
       "  </thead>\n",
       "  <tbody>\n",
       "    <tr>\n",
       "      <th>0</th>\n",
       "      <td>7ede553357</td>\n",
       "    </tr>\n",
       "    <tr>\n",
       "      <th>1</th>\n",
       "      <td>3500b219e4</td>\n",
       "    </tr>\n",
       "    <tr>\n",
       "      <th>2</th>\n",
       "      <td>d43a78d6d9</td>\n",
       "    </tr>\n",
       "    <tr>\n",
       "      <th>3</th>\n",
       "      <td>1f36f26994</td>\n",
       "    </tr>\n",
       "    <tr>\n",
       "      <th>4</th>\n",
       "      <td>8cb85fc58e</td>\n",
       "    </tr>\n",
       "  </tbody>\n",
       "</table>\n",
       "</div>"
      ],
      "text/plain": [
       "     image_id\n",
       "0  7ede553357\n",
       "1  3500b219e4\n",
       "2  d43a78d6d9\n",
       "3  1f36f26994\n",
       "4  8cb85fc58e"
      ]
     },
     "execution_count": 21,
     "metadata": {},
     "output_type": "execute_result"
    }
   ],
   "source": [
    "test1 = pd.read_csv('test.csv')\n",
    "test1.head()"
   ]
  },
  {
   "cell_type": "code",
   "execution_count": 22,
   "metadata": {},
   "outputs": [],
   "source": [
    "solution = pd.DataFrame({'image_id': test1.image_id, 'breed':prediction})\n",
    "solution.head()"
   ]
  },
  {
   "cell_type": "code",
   "execution_count": 23,
   "metadata": {},
   "outputs": [
    {
     "data": {
      "text/html": [
       "<div>\n",
       "<style scoped>\n",
       "    .dataframe tbody tr th:only-of-type {\n",
       "        vertical-align: middle;\n",
       "    }\n",
       "\n",
       "    .dataframe tbody tr th {\n",
       "        vertical-align: top;\n",
       "    }\n",
       "\n",
       "    .dataframe thead th {\n",
       "        text-align: right;\n",
       "    }\n",
       "</style>\n",
       "<table border=\"1\" class=\"dataframe\">\n",
       "  <thead>\n",
       "    <tr style=\"text-align: right;\">\n",
       "      <th></th>\n",
       "      <th>image_id</th>\n",
       "      <th>breed</th>\n",
       "    </tr>\n",
       "  </thead>\n",
       "  <tbody>\n",
       "    <tr>\n",
       "      <th>0</th>\n",
       "      <td>7ede553357</td>\n",
       "      <td>storeria-dekayi</td>\n",
       "    </tr>\n",
       "    <tr>\n",
       "      <th>1</th>\n",
       "      <td>3500b219e4</td>\n",
       "      <td>lampropeltis-triangulum</td>\n",
       "    </tr>\n",
       "    <tr>\n",
       "      <th>2</th>\n",
       "      <td>d43a78d6d9</td>\n",
       "      <td>agkistrodon-contortrix</td>\n",
       "    </tr>\n",
       "    <tr>\n",
       "      <th>3</th>\n",
       "      <td>1f36f26994</td>\n",
       "      <td>thamnophis-sirtalis</td>\n",
       "    </tr>\n",
       "    <tr>\n",
       "      <th>4</th>\n",
       "      <td>8cb85fc58e</td>\n",
       "      <td>agkistrodon-contortrix</td>\n",
       "    </tr>\n",
       "  </tbody>\n",
       "</table>\n",
       "</div>"
      ],
      "text/plain": [
       "     image_id                    breed\n",
       "0  7ede553357          storeria-dekayi\n",
       "1  3500b219e4  lampropeltis-triangulum\n",
       "2  d43a78d6d9   agkistrodon-contortrix\n",
       "3  1f36f26994      thamnophis-sirtalis\n",
       "4  8cb85fc58e   agkistrodon-contortrix"
      ]
     },
     "execution_count": 23,
     "metadata": {},
     "output_type": "execute_result"
    }
   ],
   "source": [
    "solution['breed'] = le.inverse_transform(solution['breed'])\n",
    "solution.head()"
   ]
  },
  {
   "cell_type": "code",
   "execution_count": 24,
   "metadata": {},
   "outputs": [],
   "source": [
    "solution.to_csv('Solution.csv', index = False)"
   ]
  },
  {
   "cell_type": "code",
   "execution_count": null,
   "metadata": {},
   "outputs": [],
   "source": []
  }
 ],
 "metadata": {
  "kernelspec": {
   "display_name": "Python 3",
   "language": "python",
   "name": "python3"
  },
  "language_info": {
   "codemirror_mode": {
    "name": "ipython",
    "version": 3
   },
   "file_extension": ".py",
   "mimetype": "text/x-python",
   "name": "python",
   "nbconvert_exporter": "python",
   "pygments_lexer": "ipython3",
   "version": "3.7.3"
  }
 },
 "nbformat": 4,
 "nbformat_minor": 2
}
