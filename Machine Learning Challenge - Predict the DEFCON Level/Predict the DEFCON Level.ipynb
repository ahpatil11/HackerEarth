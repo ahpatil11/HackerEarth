{
 "cells": [
  {
   "cell_type": "code",
   "execution_count": 31,
   "metadata": {},
   "outputs": [],
   "source": [
    "import pandas as pd\n",
    "import numpy as np\n",
    "import matplotlib.pyplot as plt\n",
    "import seaborn as sns\n",
    "%matplotlib inline"
   ]
  },
  {
   "cell_type": "code",
   "execution_count": 32,
   "metadata": {},
   "outputs": [
    {
     "data": {
      "text/html": [
       "<div>\n",
       "<style scoped>\n",
       "    .dataframe tbody tr th:only-of-type {\n",
       "        vertical-align: middle;\n",
       "    }\n",
       "\n",
       "    .dataframe tbody tr th {\n",
       "        vertical-align: top;\n",
       "    }\n",
       "\n",
       "    .dataframe thead th {\n",
       "        text-align: right;\n",
       "    }\n",
       "</style>\n",
       "<table border=\"1\" class=\"dataframe\">\n",
       "  <thead>\n",
       "    <tr style=\"text-align: right;\">\n",
       "      <th></th>\n",
       "      <th>Allied_Nations</th>\n",
       "      <th>Diplomatic_Meetings_Set</th>\n",
       "      <th>Percent_Of_Forces_Mobilized</th>\n",
       "      <th>Hostile_Nations</th>\n",
       "      <th>Active_Threats</th>\n",
       "      <th>Inactive_Threats</th>\n",
       "      <th>Citizen_Fear_Index</th>\n",
       "      <th>Closest_Threat_Distance(km)</th>\n",
       "      <th>Aircraft_Carriers_Responding</th>\n",
       "      <th>Troops_Mobilized(thousands)</th>\n",
       "      <th>DEFCON_Level</th>\n",
       "      <th>ID</th>\n",
       "    </tr>\n",
       "  </thead>\n",
       "  <tbody>\n",
       "    <tr>\n",
       "      <th>0</th>\n",
       "      <td>16</td>\n",
       "      <td>1</td>\n",
       "      <td>0.67</td>\n",
       "      <td>3</td>\n",
       "      <td>6.0</td>\n",
       "      <td>25.0</td>\n",
       "      <td>0.787812</td>\n",
       "      <td>324.36</td>\n",
       "      <td>1</td>\n",
       "      <td>862400.0</td>\n",
       "      <td>C</td>\n",
       "      <td>7570</td>\n",
       "    </tr>\n",
       "    <tr>\n",
       "      <th>1</th>\n",
       "      <td>8</td>\n",
       "      <td>1</td>\n",
       "      <td>0.11</td>\n",
       "      <td>2</td>\n",
       "      <td>38.0</td>\n",
       "      <td>48.0</td>\n",
       "      <td>0.419236</td>\n",
       "      <td>359.34</td>\n",
       "      <td>0</td>\n",
       "      <td>959200.0</td>\n",
       "      <td>D</td>\n",
       "      <td>12128</td>\n",
       "    </tr>\n",
       "    <tr>\n",
       "      <th>2</th>\n",
       "      <td>9</td>\n",
       "      <td>1</td>\n",
       "      <td>0.49</td>\n",
       "      <td>3</td>\n",
       "      <td>32.0</td>\n",
       "      <td>69.0</td>\n",
       "      <td>0.582232</td>\n",
       "      <td>332.84</td>\n",
       "      <td>1</td>\n",
       "      <td>836000.0</td>\n",
       "      <td>C</td>\n",
       "      <td>2181</td>\n",
       "    </tr>\n",
       "    <tr>\n",
       "      <th>3</th>\n",
       "      <td>7</td>\n",
       "      <td>0</td>\n",
       "      <td>0.30</td>\n",
       "      <td>2</td>\n",
       "      <td>31.0</td>\n",
       "      <td>52.0</td>\n",
       "      <td>0.589574</td>\n",
       "      <td>358.28</td>\n",
       "      <td>1</td>\n",
       "      <td>924000.0</td>\n",
       "      <td>C</td>\n",
       "      <td>5946</td>\n",
       "    </tr>\n",
       "    <tr>\n",
       "      <th>4</th>\n",
       "      <td>8</td>\n",
       "      <td>1</td>\n",
       "      <td>0.12</td>\n",
       "      <td>5</td>\n",
       "      <td>13.0</td>\n",
       "      <td>42.0</td>\n",
       "      <td>0.552863</td>\n",
       "      <td>364.64</td>\n",
       "      <td>0</td>\n",
       "      <td>968000.0</td>\n",
       "      <td>B</td>\n",
       "      <td>9054</td>\n",
       "    </tr>\n",
       "  </tbody>\n",
       "</table>\n",
       "</div>"
      ],
      "text/plain": [
       "   Allied_Nations  Diplomatic_Meetings_Set  Percent_Of_Forces_Mobilized  \\\n",
       "0              16                        1                         0.67   \n",
       "1               8                        1                         0.11   \n",
       "2               9                        1                         0.49   \n",
       "3               7                        0                         0.30   \n",
       "4               8                        1                         0.12   \n",
       "\n",
       "   Hostile_Nations  Active_Threats  Inactive_Threats  Citizen_Fear_Index  \\\n",
       "0                3             6.0              25.0            0.787812   \n",
       "1                2            38.0              48.0            0.419236   \n",
       "2                3            32.0              69.0            0.582232   \n",
       "3                2            31.0              52.0            0.589574   \n",
       "4                5            13.0              42.0            0.552863   \n",
       "\n",
       "   Closest_Threat_Distance(km)  Aircraft_Carriers_Responding  \\\n",
       "0                       324.36                             1   \n",
       "1                       359.34                             0   \n",
       "2                       332.84                             1   \n",
       "3                       358.28                             1   \n",
       "4                       364.64                             0   \n",
       "\n",
       "   Troops_Mobilized(thousands) DEFCON_Level     ID  \n",
       "0                     862400.0            C   7570  \n",
       "1                     959200.0            D  12128  \n",
       "2                     836000.0            C   2181  \n",
       "3                     924000.0            C   5946  \n",
       "4                     968000.0            B   9054  "
      ]
     },
     "execution_count": 32,
     "metadata": {},
     "output_type": "execute_result"
    }
   ],
   "source": [
    "train = pd.read_csv('train.csv')\n",
    "train.head()"
   ]
  },
  {
   "cell_type": "code",
   "execution_count": 33,
   "metadata": {},
   "outputs": [
    {
     "data": {
      "text/plain": [
       "(10000, 12)"
      ]
     },
     "execution_count": 33,
     "metadata": {},
     "output_type": "execute_result"
    }
   ],
   "source": [
    "train.shape"
   ]
  },
  {
   "cell_type": "code",
   "execution_count": 34,
   "metadata": {},
   "outputs": [
    {
     "data": {
      "text/plain": [
       "Allied_Nations                  0\n",
       "Diplomatic_Meetings_Set         0\n",
       "Percent_Of_Forces_Mobilized     0\n",
       "Hostile_Nations                 0\n",
       "Active_Threats                  0\n",
       "Inactive_Threats                0\n",
       "Citizen_Fear_Index              0\n",
       "Closest_Threat_Distance(km)     0\n",
       "Aircraft_Carriers_Responding    0\n",
       "Troops_Mobilized(thousands)     0\n",
       "DEFCON_Level                    0\n",
       "ID                              0\n",
       "dtype: int64"
      ]
     },
     "execution_count": 34,
     "metadata": {},
     "output_type": "execute_result"
    }
   ],
   "source": [
    "train.isnull().sum()"
   ]
  },
  {
   "cell_type": "code",
   "execution_count": 35,
   "metadata": {},
   "outputs": [
    {
     "data": {
      "text/html": [
       "<div>\n",
       "<style scoped>\n",
       "    .dataframe tbody tr th:only-of-type {\n",
       "        vertical-align: middle;\n",
       "    }\n",
       "\n",
       "    .dataframe tbody tr th {\n",
       "        vertical-align: top;\n",
       "    }\n",
       "\n",
       "    .dataframe thead th {\n",
       "        text-align: right;\n",
       "    }\n",
       "</style>\n",
       "<table border=\"1\" class=\"dataframe\">\n",
       "  <thead>\n",
       "    <tr style=\"text-align: right;\">\n",
       "      <th></th>\n",
       "      <th>Allied_Nations</th>\n",
       "      <th>Diplomatic_Meetings_Set</th>\n",
       "      <th>Percent_Of_Forces_Mobilized</th>\n",
       "      <th>Hostile_Nations</th>\n",
       "      <th>Active_Threats</th>\n",
       "      <th>Inactive_Threats</th>\n",
       "      <th>Citizen_Fear_Index</th>\n",
       "      <th>Closest_Threat_Distance(km)</th>\n",
       "      <th>Aircraft_Carriers_Responding</th>\n",
       "      <th>Troops_Mobilized(thousands)</th>\n",
       "      <th>ID</th>\n",
       "    </tr>\n",
       "  </thead>\n",
       "  <tbody>\n",
       "    <tr>\n",
       "      <th>0</th>\n",
       "      <td>8</td>\n",
       "      <td>0</td>\n",
       "      <td>0.52</td>\n",
       "      <td>2</td>\n",
       "      <td>19.0</td>\n",
       "      <td>52.0</td>\n",
       "      <td>0.376652</td>\n",
       "      <td>319.06</td>\n",
       "      <td>1</td>\n",
       "      <td>976800.0</td>\n",
       "      <td>1</td>\n",
       "    </tr>\n",
       "    <tr>\n",
       "      <th>1</th>\n",
       "      <td>9</td>\n",
       "      <td>0</td>\n",
       "      <td>0.44</td>\n",
       "      <td>2</td>\n",
       "      <td>6.0</td>\n",
       "      <td>12.0</td>\n",
       "      <td>0.254772</td>\n",
       "      <td>351.92</td>\n",
       "      <td>1</td>\n",
       "      <td>1082400.0</td>\n",
       "      <td>10</td>\n",
       "    </tr>\n",
       "    <tr>\n",
       "      <th>2</th>\n",
       "      <td>8</td>\n",
       "      <td>0</td>\n",
       "      <td>0.44</td>\n",
       "      <td>3</td>\n",
       "      <td>7.0</td>\n",
       "      <td>18.0</td>\n",
       "      <td>0.472100</td>\n",
       "      <td>349.80</td>\n",
       "      <td>1</td>\n",
       "      <td>924000.0</td>\n",
       "      <td>14</td>\n",
       "    </tr>\n",
       "    <tr>\n",
       "      <th>3</th>\n",
       "      <td>10</td>\n",
       "      <td>0</td>\n",
       "      <td>0.39</td>\n",
       "      <td>2</td>\n",
       "      <td>3.0</td>\n",
       "      <td>13.0</td>\n",
       "      <td>0.478708</td>\n",
       "      <td>343.44</td>\n",
       "      <td>1</td>\n",
       "      <td>1003200.0</td>\n",
       "      <td>17</td>\n",
       "    </tr>\n",
       "    <tr>\n",
       "      <th>4</th>\n",
       "      <td>9</td>\n",
       "      <td>0</td>\n",
       "      <td>0.44</td>\n",
       "      <td>2</td>\n",
       "      <td>6.0</td>\n",
       "      <td>14.0</td>\n",
       "      <td>0.561674</td>\n",
       "      <td>346.62</td>\n",
       "      <td>1</td>\n",
       "      <td>924000.0</td>\n",
       "      <td>21</td>\n",
       "    </tr>\n",
       "  </tbody>\n",
       "</table>\n",
       "</div>"
      ],
      "text/plain": [
       "   Allied_Nations  Diplomatic_Meetings_Set  Percent_Of_Forces_Mobilized  \\\n",
       "0               8                        0                         0.52   \n",
       "1               9                        0                         0.44   \n",
       "2               8                        0                         0.44   \n",
       "3              10                        0                         0.39   \n",
       "4               9                        0                         0.44   \n",
       "\n",
       "   Hostile_Nations  Active_Threats  Inactive_Threats  Citizen_Fear_Index  \\\n",
       "0                2            19.0              52.0            0.376652   \n",
       "1                2             6.0              12.0            0.254772   \n",
       "2                3             7.0              18.0            0.472100   \n",
       "3                2             3.0              13.0            0.478708   \n",
       "4                2             6.0              14.0            0.561674   \n",
       "\n",
       "   Closest_Threat_Distance(km)  Aircraft_Carriers_Responding  \\\n",
       "0                       319.06                             1   \n",
       "1                       351.92                             1   \n",
       "2                       349.80                             1   \n",
       "3                       343.44                             1   \n",
       "4                       346.62                             1   \n",
       "\n",
       "   Troops_Mobilized(thousands)  ID  \n",
       "0                     976800.0   1  \n",
       "1                    1082400.0  10  \n",
       "2                     924000.0  14  \n",
       "3                    1003200.0  17  \n",
       "4                     924000.0  21  "
      ]
     },
     "execution_count": 35,
     "metadata": {},
     "output_type": "execute_result"
    }
   ],
   "source": [
    "test = pd.read_csv('test.csv')\n",
    "test.head()"
   ]
  },
  {
   "cell_type": "code",
   "execution_count": 36,
   "metadata": {},
   "outputs": [
    {
     "data": {
      "text/plain": [
       "(2500, 11)"
      ]
     },
     "execution_count": 36,
     "metadata": {},
     "output_type": "execute_result"
    }
   ],
   "source": [
    "test.shape"
   ]
  },
  {
   "cell_type": "code",
   "execution_count": 37,
   "metadata": {},
   "outputs": [
    {
     "data": {
      "text/plain": [
       "Allied_Nations                  0\n",
       "Diplomatic_Meetings_Set         0\n",
       "Percent_Of_Forces_Mobilized     0\n",
       "Hostile_Nations                 0\n",
       "Active_Threats                  0\n",
       "Inactive_Threats                0\n",
       "Citizen_Fear_Index              0\n",
       "Closest_Threat_Distance(km)     0\n",
       "Aircraft_Carriers_Responding    0\n",
       "Troops_Mobilized(thousands)     0\n",
       "ID                              0\n",
       "dtype: int64"
      ]
     },
     "execution_count": 37,
     "metadata": {},
     "output_type": "execute_result"
    }
   ],
   "source": [
    "test.isnull().sum()"
   ]
  },
  {
   "cell_type": "code",
   "execution_count": 38,
   "metadata": {},
   "outputs": [
    {
     "name": "stdout",
     "output_type": "stream",
     "text": [
      "<class 'pandas.core.frame.DataFrame'>\n",
      "RangeIndex: 10000 entries, 0 to 9999\n",
      "Data columns (total 12 columns):\n",
      "Allied_Nations                  10000 non-null int64\n",
      "Diplomatic_Meetings_Set         10000 non-null int64\n",
      "Percent_Of_Forces_Mobilized     10000 non-null float64\n",
      "Hostile_Nations                 10000 non-null int64\n",
      "Active_Threats                  10000 non-null float64\n",
      "Inactive_Threats                10000 non-null float64\n",
      "Citizen_Fear_Index              10000 non-null float64\n",
      "Closest_Threat_Distance(km)     10000 non-null float64\n",
      "Aircraft_Carriers_Responding    10000 non-null int64\n",
      "Troops_Mobilized(thousands)     10000 non-null float64\n",
      "DEFCON_Level                    10000 non-null object\n",
      "ID                              10000 non-null int64\n",
      "dtypes: float64(6), int64(5), object(1)\n",
      "memory usage: 937.6+ KB\n"
     ]
    }
   ],
   "source": [
    "train.info()"
   ]
  },
  {
   "cell_type": "code",
   "execution_count": 39,
   "metadata": {},
   "outputs": [
    {
     "data": {
      "text/plain": [
       "<matplotlib.axes._subplots.AxesSubplot at 0x1fefd72ffd0>"
      ]
     },
     "execution_count": 39,
     "metadata": {},
     "output_type": "execute_result"
    },
    {
     "data": {
      "image/png": "[encoded data removed]",
      "text/plain": [
       "<Figure size 432x288 with 1 Axes>"
      ]
     },
     "metadata": {
      "needs_background": "light"
     },
     "output_type": "display_data"
    }
   ],
   "source": [
    "train['DEFCON_Level'].value_counts().plot(kind = 'bar')"
   ]
  },
  {
   "cell_type": "code",
   "execution_count": 40,
   "metadata": {},
   "outputs": [],
   "source": [
    "from sklearn.preprocessing import LabelEncoder\n",
    "le = LabelEncoder()\n",
    "train['DEFCON_Level'] = le.fit_transform(train['DEFCON_Level'])"
   ]
  },
  {
   "cell_type": "code",
   "execution_count": 41,
   "metadata": {},
   "outputs": [],
   "source": [
    "x = train.drop(['ID', 'DEFCON_Level'], axis = 1)\n",
    "y = train['DEFCON_Level']"
   ]
  },
  {
   "cell_type": "code",
   "execution_count": 42,
   "metadata": {},
   "outputs": [],
   "source": [
    "from sklearn.model_selection import train_test_split\n",
    "x_train, x_test, y_train, y_test = train_test_split(x, y, test_size = 0.2, random_state = 1)"
   ]
  },
  {
   "cell_type": "code",
   "execution_count": 43,
   "metadata": {},
   "outputs": [],
   "source": [
    "from sklearn.model_selection import GridSearchCV\n",
    "from sklearn.ensemble import RandomForestClassifier"
   ]
  },
  {
   "cell_type": "code",
   "execution_count": 44,
   "metadata": {},
   "outputs": [],
   "source": [
    "from sklearn.metrics import accuracy_score, classification_report, confusion_matrix"
   ]
  },
  {
   "cell_type": "code",
   "execution_count": 45,
   "metadata": {},
   "outputs": [
    {
     "name": "stdout",
     "output_type": "stream",
     "text": [
      "0.627\n"
     ]
    }
   ],
   "source": [
    "rf = RandomForestClassifier()\n",
    "rf.fit(x_train, y_train)\n",
    "y_pred = rf.predict(x_test)\n",
    "print(accuracy_score(y_test, y_pred))"
   ]
  },
  {
   "cell_type": "code",
   "execution_count": 46,
   "metadata": {},
   "outputs": [
    {
     "name": "stdout",
     "output_type": "stream",
     "text": [
      "[[ 12  60  19   2   0]\n",
      " [ 14 619 193   7   1]\n",
      " [  5 233 511  65   0]\n",
      " [  1  18 115 112   0]\n",
      " [  0   1   4   8   0]]\n"
     ]
    }
   ],
   "source": [
    "print(confusion_matrix(y_test, y_pred))"
   ]
  },
  {
   "cell_type": "code",
   "execution_count": 47,
   "metadata": {},
   "outputs": [
    {
     "name": "stdout",
     "output_type": "stream",
     "text": [
      "              precision    recall  f1-score   support\n",
      "\n",
      "           0       0.38      0.13      0.19        93\n",
      "           1       0.66      0.74      0.70       834\n",
      "           2       0.61      0.63      0.62       814\n",
      "           3       0.58      0.46      0.51       246\n",
      "           4       0.00      0.00      0.00        13\n",
      "\n",
      "    accuracy                           0.63      2000\n",
      "   macro avg       0.44      0.39      0.40      2000\n",
      "weighted avg       0.61      0.63      0.62      2000\n",
      "\n"
     ]
    }
   ],
   "source": [
    "print(classification_report(y_test, y_pred))"
   ]
  },
  {
   "cell_type": "code",
   "execution_count": 51,
   "metadata": {},
   "outputs": [],
   "source": [
    "x_train = train.drop(['ID', 'DEFCON_Level'], axis = 1)\n",
    "y_train = train['DEFCON_Level']\n",
    "x_test = test.drop('ID', axis = 1)"
   ]
  },
  {
   "cell_type": "code",
   "execution_count": 53,
   "metadata": {},
   "outputs": [],
   "source": [
    "rf = RandomForestClassifier()\n",
    "y_pred = rf.fit(x_train, y_train).predict(x_test)\n",
    "solution = pd.DataFrame({'ID': test.ID, 'DEFCON_Level': y_pred})\n",
    "solution.to_csv('Solution1.csv', index = False)"
   ]
  },
  {
   "cell_type": "code",
   "execution_count": null,
   "metadata": {},
   "outputs": [],
   "source": []
  }
 ],
 "metadata": {
  "kernelspec": {
   "display_name": "Python 3",
   "language": "python",
   "name": "python3"
  },
  "language_info": {
   "codemirror_mode": {
    "name": "ipython",
    "version": 3
   },
   "file_extension": ".py",
   "mimetype": "text/x-python",
   "name": "python",
   "nbconvert_exporter": "python",
   "pygments_lexer": "ipython3",
   "version": "3.7.3"
  }
 },
 "nbformat": 4,
 "nbformat_minor": 2
}
