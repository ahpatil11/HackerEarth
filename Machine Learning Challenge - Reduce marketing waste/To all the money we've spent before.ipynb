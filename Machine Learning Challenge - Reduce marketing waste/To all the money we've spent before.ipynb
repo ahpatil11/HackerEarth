{
 "cells": [
  {
   "cell_type": "code",
   "execution_count": 1,
   "metadata": {},
   "outputs": [],
   "source": [
    "import numpy as np\n",
    "import pandas as pd\n",
    "import matplotlib.pyplot as plt\n",
    "import seaborn as sns"
   ]
  },
  {
   "cell_type": "code",
   "execution_count": 2,
   "metadata": {},
   "outputs": [
    {
     "data": {
      "text/html": [
       "<div>\n",
       "<style scoped>\n",
       "    .dataframe tbody tr th:only-of-type {\n",
       "        vertical-align: middle;\n",
       "    }\n",
       "\n",
       "    .dataframe tbody tr th {\n",
       "        vertical-align: top;\n",
       "    }\n",
       "\n",
       "    .dataframe thead th {\n",
       "        text-align: right;\n",
       "    }\n",
       "</style>\n",
       "<table border=\"1\" class=\"dataframe\">\n",
       "  <thead>\n",
       "    <tr style=\"text-align: right;\">\n",
       "      <th></th>\n",
       "      <th>Deal_title</th>\n",
       "      <th>Lead_name</th>\n",
       "      <th>Industry</th>\n",
       "      <th>Deal_value</th>\n",
       "      <th>Weighted_amount</th>\n",
       "      <th>Date_of_creation</th>\n",
       "      <th>Pitch</th>\n",
       "      <th>Contact_no</th>\n",
       "      <th>Lead_revenue</th>\n",
       "      <th>Fund_category</th>\n",
       "      <th>...</th>\n",
       "      <th>Designation</th>\n",
       "      <th>Lead_POC_email</th>\n",
       "      <th>Hiring_candidate_role</th>\n",
       "      <th>Lead_source</th>\n",
       "      <th>Level_of_meeting</th>\n",
       "      <th>Last_lead_update</th>\n",
       "      <th>Internal_POC</th>\n",
       "      <th>Resource</th>\n",
       "      <th>Internal_rating</th>\n",
       "      <th>Success_probability</th>\n",
       "    </tr>\n",
       "  </thead>\n",
       "  <tbody>\n",
       "    <tr>\n",
       "      <th>0</th>\n",
       "      <td>TitleM5DZY</td>\n",
       "      <td>Davis, Perkins and Bishop Inc</td>\n",
       "      <td>Restaurants</td>\n",
       "      <td>320506$</td>\n",
       "      <td>2067263.7$</td>\n",
       "      <td>2020-03-29</td>\n",
       "      <td>Product_2</td>\n",
       "      <td>607.447.7883</td>\n",
       "      <td>50 - 100 Million</td>\n",
       "      <td>Category 2</td>\n",
       "      <td>...</td>\n",
       "      <td>Executive Vice President</td>\n",
       "      <td>charlenewerner@davis.com</td>\n",
       "      <td>Community pharmacist</td>\n",
       "      <td>Website</td>\n",
       "      <td>Level 3</td>\n",
       "      <td>No track</td>\n",
       "      <td>Davis,Sharrice A</td>\n",
       "      <td>NaN</td>\n",
       "      <td>3</td>\n",
       "      <td>73.6</td>\n",
       "    </tr>\n",
       "    <tr>\n",
       "      <th>1</th>\n",
       "      <td>TitleKIW18</td>\n",
       "      <td>Bender PLC LLC</td>\n",
       "      <td>Construction Services</td>\n",
       "      <td>39488$</td>\n",
       "      <td>240876.8$</td>\n",
       "      <td>2019-07-10</td>\n",
       "      <td>Product_2</td>\n",
       "      <td>892-938-9493</td>\n",
       "      <td>500 Million - 1 Billion</td>\n",
       "      <td>Category 4</td>\n",
       "      <td>...</td>\n",
       "      <td>Chairman/CEO/President</td>\n",
       "      <td>terrylogan@bender.com</td>\n",
       "      <td>Recruitment consultant</td>\n",
       "      <td>Others</td>\n",
       "      <td>Level 1</td>\n",
       "      <td>Did not hear back after Level 1</td>\n",
       "      <td>Brown,Maxine A</td>\n",
       "      <td>No</td>\n",
       "      <td>5</td>\n",
       "      <td>58.9</td>\n",
       "    </tr>\n",
       "    <tr>\n",
       "      <th>2</th>\n",
       "      <td>TitleFXSDN</td>\n",
       "      <td>Carter-Henry and Sons</td>\n",
       "      <td>Hospitals/Clinics</td>\n",
       "      <td>359392$</td>\n",
       "      <td>2407926.4$</td>\n",
       "      <td>2019-07-27</td>\n",
       "      <td>Product_1</td>\n",
       "      <td>538.748.2271</td>\n",
       "      <td>500 Million - 1 Billion</td>\n",
       "      <td>Category 4</td>\n",
       "      <td>...</td>\n",
       "      <td>SVP/General Counsel</td>\n",
       "      <td>arielhamilton@carterhenry.com</td>\n",
       "      <td>Health service manager</td>\n",
       "      <td>Marketing Event</td>\n",
       "      <td>Level 1</td>\n",
       "      <td>?</td>\n",
       "      <td>Georgakopoulos,Vasilios T</td>\n",
       "      <td>No</td>\n",
       "      <td>4</td>\n",
       "      <td>68.8</td>\n",
       "    </tr>\n",
       "    <tr>\n",
       "      <th>3</th>\n",
       "      <td>TitlePSK4Y</td>\n",
       "      <td>Garcia Ltd Ltd</td>\n",
       "      <td>Real Estate</td>\n",
       "      <td>76774$</td>\n",
       "      <td>468321.4$</td>\n",
       "      <td>2021-01-30</td>\n",
       "      <td>Product_2</td>\n",
       "      <td>(692)052-1389x75188</td>\n",
       "      <td>500 Million - 1 Billion</td>\n",
       "      <td>Category 3</td>\n",
       "      <td>...</td>\n",
       "      <td>CEO/Co-Founder/Chairman</td>\n",
       "      <td>erinwilson@garcia.com</td>\n",
       "      <td>Therapist, speech and language</td>\n",
       "      <td>Contact Email</td>\n",
       "      <td>Level 2</td>\n",
       "      <td>Did not hear back after Level 1</td>\n",
       "      <td>Brown,Maxine A</td>\n",
       "      <td>We have all the requirements</td>\n",
       "      <td>1</td>\n",
       "      <td>64.5</td>\n",
       "    </tr>\n",
       "    <tr>\n",
       "      <th>4</th>\n",
       "      <td>Title904GV</td>\n",
       "      <td>Lee and Sons PLC</td>\n",
       "      <td>Financial Services</td>\n",
       "      <td>483896$</td>\n",
       "      <td>NaN</td>\n",
       "      <td>2019-05-22</td>\n",
       "      <td>Product_2</td>\n",
       "      <td>001-878-814-6134x015</td>\n",
       "      <td>50 - 100 Million</td>\n",
       "      <td>Category 3</td>\n",
       "      <td>...</td>\n",
       "      <td>Executive Vice President</td>\n",
       "      <td>mr.christopher@lee.com</td>\n",
       "      <td>Media planner</td>\n",
       "      <td>Website</td>\n",
       "      <td>Level 2</td>\n",
       "      <td>Up-to-date</td>\n",
       "      <td>Thomas,Lori E</td>\n",
       "      <td>No</td>\n",
       "      <td>4</td>\n",
       "      <td>62.4</td>\n",
       "    </tr>\n",
       "  </tbody>\n",
       "</table>\n",
       "<p>5 rows × 23 columns</p>\n",
       "</div>"
      ],
      "text/plain": [
       "   Deal_title                      Lead_name               Industry  \\\n",
       "0  TitleM5DZY  Davis, Perkins and Bishop Inc            Restaurants   \n",
       "1  TitleKIW18                 Bender PLC LLC  Construction Services   \n",
       "2  TitleFXSDN          Carter-Henry and Sons      Hospitals/Clinics   \n",
       "3  TitlePSK4Y                 Garcia Ltd Ltd            Real Estate   \n",
       "4  Title904GV               Lee and Sons PLC     Financial Services   \n",
       "\n",
       "  Deal_value Weighted_amount Date_of_creation      Pitch  \\\n",
       "0    320506$      2067263.7$       2020-03-29  Product_2   \n",
       "1     39488$       240876.8$       2019-07-10  Product_2   \n",
       "2    359392$      2407926.4$       2019-07-27  Product_1   \n",
       "3     76774$       468321.4$       2021-01-30  Product_2   \n",
       "4    483896$             NaN       2019-05-22  Product_2   \n",
       "\n",
       "             Contact_no             Lead_revenue Fund_category  ...  \\\n",
       "0          607.447.7883         50 - 100 Million    Category 2  ...   \n",
       "1          892-938-9493  500 Million - 1 Billion    Category 4  ...   \n",
       "2          538.748.2271  500 Million - 1 Billion    Category 4  ...   \n",
       "3   (692)052-1389x75188  500 Million - 1 Billion    Category 3  ...   \n",
       "4  001-878-814-6134x015         50 - 100 Million    Category 3  ...   \n",
       "\n",
       "                Designation                 Lead_POC_email  \\\n",
       "0  Executive Vice President       charlenewerner@davis.com   \n",
       "1    Chairman/CEO/President          terrylogan@bender.com   \n",
       "2      SVP/General Counsel   arielhamilton@carterhenry.com   \n",
       "3   CEO/Co-Founder/Chairman          erinwilson@garcia.com   \n",
       "4  Executive Vice President         mr.christopher@lee.com   \n",
       "\n",
       "            Hiring_candidate_role      Lead_source Level_of_meeting  \\\n",
       "0            Community pharmacist          Website          Level 3   \n",
       "1          Recruitment consultant           Others          Level 1   \n",
       "2          Health service manager  Marketing Event          Level 1   \n",
       "3  Therapist, speech and language    Contact Email          Level 2   \n",
       "4                   Media planner          Website          Level 2   \n",
       "\n",
       "                  Last_lead_update               Internal_POC  \\\n",
       "0                         No track           Davis,Sharrice A   \n",
       "1  Did not hear back after Level 1             Brown,Maxine A   \n",
       "2                                ?  Georgakopoulos,Vasilios T   \n",
       "3  Did not hear back after Level 1             Brown,Maxine A   \n",
       "4                       Up-to-date              Thomas,Lori E   \n",
       "\n",
       "                       Resource Internal_rating Success_probability  \n",
       "0                           NaN               3                73.6  \n",
       "1                            No               5                58.9  \n",
       "2                            No               4                68.8  \n",
       "3  We have all the requirements               1                64.5  \n",
       "4                            No               4                62.4  \n",
       "\n",
       "[5 rows x 23 columns]"
      ]
     },
     "execution_count": 2,
     "metadata": {},
     "output_type": "execute_result"
    }
   ],
   "source": [
    "train = pd.read_csv('train.csv')\n",
    "train.head()"
   ]
  },
  {
   "cell_type": "code",
   "execution_count": 3,
   "metadata": {},
   "outputs": [
    {
     "data": {
      "text/plain": [
       "(7007, 23)"
      ]
     },
     "execution_count": 3,
     "metadata": {},
     "output_type": "execute_result"
    }
   ],
   "source": [
    "train.shape"
   ]
  },
  {
   "cell_type": "code",
   "execution_count": 4,
   "metadata": {},
   "outputs": [
    {
     "data": {
      "text/html": [
       "<div>\n",
       "<style scoped>\n",
       "    .dataframe tbody tr th:only-of-type {\n",
       "        vertical-align: middle;\n",
       "    }\n",
       "\n",
       "    .dataframe tbody tr th {\n",
       "        vertical-align: top;\n",
       "    }\n",
       "\n",
       "    .dataframe thead th {\n",
       "        text-align: right;\n",
       "    }\n",
       "</style>\n",
       "<table border=\"1\" class=\"dataframe\">\n",
       "  <thead>\n",
       "    <tr style=\"text-align: right;\">\n",
       "      <th></th>\n",
       "      <th>Internal_rating</th>\n",
       "      <th>Success_probability</th>\n",
       "    </tr>\n",
       "  </thead>\n",
       "  <tbody>\n",
       "    <tr>\n",
       "      <th>count</th>\n",
       "      <td>7007.000000</td>\n",
       "      <td>7007.000000</td>\n",
       "    </tr>\n",
       "    <tr>\n",
       "      <th>mean</th>\n",
       "      <td>3.009562</td>\n",
       "      <td>64.745133</td>\n",
       "    </tr>\n",
       "    <tr>\n",
       "      <th>std</th>\n",
       "      <td>1.418666</td>\n",
       "      <td>17.931635</td>\n",
       "    </tr>\n",
       "    <tr>\n",
       "      <th>min</th>\n",
       "      <td>1.000000</td>\n",
       "      <td>-5.000000</td>\n",
       "    </tr>\n",
       "    <tr>\n",
       "      <th>25%</th>\n",
       "      <td>2.000000</td>\n",
       "      <td>60.600000</td>\n",
       "    </tr>\n",
       "    <tr>\n",
       "      <th>50%</th>\n",
       "      <td>3.000000</td>\n",
       "      <td>65.300000</td>\n",
       "    </tr>\n",
       "    <tr>\n",
       "      <th>75%</th>\n",
       "      <td>4.000000</td>\n",
       "      <td>69.600000</td>\n",
       "    </tr>\n",
       "    <tr>\n",
       "      <th>max</th>\n",
       "      <td>5.000000</td>\n",
       "      <td>107.340000</td>\n",
       "    </tr>\n",
       "  </tbody>\n",
       "</table>\n",
       "</div>"
      ],
      "text/plain": [
       "       Internal_rating  Success_probability\n",
       "count      7007.000000          7007.000000\n",
       "mean          3.009562            64.745133\n",
       "std           1.418666            17.931635\n",
       "min           1.000000            -5.000000\n",
       "25%           2.000000            60.600000\n",
       "50%           3.000000            65.300000\n",
       "75%           4.000000            69.600000\n",
       "max           5.000000           107.340000"
      ]
     },
     "execution_count": 4,
     "metadata": {},
     "output_type": "execute_result"
    }
   ],
   "source": [
    "train.describe()"
   ]
  },
  {
   "cell_type": "code",
   "execution_count": 5,
   "metadata": {},
   "outputs": [
    {
     "data": {
      "text/plain": [
       "Deal_title                 0\n",
       "Lead_name                  0\n",
       "Industry                   1\n",
       "Deal_value                51\n",
       "Weighted_amount          525\n",
       "Date_of_creation           0\n",
       "Pitch                      0\n",
       "Contact_no                 0\n",
       "Lead_revenue               0\n",
       "Fund_category              0\n",
       "Geography                972\n",
       "Location                  11\n",
       "POC_name                   8\n",
       "Designation                0\n",
       "Lead_POC_email             0\n",
       "Hiring_candidate_role      0\n",
       "Lead_source                0\n",
       "Level_of_meeting           0\n",
       "Last_lead_update         633\n",
       "Internal_POC               0\n",
       "Resource                 149\n",
       "Internal_rating            0\n",
       "Success_probability        0\n",
       "dtype: int64"
      ]
     },
     "execution_count": 5,
     "metadata": {},
     "output_type": "execute_result"
    }
   ],
   "source": [
    "train.isnull().sum()"
   ]
  },
  {
   "cell_type": "code",
   "execution_count": 6,
   "metadata": {},
   "outputs": [
    {
     "data": {
      "text/html": [
       "<div>\n",
       "<style scoped>\n",
       "    .dataframe tbody tr th:only-of-type {\n",
       "        vertical-align: middle;\n",
       "    }\n",
       "\n",
       "    .dataframe tbody tr th {\n",
       "        vertical-align: top;\n",
       "    }\n",
       "\n",
       "    .dataframe thead th {\n",
       "        text-align: right;\n",
       "    }\n",
       "</style>\n",
       "<table border=\"1\" class=\"dataframe\">\n",
       "  <thead>\n",
       "    <tr style=\"text-align: right;\">\n",
       "      <th></th>\n",
       "      <th>Deal_title</th>\n",
       "      <th>Lead_name</th>\n",
       "      <th>Industry</th>\n",
       "      <th>Deal_value</th>\n",
       "      <th>Weighted_amount</th>\n",
       "      <th>Date_of_creation</th>\n",
       "      <th>Pitch</th>\n",
       "      <th>Contact_no</th>\n",
       "      <th>Lead_revenue</th>\n",
       "      <th>Fund_category</th>\n",
       "      <th>...</th>\n",
       "      <th>POC_name</th>\n",
       "      <th>Designation</th>\n",
       "      <th>Lead_POC_email</th>\n",
       "      <th>Hiring_candidate_role</th>\n",
       "      <th>Lead_source</th>\n",
       "      <th>Level_of_meeting</th>\n",
       "      <th>Last_lead_update</th>\n",
       "      <th>Internal_POC</th>\n",
       "      <th>Resource</th>\n",
       "      <th>Internal_rating</th>\n",
       "    </tr>\n",
       "  </thead>\n",
       "  <tbody>\n",
       "    <tr>\n",
       "      <th>0</th>\n",
       "      <td>TitleAD16O</td>\n",
       "      <td>Bonilla Ltd Inc</td>\n",
       "      <td>Investment Bank/Brokerage</td>\n",
       "      <td>200988$</td>\n",
       "      <td>NaN</td>\n",
       "      <td>2020-04-15</td>\n",
       "      <td>Product_1</td>\n",
       "      <td>167.332.2751x989</td>\n",
       "      <td>100 - 500 Million</td>\n",
       "      <td>Category 4</td>\n",
       "      <td>...</td>\n",
       "      <td>sonia</td>\n",
       "      <td>Chairman/CEO/President</td>\n",
       "      <td>maureenthomas@bonilla.com</td>\n",
       "      <td>Designer, fashion/clothing</td>\n",
       "      <td>Marketing Event</td>\n",
       "      <td>Level 1</td>\n",
       "      <td>more than a month</td>\n",
       "      <td>Massiah,Gerard F</td>\n",
       "      <td>No</td>\n",
       "      <td>-1.0</td>\n",
       "    </tr>\n",
       "    <tr>\n",
       "      <th>1</th>\n",
       "      <td>TitleOW6CR</td>\n",
       "      <td>Williams, Rogers and Roach PLC</td>\n",
       "      <td>Electronics</td>\n",
       "      <td>409961$</td>\n",
       "      <td>2541758.2$</td>\n",
       "      <td>2021-01-23</td>\n",
       "      <td>Product_1</td>\n",
       "      <td>001-486-903-0711x7831</td>\n",
       "      <td>100 - 500 Million</td>\n",
       "      <td>Category 3</td>\n",
       "      <td>...</td>\n",
       "      <td>Daniel Bell</td>\n",
       "      <td>CEO/Co-Founder/Chairman</td>\n",
       "      <td>danielbell@williams.com</td>\n",
       "      <td>Horticultural consultant</td>\n",
       "      <td>Marketing Event</td>\n",
       "      <td>Level 2</td>\n",
       "      <td>Up-to-date</td>\n",
       "      <td>Smith,Keenan H</td>\n",
       "      <td>Yes</td>\n",
       "      <td>1.0</td>\n",
       "    </tr>\n",
       "    <tr>\n",
       "      <th>2</th>\n",
       "      <td>TitleVVJQ5</td>\n",
       "      <td>Wood, Vaughn and Morales Ltd</td>\n",
       "      <td>Banks</td>\n",
       "      <td>434433$</td>\n",
       "      <td>3041031.0$</td>\n",
       "      <td>2020-07-19</td>\n",
       "      <td>Product_1</td>\n",
       "      <td>(393)104-2610x9723</td>\n",
       "      <td>100 - 500 Million</td>\n",
       "      <td>Category 1</td>\n",
       "      <td>...</td>\n",
       "      <td>Andrew Davis</td>\n",
       "      <td>Chairman/Chief Innovation Officer</td>\n",
       "      <td>andrewdavis@wood.com</td>\n",
       "      <td>Information officer</td>\n",
       "      <td>Marketing Event</td>\n",
       "      <td>Level 2</td>\n",
       "      <td>Did not hear back after Level 1</td>\n",
       "      <td>Gilley,Janine</td>\n",
       "      <td>Deliverable</td>\n",
       "      <td>5.0</td>\n",
       "    </tr>\n",
       "    <tr>\n",
       "      <th>3</th>\n",
       "      <td>TitleUS8NA</td>\n",
       "      <td>Durham-Crawford Inc</td>\n",
       "      <td>Music</td>\n",
       "      <td>218952$</td>\n",
       "      <td>1521716.4$</td>\n",
       "      <td>2020-02-27</td>\n",
       "      <td>Product_2</td>\n",
       "      <td>(817)040-4599</td>\n",
       "      <td>100 - 500 Million</td>\n",
       "      <td>Category 1</td>\n",
       "      <td>...</td>\n",
       "      <td>shital</td>\n",
       "      <td>CEO/Chairman/President</td>\n",
       "      <td>charlesrivera@durhamcrawford.com</td>\n",
       "      <td>Commercial/residential surveyor</td>\n",
       "      <td>Contact Email</td>\n",
       "      <td>Level 3</td>\n",
       "      <td>more than a month</td>\n",
       "      <td>Morsy,Omar A</td>\n",
       "      <td>No</td>\n",
       "      <td>5.0</td>\n",
       "    </tr>\n",
       "    <tr>\n",
       "      <th>4</th>\n",
       "      <td>Title5VGWW</td>\n",
       "      <td>Simpson, Duncan and Long LLC</td>\n",
       "      <td>Real Estate</td>\n",
       "      <td>392835$</td>\n",
       "      <td>2455218.75$</td>\n",
       "      <td>2020-10-25</td>\n",
       "      <td>Product_1</td>\n",
       "      <td>718-032-5726x76098</td>\n",
       "      <td>500 Million - 1 Billion</td>\n",
       "      <td>Category 3</td>\n",
       "      <td>...</td>\n",
       "      <td>Shelly Stephenson</td>\n",
       "      <td>CEO/Co-Founder/Chairman</td>\n",
       "      <td>shellystephenson@simpson.com</td>\n",
       "      <td>Wellsite geologist</td>\n",
       "      <td>Others</td>\n",
       "      <td>Level 3</td>\n",
       "      <td>More than 2 weeks</td>\n",
       "      <td>Morsy,Omar A</td>\n",
       "      <td>Deliverable</td>\n",
       "      <td>2.0</td>\n",
       "    </tr>\n",
       "  </tbody>\n",
       "</table>\n",
       "<p>5 rows × 22 columns</p>\n",
       "</div>"
      ],
      "text/plain": [
       "   Deal_title                       Lead_name                   Industry  \\\n",
       "0  TitleAD16O                 Bonilla Ltd Inc  Investment Bank/Brokerage   \n",
       "1  TitleOW6CR  Williams, Rogers and Roach PLC                Electronics   \n",
       "2  TitleVVJQ5    Wood, Vaughn and Morales Ltd                      Banks   \n",
       "3  TitleUS8NA             Durham-Crawford Inc                      Music   \n",
       "4  Title5VGWW    Simpson, Duncan and Long LLC                Real Estate   \n",
       "\n",
       "  Deal_value Weighted_amount Date_of_creation      Pitch  \\\n",
       "0    200988$             NaN       2020-04-15  Product_1   \n",
       "1    409961$      2541758.2$       2021-01-23  Product_1   \n",
       "2    434433$      3041031.0$       2020-07-19  Product_1   \n",
       "3    218952$      1521716.4$       2020-02-27  Product_2   \n",
       "4    392835$     2455218.75$       2020-10-25  Product_1   \n",
       "\n",
       "              Contact_no             Lead_revenue Fund_category  ...  \\\n",
       "0       167.332.2751x989        100 - 500 Million    Category 4  ...   \n",
       "1  001-486-903-0711x7831        100 - 500 Million    Category 3  ...   \n",
       "2     (393)104-2610x9723        100 - 500 Million    Category 1  ...   \n",
       "3          (817)040-4599        100 - 500 Million    Category 1  ...   \n",
       "4     718-032-5726x76098  500 Million - 1 Billion    Category 3  ...   \n",
       "\n",
       "            POC_name                        Designation  \\\n",
       "0              sonia             Chairman/CEO/President   \n",
       "1        Daniel Bell            CEO/Co-Founder/Chairman   \n",
       "2       Andrew Davis  Chairman/Chief Innovation Officer   \n",
       "3             shital             CEO/Chairman/President   \n",
       "4  Shelly Stephenson            CEO/Co-Founder/Chairman   \n",
       "\n",
       "                     Lead_POC_email            Hiring_candidate_role  \\\n",
       "0         maureenthomas@bonilla.com       Designer, fashion/clothing   \n",
       "1           danielbell@williams.com         Horticultural consultant   \n",
       "2              andrewdavis@wood.com              Information officer   \n",
       "3  charlesrivera@durhamcrawford.com  Commercial/residential surveyor   \n",
       "4      shellystephenson@simpson.com               Wellsite geologist   \n",
       "\n",
       "       Lead_source Level_of_meeting                 Last_lead_update  \\\n",
       "0  Marketing Event          Level 1                more than a month   \n",
       "1  Marketing Event          Level 2                       Up-to-date   \n",
       "2  Marketing Event          Level 2  Did not hear back after Level 1   \n",
       "3    Contact Email          Level 3                more than a month   \n",
       "4           Others          Level 3                More than 2 weeks   \n",
       "\n",
       "       Internal_POC     Resource Internal_rating  \n",
       "0  Massiah,Gerard F           No            -1.0  \n",
       "1    Smith,Keenan H          Yes             1.0  \n",
       "2     Gilley,Janine  Deliverable             5.0  \n",
       "3      Morsy,Omar A           No             5.0  \n",
       "4      Morsy,Omar A  Deliverable             2.0  \n",
       "\n",
       "[5 rows x 22 columns]"
      ]
     },
     "execution_count": 6,
     "metadata": {},
     "output_type": "execute_result"
    }
   ],
   "source": [
    "test = pd.read_csv('test.csv')\n",
    "test.head()"
   ]
  },
  {
   "cell_type": "code",
   "execution_count": 7,
   "metadata": {},
   "outputs": [
    {
     "data": {
      "text/plain": [
       "(2093, 22)"
      ]
     },
     "execution_count": 7,
     "metadata": {},
     "output_type": "execute_result"
    }
   ],
   "source": [
    "test.shape"
   ]
  },
  {
   "cell_type": "code",
   "execution_count": 8,
   "metadata": {},
   "outputs": [
    {
     "data": {
      "text/plain": [
       "Deal_title                 0\n",
       "Lead_name                  0\n",
       "Industry                   1\n",
       "Deal_value                 5\n",
       "Weighted_amount           60\n",
       "Date_of_creation           0\n",
       "Pitch                      0\n",
       "Contact_no                 0\n",
       "Lead_revenue               0\n",
       "Fund_category              0\n",
       "Geography                 79\n",
       "Location                   3\n",
       "POC_name                   2\n",
       "Designation                0\n",
       "Lead_POC_email             0\n",
       "Hiring_candidate_role      0\n",
       "Lead_source                0\n",
       "Level_of_meeting           0\n",
       "Last_lead_update         168\n",
       "Internal_POC               0\n",
       "Resource                  14\n",
       "Internal_rating            0\n",
       "dtype: int64"
      ]
     },
     "execution_count": 8,
     "metadata": {},
     "output_type": "execute_result"
    }
   ],
   "source": [
    "test.isnull().sum()"
   ]
  },
  {
   "cell_type": "code",
   "execution_count": 9,
   "metadata": {},
   "outputs": [],
   "source": [
    "newtrain = train\n",
    "newtest = test"
   ]
  },
  {
   "cell_type": "code",
   "execution_count": 10,
   "metadata": {},
   "outputs": [
    {
     "data": {
      "text/html": [
       "<div>\n",
       "<style scoped>\n",
       "    .dataframe tbody tr th:only-of-type {\n",
       "        vertical-align: middle;\n",
       "    }\n",
       "\n",
       "    .dataframe tbody tr th {\n",
       "        vertical-align: top;\n",
       "    }\n",
       "\n",
       "    .dataframe thead th {\n",
       "        text-align: right;\n",
       "    }\n",
       "</style>\n",
       "<table border=\"1\" class=\"dataframe\">\n",
       "  <thead>\n",
       "    <tr style=\"text-align: right;\">\n",
       "      <th></th>\n",
       "      <th>Deal_title</th>\n",
       "      <th>Lead_name</th>\n",
       "      <th>Industry</th>\n",
       "      <th>Deal_value</th>\n",
       "      <th>Weighted_amount</th>\n",
       "      <th>Date_of_creation</th>\n",
       "      <th>Pitch</th>\n",
       "      <th>Contact_no</th>\n",
       "      <th>Lead_revenue</th>\n",
       "      <th>Fund_category</th>\n",
       "      <th>...</th>\n",
       "      <th>POC_name</th>\n",
       "      <th>Designation</th>\n",
       "      <th>Lead_POC_email</th>\n",
       "      <th>Hiring_candidate_role</th>\n",
       "      <th>Lead_source</th>\n",
       "      <th>Level_of_meeting</th>\n",
       "      <th>Last_lead_update</th>\n",
       "      <th>Internal_POC</th>\n",
       "      <th>Resource</th>\n",
       "      <th>Internal_rating</th>\n",
       "    </tr>\n",
       "  </thead>\n",
       "  <tbody>\n",
       "    <tr>\n",
       "      <th>0</th>\n",
       "      <td>TitleAD16O</td>\n",
       "      <td>Bonilla Ltd Inc</td>\n",
       "      <td>Investment Bank/Brokerage</td>\n",
       "      <td>200988$</td>\n",
       "      <td>NaN</td>\n",
       "      <td>2020-04-15</td>\n",
       "      <td>Product_1</td>\n",
       "      <td>167.332.2751x989</td>\n",
       "      <td>100 - 500 Million</td>\n",
       "      <td>Category 4</td>\n",
       "      <td>...</td>\n",
       "      <td>sonia</td>\n",
       "      <td>Chairman/CEO/President</td>\n",
       "      <td>maureenthomas@bonilla.com</td>\n",
       "      <td>Designer, fashion/clothing</td>\n",
       "      <td>Marketing Event</td>\n",
       "      <td>Level 1</td>\n",
       "      <td>more than a month</td>\n",
       "      <td>Massiah,Gerard F</td>\n",
       "      <td>No</td>\n",
       "      <td>-1.0</td>\n",
       "    </tr>\n",
       "    <tr>\n",
       "      <th>1</th>\n",
       "      <td>TitleOW6CR</td>\n",
       "      <td>Williams, Rogers and Roach PLC</td>\n",
       "      <td>Electronics</td>\n",
       "      <td>409961$</td>\n",
       "      <td>2541758.2$</td>\n",
       "      <td>2021-01-23</td>\n",
       "      <td>Product_1</td>\n",
       "      <td>001-486-903-0711x7831</td>\n",
       "      <td>100 - 500 Million</td>\n",
       "      <td>Category 3</td>\n",
       "      <td>...</td>\n",
       "      <td>Daniel Bell</td>\n",
       "      <td>CEO/Co-Founder/Chairman</td>\n",
       "      <td>danielbell@williams.com</td>\n",
       "      <td>Horticultural consultant</td>\n",
       "      <td>Marketing Event</td>\n",
       "      <td>Level 2</td>\n",
       "      <td>Up-to-date</td>\n",
       "      <td>Smith,Keenan H</td>\n",
       "      <td>Yes</td>\n",
       "      <td>1.0</td>\n",
       "    </tr>\n",
       "  </tbody>\n",
       "</table>\n",
       "<p>2 rows × 22 columns</p>\n",
       "</div>"
      ],
      "text/plain": [
       "   Deal_title                       Lead_name                   Industry  \\\n",
       "0  TitleAD16O                 Bonilla Ltd Inc  Investment Bank/Brokerage   \n",
       "1  TitleOW6CR  Williams, Rogers and Roach PLC                Electronics   \n",
       "\n",
       "  Deal_value Weighted_amount Date_of_creation      Pitch  \\\n",
       "0    200988$             NaN       2020-04-15  Product_1   \n",
       "1    409961$      2541758.2$       2021-01-23  Product_1   \n",
       "\n",
       "              Contact_no       Lead_revenue Fund_category  ...     POC_name  \\\n",
       "0       167.332.2751x989  100 - 500 Million    Category 4  ...        sonia   \n",
       "1  001-486-903-0711x7831  100 - 500 Million    Category 3  ...  Daniel Bell   \n",
       "\n",
       "               Designation             Lead_POC_email  \\\n",
       "0   Chairman/CEO/President  maureenthomas@bonilla.com   \n",
       "1  CEO/Co-Founder/Chairman    danielbell@williams.com   \n",
       "\n",
       "        Hiring_candidate_role      Lead_source Level_of_meeting  \\\n",
       "0  Designer, fashion/clothing  Marketing Event          Level 1   \n",
       "1    Horticultural consultant  Marketing Event          Level 2   \n",
       "\n",
       "    Last_lead_update      Internal_POC Resource Internal_rating  \n",
       "0  more than a month  Massiah,Gerard F       No            -1.0  \n",
       "1         Up-to-date    Smith,Keenan H      Yes             1.0  \n",
       "\n",
       "[2 rows x 22 columns]"
      ]
     },
     "execution_count": 10,
     "metadata": {},
     "output_type": "execute_result"
    }
   ],
   "source": [
    "test.head(2)"
   ]
  },
  {
   "cell_type": "code",
   "execution_count": 11,
   "metadata": {},
   "outputs": [
    {
     "data": {
      "text/plain": [
       "Index(['Deal_title', 'Lead_name', 'Industry', 'Deal_value', 'Weighted_amount',\n",
       "       'Date_of_creation', 'Pitch', 'Contact_no', 'Lead_revenue',\n",
       "       'Fund_category', 'Geography', 'Location', 'POC_name', 'Designation',\n",
       "       'Lead_POC_email', 'Hiring_candidate_role', 'Lead_source',\n",
       "       'Level_of_meeting', 'Last_lead_update', 'Internal_POC', 'Resource',\n",
       "       'Internal_rating'],\n",
       "      dtype='object')"
      ]
     },
     "execution_count": 11,
     "metadata": {},
     "output_type": "execute_result"
    }
   ],
   "source": [
    "test.columns"
   ]
  },
  {
   "cell_type": "raw",
   "metadata": {},
   "source": [
    "deal_value, weighted_amount -> remove dollar\n",
    "delete deal_title, contact_no, location,POC_name, Lead_POC_email, Hiring_candidate_role, Internal_POC, "
   ]
  },
  {
   "cell_type": "code",
   "execution_count": 12,
   "metadata": {},
   "outputs": [],
   "source": [
    "newtrain['Deal_value'] = newtrain['Deal_value'].str.replace('$', '')\n",
    "newtest['Deal_value'] = newtest['Deal_value'].str.replace('$', '')"
   ]
  },
  {
   "cell_type": "code",
   "execution_count": 13,
   "metadata": {},
   "outputs": [],
   "source": [
    "newtrain['Weighted_amount'] = newtrain['Weighted_amount'].str.replace('$', '')\n",
    "newtest['Weighted_amount'] = newtest['Weighted_amount'].str.replace('$', '')"
   ]
  },
  {
   "cell_type": "code",
   "execution_count": 14,
   "metadata": {},
   "outputs": [],
   "source": [
    "newtrain['Deal_value'] = newtrain['Deal_value'].astype(float)\n",
    "newtest['Deal_value'] = newtest['Deal_value'].astype(float)"
   ]
  },
  {
   "cell_type": "code",
   "execution_count": 15,
   "metadata": {},
   "outputs": [],
   "source": [
    "newtrain['Weighted_amount'] = newtrain['Weighted_amount'].astype(float)\n",
    "newtest['Weighted_amount'] = newtest['Weighted_amount'].astype(float)"
   ]
  },
  {
   "cell_type": "code",
   "execution_count": 16,
   "metadata": {},
   "outputs": [],
   "source": [
    "x = ['Weighted_amount', 'Deal_value']\n",
    "for i in x:\n",
    "    newtrain[i] = newtrain[i].fillna(newtrain[i].mean())\n",
    "    newtest[i] = newtest[i].fillna(newtest[i].mean())"
   ]
  },
  {
   "cell_type": "code",
   "execution_count": 17,
   "metadata": {},
   "outputs": [],
   "source": [
    "x = ['Industry', 'Geography', 'Last_lead_update', 'Resource']\n",
    "for i in x:\n",
    "    newtrain[i] = newtrain[i].fillna(newtrain[i].value_counts().index[0])\n",
    "    newtest[i] = newtest[i].fillna(newtest[i].value_counts().index[0])"
   ]
  },
  {
   "cell_type": "code",
   "execution_count": 18,
   "metadata": {},
   "outputs": [],
   "source": [
    "newtrain['Last_lead_update'] = newtrain['Last_lead_update'].replace({'?' : 'Not Available'})\n",
    "newtest['Last_lead_update'] = newtest['Last_lead_update'].replace({'?' : 'Not Available'})"
   ]
  },
  {
   "cell_type": "code",
   "execution_count": 19,
   "metadata": {},
   "outputs": [],
   "source": [
    "newtrain['Lead_revenue'] = newtrain['Lead_revenue'].replace({'500 Million - 1 Billion': 2,\n",
    "                                                            '100 - 500 Million' : 1,\n",
    "                                                            '50 - 100 Million' : 0})\n",
    "newtest['Lead_revenue'] = newtest['Lead_revenue'].replace({'500 Million - 1 Billion': 2,\n",
    "                                                            '100 - 500 Million' : 1,\n",
    "                                                            '50 - 100 Million' : 0})"
   ]
  },
  {
   "cell_type": "code",
   "execution_count": 20,
   "metadata": {},
   "outputs": [],
   "source": [
    "newtrain['Lead_revenue'] = newtrain['Lead_revenue'].astype(int)\n",
    "newtest['Lead_revenue'] = newtest['Lead_revenue'].astype(int)"
   ]
  },
  {
   "cell_type": "code",
   "execution_count": 21,
   "metadata": {},
   "outputs": [],
   "source": [
    "from sklearn.preprocessing import LabelEncoder\n",
    "le = LabelEncoder()"
   ]
  },
  {
   "cell_type": "code",
   "execution_count": 22,
   "metadata": {},
   "outputs": [],
   "source": [
    "x = ['Industry', 'Pitch', 'Fund_category', 'Geography', 'Designation', 'Lead_source', 'Level_of_meeting', 'Last_lead_update', 'Resource']\n",
    "for i in x:\n",
    "    newtrain[i] = le.fit_transform(newtrain[i])\n",
    "    newtest[i] = le.fit_transform(newtest[i])"
   ]
  },
  {
   "cell_type": "code",
   "execution_count": 23,
   "metadata": {},
   "outputs": [],
   "source": [
    "newtrain = newtrain.drop(['Deal_title', 'Contact_no', 'Location', 'POC_name','Lead_POC_email', 'Hiring_candidate_role','Internal_POC', 'Lead_name', 'Date_of_creation'], axis = 1)\n",
    "newtest = newtest.drop(['Deal_title', 'Contact_no', 'Location', 'POC_name','Lead_POC_email', 'Hiring_candidate_role','Internal_POC', 'Lead_name', 'Date_of_creation'], axis = 1)"
   ]
  },
  {
   "cell_type": "code",
   "execution_count": 24,
   "metadata": {},
   "outputs": [
    {
     "name": "stdout",
     "output_type": "stream",
     "text": [
      "<class 'pandas.core.frame.DataFrame'>\n",
      "RangeIndex: 7007 entries, 0 to 7006\n",
      "Data columns (total 14 columns):\n",
      "Industry               7007 non-null int32\n",
      "Deal_value             7007 non-null float64\n",
      "Weighted_amount        7007 non-null float64\n",
      "Pitch                  7007 non-null int32\n",
      "Lead_revenue           7007 non-null int32\n",
      "Fund_category          7007 non-null int32\n",
      "Geography              7007 non-null int32\n",
      "Designation            7007 non-null int32\n",
      "Lead_source            7007 non-null int32\n",
      "Level_of_meeting       7007 non-null int32\n",
      "Last_lead_update       7007 non-null int32\n",
      "Resource               7007 non-null int32\n",
      "Internal_rating        7007 non-null int64\n",
      "Success_probability    7007 non-null float64\n",
      "dtypes: float64(3), int32(10), int64(1)\n",
      "memory usage: 492.8 KB\n"
     ]
    }
   ],
   "source": [
    "newtrain.info()"
   ]
  },
  {
   "cell_type": "code",
   "execution_count": 25,
   "metadata": {},
   "outputs": [
    {
     "data": {
      "text/plain": [
       "11"
      ]
     },
     "execution_count": 25,
     "metadata": {},
     "output_type": "execute_result"
    }
   ],
   "source": [
    "newtrain['Last_lead_update'].nunique()"
   ]
  },
  {
   "cell_type": "code",
   "execution_count": 26,
   "metadata": {},
   "outputs": [
    {
     "data": {
      "text/plain": [
       "10"
      ]
     },
     "execution_count": 26,
     "metadata": {},
     "output_type": "execute_result"
    }
   ],
   "source": [
    "newtrain['Designation'].nunique()"
   ]
  },
  {
   "cell_type": "code",
   "execution_count": 27,
   "metadata": {},
   "outputs": [
    {
     "data": {
      "text/plain": [
       "171"
      ]
     },
     "execution_count": 27,
     "metadata": {},
     "output_type": "execute_result"
    }
   ],
   "source": [
    "newtrain['Industry'].nunique()"
   ]
  },
  {
   "cell_type": "code",
   "execution_count": 54,
   "metadata": {},
   "outputs": [],
   "source": [
    "x = newtrain.drop('Success_probability', axis = 1)\n",
    "y = newtrain['Success_probability']"
   ]
  },
  {
   "cell_type": "code",
   "execution_count": 55,
   "metadata": {},
   "outputs": [],
   "source": [
    "from sklearn.model_selection import train_test_split\n",
    "x_train, x_test, y_train, y_test = train_test_split(x, y, test_size = 0.2, random_state = 1)"
   ]
  },
  {
   "cell_type": "code",
   "execution_count": 37,
   "metadata": {},
   "outputs": [],
   "source": [
    "from sklearn.metrics import mean_squared_error"
   ]
  },
  {
   "cell_type": "code",
   "execution_count": 56,
   "metadata": {},
   "outputs": [
    {
     "name": "stdout",
     "output_type": "stream",
     "text": [
      "18.533168352151566\n"
     ]
    }
   ],
   "source": [
    "from sklearn.ensemble import AdaBoostRegressor\n",
    "adab = AdaBoostRegressor()\n",
    "y_pred = adab.fit(x_train, y_train).predict(x_test)\n",
    "print(np.sqrt(mean_squared_error(y_test, y_pred)))"
   ]
  },
  {
   "cell_type": "code",
   "execution_count": 57,
   "metadata": {},
   "outputs": [
    {
     "data": {
      "image/png": "[encoded data removed]",
      "text/plain": [
       "<Figure size 720x360 with 1 Axes>"
      ]
     },
     "metadata": {
      "needs_background": "light"
     },
     "output_type": "display_data"
    }
   ],
   "source": [
    "feature_imp = pd.DataFrame(sorted(zip(adab.feature_importances_, x.columns), reverse=True)[:], columns=['Value','Feature'])\n",
    "plt.figure(figsize=(10,5))\n",
    "sns.barplot(x=\"Value\", y=\"Feature\", data=feature_imp.sort_values(by=\"Value\", ascending=False))\n",
    "plt.title('ADAB Features')\n",
    "plt.tight_layout()\n",
    "plt.show()"
   ]
  },
  {
   "cell_type": "code",
   "execution_count": 80,
   "metadata": {},
   "outputs": [],
   "source": [
    "x_train = newtrain.drop(['Success_probability', 'Pitch', 'Lead_revenue', 'Fund_category'], axis = 1)\n",
    "y_train = newtrain['Success_probability']\n",
    "x_test = newtest.drop(['Pitch', 'Lead_revenue', 'Fund_category'], axis = 1)"
   ]
  },
  {
   "cell_type": "code",
   "execution_count": 61,
   "metadata": {},
   "outputs": [],
   "source": [
    "from sklearn.ensemble import AdaBoostRegressor\n",
    "adab = AdaBoostRegressor()\n",
    "y_pred = adab.fit(x_train, y_train).predict(x_test)\n",
    "solution = pd.DataFrame({'Deal_title' : test.Deal_title, 'Success_probability' : y_pred})\n",
    "solution.to_csv('Solution.csv', index = False)"
   ]
  },
  {
   "cell_type": "code",
   "execution_count": null,
   "metadata": {},
   "outputs": [],
   "source": []
  }
 ],
 "metadata": {
  "kernelspec": {
   "display_name": "Python 3",
   "language": "python",
   "name": "python3"
  },
  "language_info": {
   "codemirror_mode": {
    "name": "ipython",
    "version": 3
   },
   "file_extension": ".py",
   "mimetype": "text/x-python",
   "name": "python",
   "nbconvert_exporter": "python",
   "pygments_lexer": "ipython3",
   "version": "3.7.3"
  }
 },
 "nbformat": 4,
 "nbformat_minor": 2
}
