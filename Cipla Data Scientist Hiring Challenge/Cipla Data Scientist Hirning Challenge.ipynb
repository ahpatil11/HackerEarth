{
 "cells": [
  {
   "cell_type": "code",
   "execution_count": 1,
   "metadata": {},
   "outputs": [],
   "source": [
    "import numpy as np\n",
    "import pandas as pd\n",
    "import matplotlib.pyplot as plt\n",
    "import seaborn as sns"
   ]
  },
  {
   "cell_type": "code",
   "execution_count": 2,
   "metadata": {},
   "outputs": [
    {
     "data": {
      "text/html": [
       "<div>\n",
       "<style scoped>\n",
       "    .dataframe tbody tr th:only-of-type {\n",
       "        vertical-align: middle;\n",
       "    }\n",
       "\n",
       "    .dataframe tbody tr th {\n",
       "        vertical-align: top;\n",
       "    }\n",
       "\n",
       "    .dataframe thead th {\n",
       "        text-align: right;\n",
       "    }\n",
       "</style>\n",
       "<table border=\"1\" class=\"dataframe\">\n",
       "  <thead>\n",
       "    <tr style=\"text-align: right;\">\n",
       "      <th></th>\n",
       "      <th>Customer ID</th>\n",
       "      <th>Name</th>\n",
       "      <th>Gender</th>\n",
       "      <th>Age</th>\n",
       "      <th>Income (USD)</th>\n",
       "      <th>Income Stability</th>\n",
       "      <th>Profession</th>\n",
       "      <th>Type of Employment</th>\n",
       "      <th>Location</th>\n",
       "      <th>Loan Amount Request (USD)</th>\n",
       "      <th>...</th>\n",
       "      <th>Credit Score</th>\n",
       "      <th>No. of Defaults</th>\n",
       "      <th>Has Active Credit Card</th>\n",
       "      <th>Property ID</th>\n",
       "      <th>Property Age</th>\n",
       "      <th>Property Type</th>\n",
       "      <th>Property Location</th>\n",
       "      <th>Co-Applicant</th>\n",
       "      <th>Property Price</th>\n",
       "      <th>Loan Sanction Amount (USD)</th>\n",
       "    </tr>\n",
       "  </thead>\n",
       "  <tbody>\n",
       "    <tr>\n",
       "      <th>0</th>\n",
       "      <td>C-36995</td>\n",
       "      <td>Frederica Shealy</td>\n",
       "      <td>F</td>\n",
       "      <td>56</td>\n",
       "      <td>1933.05</td>\n",
       "      <td>Low</td>\n",
       "      <td>Working</td>\n",
       "      <td>Sales staff</td>\n",
       "      <td>Semi-Urban</td>\n",
       "      <td>72809.58</td>\n",
       "      <td>...</td>\n",
       "      <td>809.44</td>\n",
       "      <td>0</td>\n",
       "      <td>NaN</td>\n",
       "      <td>746</td>\n",
       "      <td>1933.05</td>\n",
       "      <td>4</td>\n",
       "      <td>Rural</td>\n",
       "      <td>1</td>\n",
       "      <td>119933.46</td>\n",
       "      <td>54607.18</td>\n",
       "    </tr>\n",
       "    <tr>\n",
       "      <th>1</th>\n",
       "      <td>C-33999</td>\n",
       "      <td>America Calderone</td>\n",
       "      <td>M</td>\n",
       "      <td>32</td>\n",
       "      <td>4952.91</td>\n",
       "      <td>Low</td>\n",
       "      <td>Working</td>\n",
       "      <td>NaN</td>\n",
       "      <td>Semi-Urban</td>\n",
       "      <td>46837.47</td>\n",
       "      <td>...</td>\n",
       "      <td>780.40</td>\n",
       "      <td>0</td>\n",
       "      <td>Unpossessed</td>\n",
       "      <td>608</td>\n",
       "      <td>4952.91</td>\n",
       "      <td>2</td>\n",
       "      <td>Rural</td>\n",
       "      <td>1</td>\n",
       "      <td>54791.00</td>\n",
       "      <td>37469.98</td>\n",
       "    </tr>\n",
       "    <tr>\n",
       "      <th>2</th>\n",
       "      <td>C-3770</td>\n",
       "      <td>Rosetta Verne</td>\n",
       "      <td>F</td>\n",
       "      <td>65</td>\n",
       "      <td>988.19</td>\n",
       "      <td>High</td>\n",
       "      <td>Pensioner</td>\n",
       "      <td>NaN</td>\n",
       "      <td>Semi-Urban</td>\n",
       "      <td>45593.04</td>\n",
       "      <td>...</td>\n",
       "      <td>833.15</td>\n",
       "      <td>0</td>\n",
       "      <td>Unpossessed</td>\n",
       "      <td>546</td>\n",
       "      <td>988.19</td>\n",
       "      <td>2</td>\n",
       "      <td>Urban</td>\n",
       "      <td>0</td>\n",
       "      <td>72440.58</td>\n",
       "      <td>36474.43</td>\n",
       "    </tr>\n",
       "    <tr>\n",
       "      <th>3</th>\n",
       "      <td>C-26480</td>\n",
       "      <td>Zoe Chitty</td>\n",
       "      <td>F</td>\n",
       "      <td>65</td>\n",
       "      <td>NaN</td>\n",
       "      <td>High</td>\n",
       "      <td>Pensioner</td>\n",
       "      <td>NaN</td>\n",
       "      <td>Rural</td>\n",
       "      <td>80057.92</td>\n",
       "      <td>...</td>\n",
       "      <td>832.70</td>\n",
       "      <td>1</td>\n",
       "      <td>Unpossessed</td>\n",
       "      <td>890</td>\n",
       "      <td>NaN</td>\n",
       "      <td>2</td>\n",
       "      <td>Semi-Urban</td>\n",
       "      <td>1</td>\n",
       "      <td>121441.51</td>\n",
       "      <td>56040.54</td>\n",
       "    </tr>\n",
       "    <tr>\n",
       "      <th>4</th>\n",
       "      <td>C-23459</td>\n",
       "      <td>Afton Venema</td>\n",
       "      <td>F</td>\n",
       "      <td>31</td>\n",
       "      <td>2614.77</td>\n",
       "      <td>Low</td>\n",
       "      <td>Working</td>\n",
       "      <td>High skill tech staff</td>\n",
       "      <td>Semi-Urban</td>\n",
       "      <td>113858.89</td>\n",
       "      <td>...</td>\n",
       "      <td>745.55</td>\n",
       "      <td>1</td>\n",
       "      <td>Active</td>\n",
       "      <td>715</td>\n",
       "      <td>2614.77</td>\n",
       "      <td>4</td>\n",
       "      <td>Semi-Urban</td>\n",
       "      <td>1</td>\n",
       "      <td>208567.91</td>\n",
       "      <td>74008.28</td>\n",
       "    </tr>\n",
       "  </tbody>\n",
       "</table>\n",
       "<p>5 rows × 24 columns</p>\n",
       "</div>"
      ],
      "text/plain": [
       "  Customer ID               Name Gender  Age  Income (USD) Income Stability  \\\n",
       "0     C-36995   Frederica Shealy      F   56       1933.05              Low   \n",
       "1     C-33999  America Calderone      M   32       4952.91              Low   \n",
       "2      C-3770      Rosetta Verne      F   65        988.19             High   \n",
       "3     C-26480         Zoe Chitty      F   65           NaN             High   \n",
       "4     C-23459       Afton Venema      F   31       2614.77              Low   \n",
       "\n",
       "  Profession     Type of Employment    Location  Loan Amount Request (USD)  \\\n",
       "0    Working            Sales staff  Semi-Urban                   72809.58   \n",
       "1    Working                    NaN  Semi-Urban                   46837.47   \n",
       "2  Pensioner                    NaN  Semi-Urban                   45593.04   \n",
       "3  Pensioner                    NaN       Rural                   80057.92   \n",
       "4    Working  High skill tech staff  Semi-Urban                  113858.89   \n",
       "\n",
       "   ...  Credit Score No. of Defaults Has Active Credit Card  Property ID  \\\n",
       "0  ...        809.44               0                    NaN          746   \n",
       "1  ...        780.40               0            Unpossessed          608   \n",
       "2  ...        833.15               0            Unpossessed          546   \n",
       "3  ...        832.70               1            Unpossessed          890   \n",
       "4  ...        745.55               1                 Active          715   \n",
       "\n",
       "   Property Age  Property Type Property Location  Co-Applicant  \\\n",
       "0       1933.05              4             Rural             1   \n",
       "1       4952.91              2             Rural             1   \n",
       "2        988.19              2             Urban             0   \n",
       "3           NaN              2        Semi-Urban             1   \n",
       "4       2614.77              4        Semi-Urban             1   \n",
       "\n",
       "   Property Price  Loan Sanction Amount (USD)  \n",
       "0       119933.46                    54607.18  \n",
       "1        54791.00                    37469.98  \n",
       "2        72440.58                    36474.43  \n",
       "3       121441.51                    56040.54  \n",
       "4       208567.91                    74008.28  \n",
       "\n",
       "[5 rows x 24 columns]"
      ]
     },
     "execution_count": 2,
     "metadata": {},
     "output_type": "execute_result"
    }
   ],
   "source": [
    "train = pd.read_csv('train.csv')\n",
    "train.head()"
   ]
  },
  {
   "cell_type": "code",
   "execution_count": 3,
   "metadata": {},
   "outputs": [
    {
     "data": {
      "text/plain": [
       "(30000, 24)"
      ]
     },
     "execution_count": 3,
     "metadata": {},
     "output_type": "execute_result"
    }
   ],
   "source": [
    "train.shape"
   ]
  },
  {
   "cell_type": "code",
   "execution_count": 4,
   "metadata": {},
   "outputs": [
    {
     "data": {
      "text/plain": [
       "0"
      ]
     },
     "execution_count": 4,
     "metadata": {},
     "output_type": "execute_result"
    }
   ],
   "source": [
    "train.duplicated().sum()"
   ]
  },
  {
   "cell_type": "code",
   "execution_count": 5,
   "metadata": {},
   "outputs": [
    {
     "data": {
      "text/plain": [
       "Customer ID                       0\n",
       "Name                              0\n",
       "Gender                           53\n",
       "Age                               0\n",
       "Income (USD)                   4576\n",
       "Income Stability               1683\n",
       "Profession                        0\n",
       "Type of Employment             7270\n",
       "Location                          0\n",
       "Loan Amount Request (USD)         0\n",
       "Current Loan Expenses (USD)     172\n",
       "Expense Type 1                    0\n",
       "Expense Type 2                    0\n",
       "Dependents                     2493\n",
       "Credit Score                   1703\n",
       "No. of Defaults                   0\n",
       "Has Active Credit Card         1566\n",
       "Property ID                       0\n",
       "Property Age                   4850\n",
       "Property Type                     0\n",
       "Property Location               356\n",
       "Co-Applicant                      0\n",
       "Property Price                    0\n",
       "Loan Sanction Amount (USD)      340\n",
       "dtype: int64"
      ]
     },
     "execution_count": 5,
     "metadata": {},
     "output_type": "execute_result"
    }
   ],
   "source": [
    "train.isnull().sum()"
   ]
  },
  {
   "cell_type": "code",
   "execution_count": 6,
   "metadata": {},
   "outputs": [
    {
     "data": {
      "text/html": [
       "<div>\n",
       "<style scoped>\n",
       "    .dataframe tbody tr th:only-of-type {\n",
       "        vertical-align: middle;\n",
       "    }\n",
       "\n",
       "    .dataframe tbody tr th {\n",
       "        vertical-align: top;\n",
       "    }\n",
       "\n",
       "    .dataframe thead th {\n",
       "        text-align: right;\n",
       "    }\n",
       "</style>\n",
       "<table border=\"1\" class=\"dataframe\">\n",
       "  <thead>\n",
       "    <tr style=\"text-align: right;\">\n",
       "      <th></th>\n",
       "      <th>Customer ID</th>\n",
       "      <th>Name</th>\n",
       "      <th>Gender</th>\n",
       "      <th>Age</th>\n",
       "      <th>Income (USD)</th>\n",
       "      <th>Income Stability</th>\n",
       "      <th>Profession</th>\n",
       "      <th>Type of Employment</th>\n",
       "      <th>Location</th>\n",
       "      <th>Loan Amount Request (USD)</th>\n",
       "      <th>...</th>\n",
       "      <th>Dependents</th>\n",
       "      <th>Credit Score</th>\n",
       "      <th>No. of Defaults</th>\n",
       "      <th>Has Active Credit Card</th>\n",
       "      <th>Property ID</th>\n",
       "      <th>Property Age</th>\n",
       "      <th>Property Type</th>\n",
       "      <th>Property Location</th>\n",
       "      <th>Co-Applicant</th>\n",
       "      <th>Property Price</th>\n",
       "    </tr>\n",
       "  </thead>\n",
       "  <tbody>\n",
       "    <tr>\n",
       "      <th>0</th>\n",
       "      <td>C-26247</td>\n",
       "      <td>Tandra Olszewski</td>\n",
       "      <td>F</td>\n",
       "      <td>47</td>\n",
       "      <td>3472.69</td>\n",
       "      <td>Low</td>\n",
       "      <td>Commercial associate</td>\n",
       "      <td>Managers</td>\n",
       "      <td>Semi-Urban</td>\n",
       "      <td>137088.98</td>\n",
       "      <td>...</td>\n",
       "      <td>2.0</td>\n",
       "      <td>799.14</td>\n",
       "      <td>0</td>\n",
       "      <td>Unpossessed</td>\n",
       "      <td>843</td>\n",
       "      <td>3472.69</td>\n",
       "      <td>2</td>\n",
       "      <td>Urban</td>\n",
       "      <td>1</td>\n",
       "      <td>236644.5</td>\n",
       "    </tr>\n",
       "    <tr>\n",
       "      <th>1</th>\n",
       "      <td>C-35067</td>\n",
       "      <td>Jeannette Cha</td>\n",
       "      <td>F</td>\n",
       "      <td>57</td>\n",
       "      <td>1184.84</td>\n",
       "      <td>Low</td>\n",
       "      <td>Working</td>\n",
       "      <td>Sales staff</td>\n",
       "      <td>Rural</td>\n",
       "      <td>104771.59</td>\n",
       "      <td>...</td>\n",
       "      <td>2.0</td>\n",
       "      <td>833.31</td>\n",
       "      <td>0</td>\n",
       "      <td>Unpossessed</td>\n",
       "      <td>22</td>\n",
       "      <td>1184.84</td>\n",
       "      <td>1</td>\n",
       "      <td>Rural</td>\n",
       "      <td>1</td>\n",
       "      <td>142357.3</td>\n",
       "    </tr>\n",
       "    <tr>\n",
       "      <th>2</th>\n",
       "      <td>C-34590</td>\n",
       "      <td>Keva Godfrey</td>\n",
       "      <td>F</td>\n",
       "      <td>52</td>\n",
       "      <td>1266.27</td>\n",
       "      <td>Low</td>\n",
       "      <td>Working</td>\n",
       "      <td>NaN</td>\n",
       "      <td>Semi-Urban</td>\n",
       "      <td>176684.91</td>\n",
       "      <td>...</td>\n",
       "      <td>3.0</td>\n",
       "      <td>627.44</td>\n",
       "      <td>0</td>\n",
       "      <td>Unpossessed</td>\n",
       "      <td>1</td>\n",
       "      <td>1266.27</td>\n",
       "      <td>1</td>\n",
       "      <td>Urban</td>\n",
       "      <td>1</td>\n",
       "      <td>300991.24</td>\n",
       "    </tr>\n",
       "    <tr>\n",
       "      <th>3</th>\n",
       "      <td>C-16668</td>\n",
       "      <td>Elva Sackett</td>\n",
       "      <td>M</td>\n",
       "      <td>65</td>\n",
       "      <td>1369.72</td>\n",
       "      <td>High</td>\n",
       "      <td>Pensioner</td>\n",
       "      <td>NaN</td>\n",
       "      <td>Rural</td>\n",
       "      <td>97009.18</td>\n",
       "      <td>...</td>\n",
       "      <td>2.0</td>\n",
       "      <td>833.20</td>\n",
       "      <td>0</td>\n",
       "      <td>Inactive</td>\n",
       "      <td>730</td>\n",
       "      <td>1369.72</td>\n",
       "      <td>1</td>\n",
       "      <td>Semi-Urban</td>\n",
       "      <td>0</td>\n",
       "      <td>125612.1</td>\n",
       "    </tr>\n",
       "    <tr>\n",
       "      <th>4</th>\n",
       "      <td>C-12196</td>\n",
       "      <td>Sade Constable</td>\n",
       "      <td>F</td>\n",
       "      <td>60</td>\n",
       "      <td>1939.23</td>\n",
       "      <td>High</td>\n",
       "      <td>Pensioner</td>\n",
       "      <td>NaN</td>\n",
       "      <td>Urban</td>\n",
       "      <td>109980.00</td>\n",
       "      <td>...</td>\n",
       "      <td>NaN</td>\n",
       "      <td>NaN</td>\n",
       "      <td>0</td>\n",
       "      <td>NaN</td>\n",
       "      <td>356</td>\n",
       "      <td>1939.23</td>\n",
       "      <td>4</td>\n",
       "      <td>Semi-Urban</td>\n",
       "      <td>1</td>\n",
       "      <td>180908.0</td>\n",
       "    </tr>\n",
       "  </tbody>\n",
       "</table>\n",
       "<p>5 rows × 23 columns</p>\n",
       "</div>"
      ],
      "text/plain": [
       "  Customer ID              Name Gender  Age  Income (USD) Income Stability  \\\n",
       "0     C-26247  Tandra Olszewski      F   47       3472.69              Low   \n",
       "1     C-35067     Jeannette Cha      F   57       1184.84              Low   \n",
       "2     C-34590      Keva Godfrey      F   52       1266.27              Low   \n",
       "3     C-16668      Elva Sackett      M   65       1369.72             High   \n",
       "4     C-12196    Sade Constable      F   60       1939.23             High   \n",
       "\n",
       "             Profession Type of Employment    Location  \\\n",
       "0  Commercial associate           Managers  Semi-Urban   \n",
       "1               Working        Sales staff       Rural   \n",
       "2               Working                NaN  Semi-Urban   \n",
       "3             Pensioner                NaN       Rural   \n",
       "4             Pensioner                NaN       Urban   \n",
       "\n",
       "   Loan Amount Request (USD)  ...  Dependents Credit Score No. of Defaults  \\\n",
       "0                  137088.98  ...         2.0       799.14               0   \n",
       "1                  104771.59  ...         2.0       833.31               0   \n",
       "2                  176684.91  ...         3.0       627.44               0   \n",
       "3                   97009.18  ...         2.0       833.20               0   \n",
       "4                  109980.00  ...         NaN          NaN               0   \n",
       "\n",
       "   Has Active Credit Card  Property ID  Property Age Property Type  \\\n",
       "0             Unpossessed          843       3472.69             2   \n",
       "1             Unpossessed           22       1184.84             1   \n",
       "2             Unpossessed            1       1266.27             1   \n",
       "3                Inactive          730       1369.72             1   \n",
       "4                     NaN          356       1939.23             4   \n",
       "\n",
       "   Property Location  Co-Applicant  Property Price  \n",
       "0              Urban             1        236644.5  \n",
       "1              Rural             1        142357.3  \n",
       "2              Urban             1       300991.24  \n",
       "3         Semi-Urban             0        125612.1  \n",
       "4         Semi-Urban             1        180908.0  \n",
       "\n",
       "[5 rows x 23 columns]"
      ]
     },
     "execution_count": 6,
     "metadata": {},
     "output_type": "execute_result"
    }
   ],
   "source": [
    "test = pd.read_csv('test.csv')\n",
    "test.head()"
   ]
  },
  {
   "cell_type": "code",
   "execution_count": 7,
   "metadata": {},
   "outputs": [
    {
     "data": {
      "text/plain": [
       "(20000, 23)"
      ]
     },
     "execution_count": 7,
     "metadata": {},
     "output_type": "execute_result"
    }
   ],
   "source": [
    "test.shape"
   ]
  },
  {
   "cell_type": "code",
   "execution_count": 8,
   "metadata": {},
   "outputs": [
    {
     "data": {
      "text/plain": [
       "Customer ID                       0\n",
       "Name                              0\n",
       "Gender                           31\n",
       "Age                               0\n",
       "Income (USD)                    750\n",
       "Income Stability                813\n",
       "Profession                        0\n",
       "Type of Employment             4689\n",
       "Location                          0\n",
       "Loan Amount Request (USD)         0\n",
       "Current Loan Expenses (USD)      83\n",
       "Expense Type 1                    0\n",
       "Expense Type 2                    0\n",
       "Dependents                     1142\n",
       "Credit Score                    743\n",
       "No. of Defaults                   0\n",
       "Has Active Credit Card         1076\n",
       "Property ID                       0\n",
       "Property Age                    892\n",
       "Property Type                     0\n",
       "Property Location               160\n",
       "Co-Applicant                      0\n",
       "Property Price                    0\n",
       "dtype: int64"
      ]
     },
     "execution_count": 8,
     "metadata": {},
     "output_type": "execute_result"
    }
   ],
   "source": [
    "test.isnull().sum()"
   ]
  },
  {
   "cell_type": "code",
   "execution_count": 9,
   "metadata": {},
   "outputs": [
    {
     "name": "stdout",
     "output_type": "stream",
     "text": [
      "<class 'pandas.core.frame.DataFrame'>\n",
      "RangeIndex: 30000 entries, 0 to 29999\n",
      "Data columns (total 24 columns):\n",
      "Customer ID                    30000 non-null object\n",
      "Name                           30000 non-null object\n",
      "Gender                         29947 non-null object\n",
      "Age                            30000 non-null int64\n",
      "Income (USD)                   25424 non-null float64\n",
      "Income Stability               28317 non-null object\n",
      "Profession                     30000 non-null object\n",
      "Type of Employment             22730 non-null object\n",
      "Location                       30000 non-null object\n",
      "Loan Amount Request (USD)      30000 non-null float64\n",
      "Current Loan Expenses (USD)    29828 non-null float64\n",
      "Expense Type 1                 30000 non-null object\n",
      "Expense Type 2                 30000 non-null object\n",
      "Dependents                     27507 non-null float64\n",
      "Credit Score                   28297 non-null float64\n",
      "No. of Defaults                30000 non-null int64\n",
      "Has Active Credit Card         28434 non-null object\n",
      "Property ID                    30000 non-null int64\n",
      "Property Age                   25150 non-null float64\n",
      "Property Type                  30000 non-null int64\n",
      "Property Location              29644 non-null object\n",
      "Co-Applicant                   30000 non-null int64\n",
      "Property Price                 30000 non-null float64\n",
      "Loan Sanction Amount (USD)     29660 non-null float64\n",
      "dtypes: float64(8), int64(5), object(11)\n",
      "memory usage: 5.5+ MB\n"
     ]
    }
   ],
   "source": [
    "train.info()"
   ]
  },
  {
   "cell_type": "code",
   "execution_count": 10,
   "metadata": {},
   "outputs": [],
   "source": [
    "x = ['Gender', 'Income Stability', 'Type of Employment', 'Has Active Credit Card', 'Property Location']\n",
    "for i in x:\n",
    "    train[i] = train[i].fillna(train[i].value_counts().index[0])\n",
    "    test[i] = test[i].fillna(test[i].value_counts().index[0])"
   ]
  },
  {
   "cell_type": "code",
   "execution_count": 11,
   "metadata": {},
   "outputs": [],
   "source": [
    "x = ['Income (USD)', 'Current Loan Expenses (USD)', 'Credit Score', 'Property Age']\n",
    "for i in x:\n",
    "    train[i] = train[i].fillna(train[i].mean())\n",
    "    test[i] = test[i].fillna(test[i].mean())"
   ]
  },
  {
   "cell_type": "code",
   "execution_count": 12,
   "metadata": {},
   "outputs": [],
   "source": [
    "train['Dependents'] = train['Dependents'].fillna(2.0)\n",
    "test['Dependents'] = test['Dependents'].fillna(2.0)"
   ]
  },
  {
   "cell_type": "code",
   "execution_count": 13,
   "metadata": {},
   "outputs": [],
   "source": [
    "train['Dependents'] = train['Dependents']/365\n",
    "test['Dependents'] = test['Dependents']/365"
   ]
  },
  {
   "cell_type": "code",
   "execution_count": 14,
   "metadata": {},
   "outputs": [],
   "source": [
    "train['Loan Sanction Amount (USD)'] = train['Loan Sanction Amount (USD)'].fillna(train['Loan Sanction Amount (USD)'].mean())"
   ]
  },
  {
   "cell_type": "code",
   "execution_count": 15,
   "metadata": {},
   "outputs": [
    {
     "data": {
      "text/plain": [
       "Customer ID                    0\n",
       "Name                           0\n",
       "Gender                         0\n",
       "Age                            0\n",
       "Income (USD)                   0\n",
       "Income Stability               0\n",
       "Profession                     0\n",
       "Type of Employment             0\n",
       "Location                       0\n",
       "Loan Amount Request (USD)      0\n",
       "Current Loan Expenses (USD)    0\n",
       "Expense Type 1                 0\n",
       "Expense Type 2                 0\n",
       "Dependents                     0\n",
       "Credit Score                   0\n",
       "No. of Defaults                0\n",
       "Has Active Credit Card         0\n",
       "Property ID                    0\n",
       "Property Age                   0\n",
       "Property Type                  0\n",
       "Property Location              0\n",
       "Co-Applicant                   0\n",
       "Property Price                 0\n",
       "Loan Sanction Amount (USD)     0\n",
       "dtype: int64"
      ]
     },
     "execution_count": 15,
     "metadata": {},
     "output_type": "execute_result"
    }
   ],
   "source": [
    "train.isnull().sum()"
   ]
  },
  {
   "cell_type": "code",
   "execution_count": 16,
   "metadata": {},
   "outputs": [
    {
     "data": {
      "text/plain": [
       "Customer ID                    0\n",
       "Name                           0\n",
       "Gender                         0\n",
       "Age                            0\n",
       "Income (USD)                   0\n",
       "Income Stability               0\n",
       "Profession                     0\n",
       "Type of Employment             0\n",
       "Location                       0\n",
       "Loan Amount Request (USD)      0\n",
       "Current Loan Expenses (USD)    0\n",
       "Expense Type 1                 0\n",
       "Expense Type 2                 0\n",
       "Dependents                     0\n",
       "Credit Score                   0\n",
       "No. of Defaults                0\n",
       "Has Active Credit Card         0\n",
       "Property ID                    0\n",
       "Property Age                   0\n",
       "Property Type                  0\n",
       "Property Location              0\n",
       "Co-Applicant                   0\n",
       "Property Price                 0\n",
       "dtype: int64"
      ]
     },
     "execution_count": 16,
     "metadata": {},
     "output_type": "execute_result"
    }
   ],
   "source": [
    "test.isnull().sum()"
   ]
  },
  {
   "cell_type": "raw",
   "metadata": {},
   "source": [
    "Property Age -> Divide by 365\n",
    "remove Loan Sanction amount"
   ]
  },
  {
   "cell_type": "code",
   "execution_count": 21,
   "metadata": {},
   "outputs": [],
   "source": [
    "newtrain = train.drop(['Customer ID', 'Name', 'Property ID'], axis = 1)\n",
    "newtest = test.drop(['Customer ID', 'Name', 'Property ID'], axis = 1)"
   ]
  },
  {
   "cell_type": "code",
   "execution_count": 22,
   "metadata": {},
   "outputs": [
    {
     "data": {
      "text/plain": [
       "Index(['Gender', 'Income Stability', 'Profession', 'Type of Employment',\n",
       "       'Location', 'Expense Type 1', 'Expense Type 2',\n",
       "       'Has Active Credit Card', 'Property Location'],\n",
       "      dtype='object')"
      ]
     },
     "execution_count": 22,
     "metadata": {},
     "output_type": "execute_result"
    }
   ],
   "source": [
    "categorical_features = newtrain.select_dtypes(include= 'object')\n",
    "categorical_features.columns"
   ]
  },
  {
   "cell_type": "code",
   "execution_count": 23,
   "metadata": {},
   "outputs": [
    {
     "data": {
      "text/plain": [
       "Index(['Gender', 'Income Stability', 'Profession', 'Type of Employment',\n",
       "       'Location', 'Expense Type 1', 'Expense Type 2',\n",
       "       'Has Active Credit Card', 'Property Location'],\n",
       "      dtype='object')"
      ]
     },
     "execution_count": 23,
     "metadata": {},
     "output_type": "execute_result"
    }
   ],
   "source": [
    "x = categorical_features.columns\n",
    "x"
   ]
  },
  {
   "cell_type": "code",
   "execution_count": 24,
   "metadata": {},
   "outputs": [],
   "source": [
    "from sklearn.preprocessing import LabelEncoder\n",
    "le = LabelEncoder()"
   ]
  },
  {
   "cell_type": "code",
   "execution_count": 25,
   "metadata": {},
   "outputs": [],
   "source": [
    "for i in x:\n",
    "    newtrain[i] = le.fit_transform(newtrain[i])\n",
    "    newtest[i] = le.fit_transform(newtest[i])"
   ]
  },
  {
   "cell_type": "code",
   "execution_count": 79,
   "metadata": {},
   "outputs": [],
   "source": [
    "newtest['Co-Applicant'] = newtest['Co-Applicant'].replace({'?': 1})\n",
    "newtest['Co-Applicant'] = newtest['Co-Applicant'].astype(int)"
   ]
  },
  {
   "cell_type": "code",
   "execution_count": 80,
   "metadata": {},
   "outputs": [
    {
     "data": {
      "text/plain": [
       "1    17081\n",
       "0     2919\n",
       "Name: Co-Applicant, dtype: int64"
      ]
     },
     "execution_count": 80,
     "metadata": {},
     "output_type": "execute_result"
    }
   ],
   "source": [
    "newtest['Co-Applicant'].value_counts()"
   ]
  },
  {
   "cell_type": "code",
   "execution_count": 82,
   "metadata": {},
   "outputs": [],
   "source": [
    "newtest['Property Price'] = newtest['Property Price'].replace({'?': 0})\n",
    "newtest['Property Price'] = newtest['Property Price'].astype(float)"
   ]
  },
  {
   "cell_type": "code",
   "execution_count": 83,
   "metadata": {},
   "outputs": [],
   "source": [
    "newtest['Property Price'] = newtest['Property Price'].replace({0: newtest['Property Price'].mean()})"
   ]
  },
  {
   "cell_type": "code",
   "execution_count": 26,
   "metadata": {},
   "outputs": [
    {
     "name": "stdout",
     "output_type": "stream",
     "text": [
      "<class 'pandas.core.frame.DataFrame'>\n",
      "RangeIndex: 30000 entries, 0 to 29999\n",
      "Data columns (total 21 columns):\n",
      "Gender                         30000 non-null int32\n",
      "Age                            30000 non-null int64\n",
      "Income (USD)                   30000 non-null float64\n",
      "Income Stability               30000 non-null int32\n",
      "Profession                     30000 non-null int32\n",
      "Type of Employment             30000 non-null int32\n",
      "Location                       30000 non-null int32\n",
      "Loan Amount Request (USD)      30000 non-null float64\n",
      "Current Loan Expenses (USD)    30000 non-null float64\n",
      "Expense Type 1                 30000 non-null int32\n",
      "Expense Type 2                 30000 non-null int32\n",
      "Dependents                     30000 non-null float64\n",
      "Credit Score                   30000 non-null float64\n",
      "No. of Defaults                30000 non-null int64\n",
      "Has Active Credit Card         30000 non-null int32\n",
      "Property Age                   30000 non-null float64\n",
      "Property Type                  30000 non-null int64\n",
      "Property Location              30000 non-null int32\n",
      "Co-Applicant                   30000 non-null int64\n",
      "Property Price                 30000 non-null float64\n",
      "Loan Sanction Amount (USD)     30000 non-null float64\n",
      "dtypes: float64(8), int32(9), int64(4)\n",
      "memory usage: 3.8 MB\n"
     ]
    }
   ],
   "source": [
    "newtrain.info()"
   ]
  },
  {
   "cell_type": "code",
   "execution_count": 84,
   "metadata": {},
   "outputs": [
    {
     "name": "stdout",
     "output_type": "stream",
     "text": [
      "<class 'pandas.core.frame.DataFrame'>\n",
      "RangeIndex: 20000 entries, 0 to 19999\n",
      "Data columns (total 20 columns):\n",
      "Gender                         20000 non-null int32\n",
      "Age                            20000 non-null int64\n",
      "Income (USD)                   20000 non-null float64\n",
      "Income Stability               20000 non-null int32\n",
      "Profession                     20000 non-null int32\n",
      "Type of Employment             20000 non-null int32\n",
      "Location                       20000 non-null int32\n",
      "Loan Amount Request (USD)      20000 non-null float64\n",
      "Current Loan Expenses (USD)    20000 non-null float64\n",
      "Expense Type 1                 20000 non-null int32\n",
      "Expense Type 2                 20000 non-null int32\n",
      "Dependents                     20000 non-null float64\n",
      "Credit Score                   20000 non-null float64\n",
      "No. of Defaults                20000 non-null int64\n",
      "Has Active Credit Card         20000 non-null int32\n",
      "Property Age                   20000 non-null float64\n",
      "Property Type                  20000 non-null int64\n",
      "Property Location              20000 non-null int32\n",
      "Co-Applicant                   20000 non-null int32\n",
      "Property Price                 20000 non-null float64\n",
      "dtypes: float64(7), int32(10), int64(3)\n",
      "memory usage: 2.3 MB\n"
     ]
    }
   ],
   "source": [
    "newtest.info()"
   ]
  },
  {
   "cell_type": "code",
   "execution_count": 27,
   "metadata": {},
   "outputs": [],
   "source": [
    "from sklearn.metrics import mean_squared_error"
   ]
  },
  {
   "cell_type": "code",
   "execution_count": 38,
   "metadata": {},
   "outputs": [],
   "source": [
    "x = newtrain.drop('Loan Sanction Amount (USD)', axis = 1)\n",
    "y = newtrain['Loan Sanction Amount (USD)']"
   ]
  },
  {
   "cell_type": "code",
   "execution_count": 39,
   "metadata": {},
   "outputs": [],
   "source": [
    "from sklearn.model_selection import train_test_split\n",
    "x_train, x_test, y_train, y_test = train_test_split(x, y, test_size = 0.2, random_state = 1)"
   ]
  },
  {
   "cell_type": "code",
   "execution_count": 48,
   "metadata": {},
   "outputs": [
    {
     "name": "stdout",
     "output_type": "stream",
     "text": [
      "23153.68810757993\n"
     ]
    }
   ],
   "source": [
    "from lightgbm import LGBMRegressor\n",
    "lgbm = LGBMRegressor()\n",
    "y_pred = lgbm.fit(x_train, y_train).predict(x_test)\n",
    "print(np.sqrt(mean_squared_error(y_test, y_pred)))"
   ]
  },
  {
   "cell_type": "code",
   "execution_count": 49,
   "metadata": {},
   "outputs": [
    {
     "data": {
      "image/png": "[encoded data removed]",
      "text/plain": [
       "<Figure size 720x360 with 1 Axes>"
      ]
     },
     "metadata": {
      "needs_background": "light"
     },
     "output_type": "display_data"
    }
   ],
   "source": [
    "feature_imp = pd.DataFrame(sorted(zip(lgbm.feature_importances_, x.columns), reverse=True)[:], columns=['Value','Feature'])\n",
    "plt.figure(figsize=(10,5))\n",
    "sns.barplot(x=\"Value\", y=\"Feature\", data=feature_imp.sort_values(by=\"Value\", ascending=False))\n",
    "plt.title('LGBM Features')\n",
    "plt.tight_layout()\n",
    "plt.show()"
   ]
  },
  {
   "cell_type": "code",
   "execution_count": 85,
   "metadata": {},
   "outputs": [],
   "source": [
    "x_train = newtrain.drop('Loan Sanction Amount (USD)', axis = 1)\n",
    "y_train = newtrain['Loan Sanction Amount (USD)']\n",
    "x_test = newtest"
   ]
  },
  {
   "cell_type": "code",
   "execution_count": 86,
   "metadata": {},
   "outputs": [],
   "source": [
    "from lightgbm import LGBMRegressor\n",
    "lgbm = LGBMRegressor()\n",
    "y_pred = lgbm.fit(x_train, y_train).predict(x_test)\n",
    "solution = pd.DataFrame({'Customer ID': test['Customer ID'], 'Loan Sanction Amount (USD)' : y_pred})\n",
    "solution.to_csv('Solution.csv', index = False)"
   ]
  },
  {
   "cell_type": "code",
   "execution_count": null,
   "metadata": {},
   "outputs": [],
   "source": []
  }
 ],
 "metadata": {
  "kernelspec": {
   "display_name": "Python 3",
   "language": "python",
   "name": "python3"
  },
  "language_info": {
   "codemirror_mode": {
    "name": "ipython",
    "version": 3
   },
   "file_extension": ".py",
   "mimetype": "text/x-python",
   "name": "python",
   "nbconvert_exporter": "python",
   "pygments_lexer": "ipython3",
   "version": "3.7.3"
  }
 },
 "nbformat": 4,
 "nbformat_minor": 2
}
