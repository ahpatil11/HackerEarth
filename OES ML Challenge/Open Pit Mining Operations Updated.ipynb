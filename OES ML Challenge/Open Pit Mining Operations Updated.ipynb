{
 "cells": [
  {
   "cell_type": "code",
   "execution_count": 1,
   "id": "aab1652d",
   "metadata": {},
   "outputs": [],
   "source": [
    "import numpy as np\n",
    "import pandas as pd\n",
    "import matplotlib.pyplot as plt\n",
    "import seaborn as sns"
   ]
  },
  {
   "cell_type": "code",
   "execution_count": 2,
   "id": "2855cbd2",
   "metadata": {},
   "outputs": [
    {
     "data": {
      "text/html": [
       "<div>\n",
       "<style scoped>\n",
       "    .dataframe tbody tr th:only-of-type {\n",
       "        vertical-align: middle;\n",
       "    }\n",
       "\n",
       "    .dataframe tbody tr th {\n",
       "        vertical-align: top;\n",
       "    }\n",
       "\n",
       "    .dataframe thead th {\n",
       "        text-align: right;\n",
       "    }\n",
       "</style>\n",
       "<table border=\"1\" class=\"dataframe\">\n",
       "  <thead>\n",
       "    <tr style=\"text-align: right;\">\n",
       "      <th></th>\n",
       "      <th>create_dt</th>\n",
       "      <th>mdm_object_name</th>\n",
       "      <th>mdm_model_id</th>\n",
       "      <th>lon</th>\n",
       "      <th>lat</th>\n",
       "      <th>alt</th>\n",
       "      <th>speed_gps</th>\n",
       "      <th>direction</th>\n",
       "      <th>accel_forward_nn</th>\n",
       "      <th>accel_braking_nn</th>\n",
       "      <th>accel_angular_nn</th>\n",
       "      <th>accel_vertical_nn</th>\n",
       "    </tr>\n",
       "  </thead>\n",
       "  <tbody>\n",
       "    <tr>\n",
       "      <th>0</th>\n",
       "      <td>2023-09-29 08:12:46</td>\n",
       "      <td>1498</td>\n",
       "      <td>62</td>\n",
       "      <td>-0.039352</td>\n",
       "      <td>0.005476</td>\n",
       "      <td>217</td>\n",
       "      <td>15.7</td>\n",
       "      <td>194.0</td>\n",
       "      <td>0.098</td>\n",
       "      <td>0.000</td>\n",
       "      <td>0.490</td>\n",
       "      <td>0.98</td>\n",
       "    </tr>\n",
       "    <tr>\n",
       "      <th>1</th>\n",
       "      <td>2023-09-29 08:12:47</td>\n",
       "      <td>1498</td>\n",
       "      <td>62</td>\n",
       "      <td>-0.039367</td>\n",
       "      <td>0.005442</td>\n",
       "      <td>216</td>\n",
       "      <td>14.4</td>\n",
       "      <td>196.0</td>\n",
       "      <td>0.000</td>\n",
       "      <td>0.294</td>\n",
       "      <td>0.000</td>\n",
       "      <td>1.96</td>\n",
       "    </tr>\n",
       "    <tr>\n",
       "      <th>2</th>\n",
       "      <td>2023-09-29 08:12:49</td>\n",
       "      <td>1498</td>\n",
       "      <td>62</td>\n",
       "      <td>-0.039382</td>\n",
       "      <td>0.005362</td>\n",
       "      <td>216</td>\n",
       "      <td>15.2</td>\n",
       "      <td>180.0</td>\n",
       "      <td>0.000</td>\n",
       "      <td>0.490</td>\n",
       "      <td>0.490</td>\n",
       "      <td>1.96</td>\n",
       "    </tr>\n",
       "    <tr>\n",
       "      <th>3</th>\n",
       "      <td>2023-09-29 08:12:51</td>\n",
       "      <td>1498</td>\n",
       "      <td>62</td>\n",
       "      <td>-0.039397</td>\n",
       "      <td>0.005297</td>\n",
       "      <td>216</td>\n",
       "      <td>12.9</td>\n",
       "      <td>198.0</td>\n",
       "      <td>0.000</td>\n",
       "      <td>0.196</td>\n",
       "      <td>0.588</td>\n",
       "      <td>0.00</td>\n",
       "    </tr>\n",
       "    <tr>\n",
       "      <th>4</th>\n",
       "      <td>2023-09-29 08:12:53</td>\n",
       "      <td>1498</td>\n",
       "      <td>62</td>\n",
       "      <td>-0.039413</td>\n",
       "      <td>0.005232</td>\n",
       "      <td>216</td>\n",
       "      <td>10.6</td>\n",
       "      <td>180.0</td>\n",
       "      <td>0.000</td>\n",
       "      <td>1.372</td>\n",
       "      <td>0.392</td>\n",
       "      <td>1.96</td>\n",
       "    </tr>\n",
       "  </tbody>\n",
       "</table>\n",
       "</div>"
      ],
      "text/plain": [
       "             create_dt  mdm_object_name  mdm_model_id       lon       lat  \\\n",
       "0  2023-09-29 08:12:46             1498            62 -0.039352  0.005476   \n",
       "1  2023-09-29 08:12:47             1498            62 -0.039367  0.005442   \n",
       "2  2023-09-29 08:12:49             1498            62 -0.039382  0.005362   \n",
       "3  2023-09-29 08:12:51             1498            62 -0.039397  0.005297   \n",
       "4  2023-09-29 08:12:53             1498            62 -0.039413  0.005232   \n",
       "\n",
       "   alt  speed_gps  direction  accel_forward_nn  accel_braking_nn  \\\n",
       "0  217       15.7      194.0             0.098             0.000   \n",
       "1  216       14.4      196.0             0.000             0.294   \n",
       "2  216       15.2      180.0             0.000             0.490   \n",
       "3  216       12.9      198.0             0.000             0.196   \n",
       "4  216       10.6      180.0             0.000             1.372   \n",
       "\n",
       "   accel_angular_nn  accel_vertical_nn  \n",
       "0             0.490               0.98  \n",
       "1             0.000               1.96  \n",
       "2             0.490               1.96  \n",
       "3             0.588               0.00  \n",
       "4             0.392               1.96  "
      ]
     },
     "execution_count": 2,
     "metadata": {},
     "output_type": "execute_result"
    }
   ],
   "source": [
    "train = pd.read_csv('telemetry_for_operations_training.csv')\n",
    "train.head()"
   ]
  },
  {
   "cell_type": "code",
   "execution_count": 3,
   "id": "4cb8728f",
   "metadata": {},
   "outputs": [
    {
     "data": {
      "text/plain": [
       "(516073, 12)"
      ]
     },
     "execution_count": 3,
     "metadata": {},
     "output_type": "execute_result"
    }
   ],
   "source": [
    "train.shape"
   ]
  },
  {
   "cell_type": "code",
   "execution_count": 4,
   "id": "ecdcd1ed",
   "metadata": {},
   "outputs": [
    {
     "data": {
      "text/plain": [
       "create_dt            0\n",
       "mdm_object_name      0\n",
       "mdm_model_id         0\n",
       "lon                  0\n",
       "lat                  0\n",
       "alt                  0\n",
       "speed_gps            0\n",
       "direction            0\n",
       "accel_forward_nn     0\n",
       "accel_braking_nn     0\n",
       "accel_angular_nn     0\n",
       "accel_vertical_nn    0\n",
       "dtype: int64"
      ]
     },
     "execution_count": 4,
     "metadata": {},
     "output_type": "execute_result"
    }
   ],
   "source": [
    "train.isnull().sum()"
   ]
  },
  {
   "cell_type": "code",
   "execution_count": 5,
   "id": "302dabd4",
   "metadata": {},
   "outputs": [
    {
     "name": "stdout",
     "output_type": "stream",
     "text": [
      "<class 'pandas.core.frame.DataFrame'>\n",
      "RangeIndex: 516073 entries, 0 to 516072\n",
      "Data columns (total 12 columns):\n",
      " #   Column             Non-Null Count   Dtype  \n",
      "---  ------             --------------   -----  \n",
      " 0   create_dt          516073 non-null  object \n",
      " 1   mdm_object_name    516073 non-null  int64  \n",
      " 2   mdm_model_id       516073 non-null  int64  \n",
      " 3   lon                516073 non-null  float64\n",
      " 4   lat                516073 non-null  float64\n",
      " 5   alt                516073 non-null  int64  \n",
      " 6   speed_gps          516073 non-null  float64\n",
      " 7   direction          516073 non-null  float64\n",
      " 8   accel_forward_nn   516073 non-null  float64\n",
      " 9   accel_braking_nn   516073 non-null  float64\n",
      " 10  accel_angular_nn   516073 non-null  float64\n",
      " 11  accel_vertical_nn  516073 non-null  float64\n",
      "dtypes: float64(8), int64(3), object(1)\n",
      "memory usage: 47.2+ MB\n"
     ]
    }
   ],
   "source": [
    "train.info()"
   ]
  },
  {
   "cell_type": "code",
   "execution_count": 6,
   "id": "a14f79ab",
   "metadata": {},
   "outputs": [
    {
     "data": {
      "text/plain": [
       "14891"
      ]
     },
     "execution_count": 6,
     "metadata": {},
     "output_type": "execute_result"
    }
   ],
   "source": [
    "train.duplicated().sum()"
   ]
  },
  {
   "cell_type": "code",
   "execution_count": 7,
   "id": "e8a0fd7d",
   "metadata": {},
   "outputs": [
    {
     "data": {
      "text/html": [
       "<div>\n",
       "<style scoped>\n",
       "    .dataframe tbody tr th:only-of-type {\n",
       "        vertical-align: middle;\n",
       "    }\n",
       "\n",
       "    .dataframe tbody tr th {\n",
       "        vertical-align: top;\n",
       "    }\n",
       "\n",
       "    .dataframe thead th {\n",
       "        text-align: right;\n",
       "    }\n",
       "</style>\n",
       "<table border=\"1\" class=\"dataframe\">\n",
       "  <thead>\n",
       "    <tr style=\"text-align: right;\">\n",
       "      <th></th>\n",
       "      <th>create_dt</th>\n",
       "      <th>mdm_object_name</th>\n",
       "      <th>mdm_model_id</th>\n",
       "      <th>lon</th>\n",
       "      <th>lat</th>\n",
       "      <th>alt</th>\n",
       "      <th>speed_gps</th>\n",
       "      <th>direction</th>\n",
       "      <th>accel_forward_nn</th>\n",
       "      <th>accel_braking_nn</th>\n",
       "      <th>accel_angular_nn</th>\n",
       "      <th>accel_vertical_nn</th>\n",
       "    </tr>\n",
       "  </thead>\n",
       "  <tbody>\n",
       "    <tr>\n",
       "      <th>207811</th>\n",
       "      <td>2023-08-09 08:02:54</td>\n",
       "      <td>1038</td>\n",
       "      <td>62</td>\n",
       "      <td>0.005753</td>\n",
       "      <td>0.004778</td>\n",
       "      <td>-50</td>\n",
       "      <td>0.0</td>\n",
       "      <td>326.0</td>\n",
       "      <td>0.0</td>\n",
       "      <td>0.0</td>\n",
       "      <td>0.0</td>\n",
       "      <td>0.0</td>\n",
       "    </tr>\n",
       "    <tr>\n",
       "      <th>207813</th>\n",
       "      <td>2023-08-09 08:02:59</td>\n",
       "      <td>1038</td>\n",
       "      <td>62</td>\n",
       "      <td>0.005753</td>\n",
       "      <td>0.004778</td>\n",
       "      <td>-50</td>\n",
       "      <td>0.0</td>\n",
       "      <td>326.0</td>\n",
       "      <td>0.0</td>\n",
       "      <td>0.0</td>\n",
       "      <td>0.0</td>\n",
       "      <td>0.0</td>\n",
       "    </tr>\n",
       "    <tr>\n",
       "      <th>207815</th>\n",
       "      <td>2023-08-09 08:03:04</td>\n",
       "      <td>1038</td>\n",
       "      <td>62</td>\n",
       "      <td>0.005753</td>\n",
       "      <td>0.004778</td>\n",
       "      <td>-50</td>\n",
       "      <td>0.0</td>\n",
       "      <td>326.0</td>\n",
       "      <td>0.0</td>\n",
       "      <td>0.0</td>\n",
       "      <td>0.0</td>\n",
       "      <td>0.0</td>\n",
       "    </tr>\n",
       "    <tr>\n",
       "      <th>207817</th>\n",
       "      <td>2023-08-09 08:03:09</td>\n",
       "      <td>1038</td>\n",
       "      <td>62</td>\n",
       "      <td>0.005753</td>\n",
       "      <td>0.004778</td>\n",
       "      <td>-50</td>\n",
       "      <td>0.0</td>\n",
       "      <td>326.0</td>\n",
       "      <td>0.0</td>\n",
       "      <td>0.0</td>\n",
       "      <td>0.0</td>\n",
       "      <td>0.0</td>\n",
       "    </tr>\n",
       "    <tr>\n",
       "      <th>207819</th>\n",
       "      <td>2023-08-09 08:03:14</td>\n",
       "      <td>1038</td>\n",
       "      <td>62</td>\n",
       "      <td>0.005753</td>\n",
       "      <td>0.004778</td>\n",
       "      <td>-50</td>\n",
       "      <td>0.0</td>\n",
       "      <td>326.0</td>\n",
       "      <td>0.0</td>\n",
       "      <td>0.0</td>\n",
       "      <td>0.0</td>\n",
       "      <td>0.0</td>\n",
       "    </tr>\n",
       "    <tr>\n",
       "      <th>...</th>\n",
       "      <td>...</td>\n",
       "      <td>...</td>\n",
       "      <td>...</td>\n",
       "      <td>...</td>\n",
       "      <td>...</td>\n",
       "      <td>...</td>\n",
       "      <td>...</td>\n",
       "      <td>...</td>\n",
       "      <td>...</td>\n",
       "      <td>...</td>\n",
       "      <td>...</td>\n",
       "      <td>...</td>\n",
       "    </tr>\n",
       "    <tr>\n",
       "      <th>237583</th>\n",
       "      <td>2023-08-10 07:50:37</td>\n",
       "      <td>1038</td>\n",
       "      <td>62</td>\n",
       "      <td>-0.024612</td>\n",
       "      <td>0.011923</td>\n",
       "      <td>82</td>\n",
       "      <td>0.0</td>\n",
       "      <td>128.2</td>\n",
       "      <td>0.0</td>\n",
       "      <td>0.0</td>\n",
       "      <td>0.0</td>\n",
       "      <td>0.0</td>\n",
       "    </tr>\n",
       "    <tr>\n",
       "      <th>237585</th>\n",
       "      <td>2023-08-10 07:50:42</td>\n",
       "      <td>1038</td>\n",
       "      <td>62</td>\n",
       "      <td>-0.024612</td>\n",
       "      <td>0.011923</td>\n",
       "      <td>82</td>\n",
       "      <td>0.0</td>\n",
       "      <td>128.2</td>\n",
       "      <td>0.0</td>\n",
       "      <td>0.0</td>\n",
       "      <td>0.0</td>\n",
       "      <td>0.0</td>\n",
       "    </tr>\n",
       "    <tr>\n",
       "      <th>237587</th>\n",
       "      <td>2023-08-10 07:50:47</td>\n",
       "      <td>1038</td>\n",
       "      <td>62</td>\n",
       "      <td>-0.024612</td>\n",
       "      <td>0.011923</td>\n",
       "      <td>82</td>\n",
       "      <td>0.0</td>\n",
       "      <td>128.2</td>\n",
       "      <td>0.0</td>\n",
       "      <td>0.0</td>\n",
       "      <td>0.0</td>\n",
       "      <td>0.0</td>\n",
       "    </tr>\n",
       "    <tr>\n",
       "      <th>237589</th>\n",
       "      <td>2023-08-10 07:50:52</td>\n",
       "      <td>1038</td>\n",
       "      <td>62</td>\n",
       "      <td>-0.024612</td>\n",
       "      <td>0.011923</td>\n",
       "      <td>82</td>\n",
       "      <td>0.0</td>\n",
       "      <td>128.2</td>\n",
       "      <td>0.0</td>\n",
       "      <td>0.0</td>\n",
       "      <td>0.0</td>\n",
       "      <td>0.0</td>\n",
       "    </tr>\n",
       "    <tr>\n",
       "      <th>237591</th>\n",
       "      <td>2023-08-10 07:50:57</td>\n",
       "      <td>1038</td>\n",
       "      <td>62</td>\n",
       "      <td>-0.024612</td>\n",
       "      <td>0.011923</td>\n",
       "      <td>82</td>\n",
       "      <td>0.0</td>\n",
       "      <td>128.2</td>\n",
       "      <td>0.0</td>\n",
       "      <td>0.0</td>\n",
       "      <td>0.0</td>\n",
       "      <td>0.0</td>\n",
       "    </tr>\n",
       "  </tbody>\n",
       "</table>\n",
       "<p>14891 rows × 12 columns</p>\n",
       "</div>"
      ],
      "text/plain": [
       "                  create_dt  mdm_object_name  mdm_model_id       lon  \\\n",
       "207811  2023-08-09 08:02:54             1038            62  0.005753   \n",
       "207813  2023-08-09 08:02:59             1038            62  0.005753   \n",
       "207815  2023-08-09 08:03:04             1038            62  0.005753   \n",
       "207817  2023-08-09 08:03:09             1038            62  0.005753   \n",
       "207819  2023-08-09 08:03:14             1038            62  0.005753   \n",
       "...                     ...              ...           ...       ...   \n",
       "237583  2023-08-10 07:50:37             1038            62 -0.024612   \n",
       "237585  2023-08-10 07:50:42             1038            62 -0.024612   \n",
       "237587  2023-08-10 07:50:47             1038            62 -0.024612   \n",
       "237589  2023-08-10 07:50:52             1038            62 -0.024612   \n",
       "237591  2023-08-10 07:50:57             1038            62 -0.024612   \n",
       "\n",
       "             lat  alt  speed_gps  direction  accel_forward_nn  \\\n",
       "207811  0.004778  -50        0.0      326.0               0.0   \n",
       "207813  0.004778  -50        0.0      326.0               0.0   \n",
       "207815  0.004778  -50        0.0      326.0               0.0   \n",
       "207817  0.004778  -50        0.0      326.0               0.0   \n",
       "207819  0.004778  -50        0.0      326.0               0.0   \n",
       "...          ...  ...        ...        ...               ...   \n",
       "237583  0.011923   82        0.0      128.2               0.0   \n",
       "237585  0.011923   82        0.0      128.2               0.0   \n",
       "237587  0.011923   82        0.0      128.2               0.0   \n",
       "237589  0.011923   82        0.0      128.2               0.0   \n",
       "237591  0.011923   82        0.0      128.2               0.0   \n",
       "\n",
       "        accel_braking_nn  accel_angular_nn  accel_vertical_nn  \n",
       "207811               0.0               0.0                0.0  \n",
       "207813               0.0               0.0                0.0  \n",
       "207815               0.0               0.0                0.0  \n",
       "207817               0.0               0.0                0.0  \n",
       "207819               0.0               0.0                0.0  \n",
       "...                  ...               ...                ...  \n",
       "237583               0.0               0.0                0.0  \n",
       "237585               0.0               0.0                0.0  \n",
       "237587               0.0               0.0                0.0  \n",
       "237589               0.0               0.0                0.0  \n",
       "237591               0.0               0.0                0.0  \n",
       "\n",
       "[14891 rows x 12 columns]"
      ]
     },
     "execution_count": 7,
     "metadata": {},
     "output_type": "execute_result"
    }
   ],
   "source": [
    "duplicate = train.duplicated()\n",
    "train[duplicate]"
   ]
  },
  {
   "cell_type": "code",
   "execution_count": 8,
   "id": "28acf1c5",
   "metadata": {},
   "outputs": [
    {
     "data": {
      "text/plain": [
       "(             create_dt  mdm_object_name  mdm_model_id       lon       lat  \\\n",
       " 0  2023-09-29 08:12:46             1498            62 -0.039352  0.005476   \n",
       " 1  2023-09-29 08:12:47             1498            62 -0.039367  0.005442   \n",
       " 2  2023-09-29 08:12:49             1498            62 -0.039382  0.005362   \n",
       " 3  2023-09-29 08:12:51             1498            62 -0.039397  0.005297   \n",
       " 4  2023-09-29 08:12:53             1498            62 -0.039413  0.005232   \n",
       " \n",
       "    alt  speed_gps  direction  accel_forward_nn  accel_braking_nn  \\\n",
       " 0  217       15.7      194.0             0.098             0.000   \n",
       " 1  216       14.4      196.0             0.000             0.294   \n",
       " 2  216       15.2      180.0             0.000             0.490   \n",
       " 3  216       12.9      198.0             0.000             0.196   \n",
       " 4  216       10.6      180.0             0.000             1.372   \n",
       " \n",
       "    accel_angular_nn  accel_vertical_nn  \n",
       " 0             0.490               0.98  \n",
       " 1             0.000               1.96  \n",
       " 2             0.490               1.96  \n",
       " 3             0.588               0.00  \n",
       " 4             0.392               1.96  ,\n",
       "                   create_dt  mdm_object_name  mdm_model_id       lon  \\\n",
       " 516068  2023-10-26 08:16:26              119            61 -0.002693   \n",
       " 516069  2023-10-26 08:16:31              119            61 -0.002693   \n",
       " 516070  2023-10-26 08:16:36              119            61 -0.002693   \n",
       " 516071  2023-10-26 08:16:41              119            61 -0.002693   \n",
       " 516072  2023-10-26 08:16:46              119            61 -0.002693   \n",
       " \n",
       "              lat  alt  speed_gps  direction  accel_forward_nn  \\\n",
       " 516068  0.011425   57        0.0      146.0               0.0   \n",
       " 516069  0.011425   57        0.0      146.0               0.0   \n",
       " 516070  0.011425   57        0.0      146.0               0.0   \n",
       " 516071  0.011425   57        0.0      146.0               0.0   \n",
       " 516072  0.011425   57        0.0      146.0               0.0   \n",
       " \n",
       "         accel_braking_nn  accel_angular_nn  accel_vertical_nn  \n",
       " 516068               0.0               0.0                0.0  \n",
       " 516069               0.0               0.0                0.0  \n",
       " 516070               0.0               0.0                0.0  \n",
       " 516071               0.0               0.0                0.0  \n",
       " 516072               0.0               0.0                0.0  )"
      ]
     },
     "execution_count": 8,
     "metadata": {},
     "output_type": "execute_result"
    }
   ],
   "source": [
    "train.head(), train.tail()"
   ]
  },
  {
   "cell_type": "code",
   "execution_count": 9,
   "id": "615d178a",
   "metadata": {},
   "outputs": [
    {
     "data": {
      "text/html": [
       "<div>\n",
       "<style scoped>\n",
       "    .dataframe tbody tr th:only-of-type {\n",
       "        vertical-align: middle;\n",
       "    }\n",
       "\n",
       "    .dataframe tbody tr th {\n",
       "        vertical-align: top;\n",
       "    }\n",
       "\n",
       "    .dataframe thead th {\n",
       "        text-align: right;\n",
       "    }\n",
       "</style>\n",
       "<table border=\"1\" class=\"dataframe\">\n",
       "  <thead>\n",
       "    <tr style=\"text-align: right;\">\n",
       "      <th></th>\n",
       "      <th>create_dt</th>\n",
       "      <th>mdm_object_name</th>\n",
       "      <th>mdm_model_id</th>\n",
       "      <th>lon</th>\n",
       "      <th>lat</th>\n",
       "      <th>alt</th>\n",
       "      <th>speed_gps</th>\n",
       "      <th>direction</th>\n",
       "      <th>accel_forward_nn</th>\n",
       "      <th>accel_braking_nn</th>\n",
       "      <th>accel_angular_nn</th>\n",
       "      <th>accel_vertical_nn</th>\n",
       "    </tr>\n",
       "  </thead>\n",
       "  <tbody>\n",
       "    <tr>\n",
       "      <th>count</th>\n",
       "      <td>516073</td>\n",
       "      <td>516073.000000</td>\n",
       "      <td>516073.000000</td>\n",
       "      <td>5.160730e+05</td>\n",
       "      <td>5.160730e+05</td>\n",
       "      <td>516073.000000</td>\n",
       "      <td>516073.000000</td>\n",
       "      <td>516073.000000</td>\n",
       "      <td>516073.000000</td>\n",
       "      <td>516073.000000</td>\n",
       "      <td>516073.000000</td>\n",
       "      <td>516073.000000</td>\n",
       "    </tr>\n",
       "    <tr>\n",
       "      <th>unique</th>\n",
       "      <td>473320</td>\n",
       "      <td>NaN</td>\n",
       "      <td>NaN</td>\n",
       "      <td>NaN</td>\n",
       "      <td>NaN</td>\n",
       "      <td>NaN</td>\n",
       "      <td>NaN</td>\n",
       "      <td>NaN</td>\n",
       "      <td>NaN</td>\n",
       "      <td>NaN</td>\n",
       "      <td>NaN</td>\n",
       "      <td>NaN</td>\n",
       "    </tr>\n",
       "    <tr>\n",
       "      <th>top</th>\n",
       "      <td>2023-09-29 14:25:14</td>\n",
       "      <td>NaN</td>\n",
       "      <td>NaN</td>\n",
       "      <td>NaN</td>\n",
       "      <td>NaN</td>\n",
       "      <td>NaN</td>\n",
       "      <td>NaN</td>\n",
       "      <td>NaN</td>\n",
       "      <td>NaN</td>\n",
       "      <td>NaN</td>\n",
       "      <td>NaN</td>\n",
       "      <td>NaN</td>\n",
       "    </tr>\n",
       "    <tr>\n",
       "      <th>freq</th>\n",
       "      <td>3</td>\n",
       "      <td>NaN</td>\n",
       "      <td>NaN</td>\n",
       "      <td>NaN</td>\n",
       "      <td>NaN</td>\n",
       "      <td>NaN</td>\n",
       "      <td>NaN</td>\n",
       "      <td>NaN</td>\n",
       "      <td>NaN</td>\n",
       "      <td>NaN</td>\n",
       "      <td>NaN</td>\n",
       "      <td>NaN</td>\n",
       "    </tr>\n",
       "    <tr>\n",
       "      <th>mean</th>\n",
       "      <td>NaN</td>\n",
       "      <td>702.413372</td>\n",
       "      <td>61.461065</td>\n",
       "      <td>-5.794578e+02</td>\n",
       "      <td>-5.794038e+02</td>\n",
       "      <td>42.494349</td>\n",
       "      <td>13.473738</td>\n",
       "      <td>176.415423</td>\n",
       "      <td>0.246462</td>\n",
       "      <td>0.214678</td>\n",
       "      <td>0.424484</td>\n",
       "      <td>0.376566</td>\n",
       "    </tr>\n",
       "    <tr>\n",
       "      <th>std</th>\n",
       "      <td>NaN</td>\n",
       "      <td>636.085455</td>\n",
       "      <td>0.498482</td>\n",
       "      <td>2.406669e+04</td>\n",
       "      <td>2.406445e+04</td>\n",
       "      <td>94.651927</td>\n",
       "      <td>10.384209</td>\n",
       "      <td>102.775215</td>\n",
       "      <td>0.547236</td>\n",
       "      <td>0.471499</td>\n",
       "      <td>0.796143</td>\n",
       "      <td>0.536240</td>\n",
       "    </tr>\n",
       "    <tr>\n",
       "      <th>min</th>\n",
       "      <td>NaN</td>\n",
       "      <td>119.000000</td>\n",
       "      <td>61.000000</td>\n",
       "      <td>-1.000142e+06</td>\n",
       "      <td>-1.000049e+06</td>\n",
       "      <td>-146.000000</td>\n",
       "      <td>0.000000</td>\n",
       "      <td>0.000000</td>\n",
       "      <td>0.000000</td>\n",
       "      <td>0.000000</td>\n",
       "      <td>0.000000</td>\n",
       "      <td>0.000000</td>\n",
       "    </tr>\n",
       "    <tr>\n",
       "      <th>25%</th>\n",
       "      <td>NaN</td>\n",
       "      <td>121.000000</td>\n",
       "      <td>61.000000</td>\n",
       "      <td>-2.191073e-02</td>\n",
       "      <td>-9.752221e-03</td>\n",
       "      <td>-42.000000</td>\n",
       "      <td>0.000000</td>\n",
       "      <td>97.000000</td>\n",
       "      <td>0.000000</td>\n",
       "      <td>0.000000</td>\n",
       "      <td>0.000000</td>\n",
       "      <td>0.000000</td>\n",
       "    </tr>\n",
       "    <tr>\n",
       "      <th>50%</th>\n",
       "      <td>NaN</td>\n",
       "      <td>125.000000</td>\n",
       "      <td>61.000000</td>\n",
       "      <td>7.569250e-03</td>\n",
       "      <td>2.370887e-03</td>\n",
       "      <td>57.000000</td>\n",
       "      <td>14.100000</td>\n",
       "      <td>171.000000</td>\n",
       "      <td>0.000000</td>\n",
       "      <td>0.000000</td>\n",
       "      <td>0.000000</td>\n",
       "      <td>0.000000</td>\n",
       "    </tr>\n",
       "    <tr>\n",
       "      <th>75%</th>\n",
       "      <td>NaN</td>\n",
       "      <td>1436.000000</td>\n",
       "      <td>62.000000</td>\n",
       "      <td>2.118009e-02</td>\n",
       "      <td>9.000830e-03</td>\n",
       "      <td>95.000000</td>\n",
       "      <td>20.100000</td>\n",
       "      <td>262.000000</td>\n",
       "      <td>0.196000</td>\n",
       "      <td>0.196000</td>\n",
       "      <td>0.490000</td>\n",
       "      <td>0.980000</td>\n",
       "    </tr>\n",
       "    <tr>\n",
       "      <th>max</th>\n",
       "      <td>NaN</td>\n",
       "      <td>1498.000000</td>\n",
       "      <td>62.000000</td>\n",
       "      <td>3.247159e-02</td>\n",
       "      <td>2.044874e-02</td>\n",
       "      <td>241.000000</td>\n",
       "      <td>91.000000</td>\n",
       "      <td>360.000000</td>\n",
       "      <td>5.096000</td>\n",
       "      <td>16.758000</td>\n",
       "      <td>14.406000</td>\n",
       "      <td>10.976000</td>\n",
       "    </tr>\n",
       "  </tbody>\n",
       "</table>\n",
       "</div>"
      ],
      "text/plain": [
       "                  create_dt  mdm_object_name   mdm_model_id           lon  \\\n",
       "count                516073    516073.000000  516073.000000  5.160730e+05   \n",
       "unique               473320              NaN            NaN           NaN   \n",
       "top     2023-09-29 14:25:14              NaN            NaN           NaN   \n",
       "freq                      3              NaN            NaN           NaN   \n",
       "mean                    NaN       702.413372      61.461065 -5.794578e+02   \n",
       "std                     NaN       636.085455       0.498482  2.406669e+04   \n",
       "min                     NaN       119.000000      61.000000 -1.000142e+06   \n",
       "25%                     NaN       121.000000      61.000000 -2.191073e-02   \n",
       "50%                     NaN       125.000000      61.000000  7.569250e-03   \n",
       "75%                     NaN      1436.000000      62.000000  2.118009e-02   \n",
       "max                     NaN      1498.000000      62.000000  3.247159e-02   \n",
       "\n",
       "                 lat            alt      speed_gps      direction  \\\n",
       "count   5.160730e+05  516073.000000  516073.000000  516073.000000   \n",
       "unique           NaN            NaN            NaN            NaN   \n",
       "top              NaN            NaN            NaN            NaN   \n",
       "freq             NaN            NaN            NaN            NaN   \n",
       "mean   -5.794038e+02      42.494349      13.473738     176.415423   \n",
       "std     2.406445e+04      94.651927      10.384209     102.775215   \n",
       "min    -1.000049e+06    -146.000000       0.000000       0.000000   \n",
       "25%    -9.752221e-03     -42.000000       0.000000      97.000000   \n",
       "50%     2.370887e-03      57.000000      14.100000     171.000000   \n",
       "75%     9.000830e-03      95.000000      20.100000     262.000000   \n",
       "max     2.044874e-02     241.000000      91.000000     360.000000   \n",
       "\n",
       "        accel_forward_nn  accel_braking_nn  accel_angular_nn  \\\n",
       "count      516073.000000     516073.000000     516073.000000   \n",
       "unique               NaN               NaN               NaN   \n",
       "top                  NaN               NaN               NaN   \n",
       "freq                 NaN               NaN               NaN   \n",
       "mean            0.246462          0.214678          0.424484   \n",
       "std             0.547236          0.471499          0.796143   \n",
       "min             0.000000          0.000000          0.000000   \n",
       "25%             0.000000          0.000000          0.000000   \n",
       "50%             0.000000          0.000000          0.000000   \n",
       "75%             0.196000          0.196000          0.490000   \n",
       "max             5.096000         16.758000         14.406000   \n",
       "\n",
       "        accel_vertical_nn  \n",
       "count       516073.000000  \n",
       "unique                NaN  \n",
       "top                   NaN  \n",
       "freq                  NaN  \n",
       "mean             0.376566  \n",
       "std              0.536240  \n",
       "min              0.000000  \n",
       "25%              0.000000  \n",
       "50%              0.000000  \n",
       "75%              0.980000  \n",
       "max             10.976000  "
      ]
     },
     "execution_count": 9,
     "metadata": {},
     "output_type": "execute_result"
    }
   ],
   "source": [
    "train.describe(include= 'all')"
   ]
  },
  {
   "cell_type": "code",
   "execution_count": 10,
   "id": "4751e5b7",
   "metadata": {},
   "outputs": [
    {
     "data": {
      "text/html": [
       "<div>\n",
       "<style scoped>\n",
       "    .dataframe tbody tr th:only-of-type {\n",
       "        vertical-align: middle;\n",
       "    }\n",
       "\n",
       "    .dataframe tbody tr th {\n",
       "        vertical-align: top;\n",
       "    }\n",
       "\n",
       "    .dataframe thead th {\n",
       "        text-align: right;\n",
       "    }\n",
       "</style>\n",
       "<table border=\"1\" class=\"dataframe\">\n",
       "  <thead>\n",
       "    <tr style=\"text-align: right;\">\n",
       "      <th></th>\n",
       "      <th>create_dt</th>\n",
       "      <th>mdm_object_name</th>\n",
       "      <th>mdm_model_id</th>\n",
       "      <th>lon</th>\n",
       "      <th>lat</th>\n",
       "      <th>alt</th>\n",
       "      <th>speed_gps</th>\n",
       "      <th>direction</th>\n",
       "      <th>accel_forward_nn</th>\n",
       "      <th>accel_braking_nn</th>\n",
       "      <th>accel_angular_nn</th>\n",
       "      <th>accel_vertical_nn</th>\n",
       "    </tr>\n",
       "  </thead>\n",
       "  <tbody>\n",
       "    <tr>\n",
       "      <th>0</th>\n",
       "      <td>2023-09-29 08:03:27</td>\n",
       "      <td>1501</td>\n",
       "      <td>62</td>\n",
       "      <td>0.015931</td>\n",
       "      <td>-0.002470</td>\n",
       "      <td>-77</td>\n",
       "      <td>8.8</td>\n",
       "      <td>180.0</td>\n",
       "      <td>0.000</td>\n",
       "      <td>0.294</td>\n",
       "      <td>0.000</td>\n",
       "      <td>0.98</td>\n",
       "    </tr>\n",
       "    <tr>\n",
       "      <th>1</th>\n",
       "      <td>2023-09-29 08:03:28</td>\n",
       "      <td>1501</td>\n",
       "      <td>62</td>\n",
       "      <td>0.015946</td>\n",
       "      <td>-0.002493</td>\n",
       "      <td>-77</td>\n",
       "      <td>9.7</td>\n",
       "      <td>156.0</td>\n",
       "      <td>0.196</td>\n",
       "      <td>0.000</td>\n",
       "      <td>0.000</td>\n",
       "      <td>0.98</td>\n",
       "    </tr>\n",
       "    <tr>\n",
       "      <th>2</th>\n",
       "      <td>2023-09-29 08:03:33</td>\n",
       "      <td>1501</td>\n",
       "      <td>62</td>\n",
       "      <td>0.016007</td>\n",
       "      <td>-0.002581</td>\n",
       "      <td>-79</td>\n",
       "      <td>11.6</td>\n",
       "      <td>159.0</td>\n",
       "      <td>0.686</td>\n",
       "      <td>0.000</td>\n",
       "      <td>0.000</td>\n",
       "      <td>0.00</td>\n",
       "    </tr>\n",
       "    <tr>\n",
       "      <th>3</th>\n",
       "      <td>2023-09-29 08:03:34</td>\n",
       "      <td>1501</td>\n",
       "      <td>62</td>\n",
       "      <td>0.016053</td>\n",
       "      <td>-0.002634</td>\n",
       "      <td>-79</td>\n",
       "      <td>9.9</td>\n",
       "      <td>156.0</td>\n",
       "      <td>0.000</td>\n",
       "      <td>1.176</td>\n",
       "      <td>1.078</td>\n",
       "      <td>0.00</td>\n",
       "    </tr>\n",
       "    <tr>\n",
       "      <th>4</th>\n",
       "      <td>2023-09-29 08:03:35</td>\n",
       "      <td>1501</td>\n",
       "      <td>62</td>\n",
       "      <td>0.016084</td>\n",
       "      <td>-0.002657</td>\n",
       "      <td>-80</td>\n",
       "      <td>12.5</td>\n",
       "      <td>138.0</td>\n",
       "      <td>0.686</td>\n",
       "      <td>0.000</td>\n",
       "      <td>1.568</td>\n",
       "      <td>0.98</td>\n",
       "    </tr>\n",
       "  </tbody>\n",
       "</table>\n",
       "</div>"
      ],
      "text/plain": [
       "             create_dt  mdm_object_name  mdm_model_id       lon       lat  \\\n",
       "0  2023-09-29 08:03:27             1501            62  0.015931 -0.002470   \n",
       "1  2023-09-29 08:03:28             1501            62  0.015946 -0.002493   \n",
       "2  2023-09-29 08:03:33             1501            62  0.016007 -0.002581   \n",
       "3  2023-09-29 08:03:34             1501            62  0.016053 -0.002634   \n",
       "4  2023-09-29 08:03:35             1501            62  0.016084 -0.002657   \n",
       "\n",
       "   alt  speed_gps  direction  accel_forward_nn  accel_braking_nn  \\\n",
       "0  -77        8.8      180.0             0.000             0.294   \n",
       "1  -77        9.7      156.0             0.196             0.000   \n",
       "2  -79       11.6      159.0             0.686             0.000   \n",
       "3  -79        9.9      156.0             0.000             1.176   \n",
       "4  -80       12.5      138.0             0.686             0.000   \n",
       "\n",
       "   accel_angular_nn  accel_vertical_nn  \n",
       "0             0.000               0.98  \n",
       "1             0.000               0.98  \n",
       "2             0.000               0.00  \n",
       "3             1.078               0.00  \n",
       "4             1.568               0.98  "
      ]
     },
     "execution_count": 10,
     "metadata": {},
     "output_type": "execute_result"
    }
   ],
   "source": [
    "test = pd.read_csv('telemetry_for_operations_validation.csv')\n",
    "test.head()"
   ]
  },
  {
   "cell_type": "code",
   "execution_count": 11,
   "id": "d7ea141d",
   "metadata": {},
   "outputs": [
    {
     "data": {
      "text/plain": [
       "(260111, 12)"
      ]
     },
     "execution_count": 11,
     "metadata": {},
     "output_type": "execute_result"
    }
   ],
   "source": [
    "test.shape"
   ]
  },
  {
   "cell_type": "code",
   "execution_count": 12,
   "id": "ba7f741b",
   "metadata": {},
   "outputs": [
    {
     "data": {
      "text/plain": [
       "create_dt            0\n",
       "mdm_object_name      0\n",
       "mdm_model_id         0\n",
       "lon                  0\n",
       "lat                  0\n",
       "alt                  0\n",
       "speed_gps            0\n",
       "direction            0\n",
       "accel_forward_nn     0\n",
       "accel_braking_nn     0\n",
       "accel_angular_nn     0\n",
       "accel_vertical_nn    0\n",
       "dtype: int64"
      ]
     },
     "execution_count": 12,
     "metadata": {},
     "output_type": "execute_result"
    }
   ],
   "source": [
    "test.isnull().sum()"
   ]
  },
  {
   "cell_type": "code",
   "execution_count": 13,
   "id": "07577e4f",
   "metadata": {},
   "outputs": [
    {
     "name": "stdout",
     "output_type": "stream",
     "text": [
      "<class 'pandas.core.frame.DataFrame'>\n",
      "RangeIndex: 260111 entries, 0 to 260110\n",
      "Data columns (total 12 columns):\n",
      " #   Column             Non-Null Count   Dtype  \n",
      "---  ------             --------------   -----  \n",
      " 0   create_dt          260111 non-null  object \n",
      " 1   mdm_object_name    260111 non-null  int64  \n",
      " 2   mdm_model_id       260111 non-null  int64  \n",
      " 3   lon                260111 non-null  float64\n",
      " 4   lat                260111 non-null  float64\n",
      " 5   alt                260111 non-null  int64  \n",
      " 6   speed_gps          260111 non-null  float64\n",
      " 7   direction          260111 non-null  float64\n",
      " 8   accel_forward_nn   260111 non-null  float64\n",
      " 9   accel_braking_nn   260111 non-null  float64\n",
      " 10  accel_angular_nn   260111 non-null  float64\n",
      " 11  accel_vertical_nn  260111 non-null  float64\n",
      "dtypes: float64(8), int64(3), object(1)\n",
      "memory usage: 23.8+ MB\n"
     ]
    }
   ],
   "source": [
    "test.info()"
   ]
  },
  {
   "cell_type": "code",
   "execution_count": 14,
   "id": "5dad300a",
   "metadata": {},
   "outputs": [
    {
     "data": {
      "text/html": [
       "<div>\n",
       "<style scoped>\n",
       "    .dataframe tbody tr th:only-of-type {\n",
       "        vertical-align: middle;\n",
       "    }\n",
       "\n",
       "    .dataframe tbody tr th {\n",
       "        vertical-align: top;\n",
       "    }\n",
       "\n",
       "    .dataframe thead th {\n",
       "        text-align: right;\n",
       "    }\n",
       "</style>\n",
       "<table border=\"1\" class=\"dataframe\">\n",
       "  <thead>\n",
       "    <tr style=\"text-align: right;\">\n",
       "      <th></th>\n",
       "      <th>start_time</th>\n",
       "      <th>end_time</th>\n",
       "      <th>operation_kind_id</th>\n",
       "      <th>mdm_object_name</th>\n",
       "      <th>name</th>\n",
       "    </tr>\n",
       "  </thead>\n",
       "  <tbody>\n",
       "    <tr>\n",
       "      <th>0</th>\n",
       "      <td>2023-09-26 08:00:12</td>\n",
       "      <td>2023-09-26 08:03:12</td>\n",
       "      <td>0</td>\n",
       "      <td>119</td>\n",
       "      <td>idle</td>\n",
       "    </tr>\n",
       "    <tr>\n",
       "      <th>1</th>\n",
       "      <td>2023-09-26 08:03:12</td>\n",
       "      <td>2023-09-26 08:08:11</td>\n",
       "      <td>1</td>\n",
       "      <td>119</td>\n",
       "      <td>loading</td>\n",
       "    </tr>\n",
       "    <tr>\n",
       "      <th>2</th>\n",
       "      <td>2023-09-26 08:08:11</td>\n",
       "      <td>2023-09-26 08:26:28</td>\n",
       "      <td>2</td>\n",
       "      <td>119</td>\n",
       "      <td>riding_loaded</td>\n",
       "    </tr>\n",
       "    <tr>\n",
       "      <th>3</th>\n",
       "      <td>2023-09-26 08:26:28</td>\n",
       "      <td>2023-09-26 08:26:58</td>\n",
       "      <td>3</td>\n",
       "      <td>119</td>\n",
       "      <td>unloading_lift</td>\n",
       "    </tr>\n",
       "    <tr>\n",
       "      <th>4</th>\n",
       "      <td>2023-09-26 08:27:30</td>\n",
       "      <td>2023-09-26 08:38:42</td>\n",
       "      <td>5</td>\n",
       "      <td>119</td>\n",
       "      <td>riding_empty</td>\n",
       "    </tr>\n",
       "  </tbody>\n",
       "</table>\n",
       "</div>"
      ],
      "text/plain": [
       "            start_time             end_time  operation_kind_id  \\\n",
       "0  2023-09-26 08:00:12  2023-09-26 08:03:12                  0   \n",
       "1  2023-09-26 08:03:12  2023-09-26 08:08:11                  1   \n",
       "2  2023-09-26 08:08:11  2023-09-26 08:26:28                  2   \n",
       "3  2023-09-26 08:26:28  2023-09-26 08:26:58                  3   \n",
       "4  2023-09-26 08:27:30  2023-09-26 08:38:42                  5   \n",
       "\n",
       "   mdm_object_name            name  \n",
       "0              119            idle  \n",
       "1              119         loading  \n",
       "2              119   riding_loaded  \n",
       "3              119  unloading_lift  \n",
       "4              119    riding_empty  "
      ]
     },
     "execution_count": 14,
     "metadata": {},
     "output_type": "execute_result"
    }
   ],
   "source": [
    "labels = pd.read_csv('operations_labels_training.csv')\n",
    "labels.head()"
   ]
  },
  {
   "cell_type": "code",
   "execution_count": 15,
   "id": "c36ce599",
   "metadata": {},
   "outputs": [
    {
     "data": {
      "text/plain": [
       "(3981, 5)"
      ]
     },
     "execution_count": 15,
     "metadata": {},
     "output_type": "execute_result"
    }
   ],
   "source": [
    "labels.shape"
   ]
  },
  {
   "cell_type": "code",
   "execution_count": 16,
   "id": "d4b9c2cd",
   "metadata": {},
   "outputs": [
    {
     "data": {
      "text/plain": [
       "start_time           0\n",
       "end_time             0\n",
       "operation_kind_id    0\n",
       "mdm_object_name      0\n",
       "name                 0\n",
       "dtype: int64"
      ]
     },
     "execution_count": 16,
     "metadata": {},
     "output_type": "execute_result"
    }
   ],
   "source": [
    "labels.isnull().sum()"
   ]
  },
  {
   "cell_type": "code",
   "execution_count": 17,
   "id": "4a1caa8d",
   "metadata": {},
   "outputs": [
    {
     "name": "stdout",
     "output_type": "stream",
     "text": [
      "<class 'pandas.core.frame.DataFrame'>\n",
      "RangeIndex: 3981 entries, 0 to 3980\n",
      "Data columns (total 5 columns):\n",
      " #   Column             Non-Null Count  Dtype \n",
      "---  ------             --------------  ----- \n",
      " 0   start_time         3981 non-null   object\n",
      " 1   end_time           3981 non-null   object\n",
      " 2   operation_kind_id  3981 non-null   int64 \n",
      " 3   mdm_object_name    3981 non-null   int64 \n",
      " 4   name               3981 non-null   object\n",
      "dtypes: int64(2), object(3)\n",
      "memory usage: 155.6+ KB\n"
     ]
    }
   ],
   "source": [
    "labels.info()"
   ]
  },
  {
   "cell_type": "code",
   "execution_count": 18,
   "id": "fdbf055d",
   "metadata": {},
   "outputs": [],
   "source": [
    "train['create_dt'] = pd.to_datetime(train['create_dt'], format='ISO8601', errors='coerce')"
   ]
  },
  {
   "cell_type": "code",
   "execution_count": 19,
   "id": "f259054d",
   "metadata": {},
   "outputs": [],
   "source": [
    "test['create_dt'] = pd.to_datetime(test['create_dt'], format='ISO8601', errors='coerce')"
   ]
  },
  {
   "cell_type": "code",
   "execution_count": 20,
   "id": "13b84d2e",
   "metadata": {},
   "outputs": [],
   "source": [
    "labels['start_time'] = pd.to_datetime(labels['start_time'])"
   ]
  },
  {
   "cell_type": "code",
   "execution_count": 21,
   "id": "f3ca90e1",
   "metadata": {},
   "outputs": [],
   "source": [
    "labels['end_time'] = pd.to_datetime(labels['end_time'])"
   ]
  },
  {
   "cell_type": "code",
   "execution_count": 22,
   "id": "24316efe",
   "metadata": {},
   "outputs": [],
   "source": [
    "merged_df = pd.merge_asof(\n",
    "    train.sort_values('create_dt'),\n",
    "    labels.sort_values('start_time'),\n",
    "    left_on='create_dt',\n",
    "    right_on='start_time',\n",
    "    direction='backward',\n",
    "    allow_exact_matches=False\n",
    ")"
   ]
  },
  {
   "cell_type": "code",
   "execution_count": 23,
   "id": "389de60e",
   "metadata": {},
   "outputs": [],
   "source": [
    "condition = (merged_df['create_dt'] >= merged_df['start_time']) & (merged_df['create_dt'] <= merged_df['end_time'])\n",
    "merged_df['operation_kind_id'] = merged_df['operation_kind_id'].where(condition, pd.NA)"
   ]
  },
  {
   "cell_type": "code",
   "execution_count": 24,
   "id": "9ea68e48",
   "metadata": {},
   "outputs": [
    {
     "data": {
      "text/plain": [
       "(516073, 17)"
      ]
     },
     "execution_count": 24,
     "metadata": {},
     "output_type": "execute_result"
    }
   ],
   "source": [
    "merged_df.shape"
   ]
  },
  {
   "cell_type": "code",
   "execution_count": 25,
   "id": "11f3da44",
   "metadata": {},
   "outputs": [
    {
     "name": "stdout",
     "output_type": "stream",
     "text": [
      "<class 'pandas.core.frame.DataFrame'>\n",
      "RangeIndex: 516073 entries, 0 to 516072\n",
      "Data columns (total 17 columns):\n",
      " #   Column             Non-Null Count   Dtype         \n",
      "---  ------             --------------   -----         \n",
      " 0   create_dt          516073 non-null  datetime64[ns]\n",
      " 1   mdm_object_name_x  516073 non-null  int64         \n",
      " 2   mdm_model_id       516073 non-null  int64         \n",
      " 3   lon                516073 non-null  float64       \n",
      " 4   lat                516073 non-null  float64       \n",
      " 5   alt                516073 non-null  int64         \n",
      " 6   speed_gps          516073 non-null  float64       \n",
      " 7   direction          516073 non-null  float64       \n",
      " 8   accel_forward_nn   516073 non-null  float64       \n",
      " 9   accel_braking_nn   516073 non-null  float64       \n",
      " 10  accel_angular_nn   516073 non-null  float64       \n",
      " 11  accel_vertical_nn  516073 non-null  float64       \n",
      " 12  start_time         516071 non-null  datetime64[ns]\n",
      " 13  end_time           516071 non-null  datetime64[ns]\n",
      " 14  operation_kind_id  505083 non-null  float64       \n",
      " 15  mdm_object_name_y  516071 non-null  float64       \n",
      " 16  name               516071 non-null  object        \n",
      "dtypes: datetime64[ns](3), float64(10), int64(3), object(1)\n",
      "memory usage: 66.9+ MB\n"
     ]
    }
   ],
   "source": [
    "merged_df.info()"
   ]
  },
  {
   "cell_type": "code",
   "execution_count": 26,
   "id": "c60d4d73",
   "metadata": {},
   "outputs": [],
   "source": [
    "merged_df = merged_df.drop(['start_time', 'end_time', 'mdm_object_name_y', 'name'], axis = 1)"
   ]
  },
  {
   "cell_type": "code",
   "execution_count": 27,
   "id": "8cb82be4",
   "metadata": {},
   "outputs": [],
   "source": [
    "merged_df = merged_df.rename({'mdm_object_name_x':'mdm_object_name'}, axis = 1)"
   ]
  },
  {
   "cell_type": "code",
   "execution_count": 28,
   "id": "8e5f299b",
   "metadata": {},
   "outputs": [],
   "source": [
    "newtrain = merged_df.copy()"
   ]
  },
  {
   "cell_type": "code",
   "execution_count": 29,
   "id": "d5c0dc87",
   "metadata": {},
   "outputs": [
    {
     "data": {
      "text/plain": [
       "Index(['create_dt', 'mdm_object_name', 'mdm_model_id', 'lon', 'lat', 'alt',\n",
       "       'speed_gps', 'direction', 'accel_forward_nn', 'accel_braking_nn',\n",
       "       'accel_angular_nn', 'accel_vertical_nn', 'operation_kind_id'],\n",
       "      dtype='object')"
      ]
     },
     "execution_count": 29,
     "metadata": {},
     "output_type": "execute_result"
    }
   ],
   "source": [
    "newtrain.columns"
   ]
  },
  {
   "cell_type": "code",
   "execution_count": 30,
   "id": "5e54ad8c",
   "metadata": {},
   "outputs": [
    {
     "data": {
      "text/plain": [
       "Index(['create_dt', 'mdm_object_name', 'mdm_model_id', 'lon', 'lat', 'alt',\n",
       "       'speed_gps', 'direction', 'accel_forward_nn', 'accel_braking_nn',\n",
       "       'accel_angular_nn', 'accel_vertical_nn'],\n",
       "      dtype='object')"
      ]
     },
     "execution_count": 30,
     "metadata": {},
     "output_type": "execute_result"
    }
   ],
   "source": [
    "test.columns"
   ]
  },
  {
   "cell_type": "code",
   "execution_count": 31,
   "id": "f60296cb",
   "metadata": {},
   "outputs": [
    {
     "data": {
      "text/plain": [
       "(516073, 13)"
      ]
     },
     "execution_count": 31,
     "metadata": {},
     "output_type": "execute_result"
    }
   ],
   "source": [
    "newtrain.shape"
   ]
  },
  {
   "cell_type": "code",
   "execution_count": 32,
   "id": "0f4de6e5",
   "metadata": {},
   "outputs": [
    {
     "data": {
      "text/plain": [
       "(260111, 12)"
      ]
     },
     "execution_count": 32,
     "metadata": {},
     "output_type": "execute_result"
    }
   ],
   "source": [
    "newtest = test.copy()\n",
    "newtest.shape"
   ]
  },
  {
   "cell_type": "code",
   "execution_count": 33,
   "id": "3b13e8be",
   "metadata": {},
   "outputs": [
    {
     "data": {
      "text/html": [
       "<div>\n",
       "<style scoped>\n",
       "    .dataframe tbody tr th:only-of-type {\n",
       "        vertical-align: middle;\n",
       "    }\n",
       "\n",
       "    .dataframe tbody tr th {\n",
       "        vertical-align: top;\n",
       "    }\n",
       "\n",
       "    .dataframe thead th {\n",
       "        text-align: right;\n",
       "    }\n",
       "</style>\n",
       "<table border=\"1\" class=\"dataframe\">\n",
       "  <thead>\n",
       "    <tr style=\"text-align: right;\">\n",
       "      <th></th>\n",
       "      <th>create_dt</th>\n",
       "      <th>mdm_object_name</th>\n",
       "      <th>mdm_model_id</th>\n",
       "      <th>lon</th>\n",
       "      <th>lat</th>\n",
       "      <th>alt</th>\n",
       "      <th>speed_gps</th>\n",
       "      <th>direction</th>\n",
       "      <th>accel_forward_nn</th>\n",
       "      <th>accel_braking_nn</th>\n",
       "      <th>accel_angular_nn</th>\n",
       "      <th>accel_vertical_nn</th>\n",
       "      <th>operation_kind_id</th>\n",
       "    </tr>\n",
       "  </thead>\n",
       "  <tbody>\n",
       "    <tr>\n",
       "      <th>0</th>\n",
       "      <td>2023-08-09 08:02:54</td>\n",
       "      <td>1038</td>\n",
       "      <td>62</td>\n",
       "      <td>0.005753</td>\n",
       "      <td>0.004778</td>\n",
       "      <td>-50</td>\n",
       "      <td>0.0</td>\n",
       "      <td>326.0</td>\n",
       "      <td>0.000</td>\n",
       "      <td>0.000</td>\n",
       "      <td>0.000</td>\n",
       "      <td>0.00</td>\n",
       "      <td>NaN</td>\n",
       "    </tr>\n",
       "    <tr>\n",
       "      <th>1</th>\n",
       "      <td>2023-08-09 08:02:54</td>\n",
       "      <td>1038</td>\n",
       "      <td>62</td>\n",
       "      <td>0.005753</td>\n",
       "      <td>0.004778</td>\n",
       "      <td>-50</td>\n",
       "      <td>0.0</td>\n",
       "      <td>326.0</td>\n",
       "      <td>0.000</td>\n",
       "      <td>0.000</td>\n",
       "      <td>0.000</td>\n",
       "      <td>0.00</td>\n",
       "      <td>NaN</td>\n",
       "    </tr>\n",
       "    <tr>\n",
       "      <th>828</th>\n",
       "      <td>2023-08-09 08:25:27</td>\n",
       "      <td>1038</td>\n",
       "      <td>62</td>\n",
       "      <td>0.028016</td>\n",
       "      <td>-0.014784</td>\n",
       "      <td>60</td>\n",
       "      <td>12.9</td>\n",
       "      <td>127.0</td>\n",
       "      <td>3.528</td>\n",
       "      <td>0.000</td>\n",
       "      <td>0.000</td>\n",
       "      <td>0.98</td>\n",
       "      <td>NaN</td>\n",
       "    </tr>\n",
       "    <tr>\n",
       "      <th>829</th>\n",
       "      <td>2023-08-09 08:25:27</td>\n",
       "      <td>1038</td>\n",
       "      <td>62</td>\n",
       "      <td>0.028016</td>\n",
       "      <td>-0.014784</td>\n",
       "      <td>60</td>\n",
       "      <td>12.9</td>\n",
       "      <td>127.0</td>\n",
       "      <td>3.528</td>\n",
       "      <td>0.000</td>\n",
       "      <td>0.000</td>\n",
       "      <td>0.98</td>\n",
       "      <td>NaN</td>\n",
       "    </tr>\n",
       "    <tr>\n",
       "      <th>830</th>\n",
       "      <td>2023-08-09 08:25:32</td>\n",
       "      <td>1038</td>\n",
       "      <td>62</td>\n",
       "      <td>0.028016</td>\n",
       "      <td>-0.014780</td>\n",
       "      <td>60</td>\n",
       "      <td>0.0</td>\n",
       "      <td>0.0</td>\n",
       "      <td>0.000</td>\n",
       "      <td>0.000</td>\n",
       "      <td>0.000</td>\n",
       "      <td>0.00</td>\n",
       "      <td>NaN</td>\n",
       "    </tr>\n",
       "    <tr>\n",
       "      <th>...</th>\n",
       "      <td>...</td>\n",
       "      <td>...</td>\n",
       "      <td>...</td>\n",
       "      <td>...</td>\n",
       "      <td>...</td>\n",
       "      <td>...</td>\n",
       "      <td>...</td>\n",
       "      <td>...</td>\n",
       "      <td>...</td>\n",
       "      <td>...</td>\n",
       "      <td>...</td>\n",
       "      <td>...</td>\n",
       "      <td>...</td>\n",
       "    </tr>\n",
       "    <tr>\n",
       "      <th>516068</th>\n",
       "      <td>2023-12-15 15:57:33</td>\n",
       "      <td>125</td>\n",
       "      <td>61</td>\n",
       "      <td>0.013819</td>\n",
       "      <td>0.002965</td>\n",
       "      <td>-51</td>\n",
       "      <td>21.3</td>\n",
       "      <td>110.0</td>\n",
       "      <td>0.000</td>\n",
       "      <td>0.000</td>\n",
       "      <td>0.098</td>\n",
       "      <td>0.98</td>\n",
       "      <td>NaN</td>\n",
       "    </tr>\n",
       "    <tr>\n",
       "      <th>516069</th>\n",
       "      <td>2023-12-15 15:57:36</td>\n",
       "      <td>125</td>\n",
       "      <td>61</td>\n",
       "      <td>0.013979</td>\n",
       "      <td>0.002917</td>\n",
       "      <td>-51</td>\n",
       "      <td>14.2</td>\n",
       "      <td>122.0</td>\n",
       "      <td>0.000</td>\n",
       "      <td>0.686</td>\n",
       "      <td>0.000</td>\n",
       "      <td>0.00</td>\n",
       "      <td>NaN</td>\n",
       "    </tr>\n",
       "    <tr>\n",
       "      <th>516070</th>\n",
       "      <td>2023-12-15 15:57:39</td>\n",
       "      <td>125</td>\n",
       "      <td>61</td>\n",
       "      <td>0.014139</td>\n",
       "      <td>0.002829</td>\n",
       "      <td>-51</td>\n",
       "      <td>17.1</td>\n",
       "      <td>135.0</td>\n",
       "      <td>0.000</td>\n",
       "      <td>0.784</td>\n",
       "      <td>0.000</td>\n",
       "      <td>0.00</td>\n",
       "      <td>NaN</td>\n",
       "    </tr>\n",
       "    <tr>\n",
       "      <th>516071</th>\n",
       "      <td>2023-12-15 15:57:40</td>\n",
       "      <td>125</td>\n",
       "      <td>61</td>\n",
       "      <td>0.014171</td>\n",
       "      <td>0.002785</td>\n",
       "      <td>-50</td>\n",
       "      <td>18.6</td>\n",
       "      <td>154.0</td>\n",
       "      <td>0.392</td>\n",
       "      <td>0.000</td>\n",
       "      <td>0.294</td>\n",
       "      <td>0.98</td>\n",
       "      <td>NaN</td>\n",
       "    </tr>\n",
       "    <tr>\n",
       "      <th>516072</th>\n",
       "      <td>2023-12-15 15:57:42</td>\n",
       "      <td>125</td>\n",
       "      <td>61</td>\n",
       "      <td>0.014219</td>\n",
       "      <td>0.002693</td>\n",
       "      <td>-51</td>\n",
       "      <td>20.3</td>\n",
       "      <td>168.0</td>\n",
       "      <td>0.000</td>\n",
       "      <td>0.000</td>\n",
       "      <td>1.274</td>\n",
       "      <td>0.98</td>\n",
       "      <td>NaN</td>\n",
       "    </tr>\n",
       "  </tbody>\n",
       "</table>\n",
       "<p>10990 rows × 13 columns</p>\n",
       "</div>"
      ],
      "text/plain": [
       "                 create_dt  mdm_object_name  mdm_model_id       lon       lat  \\\n",
       "0      2023-08-09 08:02:54             1038            62  0.005753  0.004778   \n",
       "1      2023-08-09 08:02:54             1038            62  0.005753  0.004778   \n",
       "828    2023-08-09 08:25:27             1038            62  0.028016 -0.014784   \n",
       "829    2023-08-09 08:25:27             1038            62  0.028016 -0.014784   \n",
       "830    2023-08-09 08:25:32             1038            62  0.028016 -0.014780   \n",
       "...                    ...              ...           ...       ...       ...   \n",
       "516068 2023-12-15 15:57:33              125            61  0.013819  0.002965   \n",
       "516069 2023-12-15 15:57:36              125            61  0.013979  0.002917   \n",
       "516070 2023-12-15 15:57:39              125            61  0.014139  0.002829   \n",
       "516071 2023-12-15 15:57:40              125            61  0.014171  0.002785   \n",
       "516072 2023-12-15 15:57:42              125            61  0.014219  0.002693   \n",
       "\n",
       "        alt  speed_gps  direction  accel_forward_nn  accel_braking_nn  \\\n",
       "0       -50        0.0      326.0             0.000             0.000   \n",
       "1       -50        0.0      326.0             0.000             0.000   \n",
       "828      60       12.9      127.0             3.528             0.000   \n",
       "829      60       12.9      127.0             3.528             0.000   \n",
       "830      60        0.0        0.0             0.000             0.000   \n",
       "...     ...        ...        ...               ...               ...   \n",
       "516068  -51       21.3      110.0             0.000             0.000   \n",
       "516069  -51       14.2      122.0             0.000             0.686   \n",
       "516070  -51       17.1      135.0             0.000             0.784   \n",
       "516071  -50       18.6      154.0             0.392             0.000   \n",
       "516072  -51       20.3      168.0             0.000             0.000   \n",
       "\n",
       "        accel_angular_nn  accel_vertical_nn  operation_kind_id  \n",
       "0                  0.000               0.00                NaN  \n",
       "1                  0.000               0.00                NaN  \n",
       "828                0.000               0.98                NaN  \n",
       "829                0.000               0.98                NaN  \n",
       "830                0.000               0.00                NaN  \n",
       "...                  ...                ...                ...  \n",
       "516068             0.098               0.98                NaN  \n",
       "516069             0.000               0.00                NaN  \n",
       "516070             0.000               0.00                NaN  \n",
       "516071             0.294               0.98                NaN  \n",
       "516072             1.274               0.98                NaN  \n",
       "\n",
       "[10990 rows x 13 columns]"
      ]
     },
     "execution_count": 33,
     "metadata": {},
     "output_type": "execute_result"
    }
   ],
   "source": [
    "newtrain[newtrain['operation_kind_id'].isna()]"
   ]
  },
  {
   "cell_type": "code",
   "execution_count": 34,
   "id": "6d066d14",
   "metadata": {},
   "outputs": [],
   "source": [
    "newtrain['year'] = newtrain['create_dt'].dt.year\n",
    "newtrain['month'] = newtrain['create_dt'].dt.month\n",
    "newtrain['day'] = newtrain['create_dt'].dt.day\n",
    "newtrain['hour'] = newtrain['create_dt'].dt.hour\n",
    "newtrain['weekday'] = newtrain['create_dt'].dt.weekday  # 0 = Monday, 6 = Sunday\n",
    "newtrain['week'] = newtrain['create_dt'].dt.isocalendar().week  # week of the year"
   ]
  },
  {
   "cell_type": "code",
   "execution_count": 35,
   "id": "9aa52770",
   "metadata": {},
   "outputs": [],
   "source": [
    "newtrain = newtrain.drop('create_dt', axis = 1)"
   ]
  },
  {
   "cell_type": "code",
   "execution_count": 36,
   "id": "bb4053f2",
   "metadata": {},
   "outputs": [],
   "source": [
    "newtest['year'] = newtest['create_dt'].dt.year\n",
    "newtest['month'] = newtest['create_dt'].dt.month\n",
    "newtest['day'] = newtest['create_dt'].dt.day\n",
    "newtest['hour'] = newtest['create_dt'].dt.hour\n",
    "newtest['weekday'] = newtest['create_dt'].dt.weekday  # 0 = Monday, 6 = Sunday\n",
    "newtest['week'] = newtest['create_dt'].dt.isocalendar().week  # week of the year"
   ]
  },
  {
   "cell_type": "code",
   "execution_count": 37,
   "id": "eccebd51",
   "metadata": {},
   "outputs": [],
   "source": [
    "newtest = newtest.drop('create_dt', axis = 1)"
   ]
  },
  {
   "cell_type": "code",
   "execution_count": 38,
   "id": "71176f7e",
   "metadata": {},
   "outputs": [
    {
     "data": {
      "text/plain": [
       "(516073, 18)"
      ]
     },
     "execution_count": 38,
     "metadata": {},
     "output_type": "execute_result"
    }
   ],
   "source": [
    "newtrain.shape"
   ]
  },
  {
   "cell_type": "code",
   "execution_count": 39,
   "id": "d65c7f4f",
   "metadata": {},
   "outputs": [
    {
     "data": {
      "text/plain": [
       "(260111, 17)"
      ]
     },
     "execution_count": 39,
     "metadata": {},
     "output_type": "execute_result"
    }
   ],
   "source": [
    "newtest.shape"
   ]
  },
  {
   "cell_type": "code",
   "execution_count": 40,
   "id": "0fca89a3",
   "metadata": {},
   "outputs": [],
   "source": [
    "df_test = newtrain[newtrain['operation_kind_id'].isna()]\n",
    "df_test = df_test.drop('operation_kind_id', axis = 1)"
   ]
  },
  {
   "cell_type": "code",
   "execution_count": 41,
   "id": "8450bc3a",
   "metadata": {},
   "outputs": [],
   "source": [
    "df_train = newtrain[newtrain['operation_kind_id'].notna()]"
   ]
  },
  {
   "cell_type": "code",
   "execution_count": 42,
   "id": "800ef394",
   "metadata": {},
   "outputs": [],
   "source": [
    "from sklearn.model_selection import train_test_split, GridSearchCV\n",
    "from sklearn.metrics import f1_score\n",
    "from sklearn.ensemble import RandomForestClassifier\n",
    "from xgboost import XGBClassifier\n",
    "from lightgbm import LGBMClassifier\n",
    "from sklearn.preprocessing import StandardScaler\n",
    "from sklearn.pipeline import Pipeline"
   ]
  },
  {
   "cell_type": "code",
   "execution_count": 43,
   "id": "896a54a8",
   "metadata": {},
   "outputs": [],
   "source": [
    "X = df_train.drop('operation_kind_id', axis = 1)\n",
    "y = df_train['operation_kind_id']"
   ]
  },
  {
   "cell_type": "code",
   "execution_count": 44,
   "id": "fe2f1fd5",
   "metadata": {},
   "outputs": [],
   "source": [
    "X_train, X_valid, y_train, y_valid = train_test_split(X, y, test_size=0.2, random_state=42)"
   ]
  },
  {
   "cell_type": "code",
   "execution_count": 45,
   "id": "b5e8bc96",
   "metadata": {},
   "outputs": [],
   "source": [
    "def create_pipeline(model):\n",
    "    return Pipeline(steps=[\n",
    "        ('scaler', StandardScaler()),\n",
    "        ('classifier', model)\n",
    "    ])"
   ]
  },
  {
   "cell_type": "code",
   "execution_count": 46,
   "id": "4d771d9a",
   "metadata": {},
   "outputs": [],
   "source": [
    "rf = RandomForestClassifier(random_state=42)\n",
    "##xgb = XGBClassifier(random_state=42)\n",
    "lgbm = LGBMClassifier(random_state=42)"
   ]
  },
  {
   "cell_type": "code",
   "execution_count": 47,
   "id": "1ed9ad0d",
   "metadata": {},
   "outputs": [],
   "source": [
    "pipelines = {\n",
    "    'RandomForest': create_pipeline(rf),\n",
    "   ## 'XGBoost': create_pipeline(xgb),\n",
    "    'LightGBM': create_pipeline(lgbm)\n",
    "}"
   ]
  },
  {
   "cell_type": "code",
   "execution_count": 48,
   "id": "835e00e5",
   "metadata": {},
   "outputs": [
    {
     "name": "stdout",
     "output_type": "stream",
     "text": [
      "Training RandomForest...\n",
      "RandomForest F1 Score: 0.9077\n",
      "Training LightGBM...\n",
      "[LightGBM] [Info] Auto-choosing row-wise multi-threading, the overhead of testing was 0.023215 seconds.\n",
      "You can set `force_row_wise=true` to remove the overhead.\n",
      "And if memory is not enough, you can set `force_col_wise=true`.\n",
      "[LightGBM] [Info] Total Bins 1567\n",
      "[LightGBM] [Info] Number of data points in the train set: 404066, number of used features: 16\n",
      "[LightGBM] [Info] Start training from score -1.940308\n",
      "[LightGBM] [Info] Start training from score -2.465034\n",
      "[LightGBM] [Info] Start training from score -0.841879\n",
      "[LightGBM] [Info] Start training from score -4.047983\n",
      "[LightGBM] [Info] Start training from score -1.130174\n",
      "LightGBM F1 Score: 0.8562\n"
     ]
    }
   ],
   "source": [
    "for model_name, pipeline in pipelines.items():\n",
    "    print(f\"Training {model_name}...\")\n",
    "    pipeline.fit(X_train, y_train)\n",
    "    \n",
    "    # Predict on validation set\n",
    "    y_pred = pipeline.predict(X_valid)\n",
    "    \n",
    "    # Calculate F1 score (weighted)\n",
    "    score = f1_score(y_valid, y_pred, average='weighted')\n",
    "    print(f\"{model_name} F1 Score: {score:.4f}\")\n"
   ]
  },
  {
   "cell_type": "code",
   "execution_count": 49,
   "id": "6a300a8c",
   "metadata": {},
   "outputs": [],
   "source": [
    "best_model = pipelines['RandomForest']  # example choice based on performance"
   ]
  },
  {
   "cell_type": "code",
   "execution_count": 50,
   "id": "5b4cc6d9",
   "metadata": {},
   "outputs": [],
   "source": [
    "x_train = df_train.drop('operation_kind_id', axis = 1)\n",
    "y_train = df_train['operation_kind_id']\n",
    "x_test = df_test"
   ]
  },
  {
   "cell_type": "code",
   "execution_count": 51,
   "id": "537c6af4",
   "metadata": {},
   "outputs": [],
   "source": [
    "test_predictions = best_model.predict(x_test)"
   ]
  },
  {
   "cell_type": "code",
   "execution_count": 52,
   "id": "25308e13",
   "metadata": {},
   "outputs": [],
   "source": [
    "x_train = df_train.drop('operation_kind_id', axis = 1)\n",
    "y_train = df_train['operation_kind_id']\n",
    "x_test = df_test"
   ]
  },
  {
   "cell_type": "code",
   "execution_count": 53,
   "id": "00419e84",
   "metadata": {},
   "outputs": [],
   "source": [
    "test_predictions = best_model.predict(x_test)"
   ]
  },
  {
   "cell_type": "code",
   "execution_count": 54,
   "id": "2455b441",
   "metadata": {},
   "outputs": [],
   "source": [
    "df_test['operation_kind_id'] = test_predictions"
   ]
  },
  {
   "cell_type": "code",
   "execution_count": 55,
   "id": "7dec7d0d",
   "metadata": {},
   "outputs": [
    {
     "data": {
      "text/html": [
       "<div>\n",
       "<style scoped>\n",
       "    .dataframe tbody tr th:only-of-type {\n",
       "        vertical-align: middle;\n",
       "    }\n",
       "\n",
       "    .dataframe tbody tr th {\n",
       "        vertical-align: top;\n",
       "    }\n",
       "\n",
       "    .dataframe thead th {\n",
       "        text-align: right;\n",
       "    }\n",
       "</style>\n",
       "<table border=\"1\" class=\"dataframe\">\n",
       "  <thead>\n",
       "    <tr style=\"text-align: right;\">\n",
       "      <th></th>\n",
       "      <th>mdm_object_name</th>\n",
       "      <th>mdm_model_id</th>\n",
       "      <th>lon</th>\n",
       "      <th>lat</th>\n",
       "      <th>alt</th>\n",
       "      <th>speed_gps</th>\n",
       "      <th>direction</th>\n",
       "      <th>accel_forward_nn</th>\n",
       "      <th>accel_braking_nn</th>\n",
       "      <th>accel_angular_nn</th>\n",
       "      <th>accel_vertical_nn</th>\n",
       "      <th>year</th>\n",
       "      <th>month</th>\n",
       "      <th>day</th>\n",
       "      <th>hour</th>\n",
       "      <th>weekday</th>\n",
       "      <th>week</th>\n",
       "      <th>operation_kind_id</th>\n",
       "    </tr>\n",
       "  </thead>\n",
       "  <tbody>\n",
       "    <tr>\n",
       "      <th>0</th>\n",
       "      <td>1038</td>\n",
       "      <td>62</td>\n",
       "      <td>0.005753</td>\n",
       "      <td>0.004778</td>\n",
       "      <td>-50</td>\n",
       "      <td>0.0</td>\n",
       "      <td>326.0</td>\n",
       "      <td>0.0</td>\n",
       "      <td>0.0</td>\n",
       "      <td>0.0</td>\n",
       "      <td>0.0</td>\n",
       "      <td>2023</td>\n",
       "      <td>8</td>\n",
       "      <td>9</td>\n",
       "      <td>8</td>\n",
       "      <td>2</td>\n",
       "      <td>32</td>\n",
       "      <td>0.0</td>\n",
       "    </tr>\n",
       "    <tr>\n",
       "      <th>1</th>\n",
       "      <td>1038</td>\n",
       "      <td>62</td>\n",
       "      <td>0.005753</td>\n",
       "      <td>0.004778</td>\n",
       "      <td>-50</td>\n",
       "      <td>0.0</td>\n",
       "      <td>326.0</td>\n",
       "      <td>0.0</td>\n",
       "      <td>0.0</td>\n",
       "      <td>0.0</td>\n",
       "      <td>0.0</td>\n",
       "      <td>2023</td>\n",
       "      <td>8</td>\n",
       "      <td>9</td>\n",
       "      <td>8</td>\n",
       "      <td>2</td>\n",
       "      <td>32</td>\n",
       "      <td>0.0</td>\n",
       "    </tr>\n",
       "  </tbody>\n",
       "</table>\n",
       "</div>"
      ],
      "text/plain": [
       "   mdm_object_name  mdm_model_id       lon       lat  alt  speed_gps  \\\n",
       "0             1038            62  0.005753  0.004778  -50        0.0   \n",
       "1             1038            62  0.005753  0.004778  -50        0.0   \n",
       "\n",
       "   direction  accel_forward_nn  accel_braking_nn  accel_angular_nn  \\\n",
       "0      326.0               0.0               0.0               0.0   \n",
       "1      326.0               0.0               0.0               0.0   \n",
       "\n",
       "   accel_vertical_nn  year  month  day  hour  weekday  week  operation_kind_id  \n",
       "0                0.0  2023      8    9     8        2    32                0.0  \n",
       "1                0.0  2023      8    9     8        2    32                0.0  "
      ]
     },
     "execution_count": 55,
     "metadata": {},
     "output_type": "execute_result"
    }
   ],
   "source": [
    "df_test.head(2)"
   ]
  },
  {
   "cell_type": "code",
   "execution_count": 56,
   "id": "dc72faa9",
   "metadata": {},
   "outputs": [
    {
     "data": {
      "text/plain": [
       "(516073, 18)"
      ]
     },
     "execution_count": 56,
     "metadata": {},
     "output_type": "execute_result"
    }
   ],
   "source": [
    "final_train = pd.concat([df_train, df_test], axis = 0)\n",
    "final_train.shape"
   ]
  },
  {
   "cell_type": "code",
   "execution_count": 57,
   "id": "47be2951",
   "metadata": {},
   "outputs": [
    {
     "data": {
      "text/plain": [
       "(260111, 17)"
      ]
     },
     "execution_count": 57,
     "metadata": {},
     "output_type": "execute_result"
    }
   ],
   "source": [
    "newtest.shape"
   ]
  },
  {
   "cell_type": "code",
   "execution_count": 58,
   "id": "16a23cd4",
   "metadata": {},
   "outputs": [],
   "source": [
    "x_train = final_train.drop('operation_kind_id', axis = 1)\n",
    "y_train = final_train['operation_kind_id']\n",
    "x_test = newtest"
   ]
  },
  {
   "cell_type": "code",
   "execution_count": 59,
   "id": "725c00c3",
   "metadata": {},
   "outputs": [],
   "source": [
    "test_predictions = best_model.predict(x_test)"
   ]
  },
  {
   "cell_type": "code",
   "execution_count": 60,
   "id": "eb461ea1",
   "metadata": {},
   "outputs": [],
   "source": [
    "submission = test[['create_dt', 'mdm_object_name']].copy()\n",
    "submission['operation_kind_id'] = test_predictions"
   ]
  },
  {
   "cell_type": "code",
   "execution_count": 61,
   "id": "d7d5ae70",
   "metadata": {},
   "outputs": [
    {
     "data": {
      "text/html": [
       "<div>\n",
       "<style scoped>\n",
       "    .dataframe tbody tr th:only-of-type {\n",
       "        vertical-align: middle;\n",
       "    }\n",
       "\n",
       "    .dataframe tbody tr th {\n",
       "        vertical-align: top;\n",
       "    }\n",
       "\n",
       "    .dataframe thead th {\n",
       "        text-align: right;\n",
       "    }\n",
       "</style>\n",
       "<table border=\"1\" class=\"dataframe\">\n",
       "  <thead>\n",
       "    <tr style=\"text-align: right;\">\n",
       "      <th></th>\n",
       "      <th>create_dt</th>\n",
       "      <th>mdm_object_name</th>\n",
       "      <th>operation_kind_id</th>\n",
       "    </tr>\n",
       "  </thead>\n",
       "  <tbody>\n",
       "    <tr>\n",
       "      <th>0</th>\n",
       "      <td>2023-09-29 08:03:27</td>\n",
       "      <td>1501</td>\n",
       "      <td>2</td>\n",
       "    </tr>\n",
       "    <tr>\n",
       "      <th>1</th>\n",
       "      <td>2023-09-29 08:03:28</td>\n",
       "      <td>1501</td>\n",
       "      <td>2</td>\n",
       "    </tr>\n",
       "  </tbody>\n",
       "</table>\n",
       "</div>"
      ],
      "text/plain": [
       "            create_dt  mdm_object_name  operation_kind_id\n",
       "0 2023-09-29 08:03:27             1501                  2\n",
       "1 2023-09-29 08:03:28             1501                  2"
      ]
     },
     "execution_count": 61,
     "metadata": {},
     "output_type": "execute_result"
    }
   ],
   "source": [
    "submission['operation_kind_id'] = submission['operation_kind_id'].astype(int)\n",
    "submission.head(2)"
   ]
  },
  {
   "cell_type": "code",
   "execution_count": 62,
   "id": "90007cdd",
   "metadata": {},
   "outputs": [
    {
     "data": {
      "text/plain": [
       "(260111, 3)"
      ]
     },
     "execution_count": 62,
     "metadata": {},
     "output_type": "execute_result"
    }
   ],
   "source": [
    "submission.shape"
   ]
  },
  {
   "cell_type": "code",
   "execution_count": 63,
   "id": "cbdf8e59",
   "metadata": {},
   "outputs": [
    {
     "data": {
      "text/html": [
       "<div>\n",
       "<style scoped>\n",
       "    .dataframe tbody tr th:only-of-type {\n",
       "        vertical-align: middle;\n",
       "    }\n",
       "\n",
       "    .dataframe tbody tr th {\n",
       "        vertical-align: top;\n",
       "    }\n",
       "\n",
       "    .dataframe thead th {\n",
       "        text-align: right;\n",
       "    }\n",
       "</style>\n",
       "<table border=\"1\" class=\"dataframe\">\n",
       "  <thead>\n",
       "    <tr style=\"text-align: right;\">\n",
       "      <th></th>\n",
       "      <th></th>\n",
       "      <th>operation_kind_id</th>\n",
       "    </tr>\n",
       "    <tr>\n",
       "      <th>create_dt</th>\n",
       "      <th>mdm_object_name</th>\n",
       "      <th></th>\n",
       "    </tr>\n",
       "  </thead>\n",
       "  <tbody>\n",
       "    <tr>\n",
       "      <th>2023-09-29 08:03:27</th>\n",
       "      <th>1501</th>\n",
       "      <td>2</td>\n",
       "    </tr>\n",
       "    <tr>\n",
       "      <th>2023-09-29 08:03:28</th>\n",
       "      <th>1501</th>\n",
       "      <td>2</td>\n",
       "    </tr>\n",
       "    <tr>\n",
       "      <th>2023-09-29 08:03:33</th>\n",
       "      <th>1501</th>\n",
       "      <td>2</td>\n",
       "    </tr>\n",
       "    <tr>\n",
       "      <th>2023-09-29 08:03:34</th>\n",
       "      <th>1501</th>\n",
       "      <td>2</td>\n",
       "    </tr>\n",
       "    <tr>\n",
       "      <th>2023-09-29 08:03:35</th>\n",
       "      <th>1501</th>\n",
       "      <td>2</td>\n",
       "    </tr>\n",
       "    <tr>\n",
       "      <th>...</th>\n",
       "      <th>...</th>\n",
       "      <td>...</td>\n",
       "    </tr>\n",
       "    <tr>\n",
       "      <th>2023-09-30 16:32:25</th>\n",
       "      <th>119</th>\n",
       "      <td>5</td>\n",
       "    </tr>\n",
       "    <tr>\n",
       "      <th>2023-09-30 16:32:30</th>\n",
       "      <th>119</th>\n",
       "      <td>5</td>\n",
       "    </tr>\n",
       "    <tr>\n",
       "      <th>2023-09-30 16:32:35</th>\n",
       "      <th>119</th>\n",
       "      <td>5</td>\n",
       "    </tr>\n",
       "    <tr>\n",
       "      <th>2023-09-30 16:32:40</th>\n",
       "      <th>119</th>\n",
       "      <td>5</td>\n",
       "    </tr>\n",
       "    <tr>\n",
       "      <th>2023-09-30 16:32:45</th>\n",
       "      <th>119</th>\n",
       "      <td>5</td>\n",
       "    </tr>\n",
       "  </tbody>\n",
       "</table>\n",
       "<p>260111 rows × 1 columns</p>\n",
       "</div>"
      ],
      "text/plain": [
       "                                     operation_kind_id\n",
       "create_dt           mdm_object_name                   \n",
       "2023-09-29 08:03:27 1501                             2\n",
       "2023-09-29 08:03:28 1501                             2\n",
       "2023-09-29 08:03:33 1501                             2\n",
       "2023-09-29 08:03:34 1501                             2\n",
       "2023-09-29 08:03:35 1501                             2\n",
       "...                                                ...\n",
       "2023-09-30 16:32:25 119                              5\n",
       "2023-09-30 16:32:30 119                              5\n",
       "2023-09-30 16:32:35 119                              5\n",
       "2023-09-30 16:32:40 119                              5\n",
       "2023-09-30 16:32:45 119                              5\n",
       "\n",
       "[260111 rows x 1 columns]"
      ]
     },
     "execution_count": 63,
     "metadata": {},
     "output_type": "execute_result"
    }
   ],
   "source": [
    "submission.set_index(['create_dt', 'mdm_object_name'])"
   ]
  },
  {
   "cell_type": "code",
   "execution_count": 64,
   "id": "0e4c8117",
   "metadata": {},
   "outputs": [
    {
     "data": {
      "text/plain": [
       "(260111, 3)"
      ]
     },
     "execution_count": 64,
     "metadata": {},
     "output_type": "execute_result"
    }
   ],
   "source": [
    "submission.shape"
   ]
  },
  {
   "cell_type": "code",
   "execution_count": 66,
   "id": "b6cfecd2",
   "metadata": {},
   "outputs": [],
   "source": [
    "submission.to_csv(\"Final_Solution.csv\")"
   ]
  },
  {
   "cell_type": "code",
   "execution_count": null,
   "id": "70a48b88",
   "metadata": {},
   "outputs": [],
   "source": []
  }
 ],
 "metadata": {
  "kernelspec": {
   "display_name": "Python 3 (ipykernel)",
   "language": "python",
   "name": "python3"
  },
  "language_info": {
   "codemirror_mode": {
    "name": "ipython",
    "version": 3
   },
   "file_extension": ".py",
   "mimetype": "text/x-python",
   "name": "python",
   "nbconvert_exporter": "python",
   "pygments_lexer": "ipython3",
   "version": "3.11.5"
  }
 },
 "nbformat": 4,
 "nbformat_minor": 5
}
