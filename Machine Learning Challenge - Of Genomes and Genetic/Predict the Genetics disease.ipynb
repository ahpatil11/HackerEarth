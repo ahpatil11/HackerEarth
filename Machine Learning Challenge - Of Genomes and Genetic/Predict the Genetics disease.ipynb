{
 "cells": [
  {
   "cell_type": "code",
   "execution_count": 276,
   "id": "8d29898f",
   "metadata": {},
   "outputs": [],
   "source": [
    "import numpy as np\n",
    "import pandas as pd\n",
    "import matplotlib.pyplot as plt\n",
    "import seaborn as sns"
   ]
  },
  {
   "cell_type": "code",
   "execution_count": 277,
   "id": "3830ef4a",
   "metadata": {},
   "outputs": [
    {
     "data": {
      "text/html": [
       "<div>\n",
       "<style scoped>\n",
       "    .dataframe tbody tr th:only-of-type {\n",
       "        vertical-align: middle;\n",
       "    }\n",
       "\n",
       "    .dataframe tbody tr th {\n",
       "        vertical-align: top;\n",
       "    }\n",
       "\n",
       "    .dataframe thead th {\n",
       "        text-align: right;\n",
       "    }\n",
       "</style>\n",
       "<table border=\"1\" class=\"dataframe\">\n",
       "  <thead>\n",
       "    <tr style=\"text-align: right;\">\n",
       "      <th></th>\n",
       "      <th>Patient Id</th>\n",
       "      <th>Patient Age</th>\n",
       "      <th>Genes in mother's side</th>\n",
       "      <th>Inherited from father</th>\n",
       "      <th>Maternal gene</th>\n",
       "      <th>Paternal gene</th>\n",
       "      <th>Blood cell count (mcL)</th>\n",
       "      <th>Patient First Name</th>\n",
       "      <th>Family Name</th>\n",
       "      <th>Father's name</th>\n",
       "      <th>...</th>\n",
       "      <th>Birth defects</th>\n",
       "      <th>White Blood cell count (thousand per microliter)</th>\n",
       "      <th>Blood test result</th>\n",
       "      <th>Symptom 1</th>\n",
       "      <th>Symptom 2</th>\n",
       "      <th>Symptom 3</th>\n",
       "      <th>Symptom 4</th>\n",
       "      <th>Symptom 5</th>\n",
       "      <th>Genetic Disorder</th>\n",
       "      <th>Disorder Subclass</th>\n",
       "    </tr>\n",
       "  </thead>\n",
       "  <tbody>\n",
       "    <tr>\n",
       "      <th>0</th>\n",
       "      <td>PID0x6418</td>\n",
       "      <td>2.0</td>\n",
       "      <td>Yes</td>\n",
       "      <td>No</td>\n",
       "      <td>Yes</td>\n",
       "      <td>No</td>\n",
       "      <td>4.760603</td>\n",
       "      <td>Richard</td>\n",
       "      <td>NaN</td>\n",
       "      <td>Larre</td>\n",
       "      <td>...</td>\n",
       "      <td>NaN</td>\n",
       "      <td>9.857562</td>\n",
       "      <td>NaN</td>\n",
       "      <td>1.0</td>\n",
       "      <td>1.0</td>\n",
       "      <td>1.0</td>\n",
       "      <td>1.0</td>\n",
       "      <td>1.0</td>\n",
       "      <td>Mitochondrial genetic inheritance disorders</td>\n",
       "      <td>Leber's hereditary optic neuropathy</td>\n",
       "    </tr>\n",
       "    <tr>\n",
       "      <th>1</th>\n",
       "      <td>PID0x25d5</td>\n",
       "      <td>4.0</td>\n",
       "      <td>Yes</td>\n",
       "      <td>Yes</td>\n",
       "      <td>No</td>\n",
       "      <td>No</td>\n",
       "      <td>4.910669</td>\n",
       "      <td>Mike</td>\n",
       "      <td>NaN</td>\n",
       "      <td>Brycen</td>\n",
       "      <td>...</td>\n",
       "      <td>Multiple</td>\n",
       "      <td>5.522560</td>\n",
       "      <td>normal</td>\n",
       "      <td>1.0</td>\n",
       "      <td>NaN</td>\n",
       "      <td>1.0</td>\n",
       "      <td>1.0</td>\n",
       "      <td>0.0</td>\n",
       "      <td>NaN</td>\n",
       "      <td>Cystic fibrosis</td>\n",
       "    </tr>\n",
       "    <tr>\n",
       "      <th>2</th>\n",
       "      <td>PID0x4a82</td>\n",
       "      <td>6.0</td>\n",
       "      <td>Yes</td>\n",
       "      <td>No</td>\n",
       "      <td>No</td>\n",
       "      <td>No</td>\n",
       "      <td>4.893297</td>\n",
       "      <td>Kimberly</td>\n",
       "      <td>NaN</td>\n",
       "      <td>Nashon</td>\n",
       "      <td>...</td>\n",
       "      <td>Singular</td>\n",
       "      <td>NaN</td>\n",
       "      <td>normal</td>\n",
       "      <td>0.0</td>\n",
       "      <td>1.0</td>\n",
       "      <td>1.0</td>\n",
       "      <td>1.0</td>\n",
       "      <td>1.0</td>\n",
       "      <td>Multifactorial genetic inheritance disorders</td>\n",
       "      <td>Diabetes</td>\n",
       "    </tr>\n",
       "    <tr>\n",
       "      <th>3</th>\n",
       "      <td>PID0x4ac8</td>\n",
       "      <td>12.0</td>\n",
       "      <td>Yes</td>\n",
       "      <td>No</td>\n",
       "      <td>Yes</td>\n",
       "      <td>No</td>\n",
       "      <td>4.705280</td>\n",
       "      <td>Jeffery</td>\n",
       "      <td>Hoelscher</td>\n",
       "      <td>Aayaan</td>\n",
       "      <td>...</td>\n",
       "      <td>Singular</td>\n",
       "      <td>7.919321</td>\n",
       "      <td>inconclusive</td>\n",
       "      <td>0.0</td>\n",
       "      <td>0.0</td>\n",
       "      <td>1.0</td>\n",
       "      <td>0.0</td>\n",
       "      <td>0.0</td>\n",
       "      <td>Mitochondrial genetic inheritance disorders</td>\n",
       "      <td>Leigh syndrome</td>\n",
       "    </tr>\n",
       "    <tr>\n",
       "      <th>4</th>\n",
       "      <td>PID0x1bf7</td>\n",
       "      <td>11.0</td>\n",
       "      <td>Yes</td>\n",
       "      <td>No</td>\n",
       "      <td>NaN</td>\n",
       "      <td>Yes</td>\n",
       "      <td>4.720703</td>\n",
       "      <td>Johanna</td>\n",
       "      <td>Stutzman</td>\n",
       "      <td>Suave</td>\n",
       "      <td>...</td>\n",
       "      <td>Multiple</td>\n",
       "      <td>4.098210</td>\n",
       "      <td>NaN</td>\n",
       "      <td>0.0</td>\n",
       "      <td>0.0</td>\n",
       "      <td>0.0</td>\n",
       "      <td>0.0</td>\n",
       "      <td>NaN</td>\n",
       "      <td>Multifactorial genetic inheritance disorders</td>\n",
       "      <td>Cancer</td>\n",
       "    </tr>\n",
       "  </tbody>\n",
       "</table>\n",
       "<p>5 rows × 45 columns</p>\n",
       "</div>"
      ],
      "text/plain": [
       "  Patient Id  Patient Age Genes in mother's side Inherited from father  \\\n",
       "0  PID0x6418          2.0                    Yes                    No   \n",
       "1  PID0x25d5          4.0                    Yes                   Yes   \n",
       "2  PID0x4a82          6.0                    Yes                    No   \n",
       "3  PID0x4ac8         12.0                    Yes                    No   \n",
       "4  PID0x1bf7         11.0                    Yes                    No   \n",
       "\n",
       "  Maternal gene Paternal gene  Blood cell count (mcL) Patient First Name  \\\n",
       "0           Yes            No                4.760603            Richard   \n",
       "1            No            No                4.910669               Mike   \n",
       "2            No            No                4.893297           Kimberly   \n",
       "3           Yes            No                4.705280            Jeffery   \n",
       "4           NaN           Yes                4.720703            Johanna   \n",
       "\n",
       "  Family Name Father's name  ...  Birth defects  \\\n",
       "0         NaN         Larre  ...            NaN   \n",
       "1         NaN        Brycen  ...       Multiple   \n",
       "2         NaN        Nashon  ...       Singular   \n",
       "3   Hoelscher        Aayaan  ...       Singular   \n",
       "4    Stutzman         Suave  ...       Multiple   \n",
       "\n",
       "   White Blood cell count (thousand per microliter) Blood test result  \\\n",
       "0                                          9.857562               NaN   \n",
       "1                                          5.522560            normal   \n",
       "2                                               NaN            normal   \n",
       "3                                          7.919321      inconclusive   \n",
       "4                                          4.098210               NaN   \n",
       "\n",
       "  Symptom 1 Symptom 2 Symptom 3 Symptom 4  Symptom 5  \\\n",
       "0       1.0       1.0       1.0       1.0        1.0   \n",
       "1       1.0       NaN       1.0       1.0        0.0   \n",
       "2       0.0       1.0       1.0       1.0        1.0   \n",
       "3       0.0       0.0       1.0       0.0        0.0   \n",
       "4       0.0       0.0       0.0       0.0        NaN   \n",
       "\n",
       "                               Genetic Disorder  \\\n",
       "0   Mitochondrial genetic inheritance disorders   \n",
       "1                                           NaN   \n",
       "2  Multifactorial genetic inheritance disorders   \n",
       "3   Mitochondrial genetic inheritance disorders   \n",
       "4  Multifactorial genetic inheritance disorders   \n",
       "\n",
       "                     Disorder Subclass  \n",
       "0  Leber's hereditary optic neuropathy  \n",
       "1                      Cystic fibrosis  \n",
       "2                             Diabetes  \n",
       "3                       Leigh syndrome  \n",
       "4                               Cancer  \n",
       "\n",
       "[5 rows x 45 columns]"
      ]
     },
     "execution_count": 277,
     "metadata": {},
     "output_type": "execute_result"
    }
   ],
   "source": [
    "train = pd.read_csv('train.csv')\n",
    "train.head()"
   ]
  },
  {
   "cell_type": "code",
   "execution_count": 278,
   "id": "fda33cb3",
   "metadata": {},
   "outputs": [
    {
     "data": {
      "text/plain": [
       "(22083, 45)"
      ]
     },
     "execution_count": 278,
     "metadata": {},
     "output_type": "execute_result"
    }
   ],
   "source": [
    "train.shape"
   ]
  },
  {
   "cell_type": "code",
   "execution_count": 279,
   "id": "0afade48",
   "metadata": {},
   "outputs": [
    {
     "data": {
      "text/plain": [
       "0"
      ]
     },
     "execution_count": 279,
     "metadata": {},
     "output_type": "execute_result"
    }
   ],
   "source": [
    "train.duplicated().sum()"
   ]
  },
  {
   "cell_type": "code",
   "execution_count": 280,
   "id": "a1e5dc55",
   "metadata": {},
   "outputs": [
    {
     "data": {
      "text/plain": [
       "Patient Id                                             0\n",
       "Patient Age                                         1427\n",
       "Genes in mother's side                                 0\n",
       "Inherited from father                                306\n",
       "Maternal gene                                       2810\n",
       "Paternal gene                                          0\n",
       "Blood cell count (mcL)                                 0\n",
       "Patient First Name                                     0\n",
       "Family Name                                         9691\n",
       "Father's name                                          0\n",
       "Mother's age                                        6036\n",
       "Father's age                                        5986\n",
       "Institute Name                                      5106\n",
       "Location of Institute                                  0\n",
       "Status                                                 0\n",
       "Respiratory Rate (breaths/min)                      2149\n",
       "Heart Rate (rates/min                               2113\n",
       "Test 1                                              2127\n",
       "Test 2                                              2152\n",
       "Test 3                                              2147\n",
       "Test 4                                              2140\n",
       "Test 5                                              2170\n",
       "Parental consent                                    2125\n",
       "Follow-up                                           2166\n",
       "Gender                                              2173\n",
       "Birth asphyxia                                      2139\n",
       "Autopsy shows birth defect (if applicable)          1026\n",
       "Place of birth                                      2124\n",
       "Folic acid details (peri-conceptional)              2117\n",
       "H/O serious maternal illness                        2152\n",
       "H/O radiation exposure (x-ray)                      2153\n",
       "H/O substance abuse                                 2195\n",
       "Assisted conception IVF/ART                         2122\n",
       "History of anomalies in previous pregnancies        2172\n",
       "No. of previous abortion                            2162\n",
       "Birth defects                                       2154\n",
       "White Blood cell count (thousand per microliter)    2148\n",
       "Blood test result                                   2145\n",
       "Symptom 1                                           2155\n",
       "Symptom 2                                           2222\n",
       "Symptom 3                                           2101\n",
       "Symptom 4                                           2113\n",
       "Symptom 5                                           2153\n",
       "Genetic Disorder                                    2146\n",
       "Disorder Subclass                                   2168\n",
       "dtype: int64"
      ]
     },
     "execution_count": 280,
     "metadata": {},
     "output_type": "execute_result"
    }
   ],
   "source": [
    "train.isnull().sum()"
   ]
  },
  {
   "cell_type": "code",
   "execution_count": 281,
   "id": "bb224312",
   "metadata": {},
   "outputs": [
    {
     "data": {
      "text/html": [
       "<div>\n",
       "<style scoped>\n",
       "    .dataframe tbody tr th:only-of-type {\n",
       "        vertical-align: middle;\n",
       "    }\n",
       "\n",
       "    .dataframe tbody tr th {\n",
       "        vertical-align: top;\n",
       "    }\n",
       "\n",
       "    .dataframe thead th {\n",
       "        text-align: right;\n",
       "    }\n",
       "</style>\n",
       "<table border=\"1\" class=\"dataframe\">\n",
       "  <thead>\n",
       "    <tr style=\"text-align: right;\">\n",
       "      <th></th>\n",
       "      <th>Patient Id</th>\n",
       "      <th>Patient Age</th>\n",
       "      <th>Genes in mother's side</th>\n",
       "      <th>Inherited from father</th>\n",
       "      <th>Maternal gene</th>\n",
       "      <th>Paternal gene</th>\n",
       "      <th>Blood cell count (mcL)</th>\n",
       "      <th>Patient First Name</th>\n",
       "      <th>Family Name</th>\n",
       "      <th>Father's name</th>\n",
       "      <th>...</th>\n",
       "      <th>History of anomalies in previous pregnancies</th>\n",
       "      <th>No. of previous abortion</th>\n",
       "      <th>Birth defects</th>\n",
       "      <th>White Blood cell count (thousand per microliter)</th>\n",
       "      <th>Blood test result</th>\n",
       "      <th>Symptom 1</th>\n",
       "      <th>Symptom 2</th>\n",
       "      <th>Symptom 3</th>\n",
       "      <th>Symptom 4</th>\n",
       "      <th>Symptom 5</th>\n",
       "    </tr>\n",
       "  </thead>\n",
       "  <tbody>\n",
       "    <tr>\n",
       "      <th>0</th>\n",
       "      <td>PID0x4175</td>\n",
       "      <td>6</td>\n",
       "      <td>No</td>\n",
       "      <td>Yes</td>\n",
       "      <td>No</td>\n",
       "      <td>No</td>\n",
       "      <td>4.981655</td>\n",
       "      <td>Charles</td>\n",
       "      <td>NaN</td>\n",
       "      <td>Kore</td>\n",
       "      <td>...</td>\n",
       "      <td>-99</td>\n",
       "      <td>2</td>\n",
       "      <td>Multiple</td>\n",
       "      <td>-99.000000</td>\n",
       "      <td>slightly abnormal</td>\n",
       "      <td>True</td>\n",
       "      <td>True</td>\n",
       "      <td>True</td>\n",
       "      <td>True</td>\n",
       "      <td>True</td>\n",
       "    </tr>\n",
       "    <tr>\n",
       "      <th>1</th>\n",
       "      <td>PID0x21f5</td>\n",
       "      <td>10</td>\n",
       "      <td>Yes</td>\n",
       "      <td>No</td>\n",
       "      <td>NaN</td>\n",
       "      <td>Yes</td>\n",
       "      <td>5.118890</td>\n",
       "      <td>Catherine</td>\n",
       "      <td>NaN</td>\n",
       "      <td>Homero</td>\n",
       "      <td>...</td>\n",
       "      <td>Yes</td>\n",
       "      <td>-99</td>\n",
       "      <td>Multiple</td>\n",
       "      <td>8.179584</td>\n",
       "      <td>normal</td>\n",
       "      <td>False</td>\n",
       "      <td>False</td>\n",
       "      <td>False</td>\n",
       "      <td>True</td>\n",
       "      <td>False</td>\n",
       "    </tr>\n",
       "    <tr>\n",
       "      <th>2</th>\n",
       "      <td>PID0x49b8</td>\n",
       "      <td>5</td>\n",
       "      <td>No</td>\n",
       "      <td>NaN</td>\n",
       "      <td>No</td>\n",
       "      <td>No</td>\n",
       "      <td>4.876204</td>\n",
       "      <td>James</td>\n",
       "      <td>NaN</td>\n",
       "      <td>Danield</td>\n",
       "      <td>...</td>\n",
       "      <td>No</td>\n",
       "      <td>0</td>\n",
       "      <td>Singular</td>\n",
       "      <td>-99.000000</td>\n",
       "      <td>slightly abnormal</td>\n",
       "      <td>False</td>\n",
       "      <td>False</td>\n",
       "      <td>True</td>\n",
       "      <td>True</td>\n",
       "      <td>False</td>\n",
       "    </tr>\n",
       "    <tr>\n",
       "      <th>3</th>\n",
       "      <td>PID0x2d97</td>\n",
       "      <td>13</td>\n",
       "      <td>No</td>\n",
       "      <td>Yes</td>\n",
       "      <td>Yes</td>\n",
       "      <td>No</td>\n",
       "      <td>4.687767</td>\n",
       "      <td>Brian</td>\n",
       "      <td>NaN</td>\n",
       "      <td>Orville</td>\n",
       "      <td>...</td>\n",
       "      <td>Yes</td>\n",
       "      <td>-99</td>\n",
       "      <td>Singular</td>\n",
       "      <td>6.884071</td>\n",
       "      <td>normal</td>\n",
       "      <td>True</td>\n",
       "      <td>False</td>\n",
       "      <td>True</td>\n",
       "      <td>False</td>\n",
       "      <td>True</td>\n",
       "    </tr>\n",
       "    <tr>\n",
       "      <th>4</th>\n",
       "      <td>PID0x58da</td>\n",
       "      <td>5</td>\n",
       "      <td>No</td>\n",
       "      <td>NaN</td>\n",
       "      <td>NaN</td>\n",
       "      <td>Yes</td>\n",
       "      <td>5.152362</td>\n",
       "      <td>Gary</td>\n",
       "      <td>NaN</td>\n",
       "      <td>Issiah</td>\n",
       "      <td>...</td>\n",
       "      <td>No</td>\n",
       "      <td>-99</td>\n",
       "      <td>Multiple</td>\n",
       "      <td>6.195178</td>\n",
       "      <td>normal</td>\n",
       "      <td>True</td>\n",
       "      <td>True</td>\n",
       "      <td>True</td>\n",
       "      <td>True</td>\n",
       "      <td>False</td>\n",
       "    </tr>\n",
       "  </tbody>\n",
       "</table>\n",
       "<p>5 rows × 43 columns</p>\n",
       "</div>"
      ],
      "text/plain": [
       "  Patient Id  Patient Age Genes in mother's side Inherited from father  \\\n",
       "0  PID0x4175            6                     No                   Yes   \n",
       "1  PID0x21f5           10                    Yes                    No   \n",
       "2  PID0x49b8            5                     No                   NaN   \n",
       "3  PID0x2d97           13                     No                   Yes   \n",
       "4  PID0x58da            5                     No                   NaN   \n",
       "\n",
       "  Maternal gene Paternal gene  Blood cell count (mcL) Patient First Name  \\\n",
       "0            No            No                4.981655            Charles   \n",
       "1           NaN           Yes                5.118890          Catherine   \n",
       "2            No            No                4.876204              James   \n",
       "3           Yes            No                4.687767              Brian   \n",
       "4           NaN           Yes                5.152362               Gary   \n",
       "\n",
       "  Family Name Father's name  ...  \\\n",
       "0         NaN          Kore  ...   \n",
       "1         NaN        Homero  ...   \n",
       "2         NaN       Danield  ...   \n",
       "3         NaN       Orville  ...   \n",
       "4         NaN        Issiah  ...   \n",
       "\n",
       "   History of anomalies in previous pregnancies  No. of previous abortion  \\\n",
       "0                                           -99                         2   \n",
       "1                                           Yes                       -99   \n",
       "2                                            No                         0   \n",
       "3                                           Yes                       -99   \n",
       "4                                            No                       -99   \n",
       "\n",
       "  Birth defects White Blood cell count (thousand per microliter)  \\\n",
       "0      Multiple                                       -99.000000   \n",
       "1      Multiple                                         8.179584   \n",
       "2      Singular                                       -99.000000   \n",
       "3      Singular                                         6.884071   \n",
       "4      Multiple                                         6.195178   \n",
       "\n",
       "   Blood test result Symptom 1 Symptom 2  Symptom 3  Symptom 4  Symptom 5  \n",
       "0  slightly abnormal      True      True       True       True       True  \n",
       "1             normal     False     False      False       True      False  \n",
       "2  slightly abnormal     False     False       True       True      False  \n",
       "3             normal      True     False       True      False       True  \n",
       "4             normal      True      True       True       True      False  \n",
       "\n",
       "[5 rows x 43 columns]"
      ]
     },
     "execution_count": 281,
     "metadata": {},
     "output_type": "execute_result"
    }
   ],
   "source": [
    "test = pd.read_csv('test.csv')\n",
    "test.head()"
   ]
  },
  {
   "cell_type": "code",
   "execution_count": 282,
   "id": "277954b6",
   "metadata": {},
   "outputs": [
    {
     "data": {
      "text/plain": [
       "(9465, 43)"
      ]
     },
     "execution_count": 282,
     "metadata": {},
     "output_type": "execute_result"
    }
   ],
   "source": [
    "test.shape"
   ]
  },
  {
   "cell_type": "code",
   "execution_count": 283,
   "id": "8d52348a",
   "metadata": {},
   "outputs": [
    {
     "data": {
      "text/plain": [
       "Patient Id                                             0\n",
       "Patient Age                                            0\n",
       "Genes in mother's side                                 0\n",
       "Inherited from father                                551\n",
       "Maternal gene                                       3723\n",
       "Paternal gene                                          0\n",
       "Blood cell count (mcL)                                 0\n",
       "Patient First Name                                     0\n",
       "Family Name                                         9317\n",
       "Father's name                                          0\n",
       "Mother's age                                           0\n",
       "Father's age                                           0\n",
       "Institute Name                                      2036\n",
       "Location of Institute                                  0\n",
       "Status                                                 0\n",
       "Respiratory Rate (breaths/min)                      2886\n",
       "Heart Rate (rates/min                               2900\n",
       "Test 1                                                 0\n",
       "Test 2                                                 0\n",
       "Test 3                                                 0\n",
       "Test 4                                                 0\n",
       "Test 5                                                 0\n",
       "Parental consent                                       0\n",
       "Follow-up                                              0\n",
       "Gender                                                 0\n",
       "Birth asphyxia                                         0\n",
       "Autopsy shows birth defect (if applicable)             0\n",
       "Place of birth                                         0\n",
       "Folic acid details (peri-conceptional)                 0\n",
       "H/O serious maternal illness                           0\n",
       "H/O radiation exposure (x-ray)                         0\n",
       "H/O substance abuse                                    0\n",
       "Assisted conception IVF/ART                            0\n",
       "History of anomalies in previous pregnancies           0\n",
       "No. of previous abortion                               0\n",
       "Birth defects                                          0\n",
       "White Blood cell count (thousand per microliter)       0\n",
       "Blood test result                                      0\n",
       "Symptom 1                                              0\n",
       "Symptom 2                                              0\n",
       "Symptom 3                                              0\n",
       "Symptom 4                                              0\n",
       "Symptom 5                                              0\n",
       "dtype: int64"
      ]
     },
     "execution_count": 283,
     "metadata": {},
     "output_type": "execute_result"
    }
   ],
   "source": [
    "test.isnull().sum()"
   ]
  },
  {
   "cell_type": "markdown",
   "id": "97b4f10e",
   "metadata": {},
   "source": [
    "----------"
   ]
  },
  {
   "cell_type": "code",
   "execution_count": 284,
   "id": "ff867160",
   "metadata": {},
   "outputs": [],
   "source": [
    "train['Patient Age'] = train['Patient Age'].fillna(0)\n",
    "train['Patient Age'] = train['Patient Age'].astype(int)"
   ]
  },
  {
   "cell_type": "code",
   "execution_count": 285,
   "id": "29fb5ff1",
   "metadata": {},
   "outputs": [],
   "source": [
    "train['Inherited from father'] = train['Inherited from father'].fillna('No data')\n",
    "test['Inherited from father'] = test['Inherited from father'].fillna('No data')"
   ]
  },
  {
   "cell_type": "code",
   "execution_count": 286,
   "id": "a265794a",
   "metadata": {},
   "outputs": [],
   "source": [
    "train['Maternal gene'] = train['Maternal gene'].fillna('No data')\n",
    "test['Maternal gene'] = test['Maternal gene'].fillna('No data')"
   ]
  },
  {
   "cell_type": "code",
   "execution_count": 287,
   "id": "12d9b6d8",
   "metadata": {},
   "outputs": [],
   "source": [
    "train['Mother\\'s age'] = train['Mother\\'s age'].fillna(train['Mother\\'s age'].mean())"
   ]
  },
  {
   "cell_type": "code",
   "execution_count": 288,
   "id": "96d9f9e9",
   "metadata": {},
   "outputs": [],
   "source": [
    "train['Father\\'s age'] = train['Father\\'s age'].fillna(train['Father\\'s age'].mean())"
   ]
  },
  {
   "cell_type": "code",
   "execution_count": 289,
   "id": "36e4082d",
   "metadata": {},
   "outputs": [],
   "source": [
    "test['Parental consent'] = test['Parental consent'].replace({'-99' : 'Yes'})"
   ]
  },
  {
   "cell_type": "code",
   "execution_count": 290,
   "id": "cd5300e0",
   "metadata": {},
   "outputs": [],
   "source": [
    "train['Respiratory Rate (breaths/min)'] = train['Respiratory Rate (breaths/min)'].fillna(train['Respiratory Rate (breaths/min)'].value_counts().index[0])\n",
    "test['Respiratory Rate (breaths/min)'] = test['Respiratory Rate (breaths/min)'].fillna(test['Respiratory Rate (breaths/min)'].value_counts().index[0])"
   ]
  },
  {
   "cell_type": "code",
   "execution_count": 291,
   "id": "4e65e35a",
   "metadata": {},
   "outputs": [],
   "source": [
    "train['Respiratory Rate (breaths/min)'] = train['Respiratory Rate (breaths/min)'].astype(str)\n",
    "train['Respiratory Rate (breaths/min)']= train['Respiratory Rate (breaths/min)'].apply(lambda x:x.split()[0])"
   ]
  },
  {
   "cell_type": "code",
   "execution_count": 292,
   "id": "e55969be",
   "metadata": {},
   "outputs": [],
   "source": [
    "test['Respiratory Rate (breaths/min)'] = test['Respiratory Rate (breaths/min)'].astype(str)\n",
    "test['Respiratory Rate (breaths/min)']= test['Respiratory Rate (breaths/min)'].apply(lambda x:x.split()[0])"
   ]
  },
  {
   "cell_type": "code",
   "execution_count": 293,
   "id": "b981a936",
   "metadata": {},
   "outputs": [],
   "source": [
    "train['Heart Rate (rates/min'] = train['Heart Rate (rates/min'].fillna(train['Heart Rate (rates/min'].value_counts().index[0])\n",
    "test['Heart Rate (rates/min'] = test['Heart Rate (rates/min'].fillna(test['Heart Rate (rates/min'].value_counts().index[0])"
   ]
  },
  {
   "cell_type": "code",
   "execution_count": 294,
   "id": "edae8c01",
   "metadata": {},
   "outputs": [],
   "source": [
    "train['Heart Rate (rates/min'] = train['Heart Rate (rates/min'].astype(str)\n",
    "train['Heart Rate (rates/min'] = train['Heart Rate (rates/min'].apply(lambda x:x.split()[0])"
   ]
  },
  {
   "cell_type": "code",
   "execution_count": 295,
   "id": "d440acbd",
   "metadata": {},
   "outputs": [],
   "source": [
    "test['Heart Rate (rates/min'] = test['Heart Rate (rates/min'].astype(str)\n",
    "test['Heart Rate (rates/min'] = test['Heart Rate (rates/min'].apply(lambda x:x.split()[0])"
   ]
  },
  {
   "cell_type": "code",
   "execution_count": 296,
   "id": "1db332b7",
   "metadata": {},
   "outputs": [],
   "source": [
    "train['Parental consent'] = train['Parental consent'].fillna(train['Parental consent'].value_counts().index[0])"
   ]
  },
  {
   "cell_type": "code",
   "execution_count": 297,
   "id": "a1e9ca64",
   "metadata": {},
   "outputs": [],
   "source": [
    "train['Follow-up'] = train['Follow-up'].fillna(train['Follow-up'].value_counts().index[0])"
   ]
  },
  {
   "cell_type": "code",
   "execution_count": 298,
   "id": "55b3c691",
   "metadata": {},
   "outputs": [],
   "source": [
    "train['Gender'] = train['Gender'].fillna(train['Gender'].value_counts().index[0])"
   ]
  },
  {
   "cell_type": "code",
   "execution_count": 299,
   "id": "d74bb032",
   "metadata": {},
   "outputs": [],
   "source": [
    "x = ['Birth asphyxia']\n",
    "for i in x:\n",
    "    train[i] = train[i].replace({'Not available' : 'No record'})\n",
    "    test[i] = test[i].replace({'Not available' : 'No record', '-99' : 'No record'})"
   ]
  },
  {
   "cell_type": "code",
   "execution_count": 300,
   "id": "72e17d10",
   "metadata": {},
   "outputs": [],
   "source": [
    "train['Birth asphyxia'] = train['Birth asphyxia'].fillna(train['Birth asphyxia'].value_counts().index[0])"
   ]
  },
  {
   "cell_type": "code",
   "execution_count": 301,
   "id": "2117cae5",
   "metadata": {},
   "outputs": [],
   "source": [
    "train['Autopsy shows birth defect (if applicable)'] = train['Autopsy shows birth defect (if applicable)'].fillna('No record')"
   ]
  },
  {
   "cell_type": "code",
   "execution_count": 302,
   "id": "a7a2ede8",
   "metadata": {},
   "outputs": [],
   "source": [
    "train['Place of birth'] = train['Place of birth'].fillna('No record')"
   ]
  },
  {
   "cell_type": "code",
   "execution_count": 303,
   "id": "8eb49fa9",
   "metadata": {},
   "outputs": [],
   "source": [
    "train['Folic acid details (peri-conceptional)'] = train['Folic acid details (peri-conceptional)'].fillna('No record')"
   ]
  },
  {
   "cell_type": "code",
   "execution_count": 304,
   "id": "97683781",
   "metadata": {},
   "outputs": [],
   "source": [
    "train['H/O radiation exposure (x-ray)'] = train['H/O radiation exposure (x-ray)'].fillna('No record')"
   ]
  },
  {
   "cell_type": "code",
   "execution_count": 305,
   "id": "40912e72",
   "metadata": {},
   "outputs": [],
   "source": [
    "train['H/O radiation exposure (x-ray)'] = train['H/O radiation exposure (x-ray)'].replace({'-': 'No record'})"
   ]
  },
  {
   "cell_type": "code",
   "execution_count": 306,
   "id": "3a89c030",
   "metadata": {},
   "outputs": [],
   "source": [
    "train['H/O serious maternal illness'] = train['H/O serious maternal illness'].fillna('No record')"
   ]
  },
  {
   "cell_type": "code",
   "execution_count": 307,
   "id": "b90f1cb2",
   "metadata": {},
   "outputs": [],
   "source": [
    "train['H/O substance abuse'] = train['H/O substance abuse'].replace({'-' : 'No record'})\n",
    "train['H/O substance abuse'] = train['H/O substance abuse'].fillna('No record')"
   ]
  },
  {
   "cell_type": "code",
   "execution_count": 308,
   "id": "59208224",
   "metadata": {},
   "outputs": [],
   "source": [
    "x = ['H/O serious maternal illness', '']"
   ]
  },
  {
   "cell_type": "code",
   "execution_count": 309,
   "id": "34c15d1f",
   "metadata": {},
   "outputs": [],
   "source": [
    "train['Assisted conception IVF/ART'] = train['Assisted conception IVF/ART'].fillna('No record')"
   ]
  },
  {
   "cell_type": "code",
   "execution_count": 310,
   "id": "6612222b",
   "metadata": {},
   "outputs": [],
   "source": [
    "train['History of anomalies in previous pregnancies'] = train['History of anomalies in previous pregnancies'].fillna('No record')"
   ]
  },
  {
   "cell_type": "code",
   "execution_count": 311,
   "id": "35f476c1",
   "metadata": {},
   "outputs": [],
   "source": [
    "train['No. of previous abortion'] = train['No. of previous abortion'].fillna(2.0)\n",
    "train['No. of previous abortion'] = train['No. of previous abortion'].astype(int)"
   ]
  },
  {
   "cell_type": "code",
   "execution_count": 312,
   "id": "45558a58",
   "metadata": {},
   "outputs": [],
   "source": [
    "train['Birth defects'] = train['Birth defects'].fillna('No record')"
   ]
  },
  {
   "cell_type": "code",
   "execution_count": 313,
   "id": "75cd1fec",
   "metadata": {},
   "outputs": [],
   "source": [
    "train['White Blood cell count (thousand per microliter)'] = train['White Blood cell count (thousand per microliter)'].fillna(train['White Blood cell count (thousand per microliter)'].mean())"
   ]
  },
  {
   "cell_type": "code",
   "execution_count": 314,
   "id": "5c855032",
   "metadata": {},
   "outputs": [],
   "source": [
    "train['Blood test result'] = train['Blood test result'].fillna('No record')"
   ]
  },
  {
   "cell_type": "code",
   "execution_count": 315,
   "id": "b4f15292",
   "metadata": {},
   "outputs": [],
   "source": [
    "x = ['Symptom 1', 'Symptom 2', 'Symptom 3']\n",
    "for i in x:\n",
    "    train[i] = train[i].fillna(1)\n",
    "    train[i] = train[i].astype(int)"
   ]
  },
  {
   "cell_type": "code",
   "execution_count": 316,
   "id": "0bec04dc",
   "metadata": {},
   "outputs": [],
   "source": [
    "x = ['Symptom 4', 'Symptom 5']\n",
    "for i in x:\n",
    "    train[i] = train[i].fillna(0)\n",
    "    train[i] = train[i].astype(int)"
   ]
  },
  {
   "cell_type": "code",
   "execution_count": 317,
   "id": "f5ae2531",
   "metadata": {},
   "outputs": [],
   "source": [
    "x = ['Symptom 1', 'Symptom 2', 'Symptom 3', 'Symptom 4', 'Symptom 5']\n",
    "for i in x:\n",
    "    test[i] = test[i].replace({'True': 1, 'False': 0})\n",
    "    test[i] = test[i].astype(int)"
   ]
  },
  {
   "cell_type": "code",
   "execution_count": 318,
   "id": "34b8f374",
   "metadata": {},
   "outputs": [],
   "source": [
    "x = ['Test 1', 'Test 2', 'Test 3', 'Test 5']\n",
    "for i in x:\n",
    "    train[i] = train[i].fillna(0)\n",
    "    train[i] = train[i].astype(int)"
   ]
  },
  {
   "cell_type": "code",
   "execution_count": 319,
   "id": "34ab48d5",
   "metadata": {},
   "outputs": [],
   "source": [
    "train['Test 4'] = train['Test 4'].fillna(1)\n",
    "train['Test 4'] = train['Test 4'].astype(int)"
   ]
  },
  {
   "cell_type": "code",
   "execution_count": 320,
   "id": "9e81f52f",
   "metadata": {},
   "outputs": [],
   "source": [
    "x = ['Test 1', 'Test 2', 'Test 3', 'Test 5']\n",
    "for i in x:\n",
    "    test[i] = test[i].replace({-99 : 0})"
   ]
  },
  {
   "cell_type": "code",
   "execution_count": 321,
   "id": "f3508a7b",
   "metadata": {},
   "outputs": [],
   "source": [
    "test['Test 4'] = test['Test 4'].replace({-99 : 1})"
   ]
  },
  {
   "cell_type": "code",
   "execution_count": 322,
   "id": "a6118d42",
   "metadata": {},
   "outputs": [],
   "source": [
    "train = train.drop(['Patient First Name', 'Family Name', \"Father's name\", 'Institute Name', 'Location of Institute'], axis = 1)\n",
    "test = test.drop(['Patient First Name', 'Family Name', \"Father's name\", 'Institute Name', 'Location of Institute'], axis = 1)"
   ]
  },
  {
   "cell_type": "code",
   "execution_count": 323,
   "id": "1bc9eb16",
   "metadata": {},
   "outputs": [],
   "source": [
    "x = ['Genes in mother\\'s side', 'Inherited from father', 'Maternal gene', 'Paternal gene', 'Parental consent']\n",
    "for i in x:\n",
    "    train[i] = train[i].replace({'Yes' : 1, 'No' : 0, 'No data' : 2})\n",
    "    train[i] = train[i].astype(int)\n",
    "    test[i] = test[i].replace({'Yes' : 1, 'No' : 0, 'No data' : 2})\n",
    "    test[i] = test[i].astype(int)"
   ]
  },
  {
   "cell_type": "markdown",
   "id": "d2257c58",
   "metadata": {},
   "source": [
    "-------------------"
   ]
  },
  {
   "cell_type": "code",
   "execution_count": 324,
   "id": "7653356a",
   "metadata": {},
   "outputs": [],
   "source": [
    "test['Respiratory Rate (breaths/min)'] = test['Respiratory Rate (breaths/min)'].replace({'-99' : 'No record'})"
   ]
  },
  {
   "cell_type": "code",
   "execution_count": 325,
   "id": "37048426",
   "metadata": {},
   "outputs": [],
   "source": [
    "test['Heart Rate (rates/min'] = test['Heart Rate (rates/min'].replace({'-99' : 'No record'})"
   ]
  },
  {
   "cell_type": "code",
   "execution_count": 326,
   "id": "4170a145",
   "metadata": {},
   "outputs": [],
   "source": [
    "test['Follow-up'] = test['Follow-up'].replace({'-99' : 'No record'})"
   ]
  },
  {
   "cell_type": "code",
   "execution_count": 327,
   "id": "ceceaf45",
   "metadata": {},
   "outputs": [],
   "source": [
    "test['Gender'] = test['Gender'].replace({'-99' : 'No record'})"
   ]
  },
  {
   "cell_type": "code",
   "execution_count": 328,
   "id": "f2ea138b",
   "metadata": {},
   "outputs": [],
   "source": [
    "test['Autopsy shows birth defect (if applicable)'] = test['Autopsy shows birth defect (if applicable)'].replace({'-99' : 'No record'})"
   ]
  },
  {
   "cell_type": "code",
   "execution_count": 329,
   "id": "febf968e",
   "metadata": {},
   "outputs": [],
   "source": [
    "test['Place of birth'] = test['Place of birth'].replace({'-99' : 'No record'})"
   ]
  },
  {
   "cell_type": "code",
   "execution_count": 330,
   "id": "99fb0fbb",
   "metadata": {},
   "outputs": [],
   "source": [
    "from sklearn.preprocessing import LabelEncoder\n",
    "le = LabelEncoder()"
   ]
  },
  {
   "cell_type": "code",
   "execution_count": 331,
   "id": "e0f3b073",
   "metadata": {},
   "outputs": [],
   "source": [
    "x = ['Status', 'Respiratory Rate (breaths/min)', 'Heart Rate (rates/min', 'Follow-up', 'Gender', 'Birth asphyxia', 'Autopsy shows birth defect (if applicable)', 'Place of birth']\n",
    "for i in x:\n",
    "    train[i] = le.fit_transform(train[i])\n",
    "    test[i] = le.fit_transform(test[i])"
   ]
  },
  {
   "cell_type": "code",
   "execution_count": 332,
   "id": "4c4c3c7c",
   "metadata": {},
   "outputs": [],
   "source": [
    "test['Folic acid details (peri-conceptional)'] = test['Folic acid details (peri-conceptional)'].replace({'-99' : 'No record'})"
   ]
  },
  {
   "cell_type": "code",
   "execution_count": 333,
   "id": "54358281",
   "metadata": {},
   "outputs": [],
   "source": [
    "test['H/O serious maternal illness'] = test['H/O serious maternal illness'].replace({'-99' : 'No record'})"
   ]
  },
  {
   "cell_type": "code",
   "execution_count": 334,
   "id": "ad2784bc",
   "metadata": {},
   "outputs": [],
   "source": [
    "test['H/O radiation exposure (x-ray)'] = test['H/O radiation exposure (x-ray)'].replace({'-99' : 'No record', '-' : 'No record'})"
   ]
  },
  {
   "cell_type": "code",
   "execution_count": 335,
   "id": "91fa7cb0",
   "metadata": {},
   "outputs": [],
   "source": [
    "test['H/O substance abuse'] = test['H/O substance abuse'].replace({'-99' : 'No record', '-' : 'No record'})"
   ]
  },
  {
   "cell_type": "code",
   "execution_count": 336,
   "id": "c1eca757",
   "metadata": {},
   "outputs": [],
   "source": [
    "x = ['Folic acid details (peri-conceptional)', 'H/O serious maternal illness', 'H/O radiation exposure (x-ray)', 'H/O substance abuse']\n",
    "for i in x:\n",
    "    train[i] = le.fit_transform(train[i])\n",
    "    test[i] = le.fit_transform(test[i])"
   ]
  },
  {
   "cell_type": "code",
   "execution_count": 337,
   "id": "50d9460b",
   "metadata": {},
   "outputs": [],
   "source": [
    "test['Assisted conception IVF/ART'] = test['Assisted conception IVF/ART'].replace({'-99' : 'No record'})"
   ]
  },
  {
   "cell_type": "code",
   "execution_count": 338,
   "id": "804eb661",
   "metadata": {},
   "outputs": [],
   "source": [
    "test['History of anomalies in previous pregnancies'] = test['History of anomalies in previous pregnancies'].replace({'-99' : 'No record'})"
   ]
  },
  {
   "cell_type": "code",
   "execution_count": 339,
   "id": "46fb11a3",
   "metadata": {},
   "outputs": [],
   "source": [
    "test['Birth defects'] = test['Birth defects'].replace({'-99' : 'No record'})"
   ]
  },
  {
   "cell_type": "code",
   "execution_count": 340,
   "id": "fbf54ea4",
   "metadata": {},
   "outputs": [],
   "source": [
    "test['Blood test result'] = test['Blood test result'].replace({'-99' : 'No record'})"
   ]
  },
  {
   "cell_type": "code",
   "execution_count": 341,
   "id": "c4ba5ed2",
   "metadata": {},
   "outputs": [],
   "source": [
    "x = ['Assisted conception IVF/ART', 'History of anomalies in previous pregnancies', 'Birth defects', 'Blood test result']\n",
    "for i in x:\n",
    "    train[i] = le.fit_transform(train[i])\n",
    "    test[i] = le.fit_transform(test[i])"
   ]
  },
  {
   "cell_type": "code",
   "execution_count": 342,
   "id": "a0c56108",
   "metadata": {},
   "outputs": [
    {
     "data": {
      "text/plain": [
       "Mitochondrial genetic inheritance disorders     10202\n",
       "Single-gene inheritance diseases                 7664\n",
       "Multifactorial genetic inheritance disorders     2071\n",
       "Name: Genetic Disorder, dtype: int64"
      ]
     },
     "execution_count": 342,
     "metadata": {},
     "output_type": "execute_result"
    }
   ],
   "source": [
    "train['Genetic Disorder'].value_counts()"
   ]
  },
  {
   "cell_type": "code",
   "execution_count": 343,
   "id": "5804ed5e",
   "metadata": {},
   "outputs": [
    {
     "data": {
      "text/plain": [
       "(19937, 40)"
      ]
     },
     "execution_count": 343,
     "metadata": {},
     "output_type": "execute_result"
    }
   ],
   "source": [
    "df = train[train['Genetic Disorder'].notnull()]\n",
    "df.shape"
   ]
  },
  {
   "cell_type": "code",
   "execution_count": 344,
   "id": "b4b6ec6c",
   "metadata": {},
   "outputs": [
    {
     "data": {
      "text/html": [
       "<div>\n",
       "<style scoped>\n",
       "    .dataframe tbody tr th:only-of-type {\n",
       "        vertical-align: middle;\n",
       "    }\n",
       "\n",
       "    .dataframe tbody tr th {\n",
       "        vertical-align: top;\n",
       "    }\n",
       "\n",
       "    .dataframe thead th {\n",
       "        text-align: right;\n",
       "    }\n",
       "</style>\n",
       "<table border=\"1\" class=\"dataframe\">\n",
       "  <thead>\n",
       "    <tr style=\"text-align: right;\">\n",
       "      <th></th>\n",
       "      <th>Patient Id</th>\n",
       "      <th>Patient Age</th>\n",
       "      <th>Genes in mother's side</th>\n",
       "      <th>Inherited from father</th>\n",
       "      <th>Maternal gene</th>\n",
       "      <th>Paternal gene</th>\n",
       "      <th>Blood cell count (mcL)</th>\n",
       "      <th>Mother's age</th>\n",
       "      <th>Father's age</th>\n",
       "      <th>Status</th>\n",
       "      <th>...</th>\n",
       "      <th>Birth defects</th>\n",
       "      <th>White Blood cell count (thousand per microliter)</th>\n",
       "      <th>Blood test result</th>\n",
       "      <th>Symptom 1</th>\n",
       "      <th>Symptom 2</th>\n",
       "      <th>Symptom 3</th>\n",
       "      <th>Symptom 4</th>\n",
       "      <th>Symptom 5</th>\n",
       "      <th>Genetic Disorder</th>\n",
       "      <th>Disorder Subclass</th>\n",
       "    </tr>\n",
       "  </thead>\n",
       "  <tbody>\n",
       "    <tr>\n",
       "      <th>1</th>\n",
       "      <td>PID0x25d5</td>\n",
       "      <td>4</td>\n",
       "      <td>1</td>\n",
       "      <td>1</td>\n",
       "      <td>0</td>\n",
       "      <td>0</td>\n",
       "      <td>4.910669</td>\n",
       "      <td>34.526454</td>\n",
       "      <td>23.000000</td>\n",
       "      <td>1</td>\n",
       "      <td>...</td>\n",
       "      <td>0</td>\n",
       "      <td>5.522560</td>\n",
       "      <td>3</td>\n",
       "      <td>1</td>\n",
       "      <td>1</td>\n",
       "      <td>1</td>\n",
       "      <td>1</td>\n",
       "      <td>0</td>\n",
       "      <td>NaN</td>\n",
       "      <td>Cystic fibrosis</td>\n",
       "    </tr>\n",
       "    <tr>\n",
       "      <th>13</th>\n",
       "      <td>PID0xc25</td>\n",
       "      <td>0</td>\n",
       "      <td>1</td>\n",
       "      <td>0</td>\n",
       "      <td>0</td>\n",
       "      <td>1</td>\n",
       "      <td>4.807778</td>\n",
       "      <td>28.000000</td>\n",
       "      <td>41.972852</td>\n",
       "      <td>1</td>\n",
       "      <td>...</td>\n",
       "      <td>0</td>\n",
       "      <td>8.440593</td>\n",
       "      <td>1</td>\n",
       "      <td>0</td>\n",
       "      <td>1</td>\n",
       "      <td>1</td>\n",
       "      <td>0</td>\n",
       "      <td>0</td>\n",
       "      <td>NaN</td>\n",
       "      <td>Leigh syndrome</td>\n",
       "    </tr>\n",
       "    <tr>\n",
       "      <th>52</th>\n",
       "      <td>PID0x264c</td>\n",
       "      <td>0</td>\n",
       "      <td>1</td>\n",
       "      <td>0</td>\n",
       "      <td>1</td>\n",
       "      <td>0</td>\n",
       "      <td>4.921015</td>\n",
       "      <td>24.000000</td>\n",
       "      <td>41.972852</td>\n",
       "      <td>1</td>\n",
       "      <td>...</td>\n",
       "      <td>2</td>\n",
       "      <td>7.486224</td>\n",
       "      <td>4</td>\n",
       "      <td>1</td>\n",
       "      <td>0</td>\n",
       "      <td>0</td>\n",
       "      <td>0</td>\n",
       "      <td>0</td>\n",
       "      <td>NaN</td>\n",
       "      <td>Tay-Sachs</td>\n",
       "    </tr>\n",
       "    <tr>\n",
       "      <th>68</th>\n",
       "      <td>PID0x20e7</td>\n",
       "      <td>8</td>\n",
       "      <td>1</td>\n",
       "      <td>0</td>\n",
       "      <td>2</td>\n",
       "      <td>1</td>\n",
       "      <td>5.259736</td>\n",
       "      <td>34.526454</td>\n",
       "      <td>41.972852</td>\n",
       "      <td>0</td>\n",
       "      <td>...</td>\n",
       "      <td>1</td>\n",
       "      <td>9.719873</td>\n",
       "      <td>4</td>\n",
       "      <td>1</td>\n",
       "      <td>0</td>\n",
       "      <td>1</td>\n",
       "      <td>0</td>\n",
       "      <td>0</td>\n",
       "      <td>NaN</td>\n",
       "      <td>Mitochondrial myopathy</td>\n",
       "    </tr>\n",
       "    <tr>\n",
       "      <th>75</th>\n",
       "      <td>PID0x2447</td>\n",
       "      <td>2</td>\n",
       "      <td>1</td>\n",
       "      <td>1</td>\n",
       "      <td>1</td>\n",
       "      <td>1</td>\n",
       "      <td>4.927532</td>\n",
       "      <td>40.000000</td>\n",
       "      <td>49.000000</td>\n",
       "      <td>1</td>\n",
       "      <td>...</td>\n",
       "      <td>2</td>\n",
       "      <td>5.169576</td>\n",
       "      <td>1</td>\n",
       "      <td>1</td>\n",
       "      <td>1</td>\n",
       "      <td>0</td>\n",
       "      <td>0</td>\n",
       "      <td>1</td>\n",
       "      <td>NaN</td>\n",
       "      <td>Cystic fibrosis</td>\n",
       "    </tr>\n",
       "    <tr>\n",
       "      <th>...</th>\n",
       "      <td>...</td>\n",
       "      <td>...</td>\n",
       "      <td>...</td>\n",
       "      <td>...</td>\n",
       "      <td>...</td>\n",
       "      <td>...</td>\n",
       "      <td>...</td>\n",
       "      <td>...</td>\n",
       "      <td>...</td>\n",
       "      <td>...</td>\n",
       "      <td>...</td>\n",
       "      <td>...</td>\n",
       "      <td>...</td>\n",
       "      <td>...</td>\n",
       "      <td>...</td>\n",
       "      <td>...</td>\n",
       "      <td>...</td>\n",
       "      <td>...</td>\n",
       "      <td>...</td>\n",
       "      <td>...</td>\n",
       "      <td>...</td>\n",
       "    </tr>\n",
       "    <tr>\n",
       "      <th>22051</th>\n",
       "      <td>PID0x54e1</td>\n",
       "      <td>0</td>\n",
       "      <td>1</td>\n",
       "      <td>1</td>\n",
       "      <td>0</td>\n",
       "      <td>1</td>\n",
       "      <td>4.664764</td>\n",
       "      <td>42.000000</td>\n",
       "      <td>30.000000</td>\n",
       "      <td>1</td>\n",
       "      <td>...</td>\n",
       "      <td>2</td>\n",
       "      <td>7.486224</td>\n",
       "      <td>3</td>\n",
       "      <td>0</td>\n",
       "      <td>0</td>\n",
       "      <td>0</td>\n",
       "      <td>0</td>\n",
       "      <td>0</td>\n",
       "      <td>NaN</td>\n",
       "      <td>Tay-Sachs</td>\n",
       "    </tr>\n",
       "    <tr>\n",
       "      <th>22055</th>\n",
       "      <td>PID0x53fd</td>\n",
       "      <td>1</td>\n",
       "      <td>0</td>\n",
       "      <td>0</td>\n",
       "      <td>2</td>\n",
       "      <td>0</td>\n",
       "      <td>4.516767</td>\n",
       "      <td>34.526454</td>\n",
       "      <td>42.000000</td>\n",
       "      <td>1</td>\n",
       "      <td>...</td>\n",
       "      <td>0</td>\n",
       "      <td>7.486224</td>\n",
       "      <td>4</td>\n",
       "      <td>1</td>\n",
       "      <td>1</td>\n",
       "      <td>0</td>\n",
       "      <td>0</td>\n",
       "      <td>1</td>\n",
       "      <td>NaN</td>\n",
       "      <td>Tay-Sachs</td>\n",
       "    </tr>\n",
       "    <tr>\n",
       "      <th>22070</th>\n",
       "      <td>PID0x2666</td>\n",
       "      <td>3</td>\n",
       "      <td>1</td>\n",
       "      <td>0</td>\n",
       "      <td>0</td>\n",
       "      <td>0</td>\n",
       "      <td>4.671013</td>\n",
       "      <td>40.000000</td>\n",
       "      <td>39.000000</td>\n",
       "      <td>1</td>\n",
       "      <td>...</td>\n",
       "      <td>0</td>\n",
       "      <td>4.967410</td>\n",
       "      <td>2</td>\n",
       "      <td>0</td>\n",
       "      <td>1</td>\n",
       "      <td>1</td>\n",
       "      <td>1</td>\n",
       "      <td>1</td>\n",
       "      <td>NaN</td>\n",
       "      <td>Diabetes</td>\n",
       "    </tr>\n",
       "    <tr>\n",
       "      <th>22073</th>\n",
       "      <td>PID0xbd</td>\n",
       "      <td>13</td>\n",
       "      <td>1</td>\n",
       "      <td>1</td>\n",
       "      <td>0</td>\n",
       "      <td>1</td>\n",
       "      <td>4.874635</td>\n",
       "      <td>44.000000</td>\n",
       "      <td>62.000000</td>\n",
       "      <td>0</td>\n",
       "      <td>...</td>\n",
       "      <td>1</td>\n",
       "      <td>7.486224</td>\n",
       "      <td>3</td>\n",
       "      <td>0</td>\n",
       "      <td>0</td>\n",
       "      <td>0</td>\n",
       "      <td>1</td>\n",
       "      <td>1</td>\n",
       "      <td>NaN</td>\n",
       "      <td>Leigh syndrome</td>\n",
       "    </tr>\n",
       "    <tr>\n",
       "      <th>22081</th>\n",
       "      <td>PID0x13a</td>\n",
       "      <td>7</td>\n",
       "      <td>1</td>\n",
       "      <td>0</td>\n",
       "      <td>1</td>\n",
       "      <td>1</td>\n",
       "      <td>4.858543</td>\n",
       "      <td>19.000000</td>\n",
       "      <td>41.972852</td>\n",
       "      <td>0</td>\n",
       "      <td>...</td>\n",
       "      <td>0</td>\n",
       "      <td>8.437670</td>\n",
       "      <td>1</td>\n",
       "      <td>1</td>\n",
       "      <td>1</td>\n",
       "      <td>1</td>\n",
       "      <td>0</td>\n",
       "      <td>0</td>\n",
       "      <td>NaN</td>\n",
       "      <td>Leigh syndrome</td>\n",
       "    </tr>\n",
       "  </tbody>\n",
       "</table>\n",
       "<p>2146 rows × 40 columns</p>\n",
       "</div>"
      ],
      "text/plain": [
       "      Patient Id  Patient Age  Genes in mother's side  Inherited from father  \\\n",
       "1      PID0x25d5            4                       1                      1   \n",
       "13      PID0xc25            0                       1                      0   \n",
       "52     PID0x264c            0                       1                      0   \n",
       "68     PID0x20e7            8                       1                      0   \n",
       "75     PID0x2447            2                       1                      1   \n",
       "...          ...          ...                     ...                    ...   \n",
       "22051  PID0x54e1            0                       1                      1   \n",
       "22055  PID0x53fd            1                       0                      0   \n",
       "22070  PID0x2666            3                       1                      0   \n",
       "22073    PID0xbd           13                       1                      1   \n",
       "22081   PID0x13a            7                       1                      0   \n",
       "\n",
       "       Maternal gene  Paternal gene  Blood cell count (mcL)  Mother's age  \\\n",
       "1                  0              0                4.910669     34.526454   \n",
       "13                 0              1                4.807778     28.000000   \n",
       "52                 1              0                4.921015     24.000000   \n",
       "68                 2              1                5.259736     34.526454   \n",
       "75                 1              1                4.927532     40.000000   \n",
       "...              ...            ...                     ...           ...   \n",
       "22051              0              1                4.664764     42.000000   \n",
       "22055              2              0                4.516767     34.526454   \n",
       "22070              0              0                4.671013     40.000000   \n",
       "22073              0              1                4.874635     44.000000   \n",
       "22081              1              1                4.858543     19.000000   \n",
       "\n",
       "       Father's age  Status  ...  Birth defects  \\\n",
       "1         23.000000       1  ...              0   \n",
       "13        41.972852       1  ...              0   \n",
       "52        41.972852       1  ...              2   \n",
       "68        41.972852       0  ...              1   \n",
       "75        49.000000       1  ...              2   \n",
       "...             ...     ...  ...            ...   \n",
       "22051     30.000000       1  ...              2   \n",
       "22055     42.000000       1  ...              0   \n",
       "22070     39.000000       1  ...              0   \n",
       "22073     62.000000       0  ...              1   \n",
       "22081     41.972852       0  ...              0   \n",
       "\n",
       "       White Blood cell count (thousand per microliter)  Blood test result  \\\n",
       "1                                              5.522560                  3   \n",
       "13                                             8.440593                  1   \n",
       "52                                             7.486224                  4   \n",
       "68                                             9.719873                  4   \n",
       "75                                             5.169576                  1   \n",
       "...                                                 ...                ...   \n",
       "22051                                          7.486224                  3   \n",
       "22055                                          7.486224                  4   \n",
       "22070                                          4.967410                  2   \n",
       "22073                                          7.486224                  3   \n",
       "22081                                          8.437670                  1   \n",
       "\n",
       "       Symptom 1  Symptom 2  Symptom 3  Symptom 4  Symptom 5  \\\n",
       "1              1          1          1          1          0   \n",
       "13             0          1          1          0          0   \n",
       "52             1          0          0          0          0   \n",
       "68             1          0          1          0          0   \n",
       "75             1          1          0          0          1   \n",
       "...          ...        ...        ...        ...        ...   \n",
       "22051          0          0          0          0          0   \n",
       "22055          1          1          0          0          1   \n",
       "22070          0          1          1          1          1   \n",
       "22073          0          0          0          1          1   \n",
       "22081          1          1          1          0          0   \n",
       "\n",
       "       Genetic Disorder       Disorder Subclass  \n",
       "1                   NaN         Cystic fibrosis  \n",
       "13                  NaN          Leigh syndrome  \n",
       "52                  NaN               Tay-Sachs  \n",
       "68                  NaN  Mitochondrial myopathy  \n",
       "75                  NaN         Cystic fibrosis  \n",
       "...                 ...                     ...  \n",
       "22051               NaN               Tay-Sachs  \n",
       "22055               NaN               Tay-Sachs  \n",
       "22070               NaN                Diabetes  \n",
       "22073               NaN          Leigh syndrome  \n",
       "22081               NaN          Leigh syndrome  \n",
       "\n",
       "[2146 rows x 40 columns]"
      ]
     },
     "execution_count": 344,
     "metadata": {},
     "output_type": "execute_result"
    }
   ],
   "source": [
    "train[train['Genetic Disorder'].isnull()]"
   ]
  },
  {
   "cell_type": "code",
   "execution_count": 345,
   "id": "51ee6bf3",
   "metadata": {},
   "outputs": [
    {
     "data": {
      "text/plain": [
       "Leigh syndrome                         4683\n",
       "Mitochondrial myopathy                 3971\n",
       "Leber's hereditary optic neuropathy     587\n",
       "Name: Disorder Subclass, dtype: int64"
      ]
     },
     "execution_count": 345,
     "metadata": {},
     "output_type": "execute_result"
    }
   ],
   "source": [
    "z = train[train['Genetic Disorder'] == 'Mitochondrial genetic inheritance disorders']\n",
    "z['Disorder Subclass'].value_counts()"
   ]
  },
  {
   "cell_type": "code",
   "execution_count": 346,
   "id": "917450e2",
   "metadata": {},
   "outputs": [
    {
     "data": {
      "text/plain": [
       "Diabetes       1653\n",
       "Alzheimer's     133\n",
       "Cancer           91\n",
       "Name: Disorder Subclass, dtype: int64"
      ]
     },
     "execution_count": 346,
     "metadata": {},
     "output_type": "execute_result"
    }
   ],
   "source": [
    "y = train[train['Genetic Disorder'] == 'Multifactorial genetic inheritance disorders']\n",
    "y['Disorder Subclass'].value_counts()"
   ]
  },
  {
   "cell_type": "code",
   "execution_count": 347,
   "id": "58fa931e",
   "metadata": {},
   "outputs": [
    {
     "data": {
      "text/plain": [
       "Cystic fibrosis    3145\n",
       "Tay-Sachs          2556\n",
       "Hemochromatosis    1228\n",
       "Name: Disorder Subclass, dtype: int64"
      ]
     },
     "execution_count": 347,
     "metadata": {},
     "output_type": "execute_result"
    }
   ],
   "source": [
    "k = train[train['Genetic Disorder'] == 'Single-gene inheritance diseases']\n",
    "k['Disorder Subclass'].value_counts()"
   ]
  },
  {
   "cell_type": "code",
   "execution_count": 351,
   "id": "79bee269",
   "metadata": {},
   "outputs": [],
   "source": [
    "train.loc[train['Disorder Subclass'].eq('Leigh syndrome') & train['Genetic Disorder'].isnull(), 'Genetic Disorder'] = 'Mitochondrial genetic inheritance disorders'"
   ]
  },
  {
   "cell_type": "code",
   "execution_count": 353,
   "id": "f1fc524f",
   "metadata": {},
   "outputs": [],
   "source": [
    "train.loc[train['Disorder Subclass'].eq('Mitochondrial myopathy') & train['Genetic Disorder'].isnull(), 'Genetic Disorder'] = 'Mitochondrial genetic inheritance disorders'\n",
    "train.loc[train['Disorder Subclass'].eq(\"Leber's hereditary optic neuropathy\") & train['Genetic Disorder'].isnull(), 'Genetic Disorder'] = 'Mitochondrial genetic inheritance disorders'"
   ]
  },
  {
   "cell_type": "code",
   "execution_count": 355,
   "id": "007bf230",
   "metadata": {},
   "outputs": [],
   "source": [
    "train.loc[train['Disorder Subclass'].eq('Diabetes') & train['Genetic Disorder'].isnull(), 'Genetic Disorder'] = 'Multifactorial genetic inheritance disorders'\n",
    "train.loc[train['Disorder Subclass'].eq(\"Alzheimer's\") & train['Genetic Disorder'].isnull(), 'Genetic Disorder'] = 'Multifactorial genetic inheritance disorders'\n",
    "train.loc[train['Disorder Subclass'].eq('Cancer') & train['Genetic Disorder'].isnull(), 'Genetic Disorder'] = 'Multifactorial genetic inheritance disorders'"
   ]
  },
  {
   "cell_type": "code",
   "execution_count": 356,
   "id": "40079917",
   "metadata": {},
   "outputs": [],
   "source": [
    "train.loc[train['Disorder Subclass'].eq('Cystic fibrosis') & train['Genetic Disorder'].isnull(), 'Genetic Disorder'] = 'Single-gene inheritance diseases'\n",
    "train.loc[train['Disorder Subclass'].eq(\"Tay-Sachs\") & train['Genetic Disorder'].isnull(), 'Genetic Disorder'] = 'Single-gene inheritance diseases'\n",
    "train.loc[train['Disorder Subclass'].eq('Hemochromatosis') & train['Genetic Disorder'].isnull(), 'Genetic Disorder'] = 'Single-gene inheritance diseases'"
   ]
  },
  {
   "cell_type": "code",
   "execution_count": 357,
   "id": "fa96e89e",
   "metadata": {},
   "outputs": [
    {
     "data": {
      "text/plain": [
       "Mitochondrial genetic inheritance disorders     11174\n",
       "Single-gene inheritance diseases                 8371\n",
       "Multifactorial genetic inheritance disorders     2260\n",
       "Name: Genetic Disorder, dtype: int64"
      ]
     },
     "execution_count": 357,
     "metadata": {},
     "output_type": "execute_result"
    }
   ],
   "source": [
    "train['Genetic Disorder'].value_counts()"
   ]
  },
  {
   "cell_type": "code",
   "execution_count": 359,
   "id": "299c9fe5",
   "metadata": {},
   "outputs": [
    {
     "data": {
      "text/plain": [
       "Leigh syndrome                         5160\n",
       "Mitochondrial myopathy                 4405\n",
       "Cystic fibrosis                        3448\n",
       "Tay-Sachs                              2833\n",
       "Diabetes                               1817\n",
       "Hemochromatosis                        1355\n",
       "Leber's hereditary optic neuropathy     648\n",
       "Alzheimer's                             152\n",
       "Cancer                                   97\n",
       "Name: Disorder Subclass, dtype: int64"
      ]
     },
     "execution_count": 359,
     "metadata": {},
     "output_type": "execute_result"
    }
   ],
   "source": [
    "train['Disorder Subclass'].value_counts()"
   ]
  },
  {
   "cell_type": "code",
   "execution_count": 360,
   "id": "ea912f28",
   "metadata": {},
   "outputs": [],
   "source": [
    "train.loc[train['Genetic Disorder'].eq('Mitochondrial genetic inheritance disorders') & train['Disorder Subclass'].isnull(), 'Disorder Subclass'] = 'Leigh syndrome'\n",
    "train.loc[train['Genetic Disorder'].eq('Mitochondrial genetic inheritance disorders') & train['Disorder Subclass'].isnull(), 'Disorder Subclass'] = 'Mitochondrial myopathy'\n",
    "train.loc[train['Genetic Disorder'].eq('Mitochondrial genetic inheritance disorders') & train['Disorder Subclass'].isnull(), 'Disorder Subclass'] = \"Leber's hereditary optic neuropathy\""
   ]
  },
  {
   "cell_type": "code",
   "execution_count": 362,
   "id": "72c8cc6b",
   "metadata": {},
   "outputs": [],
   "source": [
    "train.loc[train['Genetic Disorder'].eq('Single-gene inheritance diseases') & train['Disorder Subclass'].isnull(), 'Disorder Subclass'] = 'Cystic fibrosis'\n",
    "train.loc[train['Genetic Disorder'].eq('Single-gene inheritance diseases') & train['Disorder Subclass'].isnull(), 'Disorder Subclass'] = 'Tay-Sachs'\n",
    "train.loc[train['Genetic Disorder'].eq('Single-gene inheritance diseases') & train['Disorder Subclass'].isnull(), 'Disorder Subclass'] = \"Hemochromatosis\""
   ]
  },
  {
   "cell_type": "code",
   "execution_count": 363,
   "id": "d41d6ee9",
   "metadata": {},
   "outputs": [],
   "source": [
    "train.loc[train['Genetic Disorder'].eq('Multifactorial genetic inheritance disorders') & train['Disorder Subclass'].isnull(), 'Disorder Subclass'] = 'Diabetes'\n",
    "train.loc[train['Genetic Disorder'].eq('Multifactorial genetic inheritance disorders') & train['Disorder Subclass'].isnull(), 'Disorder Subclass'] = \"Alzheimer's\"\n",
    "train.loc[train['Genetic Disorder'].eq('Multifactorial genetic inheritance disorders') & train['Disorder Subclass'].isnull(), 'Disorder Subclass'] = \"Cancer\""
   ]
  },
  {
   "cell_type": "code",
   "execution_count": 364,
   "id": "90866f8c",
   "metadata": {},
   "outputs": [
    {
     "data": {
      "text/plain": [
       "Leigh syndrome                         6121\n",
       "Mitochondrial myopathy                 4405\n",
       "Cystic fibrosis                        4183\n",
       "Tay-Sachs                              2833\n",
       "Diabetes                               2011\n",
       "Hemochromatosis                        1355\n",
       "Leber's hereditary optic neuropathy     648\n",
       "Alzheimer's                             152\n",
       "Cancer                                   97\n",
       "Name: Disorder Subclass, dtype: int64"
      ]
     },
     "execution_count": 364,
     "metadata": {},
     "output_type": "execute_result"
    }
   ],
   "source": [
    "train['Disorder Subclass'].value_counts()"
   ]
  },
  {
   "cell_type": "code",
   "execution_count": null,
   "id": "04b884ac",
   "metadata": {},
   "outputs": [],
   "source": []
  },
  {
   "cell_type": "code",
   "execution_count": 366,
   "id": "3698b14f",
   "metadata": {},
   "outputs": [],
   "source": [
    "train = train.dropna()"
   ]
  },
  {
   "cell_type": "code",
   "execution_count": 367,
   "id": "23c4f6a0",
   "metadata": {},
   "outputs": [
    {
     "name": "stdout",
     "output_type": "stream",
     "text": [
      "<class 'pandas.core.frame.DataFrame'>\n",
      "Int64Index: 21805 entries, 0 to 22082\n",
      "Data columns (total 40 columns):\n",
      " #   Column                                            Non-Null Count  Dtype  \n",
      "---  ------                                            --------------  -----  \n",
      " 0   Patient Id                                        21805 non-null  object \n",
      " 1   Patient Age                                       21805 non-null  int32  \n",
      " 2   Genes in mother's side                            21805 non-null  int32  \n",
      " 3   Inherited from father                             21805 non-null  int32  \n",
      " 4   Maternal gene                                     21805 non-null  int32  \n",
      " 5   Paternal gene                                     21805 non-null  int32  \n",
      " 6   Blood cell count (mcL)                            21805 non-null  float64\n",
      " 7   Mother's age                                      21805 non-null  float64\n",
      " 8   Father's age                                      21805 non-null  float64\n",
      " 9   Status                                            21805 non-null  int32  \n",
      " 10  Respiratory Rate (breaths/min)                    21805 non-null  int32  \n",
      " 11  Heart Rate (rates/min                             21805 non-null  int32  \n",
      " 12  Test 1                                            21805 non-null  int32  \n",
      " 13  Test 2                                            21805 non-null  int32  \n",
      " 14  Test 3                                            21805 non-null  int32  \n",
      " 15  Test 4                                            21805 non-null  int32  \n",
      " 16  Test 5                                            21805 non-null  int32  \n",
      " 17  Parental consent                                  21805 non-null  int32  \n",
      " 18  Follow-up                                         21805 non-null  int32  \n",
      " 19  Gender                                            21805 non-null  int32  \n",
      " 20  Birth asphyxia                                    21805 non-null  int32  \n",
      " 21  Autopsy shows birth defect (if applicable)        21805 non-null  int32  \n",
      " 22  Place of birth                                    21805 non-null  int32  \n",
      " 23  Folic acid details (peri-conceptional)            21805 non-null  int32  \n",
      " 24  H/O serious maternal illness                      21805 non-null  int32  \n",
      " 25  H/O radiation exposure (x-ray)                    21805 non-null  int32  \n",
      " 26  H/O substance abuse                               21805 non-null  int32  \n",
      " 27  Assisted conception IVF/ART                       21805 non-null  int32  \n",
      " 28  History of anomalies in previous pregnancies      21805 non-null  int32  \n",
      " 29  No. of previous abortion                          21805 non-null  int32  \n",
      " 30  Birth defects                                     21805 non-null  int32  \n",
      " 31  White Blood cell count (thousand per microliter)  21805 non-null  float64\n",
      " 32  Blood test result                                 21805 non-null  int32  \n",
      " 33  Symptom 1                                         21805 non-null  int32  \n",
      " 34  Symptom 2                                         21805 non-null  int32  \n",
      " 35  Symptom 3                                         21805 non-null  int32  \n",
      " 36  Symptom 4                                         21805 non-null  int32  \n",
      " 37  Symptom 5                                         21805 non-null  int32  \n",
      " 38  Genetic Disorder                                  21805 non-null  object \n",
      " 39  Disorder Subclass                                 21805 non-null  object \n",
      "dtypes: float64(4), int32(33), object(3)\n",
      "memory usage: 4.1+ MB\n"
     ]
    }
   ],
   "source": [
    "train.info()"
   ]
  },
  {
   "cell_type": "code",
   "execution_count": 368,
   "id": "f997f979",
   "metadata": {},
   "outputs": [
    {
     "name": "stdout",
     "output_type": "stream",
     "text": [
      "<class 'pandas.core.frame.DataFrame'>\n",
      "RangeIndex: 9465 entries, 0 to 9464\n",
      "Data columns (total 38 columns):\n",
      " #   Column                                            Non-Null Count  Dtype  \n",
      "---  ------                                            --------------  -----  \n",
      " 0   Patient Id                                        9465 non-null   object \n",
      " 1   Patient Age                                       9465 non-null   int64  \n",
      " 2   Genes in mother's side                            9465 non-null   int32  \n",
      " 3   Inherited from father                             9465 non-null   int32  \n",
      " 4   Maternal gene                                     9465 non-null   int32  \n",
      " 5   Paternal gene                                     9465 non-null   int32  \n",
      " 6   Blood cell count (mcL)                            9465 non-null   float64\n",
      " 7   Mother's age                                      9465 non-null   int64  \n",
      " 8   Father's age                                      9465 non-null   int64  \n",
      " 9   Status                                            9465 non-null   int32  \n",
      " 10  Respiratory Rate (breaths/min)                    9465 non-null   int32  \n",
      " 11  Heart Rate (rates/min                             9465 non-null   int32  \n",
      " 12  Test 1                                            9465 non-null   int64  \n",
      " 13  Test 2                                            9465 non-null   int64  \n",
      " 14  Test 3                                            9465 non-null   int64  \n",
      " 15  Test 4                                            9465 non-null   int64  \n",
      " 16  Test 5                                            9465 non-null   int64  \n",
      " 17  Parental consent                                  9465 non-null   int32  \n",
      " 18  Follow-up                                         9465 non-null   int32  \n",
      " 19  Gender                                            9465 non-null   int32  \n",
      " 20  Birth asphyxia                                    9465 non-null   int32  \n",
      " 21  Autopsy shows birth defect (if applicable)        9465 non-null   int32  \n",
      " 22  Place of birth                                    9465 non-null   int32  \n",
      " 23  Folic acid details (peri-conceptional)            9465 non-null   int32  \n",
      " 24  H/O serious maternal illness                      9465 non-null   int32  \n",
      " 25  H/O radiation exposure (x-ray)                    9465 non-null   int32  \n",
      " 26  H/O substance abuse                               9465 non-null   int32  \n",
      " 27  Assisted conception IVF/ART                       9465 non-null   int32  \n",
      " 28  History of anomalies in previous pregnancies      9465 non-null   int32  \n",
      " 29  No. of previous abortion                          9465 non-null   int64  \n",
      " 30  Birth defects                                     9465 non-null   int32  \n",
      " 31  White Blood cell count (thousand per microliter)  9465 non-null   float64\n",
      " 32  Blood test result                                 9465 non-null   int32  \n",
      " 33  Symptom 1                                         9465 non-null   int32  \n",
      " 34  Symptom 2                                         9465 non-null   int32  \n",
      " 35  Symptom 3                                         9465 non-null   int32  \n",
      " 36  Symptom 4                                         9465 non-null   int32  \n",
      " 37  Symptom 5                                         9465 non-null   int32  \n",
      "dtypes: float64(2), int32(26), int64(9), object(1)\n",
      "memory usage: 1.8+ MB\n"
     ]
    }
   ],
   "source": [
    "test.info()"
   ]
  },
  {
   "cell_type": "code",
   "execution_count": 369,
   "id": "5ab8c9c5",
   "metadata": {},
   "outputs": [],
   "source": [
    "newtrain = train.drop('Patient Id', axis = 1)"
   ]
  },
  {
   "cell_type": "code",
   "execution_count": 370,
   "id": "c33e4b8a",
   "metadata": {},
   "outputs": [],
   "source": [
    "newtest = test.drop('Patient Id', axis = 1)"
   ]
  },
  {
   "cell_type": "code",
   "execution_count": 371,
   "id": "effc35aa",
   "metadata": {},
   "outputs": [
    {
     "data": {
      "text/plain": [
       "Leigh syndrome                         6121\n",
       "Mitochondrial myopathy                 4405\n",
       "Cystic fibrosis                        4183\n",
       "Tay-Sachs                              2833\n",
       "Diabetes                               2011\n",
       "Hemochromatosis                        1355\n",
       "Leber's hereditary optic neuropathy     648\n",
       "Alzheimer's                             152\n",
       "Cancer                                   97\n",
       "Name: Disorder Subclass, dtype: int64"
      ]
     },
     "execution_count": 371,
     "metadata": {},
     "output_type": "execute_result"
    }
   ],
   "source": [
    "newtrain['Disorder Subclass'].value_counts()"
   ]
  },
  {
   "cell_type": "code",
   "execution_count": 372,
   "id": "abfa901d",
   "metadata": {},
   "outputs": [
    {
     "data": {
      "text/plain": [
       "Mitochondrial genetic inheritance disorders     11174\n",
       "Single-gene inheritance diseases                 8371\n",
       "Multifactorial genetic inheritance disorders     2260\n",
       "Name: Genetic Disorder, dtype: int64"
      ]
     },
     "execution_count": 372,
     "metadata": {},
     "output_type": "execute_result"
    }
   ],
   "source": [
    "newtrain['Genetic Disorder'].value_counts()"
   ]
  },
  {
   "cell_type": "code",
   "execution_count": 373,
   "id": "b82dce4e",
   "metadata": {},
   "outputs": [
    {
     "data": {
      "text/html": [
       "<div>\n",
       "<style scoped>\n",
       "    .dataframe tbody tr th:only-of-type {\n",
       "        vertical-align: middle;\n",
       "    }\n",
       "\n",
       "    .dataframe tbody tr th {\n",
       "        vertical-align: top;\n",
       "    }\n",
       "\n",
       "    .dataframe thead th {\n",
       "        text-align: right;\n",
       "    }\n",
       "</style>\n",
       "<table border=\"1\" class=\"dataframe\">\n",
       "  <thead>\n",
       "    <tr style=\"text-align: right;\">\n",
       "      <th></th>\n",
       "      <th>Patient Age</th>\n",
       "      <th>Genes in mother's side</th>\n",
       "      <th>Inherited from father</th>\n",
       "      <th>Maternal gene</th>\n",
       "      <th>Paternal gene</th>\n",
       "      <th>Blood cell count (mcL)</th>\n",
       "      <th>Mother's age</th>\n",
       "      <th>Father's age</th>\n",
       "      <th>Status</th>\n",
       "      <th>Respiratory Rate (breaths/min)</th>\n",
       "      <th>...</th>\n",
       "      <th>Birth defects</th>\n",
       "      <th>White Blood cell count (thousand per microliter)</th>\n",
       "      <th>Blood test result</th>\n",
       "      <th>Symptom 1</th>\n",
       "      <th>Symptom 2</th>\n",
       "      <th>Symptom 3</th>\n",
       "      <th>Symptom 4</th>\n",
       "      <th>Symptom 5</th>\n",
       "      <th>Genetic Disorder</th>\n",
       "      <th>Disorder Subclass</th>\n",
       "    </tr>\n",
       "  </thead>\n",
       "  <tbody>\n",
       "    <tr>\n",
       "      <th>0</th>\n",
       "      <td>2</td>\n",
       "      <td>1</td>\n",
       "      <td>0</td>\n",
       "      <td>1</td>\n",
       "      <td>0</td>\n",
       "      <td>4.760603</td>\n",
       "      <td>34.526454</td>\n",
       "      <td>41.972852</td>\n",
       "      <td>0</td>\n",
       "      <td>0</td>\n",
       "      <td>...</td>\n",
       "      <td>1</td>\n",
       "      <td>9.857562</td>\n",
       "      <td>0</td>\n",
       "      <td>1</td>\n",
       "      <td>1</td>\n",
       "      <td>1</td>\n",
       "      <td>1</td>\n",
       "      <td>1</td>\n",
       "      <td>Mitochondrial genetic inheritance disorders</td>\n",
       "      <td>Leber's hereditary optic neuropathy</td>\n",
       "    </tr>\n",
       "    <tr>\n",
       "      <th>3</th>\n",
       "      <td>12</td>\n",
       "      <td>1</td>\n",
       "      <td>0</td>\n",
       "      <td>1</td>\n",
       "      <td>0</td>\n",
       "      <td>4.705280</td>\n",
       "      <td>21.000000</td>\n",
       "      <td>41.972852</td>\n",
       "      <td>1</td>\n",
       "      <td>1</td>\n",
       "      <td>...</td>\n",
       "      <td>2</td>\n",
       "      <td>7.919321</td>\n",
       "      <td>2</td>\n",
       "      <td>0</td>\n",
       "      <td>0</td>\n",
       "      <td>1</td>\n",
       "      <td>0</td>\n",
       "      <td>0</td>\n",
       "      <td>Mitochondrial genetic inheritance disorders</td>\n",
       "      <td>Leigh syndrome</td>\n",
       "    </tr>\n",
       "  </tbody>\n",
       "</table>\n",
       "<p>2 rows × 39 columns</p>\n",
       "</div>"
      ],
      "text/plain": [
       "   Patient Age  Genes in mother's side  Inherited from father  Maternal gene  \\\n",
       "0            2                       1                      0              1   \n",
       "3           12                       1                      0              1   \n",
       "\n",
       "   Paternal gene  Blood cell count (mcL)  Mother's age  Father's age  Status  \\\n",
       "0              0                4.760603     34.526454     41.972852       0   \n",
       "3              0                4.705280     21.000000     41.972852       1   \n",
       "\n",
       "   Respiratory Rate (breaths/min)  ...  Birth defects  \\\n",
       "0                               0  ...              1   \n",
       "3                               1  ...              2   \n",
       "\n",
       "   White Blood cell count (thousand per microliter)  Blood test result  \\\n",
       "0                                          9.857562                  0   \n",
       "3                                          7.919321                  2   \n",
       "\n",
       "   Symptom 1  Symptom 2  Symptom 3  Symptom 4  Symptom 5  \\\n",
       "0          1          1          1          1          1   \n",
       "3          0          0          1          0          0   \n",
       "\n",
       "                              Genetic Disorder  \\\n",
       "0  Mitochondrial genetic inheritance disorders   \n",
       "3  Mitochondrial genetic inheritance disorders   \n",
       "\n",
       "                     Disorder Subclass  \n",
       "0  Leber's hereditary optic neuropathy  \n",
       "3                       Leigh syndrome  \n",
       "\n",
       "[2 rows x 39 columns]"
      ]
     },
     "execution_count": 373,
     "metadata": {},
     "output_type": "execute_result"
    }
   ],
   "source": [
    "a = newtrain[newtrain['Genetic Disorder'] == 'Mitochondrial genetic inheritance disorders']\n",
    "a.head(2)"
   ]
  },
  {
   "cell_type": "code",
   "execution_count": 374,
   "id": "84b68844",
   "metadata": {},
   "outputs": [
    {
     "data": {
      "text/plain": [
       "Leigh syndrome                         6121\n",
       "Mitochondrial myopathy                 4405\n",
       "Leber's hereditary optic neuropathy     648\n",
       "Name: Disorder Subclass, dtype: int64"
      ]
     },
     "execution_count": 374,
     "metadata": {},
     "output_type": "execute_result"
    }
   ],
   "source": [
    "a['Disorder Subclass'].value_counts()"
   ]
  },
  {
   "cell_type": "code",
   "execution_count": 375,
   "id": "e721d34b",
   "metadata": {},
   "outputs": [
    {
     "data": {
      "text/plain": [
       "Cystic fibrosis    4183\n",
       "Tay-Sachs          2833\n",
       "Hemochromatosis    1355\n",
       "Name: Disorder Subclass, dtype: int64"
      ]
     },
     "execution_count": 375,
     "metadata": {},
     "output_type": "execute_result"
    }
   ],
   "source": [
    "b = newtrain[newtrain['Genetic Disorder'] == 'Single-gene inheritance diseases']\n",
    "b['Disorder Subclass'].value_counts()"
   ]
  },
  {
   "cell_type": "code",
   "execution_count": 376,
   "id": "ecaa5ff9",
   "metadata": {},
   "outputs": [
    {
     "data": {
      "text/plain": [
       "Diabetes       2011\n",
       "Alzheimer's     152\n",
       "Cancer           97\n",
       "Name: Disorder Subclass, dtype: int64"
      ]
     },
     "execution_count": 376,
     "metadata": {},
     "output_type": "execute_result"
    }
   ],
   "source": [
    "c = newtrain[newtrain['Genetic Disorder'] == 'Multifactorial genetic inheritance disorders']\n",
    "c['Disorder Subclass'].value_counts()"
   ]
  },
  {
   "cell_type": "markdown",
   "id": "2998e4f6",
   "metadata": {},
   "source": [
    "---------"
   ]
  },
  {
   "cell_type": "markdown",
   "id": "6591f11c",
   "metadata": {},
   "source": [
    "For Genetic Disorder"
   ]
  },
  {
   "cell_type": "code",
   "execution_count": 377,
   "id": "25963c11",
   "metadata": {},
   "outputs": [],
   "source": [
    "gen_train = newtrain.drop('Disorder Subclass', axis = 1)\n",
    "gen_test = newtest"
   ]
  },
  {
   "cell_type": "code",
   "execution_count": 378,
   "id": "6505a643",
   "metadata": {},
   "outputs": [],
   "source": [
    "gen_train['Genetic Disorder'] = le.fit_transform(gen_train['Genetic Disorder'])"
   ]
  },
  {
   "cell_type": "code",
   "execution_count": 379,
   "id": "e0bcf270",
   "metadata": {},
   "outputs": [],
   "source": [
    "x = gen_train.drop('Genetic Disorder', axis = 1)\n",
    "y = gen_train['Genetic Disorder']"
   ]
  },
  {
   "cell_type": "code",
   "execution_count": 380,
   "id": "80e5d1c5",
   "metadata": {},
   "outputs": [],
   "source": [
    "from sklearn.model_selection import train_test_split\n",
    "x_train, x_test, y_train, y_test = train_test_split(x, y, test_size = 0.2, random_state = 1)"
   ]
  },
  {
   "cell_type": "code",
   "execution_count": 381,
   "id": "0fcd3e36",
   "metadata": {},
   "outputs": [],
   "source": [
    "from sklearn.metrics import accuracy_score, classification_report"
   ]
  },
  {
   "cell_type": "code",
   "execution_count": 382,
   "id": "3549bd03",
   "metadata": {},
   "outputs": [
    {
     "name": "stdout",
     "output_type": "stream",
     "text": [
      "0.5773905067645035\n"
     ]
    }
   ],
   "source": [
    "from lightgbm import LGBMClassifier\n",
    "lgbm = LGBMClassifier()\n",
    "y_pred = lgbm.fit(x_train, y_train).predict(x_test)\n",
    "print(accuracy_score(y_test, y_pred))"
   ]
  },
  {
   "cell_type": "code",
   "execution_count": 383,
   "id": "20039012",
   "metadata": {},
   "outputs": [
    {
     "data": {
      "image/png": "[encoded data removed]",
      "text/plain": [
       "<Figure size 720x576 with 1 Axes>"
      ]
     },
     "metadata": {
      "needs_background": "light"
     },
     "output_type": "display_data"
    }
   ],
   "source": [
    "feature_imp = pd.DataFrame(sorted(zip(lgbm.feature_importances_, x.columns), reverse=True)[:], columns=['Value','Feature'])\n",
    "plt.figure(figsize=(10,8))\n",
    "sns.barplot(x=\"Value\", y=\"Feature\", data=feature_imp.sort_values(by=\"Value\", ascending=False))\n",
    "plt.title('LGBM Features')\n",
    "plt.tight_layout()\n",
    "plt.show()"
   ]
  },
  {
   "cell_type": "code",
   "execution_count": 384,
   "id": "8332ee6e",
   "metadata": {},
   "outputs": [],
   "source": [
    "x_train = gen_train.drop(['Genetic Disorder', 'Test 1', 'Test 2', 'Test 3', 'Test 4', 'Test 5', 'Parental consent'], axis = 1)\n",
    "y_train = gen_train['Genetic Disorder']\n",
    "x_test = gen_test.drop(['Test 1', 'Test 2', 'Test 3', 'Test 4', 'Test 5', 'Parental consent'], axis = 1)\n",
    "from lightgbm import LGBMClassifier\n",
    "lgbm = LGBMClassifier()\n",
    "y_pred2 = lgbm.fit(x_train, y_train).predict(x_test)"
   ]
  },
  {
   "cell_type": "code",
   "execution_count": 385,
   "id": "8ea1996a",
   "metadata": {},
   "outputs": [
    {
     "data": {
      "text/plain": [
       "numpy.ndarray"
      ]
     },
     "execution_count": 385,
     "metadata": {},
     "output_type": "execute_result"
    }
   ],
   "source": [
    "type(y_pred2)"
   ]
  },
  {
   "cell_type": "markdown",
   "id": "4fb51904",
   "metadata": {},
   "source": [
    "------------------------"
   ]
  },
  {
   "cell_type": "markdown",
   "id": "1bf55599",
   "metadata": {},
   "source": [
    "For Disorder"
   ]
  },
  {
   "cell_type": "code",
   "execution_count": 386,
   "id": "bade20d9",
   "metadata": {},
   "outputs": [],
   "source": [
    "a = pd.DataFrame({'Genetic Disorder' : le.inverse_transform(y_pred2)})"
   ]
  },
  {
   "cell_type": "code",
   "execution_count": 387,
   "id": "5695123f",
   "metadata": {},
   "outputs": [
    {
     "data": {
      "text/plain": [
       "(9465, 1)"
      ]
     },
     "execution_count": 387,
     "metadata": {},
     "output_type": "execute_result"
    }
   ],
   "source": [
    "a.shape"
   ]
  },
  {
   "cell_type": "code",
   "execution_count": 388,
   "id": "3b90fccc",
   "metadata": {},
   "outputs": [
    {
     "data": {
      "text/html": [
       "<div>\n",
       "<style scoped>\n",
       "    .dataframe tbody tr th:only-of-type {\n",
       "        vertical-align: middle;\n",
       "    }\n",
       "\n",
       "    .dataframe tbody tr th {\n",
       "        vertical-align: top;\n",
       "    }\n",
       "\n",
       "    .dataframe thead th {\n",
       "        text-align: right;\n",
       "    }\n",
       "</style>\n",
       "<table border=\"1\" class=\"dataframe\">\n",
       "  <thead>\n",
       "    <tr style=\"text-align: right;\">\n",
       "      <th></th>\n",
       "      <th>Genetic Disorder</th>\n",
       "    </tr>\n",
       "  </thead>\n",
       "  <tbody>\n",
       "    <tr>\n",
       "      <th>0</th>\n",
       "      <td>Single-gene inheritance diseases</td>\n",
       "    </tr>\n",
       "    <tr>\n",
       "      <th>1</th>\n",
       "      <td>Single-gene inheritance diseases</td>\n",
       "    </tr>\n",
       "    <tr>\n",
       "      <th>2</th>\n",
       "      <td>Single-gene inheritance diseases</td>\n",
       "    </tr>\n",
       "    <tr>\n",
       "      <th>3</th>\n",
       "      <td>Single-gene inheritance diseases</td>\n",
       "    </tr>\n",
       "    <tr>\n",
       "      <th>4</th>\n",
       "      <td>Multifactorial genetic inheritance disorders</td>\n",
       "    </tr>\n",
       "  </tbody>\n",
       "</table>\n",
       "</div>"
      ],
      "text/plain": [
       "                               Genetic Disorder\n",
       "0              Single-gene inheritance diseases\n",
       "1              Single-gene inheritance diseases\n",
       "2              Single-gene inheritance diseases\n",
       "3              Single-gene inheritance diseases\n",
       "4  Multifactorial genetic inheritance disorders"
      ]
     },
     "execution_count": 388,
     "metadata": {},
     "output_type": "execute_result"
    }
   ],
   "source": [
    "a.head()"
   ]
  },
  {
   "cell_type": "code",
   "execution_count": 389,
   "id": "6948b76b",
   "metadata": {},
   "outputs": [],
   "source": [
    "dis_train = newtrain\n",
    "dis_test = pd.concat([newtest, a], axis = 1)"
   ]
  },
  {
   "cell_type": "code",
   "execution_count": 390,
   "id": "f56bd96a",
   "metadata": {},
   "outputs": [
    {
     "data": {
      "text/plain": [
       "(9465, 38)"
      ]
     },
     "execution_count": 390,
     "metadata": {},
     "output_type": "execute_result"
    }
   ],
   "source": [
    "dis_test.shape"
   ]
  },
  {
   "cell_type": "code",
   "execution_count": 391,
   "id": "868c1fe1",
   "metadata": {},
   "outputs": [
    {
     "data": {
      "text/html": [
       "<div>\n",
       "<style scoped>\n",
       "    .dataframe tbody tr th:only-of-type {\n",
       "        vertical-align: middle;\n",
       "    }\n",
       "\n",
       "    .dataframe tbody tr th {\n",
       "        vertical-align: top;\n",
       "    }\n",
       "\n",
       "    .dataframe thead th {\n",
       "        text-align: right;\n",
       "    }\n",
       "</style>\n",
       "<table border=\"1\" class=\"dataframe\">\n",
       "  <thead>\n",
       "    <tr style=\"text-align: right;\">\n",
       "      <th></th>\n",
       "      <th>Patient Age</th>\n",
       "      <th>Genes in mother's side</th>\n",
       "      <th>Inherited from father</th>\n",
       "      <th>Maternal gene</th>\n",
       "      <th>Paternal gene</th>\n",
       "      <th>Blood cell count (mcL)</th>\n",
       "      <th>Mother's age</th>\n",
       "      <th>Father's age</th>\n",
       "      <th>Status</th>\n",
       "      <th>Respiratory Rate (breaths/min)</th>\n",
       "      <th>...</th>\n",
       "      <th>No. of previous abortion</th>\n",
       "      <th>Birth defects</th>\n",
       "      <th>White Blood cell count (thousand per microliter)</th>\n",
       "      <th>Blood test result</th>\n",
       "      <th>Symptom 1</th>\n",
       "      <th>Symptom 2</th>\n",
       "      <th>Symptom 3</th>\n",
       "      <th>Symptom 4</th>\n",
       "      <th>Symptom 5</th>\n",
       "      <th>Genetic Disorder</th>\n",
       "    </tr>\n",
       "  </thead>\n",
       "  <tbody>\n",
       "    <tr>\n",
       "      <th>0</th>\n",
       "      <td>6</td>\n",
       "      <td>0</td>\n",
       "      <td>1</td>\n",
       "      <td>0</td>\n",
       "      <td>0</td>\n",
       "      <td>4.981655</td>\n",
       "      <td>38</td>\n",
       "      <td>61</td>\n",
       "      <td>0</td>\n",
       "      <td>2</td>\n",
       "      <td>...</td>\n",
       "      <td>2</td>\n",
       "      <td>0</td>\n",
       "      <td>-99.000000</td>\n",
       "      <td>4</td>\n",
       "      <td>1</td>\n",
       "      <td>1</td>\n",
       "      <td>1</td>\n",
       "      <td>1</td>\n",
       "      <td>1</td>\n",
       "      <td>Single-gene inheritance diseases</td>\n",
       "    </tr>\n",
       "    <tr>\n",
       "      <th>1</th>\n",
       "      <td>10</td>\n",
       "      <td>1</td>\n",
       "      <td>0</td>\n",
       "      <td>2</td>\n",
       "      <td>1</td>\n",
       "      <td>5.118890</td>\n",
       "      <td>33</td>\n",
       "      <td>53</td>\n",
       "      <td>0</td>\n",
       "      <td>1</td>\n",
       "      <td>...</td>\n",
       "      <td>-99</td>\n",
       "      <td>0</td>\n",
       "      <td>8.179584</td>\n",
       "      <td>3</td>\n",
       "      <td>0</td>\n",
       "      <td>0</td>\n",
       "      <td>0</td>\n",
       "      <td>1</td>\n",
       "      <td>0</td>\n",
       "      <td>Single-gene inheritance diseases</td>\n",
       "    </tr>\n",
       "    <tr>\n",
       "      <th>2</th>\n",
       "      <td>5</td>\n",
       "      <td>0</td>\n",
       "      <td>2</td>\n",
       "      <td>0</td>\n",
       "      <td>0</td>\n",
       "      <td>4.876204</td>\n",
       "      <td>48</td>\n",
       "      <td>60</td>\n",
       "      <td>1</td>\n",
       "      <td>1</td>\n",
       "      <td>...</td>\n",
       "      <td>0</td>\n",
       "      <td>2</td>\n",
       "      <td>-99.000000</td>\n",
       "      <td>4</td>\n",
       "      <td>0</td>\n",
       "      <td>0</td>\n",
       "      <td>1</td>\n",
       "      <td>1</td>\n",
       "      <td>0</td>\n",
       "      <td>Single-gene inheritance diseases</td>\n",
       "    </tr>\n",
       "    <tr>\n",
       "      <th>3</th>\n",
       "      <td>13</td>\n",
       "      <td>0</td>\n",
       "      <td>1</td>\n",
       "      <td>1</td>\n",
       "      <td>0</td>\n",
       "      <td>4.687767</td>\n",
       "      <td>25</td>\n",
       "      <td>55</td>\n",
       "      <td>0</td>\n",
       "      <td>0</td>\n",
       "      <td>...</td>\n",
       "      <td>-99</td>\n",
       "      <td>2</td>\n",
       "      <td>6.884071</td>\n",
       "      <td>3</td>\n",
       "      <td>1</td>\n",
       "      <td>0</td>\n",
       "      <td>1</td>\n",
       "      <td>0</td>\n",
       "      <td>1</td>\n",
       "      <td>Single-gene inheritance diseases</td>\n",
       "    </tr>\n",
       "    <tr>\n",
       "      <th>4</th>\n",
       "      <td>5</td>\n",
       "      <td>0</td>\n",
       "      <td>2</td>\n",
       "      <td>2</td>\n",
       "      <td>1</td>\n",
       "      <td>5.152362</td>\n",
       "      <td>41</td>\n",
       "      <td>38</td>\n",
       "      <td>1</td>\n",
       "      <td>2</td>\n",
       "      <td>...</td>\n",
       "      <td>-99</td>\n",
       "      <td>0</td>\n",
       "      <td>6.195178</td>\n",
       "      <td>3</td>\n",
       "      <td>1</td>\n",
       "      <td>1</td>\n",
       "      <td>1</td>\n",
       "      <td>1</td>\n",
       "      <td>0</td>\n",
       "      <td>Multifactorial genetic inheritance disorders</td>\n",
       "    </tr>\n",
       "  </tbody>\n",
       "</table>\n",
       "<p>5 rows × 38 columns</p>\n",
       "</div>"
      ],
      "text/plain": [
       "   Patient Age  Genes in mother's side  Inherited from father  Maternal gene  \\\n",
       "0            6                       0                      1              0   \n",
       "1           10                       1                      0              2   \n",
       "2            5                       0                      2              0   \n",
       "3           13                       0                      1              1   \n",
       "4            5                       0                      2              2   \n",
       "\n",
       "   Paternal gene  Blood cell count (mcL)  Mother's age  Father's age  Status  \\\n",
       "0              0                4.981655            38            61       0   \n",
       "1              1                5.118890            33            53       0   \n",
       "2              0                4.876204            48            60       1   \n",
       "3              0                4.687767            25            55       0   \n",
       "4              1                5.152362            41            38       1   \n",
       "\n",
       "   Respiratory Rate (breaths/min)  ...  No. of previous abortion  \\\n",
       "0                               2  ...                         2   \n",
       "1                               1  ...                       -99   \n",
       "2                               1  ...                         0   \n",
       "3                               0  ...                       -99   \n",
       "4                               2  ...                       -99   \n",
       "\n",
       "   Birth defects  White Blood cell count (thousand per microliter)  \\\n",
       "0              0                                        -99.000000   \n",
       "1              0                                          8.179584   \n",
       "2              2                                        -99.000000   \n",
       "3              2                                          6.884071   \n",
       "4              0                                          6.195178   \n",
       "\n",
       "   Blood test result  Symptom 1  Symptom 2  Symptom 3  Symptom 4  Symptom 5  \\\n",
       "0                  4          1          1          1          1          1   \n",
       "1                  3          0          0          0          1          0   \n",
       "2                  4          0          0          1          1          0   \n",
       "3                  3          1          0          1          0          1   \n",
       "4                  3          1          1          1          1          0   \n",
       "\n",
       "                               Genetic Disorder  \n",
       "0              Single-gene inheritance diseases  \n",
       "1              Single-gene inheritance diseases  \n",
       "2              Single-gene inheritance diseases  \n",
       "3              Single-gene inheritance diseases  \n",
       "4  Multifactorial genetic inheritance disorders  \n",
       "\n",
       "[5 rows x 38 columns]"
      ]
     },
     "execution_count": 391,
     "metadata": {},
     "output_type": "execute_result"
    }
   ],
   "source": [
    "dis_test.head()"
   ]
  },
  {
   "cell_type": "code",
   "execution_count": 392,
   "id": "a4761893",
   "metadata": {},
   "outputs": [],
   "source": [
    "dis_train['Genetic Disorder'] = le.fit_transform(dis_train['Genetic Disorder'])"
   ]
  },
  {
   "cell_type": "code",
   "execution_count": 393,
   "id": "63a49978",
   "metadata": {},
   "outputs": [],
   "source": [
    "dis_test['Genetic Disorder'] = le.fit_transform(dis_test['Genetic Disorder'])"
   ]
  },
  {
   "cell_type": "code",
   "execution_count": 394,
   "id": "15e5b8ae",
   "metadata": {},
   "outputs": [],
   "source": [
    "dis_train['Disorder Subclass'] = le.fit_transform(dis_train['Disorder Subclass'])"
   ]
  },
  {
   "cell_type": "code",
   "execution_count": 395,
   "id": "88777354",
   "metadata": {},
   "outputs": [
    {
     "data": {
      "text/html": [
       "<div>\n",
       "<style scoped>\n",
       "    .dataframe tbody tr th:only-of-type {\n",
       "        vertical-align: middle;\n",
       "    }\n",
       "\n",
       "    .dataframe tbody tr th {\n",
       "        vertical-align: top;\n",
       "    }\n",
       "\n",
       "    .dataframe thead th {\n",
       "        text-align: right;\n",
       "    }\n",
       "</style>\n",
       "<table border=\"1\" class=\"dataframe\">\n",
       "  <thead>\n",
       "    <tr style=\"text-align: right;\">\n",
       "      <th></th>\n",
       "      <th>Patient Age</th>\n",
       "      <th>Genes in mother's side</th>\n",
       "      <th>Inherited from father</th>\n",
       "      <th>Maternal gene</th>\n",
       "      <th>Paternal gene</th>\n",
       "      <th>Blood cell count (mcL)</th>\n",
       "      <th>Mother's age</th>\n",
       "      <th>Father's age</th>\n",
       "      <th>Status</th>\n",
       "      <th>Respiratory Rate (breaths/min)</th>\n",
       "      <th>...</th>\n",
       "      <th>Birth defects</th>\n",
       "      <th>White Blood cell count (thousand per microliter)</th>\n",
       "      <th>Blood test result</th>\n",
       "      <th>Symptom 1</th>\n",
       "      <th>Symptom 2</th>\n",
       "      <th>Symptom 3</th>\n",
       "      <th>Symptom 4</th>\n",
       "      <th>Symptom 5</th>\n",
       "      <th>Genetic Disorder</th>\n",
       "      <th>Disorder Subclass</th>\n",
       "    </tr>\n",
       "  </thead>\n",
       "  <tbody>\n",
       "    <tr>\n",
       "      <th>0</th>\n",
       "      <td>2</td>\n",
       "      <td>1</td>\n",
       "      <td>0</td>\n",
       "      <td>1</td>\n",
       "      <td>0</td>\n",
       "      <td>4.760603</td>\n",
       "      <td>34.526454</td>\n",
       "      <td>41.972852</td>\n",
       "      <td>0</td>\n",
       "      <td>0</td>\n",
       "      <td>...</td>\n",
       "      <td>1</td>\n",
       "      <td>9.857562</td>\n",
       "      <td>0</td>\n",
       "      <td>1</td>\n",
       "      <td>1</td>\n",
       "      <td>1</td>\n",
       "      <td>1</td>\n",
       "      <td>1</td>\n",
       "      <td>0</td>\n",
       "      <td>5</td>\n",
       "    </tr>\n",
       "    <tr>\n",
       "      <th>1</th>\n",
       "      <td>4</td>\n",
       "      <td>1</td>\n",
       "      <td>1</td>\n",
       "      <td>0</td>\n",
       "      <td>0</td>\n",
       "      <td>4.910669</td>\n",
       "      <td>34.526454</td>\n",
       "      <td>23.000000</td>\n",
       "      <td>1</td>\n",
       "      <td>1</td>\n",
       "      <td>...</td>\n",
       "      <td>0</td>\n",
       "      <td>5.522560</td>\n",
       "      <td>3</td>\n",
       "      <td>1</td>\n",
       "      <td>1</td>\n",
       "      <td>1</td>\n",
       "      <td>1</td>\n",
       "      <td>0</td>\n",
       "      <td>2</td>\n",
       "      <td>2</td>\n",
       "    </tr>\n",
       "  </tbody>\n",
       "</table>\n",
       "<p>2 rows × 39 columns</p>\n",
       "</div>"
      ],
      "text/plain": [
       "   Patient Age  Genes in mother's side  Inherited from father  Maternal gene  \\\n",
       "0            2                       1                      0              1   \n",
       "1            4                       1                      1              0   \n",
       "\n",
       "   Paternal gene  Blood cell count (mcL)  Mother's age  Father's age  Status  \\\n",
       "0              0                4.760603     34.526454     41.972852       0   \n",
       "1              0                4.910669     34.526454     23.000000       1   \n",
       "\n",
       "   Respiratory Rate (breaths/min)  ...  Birth defects  \\\n",
       "0                               0  ...              1   \n",
       "1                               1  ...              0   \n",
       "\n",
       "   White Blood cell count (thousand per microliter)  Blood test result  \\\n",
       "0                                          9.857562                  0   \n",
       "1                                          5.522560                  3   \n",
       "\n",
       "   Symptom 1  Symptom 2  Symptom 3  Symptom 4  Symptom 5  Genetic Disorder  \\\n",
       "0          1          1          1          1          1                 0   \n",
       "1          1          1          1          1          0                 2   \n",
       "\n",
       "   Disorder Subclass  \n",
       "0                  5  \n",
       "1                  2  \n",
       "\n",
       "[2 rows x 39 columns]"
      ]
     },
     "execution_count": 395,
     "metadata": {},
     "output_type": "execute_result"
    }
   ],
   "source": [
    "dis_train.head(2)"
   ]
  },
  {
   "cell_type": "code",
   "execution_count": 396,
   "id": "b94d5da8",
   "metadata": {},
   "outputs": [
    {
     "data": {
      "text/plain": [
       "6    6121\n",
       "7    4405\n",
       "2    4183\n",
       "8    2833\n",
       "3    2011\n",
       "4    1355\n",
       "5     648\n",
       "0     152\n",
       "1      97\n",
       "Name: Disorder Subclass, dtype: int64"
      ]
     },
     "execution_count": 396,
     "metadata": {},
     "output_type": "execute_result"
    }
   ],
   "source": [
    "dis_train['Disorder Subclass'].value_counts()"
   ]
  },
  {
   "cell_type": "code",
   "execution_count": 397,
   "id": "81a7400f",
   "metadata": {},
   "outputs": [],
   "source": [
    "x = dis_train.drop('Disorder Subclass', axis = 1)\n",
    "y = dis_train['Disorder Subclass']"
   ]
  },
  {
   "cell_type": "code",
   "execution_count": 398,
   "id": "7e7e34b4",
   "metadata": {},
   "outputs": [],
   "source": [
    "from sklearn.model_selection import train_test_split\n",
    "x_train, x_test, y_train, y_test = train_test_split(x, y, test_size = 0.2, random_state = 1)"
   ]
  },
  {
   "cell_type": "code",
   "execution_count": 399,
   "id": "f772807f",
   "metadata": {},
   "outputs": [],
   "source": [
    "from sklearn.metrics import accuracy_score, classification_report"
   ]
  },
  {
   "cell_type": "code",
   "execution_count": null,
   "id": "3fe0a992",
   "metadata": {},
   "outputs": [],
   "source": []
  },
  {
   "cell_type": "code",
   "execution_count": 400,
   "id": "1ecc2417",
   "metadata": {},
   "outputs": [
    {
     "name": "stdout",
     "output_type": "stream",
     "text": [
      "0.7108461362072919\n"
     ]
    }
   ],
   "source": [
    "from sklearn.ensemble import GradientBoostingClassifier\n",
    "gab = GradientBoostingClassifier()\n",
    "y_pred = gab.fit(x_train, y_train).predict(x_test)\n",
    "print(accuracy_score(y_test, y_pred))"
   ]
  },
  {
   "cell_type": "code",
   "execution_count": 401,
   "id": "6e850a1a",
   "metadata": {},
   "outputs": [
    {
     "data": {
      "image/png": "[encoded data removed]",
      "text/plain": [
       "<Figure size 720x576 with 1 Axes>"
      ]
     },
     "metadata": {
      "needs_background": "light"
     },
     "output_type": "display_data"
    }
   ],
   "source": [
    "feature_imp = pd.DataFrame(sorted(zip(gab.feature_importances_, x.columns), reverse=True)[:], columns=['Value','Feature'])\n",
    "plt.figure(figsize=(10,8))\n",
    "sns.barplot(x=\"Value\", y=\"Feature\", data=feature_imp.sort_values(by=\"Value\", ascending=False))\n",
    "plt.title('LGBM Features')\n",
    "plt.tight_layout()\n",
    "plt.show()"
   ]
  },
  {
   "cell_type": "code",
   "execution_count": 402,
   "id": "be440f36",
   "metadata": {},
   "outputs": [],
   "source": [
    "x_train = dis_train.drop(['Disorder Subclass', 'Test 1', 'Test 2', 'Test 3', 'Test 4', 'Test 5', 'Parental consent'], axis = 1)\n",
    "y_train = dis_train['Disorder Subclass']\n",
    "x_test = dis_test.drop(['Test 1', 'Test 2', 'Test 3', 'Test 4', 'Test 5', 'Parental consent'], axis = 1)\n",
    "from sklearn.ensemble import GradientBoostingClassifier\n",
    "gab = GradientBoostingClassifier()\n",
    "y_pred1 = gab.fit(x_train, y_train).predict(x_test)"
   ]
  },
  {
   "cell_type": "code",
   "execution_count": 403,
   "id": "bb179a86",
   "metadata": {},
   "outputs": [
    {
     "data": {
      "text/plain": [
       "array([2, 8, 8, ..., 7, 2, 5])"
      ]
     },
     "execution_count": 403,
     "metadata": {},
     "output_type": "execute_result"
    }
   ],
   "source": [
    "y_pred1"
   ]
  },
  {
   "cell_type": "code",
   "execution_count": 404,
   "id": "555b3d8f",
   "metadata": {},
   "outputs": [
    {
     "data": {
      "text/html": [
       "<div>\n",
       "<style scoped>\n",
       "    .dataframe tbody tr th:only-of-type {\n",
       "        vertical-align: middle;\n",
       "    }\n",
       "\n",
       "    .dataframe tbody tr th {\n",
       "        vertical-align: top;\n",
       "    }\n",
       "\n",
       "    .dataframe thead th {\n",
       "        text-align: right;\n",
       "    }\n",
       "</style>\n",
       "<table border=\"1\" class=\"dataframe\">\n",
       "  <thead>\n",
       "    <tr style=\"text-align: right;\">\n",
       "      <th></th>\n",
       "      <th>Disorder Subclass</th>\n",
       "    </tr>\n",
       "  </thead>\n",
       "  <tbody>\n",
       "    <tr>\n",
       "      <th>0</th>\n",
       "      <td>Cystic fibrosis</td>\n",
       "    </tr>\n",
       "    <tr>\n",
       "      <th>1</th>\n",
       "      <td>Tay-Sachs</td>\n",
       "    </tr>\n",
       "    <tr>\n",
       "      <th>2</th>\n",
       "      <td>Tay-Sachs</td>\n",
       "    </tr>\n",
       "    <tr>\n",
       "      <th>3</th>\n",
       "      <td>Cystic fibrosis</td>\n",
       "    </tr>\n",
       "    <tr>\n",
       "      <th>4</th>\n",
       "      <td>Diabetes</td>\n",
       "    </tr>\n",
       "  </tbody>\n",
       "</table>\n",
       "</div>"
      ],
      "text/plain": [
       "  Disorder Subclass\n",
       "0   Cystic fibrosis\n",
       "1         Tay-Sachs\n",
       "2         Tay-Sachs\n",
       "3   Cystic fibrosis\n",
       "4          Diabetes"
      ]
     },
     "execution_count": 404,
     "metadata": {},
     "output_type": "execute_result"
    }
   ],
   "source": [
    "b = pd.DataFrame({'Disorder Subclass' : le.inverse_transform(y_pred1)})\n",
    "b.head()"
   ]
  },
  {
   "cell_type": "code",
   "execution_count": 405,
   "id": "3ed2c3fc",
   "metadata": {},
   "outputs": [],
   "source": [
    "solution = pd.DataFrame({'Patient Id' : test['Patient Id'], 'Genetic Disorder' : a['Genetic Disorder'],\n",
    "                        'Disorder Subclass' : b['Disorder Subclass']})\n",
    "solution.to_csv('Solution.csv', index = False)"
   ]
  },
  {
   "cell_type": "code",
   "execution_count": null,
   "id": "afc8b74a",
   "metadata": {},
   "outputs": [],
   "source": []
  },
  {
   "cell_type": "code",
   "execution_count": null,
   "id": "5d94ef01",
   "metadata": {},
   "outputs": [],
   "source": []
  }
 ],
 "metadata": {
  "kernelspec": {
   "display_name": "Python 3",
   "language": "python",
   "name": "python3"
  },
  "language_info": {
   "codemirror_mode": {
    "name": "ipython",
    "version": 3
   },
   "file_extension": ".py",
   "mimetype": "text/x-python",
   "name": "python",
   "nbconvert_exporter": "python",
   "pygments_lexer": "ipython3",
   "version": "3.8.8"
  }
 },
 "nbformat": 4,
 "nbformat_minor": 5
}
