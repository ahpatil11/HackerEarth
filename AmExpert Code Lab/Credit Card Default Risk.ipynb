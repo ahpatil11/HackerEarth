{
 "cells": [
  {
   "cell_type": "code",
   "execution_count": 62,
   "id": "a2e202f9",
   "metadata": {},
   "outputs": [],
   "source": [
    "import numpy as np\n",
    "import pandas as pd\n",
    "import matplotlib.pyplot as plt\n",
    "import seaborn as sns"
   ]
  },
  {
   "cell_type": "code",
   "execution_count": 63,
   "id": "c60537fc",
   "metadata": {},
   "outputs": [
    {
     "data": {
      "text/html": [
       "<div>\n",
       "<style scoped>\n",
       "    .dataframe tbody tr th:only-of-type {\n",
       "        vertical-align: middle;\n",
       "    }\n",
       "\n",
       "    .dataframe tbody tr th {\n",
       "        vertical-align: top;\n",
       "    }\n",
       "\n",
       "    .dataframe thead th {\n",
       "        text-align: right;\n",
       "    }\n",
       "</style>\n",
       "<table border=\"1\" class=\"dataframe\">\n",
       "  <thead>\n",
       "    <tr style=\"text-align: right;\">\n",
       "      <th></th>\n",
       "      <th>customer_id</th>\n",
       "      <th>name</th>\n",
       "      <th>age</th>\n",
       "      <th>gender</th>\n",
       "      <th>owns_car</th>\n",
       "      <th>owns_house</th>\n",
       "      <th>no_of_children</th>\n",
       "      <th>net_yearly_income</th>\n",
       "      <th>no_of_days_employed</th>\n",
       "      <th>occupation_type</th>\n",
       "      <th>total_family_members</th>\n",
       "      <th>migrant_worker</th>\n",
       "      <th>yearly_debt_payments</th>\n",
       "      <th>credit_limit</th>\n",
       "      <th>credit_limit_used(%)</th>\n",
       "      <th>credit_score</th>\n",
       "      <th>prev_defaults</th>\n",
       "      <th>default_in_last_6months</th>\n",
       "      <th>credit_card_default</th>\n",
       "    </tr>\n",
       "  </thead>\n",
       "  <tbody>\n",
       "    <tr>\n",
       "      <th>0</th>\n",
       "      <td>CST_115179</td>\n",
       "      <td>ita Bose</td>\n",
       "      <td>46</td>\n",
       "      <td>F</td>\n",
       "      <td>N</td>\n",
       "      <td>Y</td>\n",
       "      <td>0.0</td>\n",
       "      <td>107934.04</td>\n",
       "      <td>612.0</td>\n",
       "      <td>Unknown</td>\n",
       "      <td>1.0</td>\n",
       "      <td>1.0</td>\n",
       "      <td>33070.28</td>\n",
       "      <td>18690.93</td>\n",
       "      <td>73</td>\n",
       "      <td>544.0</td>\n",
       "      <td>2</td>\n",
       "      <td>1</td>\n",
       "      <td>1</td>\n",
       "    </tr>\n",
       "    <tr>\n",
       "      <th>1</th>\n",
       "      <td>CST_121920</td>\n",
       "      <td>Alper Jonathan</td>\n",
       "      <td>29</td>\n",
       "      <td>M</td>\n",
       "      <td>N</td>\n",
       "      <td>Y</td>\n",
       "      <td>0.0</td>\n",
       "      <td>109862.62</td>\n",
       "      <td>2771.0</td>\n",
       "      <td>Laborers</td>\n",
       "      <td>2.0</td>\n",
       "      <td>0.0</td>\n",
       "      <td>15329.53</td>\n",
       "      <td>37745.19</td>\n",
       "      <td>52</td>\n",
       "      <td>857.0</td>\n",
       "      <td>0</td>\n",
       "      <td>0</td>\n",
       "      <td>0</td>\n",
       "    </tr>\n",
       "    <tr>\n",
       "      <th>2</th>\n",
       "      <td>CST_109330</td>\n",
       "      <td>Umesh Desai</td>\n",
       "      <td>37</td>\n",
       "      <td>M</td>\n",
       "      <td>N</td>\n",
       "      <td>Y</td>\n",
       "      <td>0.0</td>\n",
       "      <td>230153.17</td>\n",
       "      <td>204.0</td>\n",
       "      <td>Laborers</td>\n",
       "      <td>2.0</td>\n",
       "      <td>0.0</td>\n",
       "      <td>48416.60</td>\n",
       "      <td>41598.36</td>\n",
       "      <td>43</td>\n",
       "      <td>650.0</td>\n",
       "      <td>0</td>\n",
       "      <td>0</td>\n",
       "      <td>0</td>\n",
       "    </tr>\n",
       "    <tr>\n",
       "      <th>3</th>\n",
       "      <td>CST_128288</td>\n",
       "      <td>Rie</td>\n",
       "      <td>39</td>\n",
       "      <td>F</td>\n",
       "      <td>N</td>\n",
       "      <td>Y</td>\n",
       "      <td>0.0</td>\n",
       "      <td>122325.82</td>\n",
       "      <td>11941.0</td>\n",
       "      <td>Core staff</td>\n",
       "      <td>2.0</td>\n",
       "      <td>0.0</td>\n",
       "      <td>22574.36</td>\n",
       "      <td>32627.76</td>\n",
       "      <td>20</td>\n",
       "      <td>754.0</td>\n",
       "      <td>0</td>\n",
       "      <td>0</td>\n",
       "      <td>0</td>\n",
       "    </tr>\n",
       "    <tr>\n",
       "      <th>4</th>\n",
       "      <td>CST_151355</td>\n",
       "      <td>McCool</td>\n",
       "      <td>46</td>\n",
       "      <td>M</td>\n",
       "      <td>Y</td>\n",
       "      <td>Y</td>\n",
       "      <td>0.0</td>\n",
       "      <td>387286.00</td>\n",
       "      <td>1459.0</td>\n",
       "      <td>Core staff</td>\n",
       "      <td>1.0</td>\n",
       "      <td>0.0</td>\n",
       "      <td>38282.95</td>\n",
       "      <td>52950.64</td>\n",
       "      <td>75</td>\n",
       "      <td>927.0</td>\n",
       "      <td>0</td>\n",
       "      <td>0</td>\n",
       "      <td>0</td>\n",
       "    </tr>\n",
       "  </tbody>\n",
       "</table>\n",
       "</div>"
      ],
      "text/plain": [
       "  customer_id            name  age gender owns_car owns_house  no_of_children  \\\n",
       "0  CST_115179        ita Bose   46      F        N          Y             0.0   \n",
       "1  CST_121920  Alper Jonathan   29      M        N          Y             0.0   \n",
       "2  CST_109330     Umesh Desai   37      M        N          Y             0.0   \n",
       "3  CST_128288             Rie   39      F        N          Y             0.0   \n",
       "4  CST_151355          McCool   46      M        Y          Y             0.0   \n",
       "\n",
       "   net_yearly_income  no_of_days_employed occupation_type  \\\n",
       "0          107934.04                612.0         Unknown   \n",
       "1          109862.62               2771.0        Laborers   \n",
       "2          230153.17                204.0        Laborers   \n",
       "3          122325.82              11941.0      Core staff   \n",
       "4          387286.00               1459.0      Core staff   \n",
       "\n",
       "   total_family_members  migrant_worker  yearly_debt_payments  credit_limit  \\\n",
       "0                   1.0             1.0              33070.28      18690.93   \n",
       "1                   2.0             0.0              15329.53      37745.19   \n",
       "2                   2.0             0.0              48416.60      41598.36   \n",
       "3                   2.0             0.0              22574.36      32627.76   \n",
       "4                   1.0             0.0              38282.95      52950.64   \n",
       "\n",
       "   credit_limit_used(%)  credit_score  prev_defaults  default_in_last_6months  \\\n",
       "0                    73         544.0              2                        1   \n",
       "1                    52         857.0              0                        0   \n",
       "2                    43         650.0              0                        0   \n",
       "3                    20         754.0              0                        0   \n",
       "4                    75         927.0              0                        0   \n",
       "\n",
       "   credit_card_default  \n",
       "0                    1  \n",
       "1                    0  \n",
       "2                    0  \n",
       "3                    0  \n",
       "4                    0  "
      ]
     },
     "execution_count": 63,
     "metadata": {},
     "output_type": "execute_result"
    }
   ],
   "source": [
    "train = pd.read_csv('train.csv')\n",
    "train.head()"
   ]
  },
  {
   "cell_type": "code",
   "execution_count": 64,
   "id": "61bbb609",
   "metadata": {},
   "outputs": [
    {
     "data": {
      "text/plain": [
       "(45528, 19)"
      ]
     },
     "execution_count": 64,
     "metadata": {},
     "output_type": "execute_result"
    }
   ],
   "source": [
    "train.shape"
   ]
  },
  {
   "cell_type": "code",
   "execution_count": 65,
   "id": "a02d354e",
   "metadata": {},
   "outputs": [
    {
     "data": {
      "text/plain": [
       "0"
      ]
     },
     "execution_count": 65,
     "metadata": {},
     "output_type": "execute_result"
    }
   ],
   "source": [
    "train.duplicated().sum()"
   ]
  },
  {
   "cell_type": "code",
   "execution_count": 66,
   "id": "a99a2a6f",
   "metadata": {},
   "outputs": [
    {
     "data": {
      "text/plain": [
       "customer_id                  0\n",
       "name                         0\n",
       "age                          0\n",
       "gender                       0\n",
       "owns_car                   547\n",
       "owns_house                   0\n",
       "no_of_children             774\n",
       "net_yearly_income            0\n",
       "no_of_days_employed        463\n",
       "occupation_type              0\n",
       "total_family_members        83\n",
       "migrant_worker              87\n",
       "yearly_debt_payments        95\n",
       "credit_limit                 0\n",
       "credit_limit_used(%)         0\n",
       "credit_score                 8\n",
       "prev_defaults                0\n",
       "default_in_last_6months      0\n",
       "credit_card_default          0\n",
       "dtype: int64"
      ]
     },
     "execution_count": 66,
     "metadata": {},
     "output_type": "execute_result"
    }
   ],
   "source": [
    "train.isnull().sum()"
   ]
  },
  {
   "cell_type": "code",
   "execution_count": 67,
   "id": "299116cb",
   "metadata": {},
   "outputs": [
    {
     "data": {
      "text/plain": [
       "0    41831\n",
       "1     3697\n",
       "Name: credit_card_default, dtype: int64"
      ]
     },
     "execution_count": 67,
     "metadata": {},
     "output_type": "execute_result"
    }
   ],
   "source": [
    "train['credit_card_default'].value_counts()"
   ]
  },
  {
   "cell_type": "code",
   "execution_count": 68,
   "id": "845e8ff3",
   "metadata": {},
   "outputs": [
    {
     "name": "stdout",
     "output_type": "stream",
     "text": [
      "<class 'pandas.core.frame.DataFrame'>\n",
      "RangeIndex: 45528 entries, 0 to 45527\n",
      "Data columns (total 19 columns):\n",
      " #   Column                   Non-Null Count  Dtype  \n",
      "---  ------                   --------------  -----  \n",
      " 0   customer_id              45528 non-null  object \n",
      " 1   name                     45528 non-null  object \n",
      " 2   age                      45528 non-null  int64  \n",
      " 3   gender                   45528 non-null  object \n",
      " 4   owns_car                 44981 non-null  object \n",
      " 5   owns_house               45528 non-null  object \n",
      " 6   no_of_children           44754 non-null  float64\n",
      " 7   net_yearly_income        45528 non-null  float64\n",
      " 8   no_of_days_employed      45065 non-null  float64\n",
      " 9   occupation_type          45528 non-null  object \n",
      " 10  total_family_members     45445 non-null  float64\n",
      " 11  migrant_worker           45441 non-null  float64\n",
      " 12  yearly_debt_payments     45433 non-null  float64\n",
      " 13  credit_limit             45528 non-null  float64\n",
      " 14  credit_limit_used(%)     45528 non-null  int64  \n",
      " 15  credit_score             45520 non-null  float64\n",
      " 16  prev_defaults            45528 non-null  int64  \n",
      " 17  default_in_last_6months  45528 non-null  int64  \n",
      " 18  credit_card_default      45528 non-null  int64  \n",
      "dtypes: float64(8), int64(5), object(6)\n",
      "memory usage: 6.6+ MB\n"
     ]
    }
   ],
   "source": [
    "train.info()"
   ]
  },
  {
   "cell_type": "code",
   "execution_count": 69,
   "id": "73f4cdb9",
   "metadata": {},
   "outputs": [
    {
     "data": {
      "text/html": [
       "<div>\n",
       "<style scoped>\n",
       "    .dataframe tbody tr th:only-of-type {\n",
       "        vertical-align: middle;\n",
       "    }\n",
       "\n",
       "    .dataframe tbody tr th {\n",
       "        vertical-align: top;\n",
       "    }\n",
       "\n",
       "    .dataframe thead th {\n",
       "        text-align: right;\n",
       "    }\n",
       "</style>\n",
       "<table border=\"1\" class=\"dataframe\">\n",
       "  <thead>\n",
       "    <tr style=\"text-align: right;\">\n",
       "      <th></th>\n",
       "      <th>customer_id</th>\n",
       "      <th>name</th>\n",
       "      <th>age</th>\n",
       "      <th>gender</th>\n",
       "      <th>owns_car</th>\n",
       "      <th>owns_house</th>\n",
       "      <th>no_of_children</th>\n",
       "      <th>net_yearly_income</th>\n",
       "      <th>no_of_days_employed</th>\n",
       "      <th>occupation_type</th>\n",
       "      <th>total_family_members</th>\n",
       "      <th>migrant_worker</th>\n",
       "      <th>yearly_debt_payments</th>\n",
       "      <th>credit_limit</th>\n",
       "      <th>credit_limit_used(%)</th>\n",
       "      <th>credit_score</th>\n",
       "      <th>prev_defaults</th>\n",
       "      <th>default_in_last_6months</th>\n",
       "    </tr>\n",
       "  </thead>\n",
       "  <tbody>\n",
       "    <tr>\n",
       "      <th>0</th>\n",
       "      <td>CST_142525</td>\n",
       "      <td>Siva</td>\n",
       "      <td>52</td>\n",
       "      <td>F</td>\n",
       "      <td>Y</td>\n",
       "      <td>N</td>\n",
       "      <td>0.0</td>\n",
       "      <td>232640.53</td>\n",
       "      <td>998.0</td>\n",
       "      <td>Unknown</td>\n",
       "      <td>2.0</td>\n",
       "      <td>0.0</td>\n",
       "      <td>14406.73</td>\n",
       "      <td>26524.40</td>\n",
       "      <td>4</td>\n",
       "      <td>779.0</td>\n",
       "      <td>0</td>\n",
       "      <td>0</td>\n",
       "    </tr>\n",
       "    <tr>\n",
       "      <th>1</th>\n",
       "      <td>CST_129215</td>\n",
       "      <td>Scott</td>\n",
       "      <td>48</td>\n",
       "      <td>F</td>\n",
       "      <td>N</td>\n",
       "      <td>N</td>\n",
       "      <td>1.0</td>\n",
       "      <td>284396.79</td>\n",
       "      <td>1338.0</td>\n",
       "      <td>Unknown</td>\n",
       "      <td>3.0</td>\n",
       "      <td>0.0</td>\n",
       "      <td>57479.99</td>\n",
       "      <td>68998.72</td>\n",
       "      <td>70</td>\n",
       "      <td>806.0</td>\n",
       "      <td>0</td>\n",
       "      <td>0</td>\n",
       "    </tr>\n",
       "    <tr>\n",
       "      <th>2</th>\n",
       "      <td>CST_138443</td>\n",
       "      <td>Victoria</td>\n",
       "      <td>50</td>\n",
       "      <td>F</td>\n",
       "      <td>N</td>\n",
       "      <td>N</td>\n",
       "      <td>1.0</td>\n",
       "      <td>149419.28</td>\n",
       "      <td>1210.0</td>\n",
       "      <td>Unknown</td>\n",
       "      <td>3.0</td>\n",
       "      <td>0.0</td>\n",
       "      <td>21611.01</td>\n",
       "      <td>25187.80</td>\n",
       "      <td>71</td>\n",
       "      <td>528.0</td>\n",
       "      <td>2</td>\n",
       "      <td>0</td>\n",
       "    </tr>\n",
       "    <tr>\n",
       "      <th>3</th>\n",
       "      <td>CST_123812</td>\n",
       "      <td>John McCrank</td>\n",
       "      <td>30</td>\n",
       "      <td>F</td>\n",
       "      <td>N</td>\n",
       "      <td>N</td>\n",
       "      <td>1.0</td>\n",
       "      <td>160437.54</td>\n",
       "      <td>503.0</td>\n",
       "      <td>Laborers</td>\n",
       "      <td>2.0</td>\n",
       "      <td>1.0</td>\n",
       "      <td>28990.76</td>\n",
       "      <td>29179.39</td>\n",
       "      <td>9</td>\n",
       "      <td>815.0</td>\n",
       "      <td>0</td>\n",
       "      <td>0</td>\n",
       "    </tr>\n",
       "    <tr>\n",
       "      <th>4</th>\n",
       "      <td>CST_144450</td>\n",
       "      <td>Martinne</td>\n",
       "      <td>52</td>\n",
       "      <td>M</td>\n",
       "      <td>N</td>\n",
       "      <td>Y</td>\n",
       "      <td>0.0</td>\n",
       "      <td>233480.37</td>\n",
       "      <td>157.0</td>\n",
       "      <td>Laborers</td>\n",
       "      <td>2.0</td>\n",
       "      <td>1.0</td>\n",
       "      <td>54213.72</td>\n",
       "      <td>82331.82</td>\n",
       "      <td>82</td>\n",
       "      <td>613.0</td>\n",
       "      <td>1</td>\n",
       "      <td>1</td>\n",
       "    </tr>\n",
       "  </tbody>\n",
       "</table>\n",
       "</div>"
      ],
      "text/plain": [
       "  customer_id          name  age gender owns_car owns_house  no_of_children  \\\n",
       "0  CST_142525          Siva   52      F        Y          N             0.0   \n",
       "1  CST_129215         Scott   48      F        N          N             1.0   \n",
       "2  CST_138443      Victoria   50      F        N          N             1.0   \n",
       "3  CST_123812  John McCrank   30      F        N          N             1.0   \n",
       "4  CST_144450      Martinne   52      M        N          Y             0.0   \n",
       "\n",
       "   net_yearly_income  no_of_days_employed occupation_type  \\\n",
       "0          232640.53                998.0         Unknown   \n",
       "1          284396.79               1338.0         Unknown   \n",
       "2          149419.28               1210.0         Unknown   \n",
       "3          160437.54                503.0        Laborers   \n",
       "4          233480.37                157.0        Laborers   \n",
       "\n",
       "   total_family_members  migrant_worker  yearly_debt_payments  credit_limit  \\\n",
       "0                   2.0             0.0              14406.73      26524.40   \n",
       "1                   3.0             0.0              57479.99      68998.72   \n",
       "2                   3.0             0.0              21611.01      25187.80   \n",
       "3                   2.0             1.0              28990.76      29179.39   \n",
       "4                   2.0             1.0              54213.72      82331.82   \n",
       "\n",
       "   credit_limit_used(%)  credit_score  prev_defaults  default_in_last_6months  \n",
       "0                     4         779.0              0                        0  \n",
       "1                    70         806.0              0                        0  \n",
       "2                    71         528.0              2                        0  \n",
       "3                     9         815.0              0                        0  \n",
       "4                    82         613.0              1                        1  "
      ]
     },
     "execution_count": 69,
     "metadata": {},
     "output_type": "execute_result"
    }
   ],
   "source": [
    "test = pd.read_csv('test.csv')\n",
    "test.head()"
   ]
  },
  {
   "cell_type": "code",
   "execution_count": 70,
   "id": "e1b27386",
   "metadata": {},
   "outputs": [
    {
     "data": {
      "text/plain": [
       "(11383, 18)"
      ]
     },
     "execution_count": 70,
     "metadata": {},
     "output_type": "execute_result"
    }
   ],
   "source": [
    "test.shape"
   ]
  },
  {
   "cell_type": "code",
   "execution_count": 71,
   "id": "1dbe7457",
   "metadata": {},
   "outputs": [
    {
     "data": {
      "text/plain": [
       "customer_id                  0\n",
       "name                         0\n",
       "age                          0\n",
       "gender                       0\n",
       "owns_car                   132\n",
       "owns_house                   0\n",
       "no_of_children             190\n",
       "net_yearly_income            0\n",
       "no_of_days_employed        105\n",
       "occupation_type              0\n",
       "total_family_members        31\n",
       "migrant_worker              26\n",
       "yearly_debt_payments        22\n",
       "credit_limit                 0\n",
       "credit_limit_used(%)         0\n",
       "credit_score                 3\n",
       "prev_defaults                0\n",
       "default_in_last_6months      0\n",
       "dtype: int64"
      ]
     },
     "execution_count": 71,
     "metadata": {},
     "output_type": "execute_result"
    }
   ],
   "source": [
    "test.isnull().sum()"
   ]
  },
  {
   "cell_type": "code",
   "execution_count": 72,
   "id": "a81d043e",
   "metadata": {},
   "outputs": [
    {
     "data": {
      "text/plain": [
       "45528"
      ]
     },
     "execution_count": 72,
     "metadata": {},
     "output_type": "execute_result"
    }
   ],
   "source": [
    "train['customer_id'].nunique()"
   ]
  },
  {
   "cell_type": "code",
   "execution_count": 73,
   "id": "b680aca0",
   "metadata": {},
   "outputs": [
    {
     "data": {
      "text/html": [
       "<div>\n",
       "<style scoped>\n",
       "    .dataframe tbody tr th:only-of-type {\n",
       "        vertical-align: middle;\n",
       "    }\n",
       "\n",
       "    .dataframe tbody tr th {\n",
       "        vertical-align: top;\n",
       "    }\n",
       "\n",
       "    .dataframe thead th {\n",
       "        text-align: right;\n",
       "    }\n",
       "</style>\n",
       "<table border=\"1\" class=\"dataframe\">\n",
       "  <thead>\n",
       "    <tr style=\"text-align: right;\">\n",
       "      <th></th>\n",
       "      <th>customer_id</th>\n",
       "      <th>name</th>\n",
       "      <th>age</th>\n",
       "      <th>gender</th>\n",
       "      <th>owns_car</th>\n",
       "      <th>owns_house</th>\n",
       "      <th>no_of_children</th>\n",
       "      <th>net_yearly_income</th>\n",
       "      <th>no_of_days_employed</th>\n",
       "      <th>occupation_type</th>\n",
       "      <th>total_family_members</th>\n",
       "      <th>migrant_worker</th>\n",
       "      <th>yearly_debt_payments</th>\n",
       "      <th>credit_limit</th>\n",
       "      <th>credit_limit_used(%)</th>\n",
       "      <th>credit_score</th>\n",
       "      <th>prev_defaults</th>\n",
       "      <th>default_in_last_6months</th>\n",
       "      <th>credit_card_default</th>\n",
       "    </tr>\n",
       "  </thead>\n",
       "  <tbody>\n",
       "    <tr>\n",
       "      <th>0</th>\n",
       "      <td>CST_115179</td>\n",
       "      <td>ita Bose</td>\n",
       "      <td>46</td>\n",
       "      <td>F</td>\n",
       "      <td>N</td>\n",
       "      <td>Y</td>\n",
       "      <td>0.0</td>\n",
       "      <td>107934.04</td>\n",
       "      <td>612.0</td>\n",
       "      <td>Unknown</td>\n",
       "      <td>1.0</td>\n",
       "      <td>1.0</td>\n",
       "      <td>33070.28</td>\n",
       "      <td>18690.93</td>\n",
       "      <td>73</td>\n",
       "      <td>544.0</td>\n",
       "      <td>2</td>\n",
       "      <td>1</td>\n",
       "      <td>1.0</td>\n",
       "    </tr>\n",
       "    <tr>\n",
       "      <th>1</th>\n",
       "      <td>CST_121920</td>\n",
       "      <td>Alper Jonathan</td>\n",
       "      <td>29</td>\n",
       "      <td>M</td>\n",
       "      <td>N</td>\n",
       "      <td>Y</td>\n",
       "      <td>0.0</td>\n",
       "      <td>109862.62</td>\n",
       "      <td>2771.0</td>\n",
       "      <td>Laborers</td>\n",
       "      <td>2.0</td>\n",
       "      <td>0.0</td>\n",
       "      <td>15329.53</td>\n",
       "      <td>37745.19</td>\n",
       "      <td>52</td>\n",
       "      <td>857.0</td>\n",
       "      <td>0</td>\n",
       "      <td>0</td>\n",
       "      <td>0.0</td>\n",
       "    </tr>\n",
       "    <tr>\n",
       "      <th>2</th>\n",
       "      <td>CST_109330</td>\n",
       "      <td>Umesh Desai</td>\n",
       "      <td>37</td>\n",
       "      <td>M</td>\n",
       "      <td>N</td>\n",
       "      <td>Y</td>\n",
       "      <td>0.0</td>\n",
       "      <td>230153.17</td>\n",
       "      <td>204.0</td>\n",
       "      <td>Laborers</td>\n",
       "      <td>2.0</td>\n",
       "      <td>0.0</td>\n",
       "      <td>48416.60</td>\n",
       "      <td>41598.36</td>\n",
       "      <td>43</td>\n",
       "      <td>650.0</td>\n",
       "      <td>0</td>\n",
       "      <td>0</td>\n",
       "      <td>0.0</td>\n",
       "    </tr>\n",
       "    <tr>\n",
       "      <th>3</th>\n",
       "      <td>CST_128288</td>\n",
       "      <td>Rie</td>\n",
       "      <td>39</td>\n",
       "      <td>F</td>\n",
       "      <td>N</td>\n",
       "      <td>Y</td>\n",
       "      <td>0.0</td>\n",
       "      <td>122325.82</td>\n",
       "      <td>11941.0</td>\n",
       "      <td>Core staff</td>\n",
       "      <td>2.0</td>\n",
       "      <td>0.0</td>\n",
       "      <td>22574.36</td>\n",
       "      <td>32627.76</td>\n",
       "      <td>20</td>\n",
       "      <td>754.0</td>\n",
       "      <td>0</td>\n",
       "      <td>0</td>\n",
       "      <td>0.0</td>\n",
       "    </tr>\n",
       "    <tr>\n",
       "      <th>4</th>\n",
       "      <td>CST_151355</td>\n",
       "      <td>McCool</td>\n",
       "      <td>46</td>\n",
       "      <td>M</td>\n",
       "      <td>Y</td>\n",
       "      <td>Y</td>\n",
       "      <td>0.0</td>\n",
       "      <td>387286.00</td>\n",
       "      <td>1459.0</td>\n",
       "      <td>Core staff</td>\n",
       "      <td>1.0</td>\n",
       "      <td>0.0</td>\n",
       "      <td>38282.95</td>\n",
       "      <td>52950.64</td>\n",
       "      <td>75</td>\n",
       "      <td>927.0</td>\n",
       "      <td>0</td>\n",
       "      <td>0</td>\n",
       "      <td>0.0</td>\n",
       "    </tr>\n",
       "  </tbody>\n",
       "</table>\n",
       "</div>"
      ],
      "text/plain": [
       "  customer_id            name  age gender owns_car owns_house  no_of_children  \\\n",
       "0  CST_115179        ita Bose   46      F        N          Y             0.0   \n",
       "1  CST_121920  Alper Jonathan   29      M        N          Y             0.0   \n",
       "2  CST_109330     Umesh Desai   37      M        N          Y             0.0   \n",
       "3  CST_128288             Rie   39      F        N          Y             0.0   \n",
       "4  CST_151355          McCool   46      M        Y          Y             0.0   \n",
       "\n",
       "   net_yearly_income  no_of_days_employed occupation_type  \\\n",
       "0          107934.04                612.0         Unknown   \n",
       "1          109862.62               2771.0        Laborers   \n",
       "2          230153.17                204.0        Laborers   \n",
       "3          122325.82              11941.0      Core staff   \n",
       "4          387286.00               1459.0      Core staff   \n",
       "\n",
       "   total_family_members  migrant_worker  yearly_debt_payments  credit_limit  \\\n",
       "0                   1.0             1.0              33070.28      18690.93   \n",
       "1                   2.0             0.0              15329.53      37745.19   \n",
       "2                   2.0             0.0              48416.60      41598.36   \n",
       "3                   2.0             0.0              22574.36      32627.76   \n",
       "4                   1.0             0.0              38282.95      52950.64   \n",
       "\n",
       "   credit_limit_used(%)  credit_score  prev_defaults  default_in_last_6months  \\\n",
       "0                    73         544.0              2                        1   \n",
       "1                    52         857.0              0                        0   \n",
       "2                    43         650.0              0                        0   \n",
       "3                    20         754.0              0                        0   \n",
       "4                    75         927.0              0                        0   \n",
       "\n",
       "   credit_card_default  \n",
       "0                  1.0  \n",
       "1                  0.0  \n",
       "2                  0.0  \n",
       "3                  0.0  \n",
       "4                  0.0  "
      ]
     },
     "execution_count": 73,
     "metadata": {},
     "output_type": "execute_result"
    }
   ],
   "source": [
    "combinded = pd.concat([train, test], axis = 0)\n",
    "combinded.head()"
   ]
  },
  {
   "cell_type": "code",
   "execution_count": 74,
   "id": "47cc0665",
   "metadata": {},
   "outputs": [
    {
     "data": {
      "text/plain": [
       "(56911, 19)"
      ]
     },
     "execution_count": 74,
     "metadata": {},
     "output_type": "execute_result"
    }
   ],
   "source": [
    "combinded.shape"
   ]
  },
  {
   "cell_type": "code",
   "execution_count": 75,
   "id": "2a69218c",
   "metadata": {},
   "outputs": [
    {
     "data": {
      "text/plain": [
       "56911"
      ]
     },
     "execution_count": 75,
     "metadata": {},
     "output_type": "execute_result"
    }
   ],
   "source": [
    "combinded['customer_id'].nunique()"
   ]
  },
  {
   "cell_type": "code",
   "execution_count": 76,
   "id": "c9471f62",
   "metadata": {},
   "outputs": [
    {
     "data": {
      "text/plain": [
       "(56896, 19)"
      ]
     },
     "execution_count": 76,
     "metadata": {},
     "output_type": "execute_result"
    }
   ],
   "source": [
    "combinded = combinded.drop(combinded.index[combinded['customer_id'] == 'CST_159072'])\n",
    "combinded = combinded.drop(combinded.index[combinded['customer_id'] == 'CST_103875'])\n",
    "combinded = combinded.drop(combinded.index[combinded['customer_id'] == 'CST_154768'])\n",
    "combinded = combinded.drop(combinded.index[combinded['customer_id'] == 'CST_163551'])\n",
    "combinded = combinded.drop(combinded.index[combinded['customer_id'] == 'CST_125741'])\n",
    "combinded = combinded.drop(combinded.index[combinded['customer_id'] == 'CST_114662'])\n",
    "combinded = combinded.drop(combinded.index[combinded['customer_id'] == 'CST_163225'])\n",
    "combinded = combinded.drop(combinded.index[combinded['customer_id'] == 'CST_160336'])\n",
    "combinded = combinded.drop(combinded.index[combinded['customer_id'] == 'CST_148377'])\n",
    "combinded = combinded.drop(combinded.index[combinded['customer_id'] == 'CST_159400'])\n",
    "combinded = combinded.drop(combinded.index[combinded['customer_id'] == 'CST_107047'])\n",
    "combinded = combinded.drop(combinded.index[combinded['customer_id'] == 'CST_130068'])\n",
    "combinded = combinded.drop(combinded.index[combinded['customer_id'] == 'CST_136199'])\n",
    "combinded = combinded.drop(combinded.index[combinded['customer_id'] == 'CST_114286'])\n",
    "combinded = combinded.drop(combinded.index[combinded['customer_id'] == 'CST_100928'])\n",
    "\n",
    "combinded.shape"
   ]
  },
  {
   "cell_type": "code",
   "execution_count": 77,
   "id": "59e38b47",
   "metadata": {},
   "outputs": [
    {
     "data": {
      "text/plain": [
       "customer_id                    0\n",
       "name                           0\n",
       "age                            0\n",
       "gender                         0\n",
       "owns_car                     670\n",
       "owns_house                     0\n",
       "no_of_children               950\n",
       "net_yearly_income              0\n",
       "no_of_days_employed          564\n",
       "occupation_type                0\n",
       "total_family_members         112\n",
       "migrant_worker               112\n",
       "yearly_debt_payments         117\n",
       "credit_limit                   0\n",
       "credit_limit_used(%)           0\n",
       "credit_score                  11\n",
       "prev_defaults                  0\n",
       "default_in_last_6months        0\n",
       "credit_card_default        11383\n",
       "dtype: int64"
      ]
     },
     "execution_count": 77,
     "metadata": {},
     "output_type": "execute_result"
    }
   ],
   "source": [
    "combinded.isnull().sum()"
   ]
  },
  {
   "cell_type": "raw",
   "id": "1a21c6bb",
   "metadata": {},
   "source": [
    "## deleting specific index number\n",
    "combinded.drop(labels = 1318, inplace = True)"
   ]
  },
  {
   "cell_type": "raw",
   "id": "3683460d",
   "metadata": {},
   "source": [
    "def no_of_child(x):\n",
    "    if ((x['no_of_children'] == 50) and (x['total_family_members'] == 1)):\n",
    "        return 0\n",
    "    else:\n",
    "        return x['no_of_children']\n",
    "combinded['no_of_children'] = combinded.apply(lambda x:no_of_child(x), axis = 1)"
   ]
  },
  {
   "cell_type": "code",
   "execution_count": 78,
   "id": "14a9df5f",
   "metadata": {},
   "outputs": [
    {
     "data": {
      "text/plain": [
       "N    46628\n",
       "Y    10156\n",
       "Name: migrant_worker, dtype: int64"
      ]
     },
     "execution_count": 78,
     "metadata": {},
     "output_type": "execute_result"
    }
   ],
   "source": [
    "combinded['migrant_worker'] = combinded['migrant_worker'].replace({1.0: 'Y', 0.0 : 'N'})\n",
    "combinded['migrant_worker'].value_counts()"
   ]
  },
  {
   "cell_type": "code",
   "execution_count": 79,
   "id": "9936586c",
   "metadata": {},
   "outputs": [],
   "source": [
    "x = ['no_of_children', 'total_family_members']\n",
    "for i in x:\n",
    "    combinded[i] = combinded[i].fillna(combinded[i].value_counts().index[0])"
   ]
  },
  {
   "cell_type": "code",
   "execution_count": 80,
   "id": "780994d3",
   "metadata": {},
   "outputs": [],
   "source": [
    "x = ['credit_score', 'yearly_debt_payments', 'no_of_days_employed']\n",
    "for i in x:\n",
    "    combinded[i] = combinded[i].fillna(combinded[i].mean())"
   ]
  },
  {
   "cell_type": "code",
   "execution_count": 81,
   "id": "9f7f933b",
   "metadata": {},
   "outputs": [],
   "source": [
    "combinded['owns_car'] = combinded['owns_car'].fillna('No data')"
   ]
  },
  {
   "cell_type": "code",
   "execution_count": 82,
   "id": "4620ad26",
   "metadata": {},
   "outputs": [],
   "source": [
    "combinded['migrant_worker'] = combinded['migrant_worker'].fillna('No data')"
   ]
  },
  {
   "cell_type": "code",
   "execution_count": 83,
   "id": "6a828326",
   "metadata": {},
   "outputs": [
    {
     "data": {
      "text/plain": [
       "customer_id                    0\n",
       "name                           0\n",
       "age                            0\n",
       "gender                         0\n",
       "owns_car                       0\n",
       "owns_house                     0\n",
       "no_of_children                 0\n",
       "net_yearly_income              0\n",
       "no_of_days_employed            0\n",
       "occupation_type                0\n",
       "total_family_members           0\n",
       "migrant_worker                 0\n",
       "yearly_debt_payments           0\n",
       "credit_limit                   0\n",
       "credit_limit_used(%)           0\n",
       "credit_score                   0\n",
       "prev_defaults                  0\n",
       "default_in_last_6months        0\n",
       "credit_card_default        11383\n",
       "dtype: int64"
      ]
     },
     "execution_count": 83,
     "metadata": {},
     "output_type": "execute_result"
    }
   ],
   "source": [
    "combinded.isnull().sum()"
   ]
  },
  {
   "cell_type": "code",
   "execution_count": 84,
   "id": "4cf49d4e",
   "metadata": {},
   "outputs": [
    {
     "name": "stdout",
     "output_type": "stream",
     "text": [
      "<class 'pandas.core.frame.DataFrame'>\n",
      "Int64Index: 45513 entries, 0 to 45527\n",
      "Data columns (total 19 columns):\n",
      " #   Column                   Non-Null Count  Dtype  \n",
      "---  ------                   --------------  -----  \n",
      " 0   customer_id              45513 non-null  object \n",
      " 1   name                     45513 non-null  object \n",
      " 2   age                      45513 non-null  int64  \n",
      " 3   gender                   45513 non-null  object \n",
      " 4   owns_car                 45513 non-null  object \n",
      " 5   owns_house               45513 non-null  object \n",
      " 6   no_of_children           45513 non-null  float64\n",
      " 7   net_yearly_income        45513 non-null  float64\n",
      " 8   no_of_days_employed      45513 non-null  float64\n",
      " 9   occupation_type          45513 non-null  object \n",
      " 10  total_family_members     45513 non-null  float64\n",
      " 11  migrant_worker           45513 non-null  object \n",
      " 12  yearly_debt_payments     45513 non-null  float64\n",
      " 13  credit_limit             45513 non-null  float64\n",
      " 14  credit_limit_used(%)     45513 non-null  int64  \n",
      " 15  credit_score             45513 non-null  float64\n",
      " 16  prev_defaults            45513 non-null  int64  \n",
      " 17  default_in_last_6months  45513 non-null  int64  \n",
      " 18  credit_card_default      45513 non-null  float64\n",
      "dtypes: float64(8), int64(4), object(7)\n",
      "memory usage: 6.9+ MB\n"
     ]
    }
   ],
   "source": [
    "train1 = combinded.iloc[0:45513, :]\n",
    "train1.info()"
   ]
  },
  {
   "cell_type": "code",
   "execution_count": 91,
   "id": "ed41c5f4",
   "metadata": {},
   "outputs": [
    {
     "data": {
      "text/plain": [
       "<AxesSubplot:>"
      ]
     },
     "execution_count": 91,
     "metadata": {},
     "output_type": "execute_result"
    },
    {
     "data": {
      "image/png": "[encoded data removed]",
      "text/plain": [
       "<Figure size 432x288 with 1 Axes>"
      ]
     },
     "metadata": {
      "needs_background": "light"
     },
     "output_type": "display_data"
    }
   ],
   "source": [
    "train1['credit_card_default'].value_counts().plot(kind = 'bar')"
   ]
  },
  {
   "cell_type": "code",
   "execution_count": 92,
   "id": "4a075fc9",
   "metadata": {},
   "outputs": [
    {
     "data": {
      "text/plain": [
       "<AxesSubplot:xlabel='owns_house'>"
      ]
     },
     "execution_count": 92,
     "metadata": {},
     "output_type": "execute_result"
    },
    {
     "data": {
      "image/png": "[encoded data removed]",
      "text/plain": [
       "<Figure size 1080x360 with 2 Axes>"
      ]
     },
     "metadata": {
      "needs_background": "light"
     },
     "output_type": "display_data"
    }
   ],
   "source": [
    "f,ax = plt.subplots(1,2,figsize=(15,5))\n",
    "pd.crosstab(train1['owns_car'], train1['credit_card_default']).plot.bar(ax=ax[0])\n",
    "pd.crosstab(train1['owns_house'], train1['credit_card_default']).plot.bar(ax=ax[1])"
   ]
  },
  {
   "cell_type": "code",
   "execution_count": 86,
   "id": "d07b72ec",
   "metadata": {},
   "outputs": [
    {
     "data": {
      "text/plain": [
       "<AxesSubplot:xlabel='default_in_last_6months'>"
      ]
     },
     "execution_count": 86,
     "metadata": {},
     "output_type": "execute_result"
    },
    {
     "data": {
      "image/png": "[encoded data removed]",
      "text/plain": [
       "<Figure size 1080x360 with 2 Axes>"
      ]
     },
     "metadata": {
      "needs_background": "light"
     },
     "output_type": "display_data"
    }
   ],
   "source": [
    "f,ax = plt.subplots(1,2,figsize=(15,5))\n",
    "pd.crosstab(train1['migrant_worker'], train1['credit_card_default']).plot.bar(ax=ax[0])\n",
    "pd.crosstab(train1['default_in_last_6months'], train1['credit_card_default']).plot.bar(ax=ax[1])"
   ]
  },
  {
   "cell_type": "code",
   "execution_count": 89,
   "id": "33180c5e",
   "metadata": {},
   "outputs": [
    {
     "data": {
      "text/plain": [
       "<AxesSubplot:xlabel='prev_defaults'>"
      ]
     },
     "execution_count": 89,
     "metadata": {},
     "output_type": "execute_result"
    },
    {
     "data": {
      "image/png": "[encoded data removed]",
      "text/plain": [
       "<Figure size 1080x360 with 2 Axes>"
      ]
     },
     "metadata": {
      "needs_background": "light"
     },
     "output_type": "display_data"
    }
   ],
   "source": [
    "f,ax = plt.subplots(1,2,figsize=(15,5))\n",
    "pd.crosstab(train1['occupation_type'], train1['credit_card_default']).plot.bar(ax=ax[0])\n",
    "pd.crosstab(train1['prev_defaults'], train1['credit_card_default']).plot.bar(ax=ax[1])"
   ]
  },
  {
   "cell_type": "code",
   "execution_count": 90,
   "id": "d0428987",
   "metadata": {},
   "outputs": [],
   "source": [
    "default = train1[train1['credit_card_default'] == 1]"
   ]
  },
  {
   "cell_type": "code",
   "execution_count": 100,
   "id": "928d1f3d",
   "metadata": {},
   "outputs": [],
   "source": [
    "categorical_variables = default[['prev_defaults', 'migrant_worker', 'default_in_last_6months', 'owns_car']]"
   ]
  },
  {
   "cell_type": "code",
   "execution_count": 102,
   "id": "f99974e0",
   "metadata": {},
   "outputs": [
    {
     "name": "stderr",
     "output_type": "stream",
     "text": [
      "D:\\E\\Data Scientist\\ANACONDA\\lib\\site-packages\\seaborn\\_decorators.py:36: FutureWarning: Pass the following variable as a keyword arg: x. From version 0.12, the only valid positional argument will be `data`, and passing other arguments without an explicit keyword will result in an error or misinterpretation.\n",
      "  warnings.warn(\n",
      "D:\\E\\Data Scientist\\ANACONDA\\lib\\site-packages\\seaborn\\_decorators.py:36: FutureWarning: Pass the following variable as a keyword arg: x. From version 0.12, the only valid positional argument will be `data`, and passing other arguments without an explicit keyword will result in an error or misinterpretation.\n",
      "  warnings.warn(\n",
      "D:\\E\\Data Scientist\\ANACONDA\\lib\\site-packages\\seaborn\\_decorators.py:36: FutureWarning: Pass the following variable as a keyword arg: x. From version 0.12, the only valid positional argument will be `data`, and passing other arguments without an explicit keyword will result in an error or misinterpretation.\n",
      "  warnings.warn(\n",
      "D:\\E\\Data Scientist\\ANACONDA\\lib\\site-packages\\seaborn\\_decorators.py:36: FutureWarning: Pass the following variable as a keyword arg: x. From version 0.12, the only valid positional argument will be `data`, and passing other arguments without an explicit keyword will result in an error or misinterpretation.\n",
      "  warnings.warn(\n"
     ]
    },
    {
     "data": {
      "image/png": "[encoded data removed]",
      "text/plain": [
       "<Figure size 1296x576 with 4 Axes>"
      ]
     },
     "metadata": {
      "needs_background": "light"
     },
     "output_type": "display_data"
    }
   ],
   "source": [
    "fig, ax = plt.subplots(2, 2, figsize = (18,8))\n",
    "for i, subplot in zip(categorical_variables, ax.flatten()):\n",
    "    sns.countplot(default[i], ax = subplot)"
   ]
  },
  {
   "cell_type": "code",
   "execution_count": 131,
   "id": "8046981c",
   "metadata": {},
   "outputs": [
    {
     "name": "stderr",
     "output_type": "stream",
     "text": [
      "D:\\E\\Data Scientist\\ANACONDA\\lib\\site-packages\\seaborn\\_decorators.py:36: FutureWarning: Pass the following variable as a keyword arg: x. From version 0.12, the only valid positional argument will be `data`, and passing other arguments without an explicit keyword will result in an error or misinterpretation.\n",
      "  warnings.warn(\n"
     ]
    },
    {
     "data": {
      "text/plain": [
       "[]"
      ]
     },
     "execution_count": 131,
     "metadata": {},
     "output_type": "execute_result"
    },
    {
     "data": {
      "image/png": "[encoded data removed]",
      "text/plain": [
       "<Figure size 2016x720 with 1 Axes>"
      ]
     },
     "metadata": {
      "needs_background": "light"
     },
     "output_type": "display_data"
    }
   ],
   "source": [
    "plt.figure(figsize= (28,10))\n",
    "sns.countplot(default['occupation_type']).plot(kind = 'bar')"
   ]
  },
  {
   "cell_type": "code",
   "execution_count": 114,
   "id": "b5ffc7a2",
   "metadata": {},
   "outputs": [
    {
     "name": "stderr",
     "output_type": "stream",
     "text": [
      "D:\\E\\Data Scientist\\ANACONDA\\lib\\site-packages\\seaborn\\_decorators.py:36: FutureWarning: Pass the following variable as a keyword arg: x. From version 0.12, the only valid positional argument will be `data`, and passing other arguments without an explicit keyword will result in an error or misinterpretation.\n",
      "  warnings.warn(\n"
     ]
    },
    {
     "data": {
      "text/plain": [
       "[]"
      ]
     },
     "execution_count": 114,
     "metadata": {},
     "output_type": "execute_result"
    },
    {
     "data": {
      "image/png": "[encoded data removed]",
      "text/plain": [
       "<Figure size 360x288 with 1 Axes>"
      ]
     },
     "metadata": {
      "needs_background": "light"
     },
     "output_type": "display_data"
    }
   ],
   "source": [
    "plt.figure(figsize= (5,4))\n",
    "sns.countplot(default['owns_house']).plot(kind = 'bar')"
   ]
  },
  {
   "cell_type": "code",
   "execution_count": 115,
   "id": "6d71f21b",
   "metadata": {},
   "outputs": [],
   "source": [
    "no_default = train1[train1['credit_card_default'] == 0]"
   ]
  },
  {
   "cell_type": "code",
   "execution_count": 123,
   "id": "5713501f",
   "metadata": {},
   "outputs": [],
   "source": [
    "categorical_variables = default[['migrant_worker', 'default_in_last_6months', 'owns_car', 'owns_house']]"
   ]
  },
  {
   "cell_type": "code",
   "execution_count": 124,
   "id": "23f3ba20",
   "metadata": {},
   "outputs": [
    {
     "name": "stderr",
     "output_type": "stream",
     "text": [
      "D:\\E\\Data Scientist\\ANACONDA\\lib\\site-packages\\seaborn\\_decorators.py:36: FutureWarning: Pass the following variable as a keyword arg: x. From version 0.12, the only valid positional argument will be `data`, and passing other arguments without an explicit keyword will result in an error or misinterpretation.\n",
      "  warnings.warn(\n",
      "D:\\E\\Data Scientist\\ANACONDA\\lib\\site-packages\\seaborn\\_decorators.py:36: FutureWarning: Pass the following variable as a keyword arg: x. From version 0.12, the only valid positional argument will be `data`, and passing other arguments without an explicit keyword will result in an error or misinterpretation.\n",
      "  warnings.warn(\n",
      "D:\\E\\Data Scientist\\ANACONDA\\lib\\site-packages\\seaborn\\_decorators.py:36: FutureWarning: Pass the following variable as a keyword arg: x. From version 0.12, the only valid positional argument will be `data`, and passing other arguments without an explicit keyword will result in an error or misinterpretation.\n",
      "  warnings.warn(\n",
      "D:\\E\\Data Scientist\\ANACONDA\\lib\\site-packages\\seaborn\\_decorators.py:36: FutureWarning: Pass the following variable as a keyword arg: x. From version 0.12, the only valid positional argument will be `data`, and passing other arguments without an explicit keyword will result in an error or misinterpretation.\n",
      "  warnings.warn(\n"
     ]
    },
    {
     "data": {
      "image/png": "[encoded data removed]",
      "text/plain": [
       "<Figure size 1296x216 with 4 Axes>"
      ]
     },
     "metadata": {
      "needs_background": "light"
     },
     "output_type": "display_data"
    }
   ],
   "source": [
    "fig, ax = plt.subplots(1, 4, figsize = (18,3))\n",
    "for i, subplot in zip(categorical_variables, ax.flatten()):\n",
    "    sns.countplot(no_default[i], ax = subplot)"
   ]
  },
  {
   "cell_type": "code",
   "execution_count": 130,
   "id": "454bca07",
   "metadata": {},
   "outputs": [
    {
     "name": "stderr",
     "output_type": "stream",
     "text": [
      "D:\\E\\Data Scientist\\ANACONDA\\lib\\site-packages\\seaborn\\_decorators.py:36: FutureWarning: Pass the following variable as a keyword arg: x. From version 0.12, the only valid positional argument will be `data`, and passing other arguments without an explicit keyword will result in an error or misinterpretation.\n",
      "  warnings.warn(\n"
     ]
    },
    {
     "data": {
      "text/plain": [
       "[]"
      ]
     },
     "execution_count": 130,
     "metadata": {},
     "output_type": "execute_result"
    },
    {
     "data": {
      "image/png": "[encoded data removed]",
      "text/plain": [
       "<Figure size 2016x720 with 1 Axes>"
      ]
     },
     "metadata": {
      "needs_background": "light"
     },
     "output_type": "display_data"
    }
   ],
   "source": [
    "plt.figure(figsize= (28,10))\n",
    "sns.countplot(no_default['occupation_type']).plot(kind = 'bar')"
   ]
  },
  {
   "cell_type": "code",
   "execution_count": 133,
   "id": "8b7bba2e",
   "metadata": {},
   "outputs": [
    {
     "data": {
      "text/plain": [
       "0    41816\n",
       "Name: prev_defaults, dtype: int64"
      ]
     },
     "execution_count": 133,
     "metadata": {},
     "output_type": "execute_result"
    }
   ],
   "source": [
    "no_default['prev_defaults'].value_counts()"
   ]
  },
  {
   "cell_type": "code",
   "execution_count": 23,
   "id": "c2a39a80",
   "metadata": {},
   "outputs": [],
   "source": [
    "from sklearn.preprocessing import LabelEncoder\n",
    "le = LabelEncoder()"
   ]
  },
  {
   "cell_type": "code",
   "execution_count": 24,
   "id": "0d8c4821",
   "metadata": {},
   "outputs": [],
   "source": [
    "x = ['gender', 'owns_car', 'owns_house', 'occupation_type', 'migrant_worker']\n",
    "for i in x:\n",
    "    combinded[i] = le.fit_transform(combinded[i])"
   ]
  },
  {
   "cell_type": "code",
   "execution_count": 25,
   "id": "fb431253",
   "metadata": {},
   "outputs": [
    {
     "name": "stdout",
     "output_type": "stream",
     "text": [
      "<class 'pandas.core.frame.DataFrame'>\n",
      "Int64Index: 56896 entries, 0 to 11382\n",
      "Data columns (total 19 columns):\n",
      " #   Column                   Non-Null Count  Dtype  \n",
      "---  ------                   --------------  -----  \n",
      " 0   customer_id              56896 non-null  object \n",
      " 1   name                     56896 non-null  object \n",
      " 2   age                      56896 non-null  int64  \n",
      " 3   gender                   56896 non-null  int32  \n",
      " 4   owns_car                 56896 non-null  int32  \n",
      " 5   owns_house               56896 non-null  int32  \n",
      " 6   no_of_children           56896 non-null  float64\n",
      " 7   net_yearly_income        56896 non-null  float64\n",
      " 8   no_of_days_employed      56896 non-null  float64\n",
      " 9   occupation_type          56896 non-null  int32  \n",
      " 10  total_family_members     56896 non-null  float64\n",
      " 11  migrant_worker           56896 non-null  int32  \n",
      " 12  yearly_debt_payments     56896 non-null  float64\n",
      " 13  credit_limit             56896 non-null  float64\n",
      " 14  credit_limit_used(%)     56896 non-null  int64  \n",
      " 15  credit_score             56896 non-null  float64\n",
      " 16  prev_defaults            56896 non-null  int64  \n",
      " 17  default_in_last_6months  56896 non-null  int64  \n",
      " 18  credit_card_default      45513 non-null  float64\n",
      "dtypes: float64(8), int32(5), int64(4), object(2)\n",
      "memory usage: 7.6+ MB\n"
     ]
    }
   ],
   "source": [
    "combinded.info()"
   ]
  },
  {
   "cell_type": "code",
   "execution_count": 26,
   "id": "77e33e1d",
   "metadata": {},
   "outputs": [
    {
     "data": {
      "text/plain": [
       "(56896, 19)"
      ]
     },
     "execution_count": 26,
     "metadata": {},
     "output_type": "execute_result"
    }
   ],
   "source": [
    "combinded.shape"
   ]
  },
  {
   "cell_type": "code",
   "execution_count": 27,
   "id": "794984cb",
   "metadata": {},
   "outputs": [
    {
     "data": {
      "text/plain": [
       "45513"
      ]
     },
     "execution_count": 27,
     "metadata": {},
     "output_type": "execute_result"
    }
   ],
   "source": [
    "56896-11383"
   ]
  },
  {
   "cell_type": "code",
   "execution_count": 28,
   "id": "77f8e842",
   "metadata": {},
   "outputs": [],
   "source": [
    "newtrain = combinded.iloc[0:45513, :]\n",
    "newtest = combinded.iloc[45513:, :]"
   ]
  },
  {
   "cell_type": "code",
   "execution_count": 29,
   "id": "7706a781",
   "metadata": {},
   "outputs": [
    {
     "data": {
      "text/plain": [
       "(45513, 19)"
      ]
     },
     "execution_count": 29,
     "metadata": {},
     "output_type": "execute_result"
    }
   ],
   "source": [
    "newtrain.shape"
   ]
  },
  {
   "cell_type": "code",
   "execution_count": 30,
   "id": "af802563",
   "metadata": {},
   "outputs": [
    {
     "data": {
      "text/plain": [
       "(11383, 18)"
      ]
     },
     "execution_count": 30,
     "metadata": {},
     "output_type": "execute_result"
    }
   ],
   "source": [
    "newtest = newtest.drop('credit_card_default', axis = 1)\n",
    "newtest.shape"
   ]
  },
  {
   "cell_type": "code",
   "execution_count": 31,
   "id": "f21a3c37",
   "metadata": {},
   "outputs": [],
   "source": [
    "newtrain = newtrain.drop(['customer_id', 'name'], axis = 1)\n",
    "newtest = newtest.drop(['customer_id', 'name'], axis = 1)"
   ]
  },
  {
   "cell_type": "code",
   "execution_count": 32,
   "id": "7eeb667d",
   "metadata": {},
   "outputs": [],
   "source": [
    "from sklearn.metrics import f1_score"
   ]
  },
  {
   "cell_type": "code",
   "execution_count": 33,
   "id": "553c3c2c",
   "metadata": {},
   "outputs": [],
   "source": [
    "x = newtrain.drop('credit_card_default', axis = 1)\n",
    "y = newtrain['credit_card_default']"
   ]
  },
  {
   "cell_type": "code",
   "execution_count": 34,
   "id": "fe874061",
   "metadata": {},
   "outputs": [],
   "source": [
    "from sklearn.model_selection import train_test_split\n",
    "x_train, x_test, y_train, y_test = train_test_split(x, y, test_size = 0.2 ,random_state = 1)"
   ]
  },
  {
   "cell_type": "code",
   "execution_count": 35,
   "id": "47648677",
   "metadata": {},
   "outputs": [
    {
     "name": "stdout",
     "output_type": "stream",
     "text": [
      "0.7130681818181819\n"
     ]
    }
   ],
   "source": [
    "from sklearn.linear_model import LogisticRegression\n",
    "lr = LogisticRegression()\n",
    "y_pred = lr.fit(x_train, y_train).predict(x_test)\n",
    "print(f1_score(y_test, y_pred))"
   ]
  },
  {
   "cell_type": "code",
   "execution_count": 47,
   "id": "873ab2c4",
   "metadata": {},
   "outputs": [
    {
     "name": "stdout",
     "output_type": "stream",
     "text": [
      "0.8648648648648648\n"
     ]
    }
   ],
   "source": [
    "from sklearn.ensemble import ExtraTreesClassifier\n",
    "etree = ExtraTreesClassifier()\n",
    "y_pred = etree.fit(x_train, y_train).predict(x_test)\n",
    "print(f1_score(y_test, y_pred))"
   ]
  },
  {
   "cell_type": "code",
   "execution_count": 48,
   "id": "ba342e76",
   "metadata": {},
   "outputs": [
    {
     "data": {
      "image/png": "[encoded data removed]",
      "text/plain": [
       "<Figure size 720x360 with 1 Axes>"
      ]
     },
     "metadata": {
      "needs_background": "light"
     },
     "output_type": "display_data"
    }
   ],
   "source": [
    "feature_imp = pd.DataFrame(sorted(zip(etree.feature_importances_, x.columns), reverse=True)[:], columns=['Value','Feature'])\n",
    "plt.figure(figsize=(10,5))\n",
    "sns.barplot(x=\"Value\", y=\"Feature\", data=feature_imp.sort_values(by=\"Value\", ascending=False))\n",
    "plt.title('Etree Features')\n",
    "plt.tight_layout()\n",
    "plt.show()"
   ]
  },
  {
   "cell_type": "code",
   "execution_count": 59,
   "id": "97567668",
   "metadata": {},
   "outputs": [],
   "source": [
    "x_train = newtrain.drop('credit_card_default', axis = 1)\n",
    "y_train = newtrain['credit_card_default']\n",
    "x_test = newtest\n",
    "from sklearn.ensemble import ExtraTreesClassifier\n",
    "etree = ExtraTreesClassifier()\n",
    "y_pred = etree.fit(x_train, y_train).predict(x_test)\n",
    "solution = pd.DataFrame({'customer_id': test.customer_id, 'credit_card_default': y_pred})\n",
    "solution.to_csv('Solution.csv', index = False)"
   ]
  },
  {
   "cell_type": "code",
   "execution_count": null,
   "id": "d45d67cf",
   "metadata": {},
   "outputs": [],
   "source": []
  },
  {
   "cell_type": "code",
   "execution_count": null,
   "id": "d7b5afe3",
   "metadata": {},
   "outputs": [],
   "source": []
  }
 ],
 "metadata": {
  "kernelspec": {
   "display_name": "Python 3",
   "language": "python",
   "name": "python3"
  },
  "language_info": {
   "codemirror_mode": {
    "name": "ipython",
    "version": 3
   },
   "file_extension": ".py",
   "mimetype": "text/x-python",
   "name": "python",
   "nbconvert_exporter": "python",
   "pygments_lexer": "ipython3",
   "version": "3.8.8"
  }
 },
 "nbformat": 4,
 "nbformat_minor": 5
}
