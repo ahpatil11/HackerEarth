{
 "cells": [
  {
   "cell_type": "code",
   "execution_count": 1,
   "id": "e49e50c9",
   "metadata": {},
   "outputs": [],
   "source": [
    "import numpy as np\n",
    "import pandas as pd\n",
    "import matplotlib.pyplot as plt\n",
    "import seaborn as sns"
   ]
  },
  {
   "cell_type": "code",
   "execution_count": 2,
   "id": "c5dafc29",
   "metadata": {},
   "outputs": [
    {
     "data": {
      "text/html": [
       "<div>\n",
       "<style scoped>\n",
       "    .dataframe tbody tr th:only-of-type {\n",
       "        vertical-align: middle;\n",
       "    }\n",
       "\n",
       "    .dataframe tbody tr th {\n",
       "        vertical-align: top;\n",
       "    }\n",
       "\n",
       "    .dataframe thead th {\n",
       "        text-align: right;\n",
       "    }\n",
       "</style>\n",
       "<table border=\"1\" class=\"dataframe\">\n",
       "  <thead>\n",
       "    <tr style=\"text-align: right;\">\n",
       "      <th></th>\n",
       "      <th>CustomerID</th>\n",
       "      <th>Age</th>\n",
       "      <th>Gender</th>\n",
       "      <th>City</th>\n",
       "      <th>State</th>\n",
       "      <th>No_of_orders_placed</th>\n",
       "      <th>Sign_up_date</th>\n",
       "      <th>Last_order_placed_date</th>\n",
       "      <th>is_premium_member</th>\n",
       "      <th>Women’s_Clothing</th>\n",
       "      <th>Men’s_Clothing</th>\n",
       "      <th>Kid’s_Clothing</th>\n",
       "      <th>Home_&amp;_Living</th>\n",
       "      <th>Beauty</th>\n",
       "      <th>Electronics</th>\n",
       "      <th>Preferred_Theme</th>\n",
       "    </tr>\n",
       "  </thead>\n",
       "  <tbody>\n",
       "    <tr>\n",
       "      <th>0</th>\n",
       "      <td>CusID_00126</td>\n",
       "      <td>22.0</td>\n",
       "      <td>Male</td>\n",
       "      <td>Vancouver</td>\n",
       "      <td>British Columbia</td>\n",
       "      <td>4.0</td>\n",
       "      <td>2017-06-23</td>\n",
       "      <td>2021-04-01</td>\n",
       "      <td>0</td>\n",
       "      <td>2.945701</td>\n",
       "      <td>8.924431</td>\n",
       "      <td>2.000000</td>\n",
       "      <td>2.325376</td>\n",
       "      <td>1.924891</td>\n",
       "      <td>9.820254</td>\n",
       "      <td>New_UI</td>\n",
       "    </tr>\n",
       "    <tr>\n",
       "      <th>1</th>\n",
       "      <td>CusID_00927</td>\n",
       "      <td>NaN</td>\n",
       "      <td>Female</td>\n",
       "      <td>Budapest</td>\n",
       "      <td>Central Hungary</td>\n",
       "      <td>9.0</td>\n",
       "      <td>2018-05-21</td>\n",
       "      <td>2020-01-26</td>\n",
       "      <td>0</td>\n",
       "      <td>6.115229</td>\n",
       "      <td>2.363926</td>\n",
       "      <td>6.968752</td>\n",
       "      <td>7.355854</td>\n",
       "      <td>8.561461</td>\n",
       "      <td>2.162229</td>\n",
       "      <td>Old_UI</td>\n",
       "    </tr>\n",
       "    <tr>\n",
       "      <th>2</th>\n",
       "      <td>CusID_01646</td>\n",
       "      <td>26.0</td>\n",
       "      <td>Male</td>\n",
       "      <td>Mumbai</td>\n",
       "      <td>Maharashtra</td>\n",
       "      <td>NaN</td>\n",
       "      <td>2019-02-15</td>\n",
       "      <td>2020-11-28</td>\n",
       "      <td>0</td>\n",
       "      <td>1.000000</td>\n",
       "      <td>3.000000</td>\n",
       "      <td>1.766530</td>\n",
       "      <td>3.471802</td>\n",
       "      <td>0.808147</td>\n",
       "      <td>9.055563</td>\n",
       "      <td>New_UI</td>\n",
       "    </tr>\n",
       "    <tr>\n",
       "      <th>3</th>\n",
       "      <td>CusID_06228</td>\n",
       "      <td>NaN</td>\n",
       "      <td>Male</td>\n",
       "      <td>San Francisco</td>\n",
       "      <td>California</td>\n",
       "      <td>7.0</td>\n",
       "      <td>2019-07-18</td>\n",
       "      <td>2020-11-16</td>\n",
       "      <td>0</td>\n",
       "      <td>2.116475</td>\n",
       "      <td>9.064060</td>\n",
       "      <td>5.387599</td>\n",
       "      <td>NaN</td>\n",
       "      <td>0.459090</td>\n",
       "      <td>7.343461</td>\n",
       "      <td>New_UI</td>\n",
       "    </tr>\n",
       "    <tr>\n",
       "      <th>4</th>\n",
       "      <td>CusID_04239</td>\n",
       "      <td>29.0</td>\n",
       "      <td>Female</td>\n",
       "      <td>Taipei</td>\n",
       "      <td>Taiwan</td>\n",
       "      <td>NaN</td>\n",
       "      <td>2018-02-05</td>\n",
       "      <td>2020-03-12</td>\n",
       "      <td>0</td>\n",
       "      <td>7.352878</td>\n",
       "      <td>1.995744</td>\n",
       "      <td>2.676853</td>\n",
       "      <td>7.159554</td>\n",
       "      <td>8.184695</td>\n",
       "      <td>2.000000</td>\n",
       "      <td>Old_UI</td>\n",
       "    </tr>\n",
       "  </tbody>\n",
       "</table>\n",
       "</div>"
      ],
      "text/plain": [
       "    CustomerID   Age  Gender           City             State  \\\n",
       "0  CusID_00126  22.0    Male      Vancouver  British Columbia   \n",
       "1  CusID_00927   NaN  Female       Budapest   Central Hungary   \n",
       "2  CusID_01646  26.0    Male         Mumbai       Maharashtra   \n",
       "3  CusID_06228   NaN    Male  San Francisco        California   \n",
       "4  CusID_04239  29.0  Female         Taipei            Taiwan   \n",
       "\n",
       "   No_of_orders_placed Sign_up_date Last_order_placed_date  is_premium_member  \\\n",
       "0                  4.0   2017-06-23             2021-04-01                  0   \n",
       "1                  9.0   2018-05-21             2020-01-26                  0   \n",
       "2                  NaN   2019-02-15             2020-11-28                  0   \n",
       "3                  7.0   2019-07-18             2020-11-16                  0   \n",
       "4                  NaN   2018-02-05             2020-03-12                  0   \n",
       "\n",
       "   Women’s_Clothing  Men’s_Clothing  Kid’s_Clothing  Home_&_Living    Beauty  \\\n",
       "0          2.945701        8.924431        2.000000       2.325376  1.924891   \n",
       "1          6.115229        2.363926        6.968752       7.355854  8.561461   \n",
       "2          1.000000        3.000000        1.766530       3.471802  0.808147   \n",
       "3          2.116475        9.064060        5.387599            NaN  0.459090   \n",
       "4          7.352878        1.995744        2.676853       7.159554  8.184695   \n",
       "\n",
       "   Electronics Preferred_Theme  \n",
       "0     9.820254          New_UI  \n",
       "1     2.162229          Old_UI  \n",
       "2     9.055563          New_UI  \n",
       "3     7.343461          New_UI  \n",
       "4     2.000000          Old_UI  "
      ]
     },
     "execution_count": 2,
     "metadata": {},
     "output_type": "execute_result"
    }
   ],
   "source": [
    "train = pd.read_csv('train.csv')\n",
    "train.head()"
   ]
  },
  {
   "cell_type": "code",
   "execution_count": 3,
   "id": "18cad8f1",
   "metadata": {},
   "outputs": [
    {
     "data": {
      "text/plain": [
       "(15150, 16)"
      ]
     },
     "execution_count": 3,
     "metadata": {},
     "output_type": "execute_result"
    }
   ],
   "source": [
    "train.shape"
   ]
  },
  {
   "cell_type": "code",
   "execution_count": 4,
   "id": "f91ab6e1",
   "metadata": {},
   "outputs": [
    {
     "data": {
      "text/plain": [
       "0"
      ]
     },
     "execution_count": 4,
     "metadata": {},
     "output_type": "execute_result"
    }
   ],
   "source": [
    "train.duplicated().sum()"
   ]
  },
  {
   "cell_type": "code",
   "execution_count": 5,
   "id": "87868dbf",
   "metadata": {},
   "outputs": [
    {
     "data": {
      "text/plain": [
       "CustomerID                   0\n",
       "Age                       1003\n",
       "Gender                       0\n",
       "City                         0\n",
       "State                        0\n",
       "No_of_orders_placed        773\n",
       "Sign_up_date                 0\n",
       "Last_order_placed_date       0\n",
       "is_premium_member            0\n",
       "Women’s_Clothing             0\n",
       "Men’s_Clothing               0\n",
       "Kid’s_Clothing             935\n",
       "Home_&_Living              848\n",
       "Beauty                       0\n",
       "Electronics                  0\n",
       "Preferred_Theme              0\n",
       "dtype: int64"
      ]
     },
     "execution_count": 5,
     "metadata": {},
     "output_type": "execute_result"
    }
   ],
   "source": [
    "train.isnull().sum()"
   ]
  },
  {
   "cell_type": "code",
   "execution_count": 6,
   "id": "4ecf63fa",
   "metadata": {},
   "outputs": [
    {
     "name": "stdout",
     "output_type": "stream",
     "text": [
      "<class 'pandas.core.frame.DataFrame'>\n",
      "RangeIndex: 15150 entries, 0 to 15149\n",
      "Data columns (total 16 columns):\n",
      " #   Column                  Non-Null Count  Dtype  \n",
      "---  ------                  --------------  -----  \n",
      " 0   CustomerID              15150 non-null  object \n",
      " 1   Age                     14147 non-null  float64\n",
      " 2   Gender                  15150 non-null  object \n",
      " 3   City                    15150 non-null  object \n",
      " 4   State                   15150 non-null  object \n",
      " 5   No_of_orders_placed     14377 non-null  float64\n",
      " 6   Sign_up_date            15150 non-null  object \n",
      " 7   Last_order_placed_date  15150 non-null  object \n",
      " 8   is_premium_member       15150 non-null  int64  \n",
      " 9   Women’s_Clothing        15150 non-null  float64\n",
      " 10  Men’s_Clothing          15150 non-null  float64\n",
      " 11  Kid’s_Clothing          14215 non-null  float64\n",
      " 12  Home_&_Living           14302 non-null  float64\n",
      " 13  Beauty                  15150 non-null  float64\n",
      " 14  Electronics             15150 non-null  float64\n",
      " 15  Preferred_Theme         15150 non-null  object \n",
      "dtypes: float64(8), int64(1), object(7)\n",
      "memory usage: 1.8+ MB\n"
     ]
    }
   ],
   "source": [
    "train.info()"
   ]
  },
  {
   "cell_type": "code",
   "execution_count": 7,
   "id": "2277eca4",
   "metadata": {},
   "outputs": [
    {
     "data": {
      "text/html": [
       "<div>\n",
       "<style scoped>\n",
       "    .dataframe tbody tr th:only-of-type {\n",
       "        vertical-align: middle;\n",
       "    }\n",
       "\n",
       "    .dataframe tbody tr th {\n",
       "        vertical-align: top;\n",
       "    }\n",
       "\n",
       "    .dataframe thead th {\n",
       "        text-align: right;\n",
       "    }\n",
       "</style>\n",
       "<table border=\"1\" class=\"dataframe\">\n",
       "  <thead>\n",
       "    <tr style=\"text-align: right;\">\n",
       "      <th></th>\n",
       "      <th>CustomerID</th>\n",
       "      <th>Age</th>\n",
       "      <th>Gender</th>\n",
       "      <th>City</th>\n",
       "      <th>State</th>\n",
       "      <th>No_of_orders_placed</th>\n",
       "      <th>Sign_up_date</th>\n",
       "      <th>Last_order_placed_date</th>\n",
       "      <th>is_premium_member</th>\n",
       "      <th>Women’s_Clothing</th>\n",
       "      <th>Men’s_Clothing</th>\n",
       "      <th>Kid’s_Clothing</th>\n",
       "      <th>Home_&amp;_Living</th>\n",
       "      <th>Beauty</th>\n",
       "      <th>Electronics</th>\n",
       "    </tr>\n",
       "  </thead>\n",
       "  <tbody>\n",
       "    <tr>\n",
       "      <th>0</th>\n",
       "      <td>CusID_09654</td>\n",
       "      <td>20.0</td>\n",
       "      <td>Female</td>\n",
       "      <td>Vancouver</td>\n",
       "      <td>British Columbia</td>\n",
       "      <td>5.0</td>\n",
       "      <td>2019-11-27</td>\n",
       "      <td>2020-03-22</td>\n",
       "      <td>0</td>\n",
       "      <td>4.000000</td>\n",
       "      <td>3.043023</td>\n",
       "      <td>6.231789</td>\n",
       "      <td>8.561328</td>\n",
       "      <td>9.893144</td>\n",
       "      <td>1.197478</td>\n",
       "    </tr>\n",
       "    <tr>\n",
       "      <th>1</th>\n",
       "      <td>CusID_09727</td>\n",
       "      <td>25.0</td>\n",
       "      <td>Not_Specified</td>\n",
       "      <td>Budapest</td>\n",
       "      <td>Central Hungary</td>\n",
       "      <td>11.0</td>\n",
       "      <td>2016-12-01</td>\n",
       "      <td>2021-08-22</td>\n",
       "      <td>1</td>\n",
       "      <td>4.379066</td>\n",
       "      <td>5.819171</td>\n",
       "      <td>6.923614</td>\n",
       "      <td>4.529057</td>\n",
       "      <td>5.105539</td>\n",
       "      <td>4.608664</td>\n",
       "    </tr>\n",
       "    <tr>\n",
       "      <th>2</th>\n",
       "      <td>CusID_07391</td>\n",
       "      <td>31.0</td>\n",
       "      <td>Female</td>\n",
       "      <td>Perth</td>\n",
       "      <td>Western Australia</td>\n",
       "      <td>1.0</td>\n",
       "      <td>2019-10-31</td>\n",
       "      <td>2020-11-28</td>\n",
       "      <td>1</td>\n",
       "      <td>7.946141</td>\n",
       "      <td>4.000000</td>\n",
       "      <td>9.939050</td>\n",
       "      <td>9.744879</td>\n",
       "      <td>8.874676</td>\n",
       "      <td>2.069313</td>\n",
       "    </tr>\n",
       "    <tr>\n",
       "      <th>3</th>\n",
       "      <td>CusID_08577</td>\n",
       "      <td>17.0</td>\n",
       "      <td>Female</td>\n",
       "      <td>Kolkata</td>\n",
       "      <td>West Bengal</td>\n",
       "      <td>7.0</td>\n",
       "      <td>2019-09-05</td>\n",
       "      <td>2021-03-20</td>\n",
       "      <td>0</td>\n",
       "      <td>8.396490</td>\n",
       "      <td>3.636100</td>\n",
       "      <td>4.170301</td>\n",
       "      <td>8.412250</td>\n",
       "      <td>9.389648</td>\n",
       "      <td>3.103196</td>\n",
       "    </tr>\n",
       "    <tr>\n",
       "      <th>4</th>\n",
       "      <td>CusID_08122</td>\n",
       "      <td>39.0</td>\n",
       "      <td>Male</td>\n",
       "      <td>New York City</td>\n",
       "      <td>New York</td>\n",
       "      <td>8.0</td>\n",
       "      <td>2019-07-17</td>\n",
       "      <td>2021-01-19</td>\n",
       "      <td>0</td>\n",
       "      <td>2.443467</td>\n",
       "      <td>9.143171</td>\n",
       "      <td>6.307817</td>\n",
       "      <td>3.224570</td>\n",
       "      <td>1.892078</td>\n",
       "      <td>7.298316</td>\n",
       "    </tr>\n",
       "  </tbody>\n",
       "</table>\n",
       "</div>"
      ],
      "text/plain": [
       "    CustomerID   Age         Gender           City              State  \\\n",
       "0  CusID_09654  20.0         Female      Vancouver   British Columbia   \n",
       "1  CusID_09727  25.0  Not_Specified       Budapest    Central Hungary   \n",
       "2  CusID_07391  31.0         Female          Perth  Western Australia   \n",
       "3  CusID_08577  17.0         Female        Kolkata        West Bengal   \n",
       "4  CusID_08122  39.0           Male  New York City           New York   \n",
       "\n",
       "   No_of_orders_placed Sign_up_date Last_order_placed_date  is_premium_member  \\\n",
       "0                  5.0   2019-11-27             2020-03-22                  0   \n",
       "1                 11.0   2016-12-01             2021-08-22                  1   \n",
       "2                  1.0   2019-10-31             2020-11-28                  1   \n",
       "3                  7.0   2019-09-05             2021-03-20                  0   \n",
       "4                  8.0   2019-07-17             2021-01-19                  0   \n",
       "\n",
       "   Women’s_Clothing  Men’s_Clothing  Kid’s_Clothing  Home_&_Living    Beauty  \\\n",
       "0          4.000000        3.043023        6.231789       8.561328  9.893144   \n",
       "1          4.379066        5.819171        6.923614       4.529057  5.105539   \n",
       "2          7.946141        4.000000        9.939050       9.744879  8.874676   \n",
       "3          8.396490        3.636100        4.170301       8.412250  9.389648   \n",
       "4          2.443467        9.143171        6.307817       3.224570  1.892078   \n",
       "\n",
       "   Electronics  \n",
       "0     1.197478  \n",
       "1     4.608664  \n",
       "2     2.069313  \n",
       "3     3.103196  \n",
       "4     7.298316  "
      ]
     },
     "execution_count": 7,
     "metadata": {},
     "output_type": "execute_result"
    }
   ],
   "source": [
    "test = pd.read_csv('test.csv')\n",
    "test.head()"
   ]
  },
  {
   "cell_type": "code",
   "execution_count": 8,
   "id": "fb223e17",
   "metadata": {},
   "outputs": [
    {
     "data": {
      "text/plain": [
       "(1850, 15)"
      ]
     },
     "execution_count": 8,
     "metadata": {},
     "output_type": "execute_result"
    }
   ],
   "source": [
    "test.shape"
   ]
  },
  {
   "cell_type": "code",
   "execution_count": 9,
   "id": "686241c7",
   "metadata": {},
   "outputs": [
    {
     "data": {
      "text/plain": [
       "CustomerID                 0\n",
       "Age                       31\n",
       "Gender                     0\n",
       "City                       0\n",
       "State                      0\n",
       "No_of_orders_placed       72\n",
       "Sign_up_date               0\n",
       "Last_order_placed_date     0\n",
       "is_premium_member          0\n",
       "Women’s_Clothing           0\n",
       "Men’s_Clothing             0\n",
       "Kid’s_Clothing            23\n",
       "Home_&_Living             23\n",
       "Beauty                     0\n",
       "Electronics                0\n",
       "dtype: int64"
      ]
     },
     "execution_count": 9,
     "metadata": {},
     "output_type": "execute_result"
    }
   ],
   "source": [
    "test.isnull().sum()"
   ]
  },
  {
   "cell_type": "code",
   "execution_count": 10,
   "id": "5aab7990",
   "metadata": {},
   "outputs": [
    {
     "data": {
      "text/plain": [
       "8150"
      ]
     },
     "execution_count": 10,
     "metadata": {},
     "output_type": "execute_result"
    }
   ],
   "source": [
    "train['CustomerID'].nunique()"
   ]
  },
  {
   "cell_type": "code",
   "execution_count": 11,
   "id": "f6b112da",
   "metadata": {},
   "outputs": [
    {
     "data": {
      "text/plain": [
       "1850"
      ]
     },
     "execution_count": 11,
     "metadata": {},
     "output_type": "execute_result"
    }
   ],
   "source": [
    "test['CustomerID'].nunique()"
   ]
  },
  {
   "cell_type": "code",
   "execution_count": 12,
   "id": "765aff4b",
   "metadata": {},
   "outputs": [
    {
     "data": {
      "text/plain": [
       "New_UI    7674\n",
       "Old_UI    7476\n",
       "Name: Preferred_Theme, dtype: int64"
      ]
     },
     "execution_count": 12,
     "metadata": {},
     "output_type": "execute_result"
    }
   ],
   "source": [
    "train['Preferred_Theme'].value_counts()"
   ]
  },
  {
   "cell_type": "code",
   "execution_count": 13,
   "id": "3e74fdee",
   "metadata": {},
   "outputs": [],
   "source": [
    "categorical_variables = train.select_dtypes(include= 'object')\n",
    "numerical_variables = train.select_dtypes(exclude= 'object')"
   ]
  },
  {
   "cell_type": "code",
   "execution_count": 14,
   "id": "07b556cc",
   "metadata": {},
   "outputs": [
    {
     "data": {
      "text/plain": [
       "Index(['CustomerID', 'Gender', 'City', 'State', 'Sign_up_date',\n",
       "       'Last_order_placed_date', 'Preferred_Theme'],\n",
       "      dtype='object')"
      ]
     },
     "execution_count": 14,
     "metadata": {},
     "output_type": "execute_result"
    }
   ],
   "source": [
    "categorical_variables.columns"
   ]
  },
  {
   "cell_type": "code",
   "execution_count": 15,
   "id": "e6f1a839",
   "metadata": {},
   "outputs": [
    {
     "data": {
      "text/plain": [
       "(17000, 16)"
      ]
     },
     "execution_count": 15,
     "metadata": {},
     "output_type": "execute_result"
    }
   ],
   "source": [
    "combined = pd.concat([train, test], axis = 0)\n",
    "combined.shape"
   ]
  },
  {
   "cell_type": "code",
   "execution_count": 16,
   "id": "7ccc9ac6",
   "metadata": {},
   "outputs": [
    {
     "data": {
      "text/plain": [
       "count    15966.000000\n",
       "mean        28.460917\n",
       "std          7.642166\n",
       "min         15.000000\n",
       "25%         22.000000\n",
       "50%         29.000000\n",
       "75%         33.000000\n",
       "max         50.000000\n",
       "Name: Age, dtype: float64"
      ]
     },
     "execution_count": 16,
     "metadata": {},
     "output_type": "execute_result"
    }
   ],
   "source": [
    "combined['Age'].describe()"
   ]
  },
  {
   "cell_type": "code",
   "execution_count": 17,
   "id": "56786065",
   "metadata": {},
   "outputs": [
    {
     "data": {
      "text/plain": [
       "count    16155.000000\n",
       "mean         8.205447\n",
       "std          3.611994\n",
       "min          0.000000\n",
       "25%          5.000000\n",
       "50%          8.000000\n",
       "75%         10.000000\n",
       "max         15.000000\n",
       "Name: No_of_orders_placed, dtype: float64"
      ]
     },
     "execution_count": 17,
     "metadata": {},
     "output_type": "execute_result"
    }
   ],
   "source": [
    "combined['No_of_orders_placed'].describe()"
   ]
  },
  {
   "cell_type": "code",
   "execution_count": 18,
   "id": "d8cfd450",
   "metadata": {},
   "outputs": [
    {
     "data": {
      "text/plain": [
       "count    16042.000000\n",
       "mean         4.615743\n",
       "std          2.626292\n",
       "min         -3.000000\n",
       "25%          2.664272\n",
       "50%          4.848975\n",
       "75%          6.533872\n",
       "max          9.997132\n",
       "Name: Kid’s_Clothing, dtype: float64"
      ]
     },
     "execution_count": 18,
     "metadata": {},
     "output_type": "execute_result"
    }
   ],
   "source": [
    "combined['Kid’s_Clothing'].describe()"
   ]
  },
  {
   "cell_type": "code",
   "execution_count": 19,
   "id": "8f3729f1",
   "metadata": {},
   "outputs": [
    {
     "data": {
      "text/plain": [
       "count    16129.000000\n",
       "mean         4.568757\n",
       "std          2.411840\n",
       "min         -2.000000\n",
       "25%          2.782389\n",
       "50%          4.334706\n",
       "75%          6.542750\n",
       "max          9.993163\n",
       "Name: Home_&_Living, dtype: float64"
      ]
     },
     "execution_count": 19,
     "metadata": {},
     "output_type": "execute_result"
    }
   ],
   "source": [
    "combined['Home_&_Living'].describe()"
   ]
  },
  {
   "cell_type": "code",
   "execution_count": 20,
   "id": "f92e2fed",
   "metadata": {},
   "outputs": [],
   "source": [
    "x = ['Age', 'No_of_orders_placed', 'Kid’s_Clothing', 'Home_&_Living']\n",
    "for i in x:\n",
    "    combined[i] = combined[i].fillna(combined[i].mean())"
   ]
  },
  {
   "cell_type": "code",
   "execution_count": 21,
   "id": "ae3b85dd",
   "metadata": {},
   "outputs": [
    {
     "data": {
      "text/plain": [
       "(15150, 16)"
      ]
     },
     "execution_count": 21,
     "metadata": {},
     "output_type": "execute_result"
    }
   ],
   "source": [
    "newtrain = combined.iloc[0:15150, :]\n",
    "newtrain.shape"
   ]
  },
  {
   "cell_type": "code",
   "execution_count": 22,
   "id": "f1ed2a50",
   "metadata": {},
   "outputs": [
    {
     "data": {
      "text/plain": [
       "(1850, 15)"
      ]
     },
     "execution_count": 22,
     "metadata": {},
     "output_type": "execute_result"
    }
   ],
   "source": [
    "newtest = combined.iloc[15150: , :]\n",
    "newtest = newtest.drop('Preferred_Theme', axis = 1)\n",
    "newtest.shape"
   ]
  },
  {
   "cell_type": "code",
   "execution_count": 23,
   "id": "30176145",
   "metadata": {},
   "outputs": [
    {
     "name": "stdout",
     "output_type": "stream",
     "text": [
      "<class 'pandas.core.frame.DataFrame'>\n",
      "Int64Index: 15150 entries, 0 to 15149\n",
      "Data columns (total 16 columns):\n",
      " #   Column                  Non-Null Count  Dtype  \n",
      "---  ------                  --------------  -----  \n",
      " 0   CustomerID              15150 non-null  object \n",
      " 1   Age                     15150 non-null  float64\n",
      " 2   Gender                  15150 non-null  object \n",
      " 3   City                    15150 non-null  object \n",
      " 4   State                   15150 non-null  object \n",
      " 5   No_of_orders_placed     15150 non-null  float64\n",
      " 6   Sign_up_date            15150 non-null  object \n",
      " 7   Last_order_placed_date  15150 non-null  object \n",
      " 8   is_premium_member       15150 non-null  int64  \n",
      " 9   Women’s_Clothing        15150 non-null  float64\n",
      " 10  Men’s_Clothing          15150 non-null  float64\n",
      " 11  Kid’s_Clothing          15150 non-null  float64\n",
      " 12  Home_&_Living           15150 non-null  float64\n",
      " 13  Beauty                  15150 non-null  float64\n",
      " 14  Electronics             15150 non-null  float64\n",
      " 15  Preferred_Theme         15150 non-null  object \n",
      "dtypes: float64(8), int64(1), object(7)\n",
      "memory usage: 2.0+ MB\n"
     ]
    }
   ],
   "source": [
    "newtrain.info()"
   ]
  },
  {
   "cell_type": "code",
   "execution_count": 24,
   "id": "1cdc4679",
   "metadata": {},
   "outputs": [
    {
     "name": "stderr",
     "output_type": "stream",
     "text": [
      "C:\\Users\\Akshay.Patil\\Anaconda3\\lib\\site-packages\\seaborn\\_decorators.py:36: FutureWarning: Pass the following variable as a keyword arg: x. From version 0.12, the only valid positional argument will be `data`, and passing other arguments without an explicit keyword will result in an error or misinterpretation.\n",
      "  warnings.warn(\n"
     ]
    },
    {
     "data": {
      "text/plain": [
       "<AxesSubplot:xlabel='City', ylabel='count'>"
      ]
     },
     "execution_count": 24,
     "metadata": {},
     "output_type": "execute_result"
    },
    {
     "data": {
      "image/png": "[encoded data removed]",
      "text/plain": [
       "<Figure size 1800x360 with 1 Axes>"
      ]
     },
     "metadata": {
      "needs_background": "light"
     },
     "output_type": "display_data"
    }
   ],
   "source": [
    "fig = plt.figure(figsize= (25,5))\n",
    "sns.countplot(newtrain['City'])"
   ]
  },
  {
   "cell_type": "code",
   "execution_count": 25,
   "id": "adbbc141",
   "metadata": {},
   "outputs": [
    {
     "name": "stderr",
     "output_type": "stream",
     "text": [
      "C:\\Users\\Akshay.Patil\\Anaconda3\\lib\\site-packages\\seaborn\\_decorators.py:36: FutureWarning: Pass the following variable as a keyword arg: x. From version 0.12, the only valid positional argument will be `data`, and passing other arguments without an explicit keyword will result in an error or misinterpretation.\n",
      "  warnings.warn(\n"
     ]
    },
    {
     "data": {
      "text/plain": [
       "<AxesSubplot:xlabel='is_premium_member', ylabel='count'>"
      ]
     },
     "execution_count": 25,
     "metadata": {},
     "output_type": "execute_result"
    },
    {
     "data": {
      "image/png": "[encoded data removed]",
      "text/plain": [
       "<Figure size 432x288 with 1 Axes>"
      ]
     },
     "metadata": {
      "needs_background": "light"
     },
     "output_type": "display_data"
    }
   ],
   "source": [
    "sns.countplot(newtrain['is_premium_member'])"
   ]
  },
  {
   "cell_type": "code",
   "execution_count": 26,
   "id": "f107f8f1",
   "metadata": {},
   "outputs": [
    {
     "name": "stderr",
     "output_type": "stream",
     "text": [
      "C:\\Users\\Akshay.Patil\\Anaconda3\\lib\\site-packages\\seaborn\\_decorators.py:36: FutureWarning: Pass the following variable as a keyword arg: x. From version 0.12, the only valid positional argument will be `data`, and passing other arguments without an explicit keyword will result in an error or misinterpretation.\n",
      "  warnings.warn(\n",
      "C:\\Users\\Akshay.Patil\\Anaconda3\\lib\\site-packages\\seaborn\\_decorators.py:36: FutureWarning: Pass the following variable as a keyword arg: x. From version 0.12, the only valid positional argument will be `data`, and passing other arguments without an explicit keyword will result in an error or misinterpretation.\n",
      "  warnings.warn(\n"
     ]
    },
    {
     "data": {
      "text/plain": [
       "<AxesSubplot:xlabel='Preferred_Theme', ylabel='count'>"
      ]
     },
     "execution_count": 26,
     "metadata": {},
     "output_type": "execute_result"
    },
    {
     "data": {
      "image/png": "[encoded data removed]",
      "text/plain": [
       "<Figure size 864x360 with 2 Axes>"
      ]
     },
     "metadata": {
      "needs_background": "light"
     },
     "output_type": "display_data"
    }
   ],
   "source": [
    "fig, ax = plt.subplots(1, 2, figsize = (12, 5))\n",
    "sns.countplot(newtrain['Gender'], ax = ax[0])\n",
    "sns.countplot(newtrain['Preferred_Theme'], ax = ax[1])"
   ]
  },
  {
   "cell_type": "code",
   "execution_count": 27,
   "id": "d02f7441",
   "metadata": {},
   "outputs": [
    {
     "name": "stderr",
     "output_type": "stream",
     "text": [
      "C:\\Users\\Akshay.Patil\\Anaconda3\\lib\\site-packages\\seaborn\\_decorators.py:36: FutureWarning: Pass the following variables as keyword args: x, y. From version 0.12, the only valid positional argument will be `data`, and passing other arguments without an explicit keyword will result in an error or misinterpretation.\n",
      "  warnings.warn(\n"
     ]
    },
    {
     "data": {
      "text/plain": [
       "<AxesSubplot:xlabel='City', ylabel='is_premium_member'>"
      ]
     },
     "execution_count": 27,
     "metadata": {},
     "output_type": "execute_result"
    },
    {
     "data": {
      "image/png": "[encoded data removed]",
      "text/plain": [
       "<Figure size 1800x360 with 1 Axes>"
      ]
     },
     "metadata": {
      "needs_background": "light"
     },
     "output_type": "display_data"
    }
   ],
   "source": [
    "fig = plt.figure(figsize= (25,5))\n",
    "sns.barplot(newtrain['City'], newtrain['is_premium_member']==1)"
   ]
  },
  {
   "cell_type": "code",
   "execution_count": 28,
   "id": "419990b7",
   "metadata": {},
   "outputs": [
    {
     "name": "stderr",
     "output_type": "stream",
     "text": [
      "C:\\Users\\Akshay.Patil\\Anaconda3\\lib\\site-packages\\seaborn\\_decorators.py:36: FutureWarning: Pass the following variables as keyword args: x, y. From version 0.12, the only valid positional argument will be `data`, and passing other arguments without an explicit keyword will result in an error or misinterpretation.\n",
      "  warnings.warn(\n"
     ]
    },
    {
     "data": {
      "text/plain": [
       "<AxesSubplot:xlabel='Gender', ylabel='is_premium_member'>"
      ]
     },
     "execution_count": 28,
     "metadata": {},
     "output_type": "execute_result"
    },
    {
     "data": {
      "image/png": "[encoded data removed]",
      "text/plain": [
       "<Figure size 432x288 with 1 Axes>"
      ]
     },
     "metadata": {
      "needs_background": "light"
     },
     "output_type": "display_data"
    }
   ],
   "source": [
    "sns.barplot(newtrain['Gender'], newtrain['is_premium_member']==1)"
   ]
  },
  {
   "cell_type": "code",
   "execution_count": 29,
   "id": "1167cffc",
   "metadata": {},
   "outputs": [
    {
     "name": "stderr",
     "output_type": "stream",
     "text": [
      "C:\\Users\\Akshay.Patil\\Anaconda3\\lib\\site-packages\\seaborn\\_decorators.py:36: FutureWarning: Pass the following variables as keyword args: x, y. From version 0.12, the only valid positional argument will be `data`, and passing other arguments without an explicit keyword will result in an error or misinterpretation.\n",
      "  warnings.warn(\n",
      "C:\\Users\\Akshay.Patil\\Anaconda3\\lib\\site-packages\\seaborn\\_decorators.py:36: FutureWarning: Pass the following variables as keyword args: x, y. From version 0.12, the only valid positional argument will be `data`, and passing other arguments without an explicit keyword will result in an error or misinterpretation.\n",
      "  warnings.warn(\n"
     ]
    },
    {
     "data": {
      "text/plain": [
       "<AxesSubplot:xlabel='Gender', ylabel='Home_&_Living'>"
      ]
     },
     "execution_count": 29,
     "metadata": {},
     "output_type": "execute_result"
    },
    {
     "data": {
      "image/png": "[encoded data removed]",
      "text/plain": [
       "<Figure size 1080x360 with 2 Axes>"
      ]
     },
     "metadata": {
      "needs_background": "light"
     },
     "output_type": "display_data"
    }
   ],
   "source": [
    "fig, ax = plt.subplots(1, 2, figsize = (15, 5))\n",
    "sns.barplot(newtrain['Gender'], newtrain['Kid’s_Clothing'], hue = newtrain['Preferred_Theme'], ax = ax[0])\n",
    "sns.barplot(newtrain['Gender'], newtrain['Home_&_Living'], hue = newtrain['Preferred_Theme'], ax = ax[1])"
   ]
  },
  {
   "cell_type": "code",
   "execution_count": 30,
   "id": "fd64bc54",
   "metadata": {},
   "outputs": [
    {
     "name": "stderr",
     "output_type": "stream",
     "text": [
      "C:\\Users\\Akshay.Patil\\Anaconda3\\lib\\site-packages\\seaborn\\_decorators.py:36: FutureWarning: Pass the following variables as keyword args: x, y. From version 0.12, the only valid positional argument will be `data`, and passing other arguments without an explicit keyword will result in an error or misinterpretation.\n",
      "  warnings.warn(\n",
      "C:\\Users\\Akshay.Patil\\Anaconda3\\lib\\site-packages\\seaborn\\_decorators.py:36: FutureWarning: Pass the following variables as keyword args: x, y. From version 0.12, the only valid positional argument will be `data`, and passing other arguments without an explicit keyword will result in an error or misinterpretation.\n",
      "  warnings.warn(\n"
     ]
    },
    {
     "data": {
      "text/plain": [
       "<AxesSubplot:xlabel='Gender', ylabel='Men’s_Clothing'>"
      ]
     },
     "execution_count": 30,
     "metadata": {},
     "output_type": "execute_result"
    },
    {
     "data": {
      "image/png": "[encoded data removed]",
      "text/plain": [
       "<Figure size 1080x360 with 2 Axes>"
      ]
     },
     "metadata": {
      "needs_background": "light"
     },
     "output_type": "display_data"
    }
   ],
   "source": [
    "fig, ax = plt.subplots(1, 2, figsize = (15, 5))\n",
    "sns.barplot(newtrain['Gender'], newtrain['Women’s_Clothing'], hue = newtrain['Preferred_Theme'], ax = ax[0])\n",
    "sns.barplot(newtrain['Gender'], newtrain['Men’s_Clothing'], hue = newtrain['Preferred_Theme'], ax = ax[1])"
   ]
  },
  {
   "cell_type": "code",
   "execution_count": 31,
   "id": "4974f380",
   "metadata": {},
   "outputs": [
    {
     "name": "stderr",
     "output_type": "stream",
     "text": [
      "C:\\Users\\Akshay.Patil\\Anaconda3\\lib\\site-packages\\seaborn\\_decorators.py:36: FutureWarning: Pass the following variables as keyword args: x, y. From version 0.12, the only valid positional argument will be `data`, and passing other arguments without an explicit keyword will result in an error or misinterpretation.\n",
      "  warnings.warn(\n",
      "C:\\Users\\Akshay.Patil\\Anaconda3\\lib\\site-packages\\seaborn\\_decorators.py:36: FutureWarning: Pass the following variables as keyword args: x, y. From version 0.12, the only valid positional argument will be `data`, and passing other arguments without an explicit keyword will result in an error or misinterpretation.\n",
      "  warnings.warn(\n"
     ]
    },
    {
     "data": {
      "text/plain": [
       "<AxesSubplot:xlabel='Gender', ylabel='Electronics'>"
      ]
     },
     "execution_count": 31,
     "metadata": {},
     "output_type": "execute_result"
    },
    {
     "data": {
      "image/png": "[encoded data removed]",
      "text/plain": [
       "<Figure size 1080x360 with 2 Axes>"
      ]
     },
     "metadata": {
      "needs_background": "light"
     },
     "output_type": "display_data"
    }
   ],
   "source": [
    "fig, ax = plt.subplots(1, 2, figsize = (15, 5))\n",
    "sns.barplot(newtrain['Gender'], newtrain['Beauty'], hue = newtrain['Preferred_Theme'], ax = ax[0])\n",
    "sns.barplot(newtrain['Gender'], newtrain['Electronics'], hue = newtrain['Preferred_Theme'], ax = ax[1])"
   ]
  },
  {
   "cell_type": "code",
   "execution_count": 32,
   "id": "5d4e6506",
   "metadata": {},
   "outputs": [
    {
     "data": {
      "text/plain": [
       "{'whiskers': [<matplotlib.lines.Line2D at 0x2a13c60f940>,\n",
       "  <matplotlib.lines.Line2D at 0x2a13c60fca0>],\n",
       " 'caps': [<matplotlib.lines.Line2D at 0x2a13c61a040>,\n",
       "  <matplotlib.lines.Line2D at 0x2a13c61a3a0>],\n",
       " 'boxes': [<matplotlib.lines.Line2D at 0x2a13c60f5e0>],\n",
       " 'medians': [<matplotlib.lines.Line2D at 0x2a13c61a700>],\n",
       " 'fliers': [<matplotlib.lines.Line2D at 0x2a13c61aa60>],\n",
       " 'means': []}"
      ]
     },
     "execution_count": 32,
     "metadata": {},
     "output_type": "execute_result"
    },
    {
     "data": {
      "image/png": "[encoded data removed]",
      "text/plain": [
       "<Figure size 1440x360 with 2 Axes>"
      ]
     },
     "metadata": {
      "needs_background": "light"
     },
     "output_type": "display_data"
    }
   ],
   "source": [
    "fig = plt.figure(figsize= (20, 5))\n",
    "ax1 = fig.add_subplot(121)\n",
    "ax2 = fig.add_subplot(122)\n",
    "ax1.boxplot(newtrain['Women’s_Clothing'])\n",
    "ax2.boxplot(newtrain['Men’s_Clothing'])"
   ]
  },
  {
   "cell_type": "code",
   "execution_count": 33,
   "id": "2734d8de",
   "metadata": {},
   "outputs": [
    {
     "data": {
      "text/plain": [
       "{'whiskers': [<matplotlib.lines.Line2D at 0x2a13c6c8850>,\n",
       "  <matplotlib.lines.Line2D at 0x2a13c6c8bb0>],\n",
       " 'caps': [<matplotlib.lines.Line2D at 0x2a13c6c8f10>,\n",
       "  <matplotlib.lines.Line2D at 0x2a13c6d42b0>],\n",
       " 'boxes': [<matplotlib.lines.Line2D at 0x2a13c6c84f0>],\n",
       " 'medians': [<matplotlib.lines.Line2D at 0x2a13c6d4610>],\n",
       " 'fliers': [<matplotlib.lines.Line2D at 0x2a13c6d4970>],\n",
       " 'means': []}"
      ]
     },
     "execution_count": 33,
     "metadata": {},
     "output_type": "execute_result"
    },
    {
     "data": {
      "image/png": "[encoded data removed]",
      "text/plain": [
       "<Figure size 1440x360 with 2 Axes>"
      ]
     },
     "metadata": {
      "needs_background": "light"
     },
     "output_type": "display_data"
    }
   ],
   "source": [
    "fig = plt.figure(figsize= (20, 5))\n",
    "ax1 = fig.add_subplot(121)\n",
    "ax2 = fig.add_subplot(122)\n",
    "ax1.boxplot(newtrain['Beauty'])\n",
    "ax2.boxplot(newtrain['Electronics'])"
   ]
  },
  {
   "cell_type": "code",
   "execution_count": 34,
   "id": "0880a2ac",
   "metadata": {},
   "outputs": [
    {
     "data": {
      "text/plain": [
       "{'whiskers': [<matplotlib.lines.Line2D at 0x2a13c9cd250>,\n",
       "  <matplotlib.lines.Line2D at 0x2a13c9cd5b0>],\n",
       " 'caps': [<matplotlib.lines.Line2D at 0x2a13c9cd910>,\n",
       "  <matplotlib.lines.Line2D at 0x2a13c9cdc70>],\n",
       " 'boxes': [<matplotlib.lines.Line2D at 0x2a13c9c1eb0>],\n",
       " 'medians': [<matplotlib.lines.Line2D at 0x2a13c9cdfd0>],\n",
       " 'fliers': [<matplotlib.lines.Line2D at 0x2a13c9d7370>],\n",
       " 'means': []}"
      ]
     },
     "execution_count": 34,
     "metadata": {},
     "output_type": "execute_result"
    },
    {
     "data": {
      "image/png": "[encoded data removed]",
      "text/plain": [
       "<Figure size 1440x360 with 2 Axes>"
      ]
     },
     "metadata": {
      "needs_background": "light"
     },
     "output_type": "display_data"
    }
   ],
   "source": [
    "fig = plt.figure(figsize= (20, 5))\n",
    "ax1 = fig.add_subplot(121)\n",
    "ax2 = fig.add_subplot(122)\n",
    "ax1.boxplot(newtrain['Kid’s_Clothing'])\n",
    "ax2.boxplot(newtrain['Home_&_Living'])"
   ]
  },
  {
   "cell_type": "code",
   "execution_count": 35,
   "id": "9ae23e1f",
   "metadata": {},
   "outputs": [
    {
     "data": {
      "text/plain": [
       "{'whiskers': [<matplotlib.lines.Line2D at 0x2a13ca7dd90>,\n",
       "  <matplotlib.lines.Line2D at 0x2a13ca87130>],\n",
       " 'caps': [<matplotlib.lines.Line2D at 0x2a13ca87490>,\n",
       "  <matplotlib.lines.Line2D at 0x2a13ca877f0>],\n",
       " 'boxes': [<matplotlib.lines.Line2D at 0x2a13ca7da30>],\n",
       " 'medians': [<matplotlib.lines.Line2D at 0x2a13ca87b50>],\n",
       " 'fliers': [<matplotlib.lines.Line2D at 0x2a13ca87eb0>],\n",
       " 'means': []}"
      ]
     },
     "execution_count": 35,
     "metadata": {},
     "output_type": "execute_result"
    },
    {
     "data": {
      "image/png": "[encoded data removed]",
      "text/plain": [
       "<Figure size 1440x360 with 2 Axes>"
      ]
     },
     "metadata": {
      "needs_background": "light"
     },
     "output_type": "display_data"
    }
   ],
   "source": [
    "fig = plt.figure(figsize= (20, 5))\n",
    "ax1 = fig.add_subplot(121)\n",
    "ax2 = fig.add_subplot(122)\n",
    "ax1.boxplot(newtest['Women’s_Clothing'])\n",
    "ax2.boxplot(newtest['Men’s_Clothing'])"
   ]
  },
  {
   "cell_type": "code",
   "execution_count": 36,
   "id": "b330eddc",
   "metadata": {},
   "outputs": [
    {
     "data": {
      "text/plain": [
       "{'whiskers': [<matplotlib.lines.Line2D at 0x2a13cb3a370>,\n",
       "  <matplotlib.lines.Line2D at 0x2a13cb3a6d0>],\n",
       " 'caps': [<matplotlib.lines.Line2D at 0x2a13cb3aa30>,\n",
       "  <matplotlib.lines.Line2D at 0x2a13cb3ad90>],\n",
       " 'boxes': [<matplotlib.lines.Line2D at 0x2a13cb2ffd0>],\n",
       " 'medians': [<matplotlib.lines.Line2D at 0x2a13cb44130>],\n",
       " 'fliers': [<matplotlib.lines.Line2D at 0x2a13cb44430>],\n",
       " 'means': []}"
      ]
     },
     "execution_count": 36,
     "metadata": {},
     "output_type": "execute_result"
    },
    {
     "data": {
      "image/png": "[encoded data removed]",
      "text/plain": [
       "<Figure size 1440x360 with 2 Axes>"
      ]
     },
     "metadata": {
      "needs_background": "light"
     },
     "output_type": "display_data"
    }
   ],
   "source": [
    "fig = plt.figure(figsize= (20, 5))\n",
    "ax1 = fig.add_subplot(121)\n",
    "ax2 = fig.add_subplot(122)\n",
    "ax1.boxplot(newtest['Beauty'])\n",
    "ax2.boxplot(newtest['Electronics'])"
   ]
  },
  {
   "cell_type": "code",
   "execution_count": 37,
   "id": "a7e60057",
   "metadata": {},
   "outputs": [
    {
     "data": {
      "text/plain": [
       "{'whiskers': [<matplotlib.lines.Line2D at 0x2a13ce8c8e0>,\n",
       "  <matplotlib.lines.Line2D at 0x2a13ce8cc40>],\n",
       " 'caps': [<matplotlib.lines.Line2D at 0x2a13ce8cfa0>,\n",
       "  <matplotlib.lines.Line2D at 0x2a13ce98340>],\n",
       " 'boxes': [<matplotlib.lines.Line2D at 0x2a13ce8c580>],\n",
       " 'medians': [<matplotlib.lines.Line2D at 0x2a13ce986a0>],\n",
       " 'fliers': [<matplotlib.lines.Line2D at 0x2a13ce98a00>],\n",
       " 'means': []}"
      ]
     },
     "execution_count": 37,
     "metadata": {},
     "output_type": "execute_result"
    },
    {
     "data": {
      "image/png": "[encoded data removed]",
      "text/plain": [
       "<Figure size 1440x360 with 2 Axes>"
      ]
     },
     "metadata": {
      "needs_background": "light"
     },
     "output_type": "display_data"
    }
   ],
   "source": [
    "fig = plt.figure(figsize= (20, 5))\n",
    "ax1 = fig.add_subplot(121)\n",
    "ax2 = fig.add_subplot(122)\n",
    "ax1.boxplot(newtest['Kid’s_Clothing'])\n",
    "ax2.boxplot(newtest['Home_&_Living'])"
   ]
  },
  {
   "cell_type": "code",
   "execution_count": 38,
   "id": "5b0616ba",
   "metadata": {},
   "outputs": [],
   "source": [
    "def outlier_trim(dataframe, column_name):\n",
    "    for i in dataframe[column_name]:\n",
    "        q1 = dataframe[column_name].quantile(0.25)\n",
    "        q3 = dataframe[column_name].quantile(0.75)\n",
    "        iqr = q3 - q1\n",
    "        lower = q1 - 1.5*iqr\n",
    "        upper = q3 + 1.5*iqr\n",
    "        if i > upper or i < lower:\n",
    "            dataframe[column_name] = dataframe[column_name].replace(i, np.median(dataframe[column_name]))"
   ]
  },
  {
   "cell_type": "code",
   "execution_count": 39,
   "id": "5ae08ba4",
   "metadata": {},
   "outputs": [
    {
     "name": "stderr",
     "output_type": "stream",
     "text": [
      "<ipython-input-38-ba0540473c8d>:9: SettingWithCopyWarning: \n",
      "A value is trying to be set on a copy of a slice from a DataFrame.\n",
      "Try using .loc[row_indexer,col_indexer] = value instead\n",
      "\n",
      "See the caveats in the documentation: https://pandas.pydata.org/pandas-docs/stable/user_guide/indexing.html#returning-a-view-versus-a-copy\n",
      "  dataframe[column_name] = dataframe[column_name].replace(i, np.median(dataframe[column_name]))\n"
     ]
    }
   ],
   "source": [
    "outlier_trim(newtrain, 'Women’s_Clothing')\n",
    "outlier_trim(newtrain, 'Beauty')\n",
    "outlier_trim(newtrain, 'Electronics')\n",
    "outlier_trim(newtrain, 'Kid’s_Clothing')"
   ]
  },
  {
   "cell_type": "code",
   "execution_count": 40,
   "id": "2f8092d3",
   "metadata": {},
   "outputs": [
    {
     "data": {
      "text/plain": [
       "{'whiskers': [<matplotlib.lines.Line2D at 0x2a13d55bb50>,\n",
       "  <matplotlib.lines.Line2D at 0x2a13d55beb0>],\n",
       " 'caps': [<matplotlib.lines.Line2D at 0x2a13d568250>,\n",
       "  <matplotlib.lines.Line2D at 0x2a13d5685b0>],\n",
       " 'boxes': [<matplotlib.lines.Line2D at 0x2a13d55b7c0>],\n",
       " 'medians': [<matplotlib.lines.Line2D at 0x2a13d568910>],\n",
       " 'fliers': [<matplotlib.lines.Line2D at 0x2a13d568c70>],\n",
       " 'means': []}"
      ]
     },
     "execution_count": 40,
     "metadata": {},
     "output_type": "execute_result"
    },
    {
     "data": {
      "image/png": "[encoded data removed]",
      "text/plain": [
       "<Figure size 1440x360 with 2 Axes>"
      ]
     },
     "metadata": {
      "needs_background": "light"
     },
     "output_type": "display_data"
    }
   ],
   "source": [
    "fig = plt.figure(figsize= (20, 5))\n",
    "ax1 = fig.add_subplot(121)\n",
    "ax2 = fig.add_subplot(122)\n",
    "ax1.boxplot(newtrain['Kid’s_Clothing'])\n",
    "ax2.boxplot(newtrain['Women’s_Clothing'])"
   ]
  },
  {
   "cell_type": "code",
   "execution_count": 41,
   "id": "213c8018",
   "metadata": {},
   "outputs": [
    {
     "data": {
      "text/plain": [
       "{'whiskers': [<matplotlib.lines.Line2D at 0x2a13d5c4c40>,\n",
       "  <matplotlib.lines.Line2D at 0x2a13d5c4fa0>],\n",
       " 'caps': [<matplotlib.lines.Line2D at 0x2a13d5d0340>,\n",
       "  <matplotlib.lines.Line2D at 0x2a13d5d06a0>],\n",
       " 'boxes': [<matplotlib.lines.Line2D at 0x2a13d5c48e0>],\n",
       " 'medians': [<matplotlib.lines.Line2D at 0x2a13d5d0a00>],\n",
       " 'fliers': [<matplotlib.lines.Line2D at 0x2a13d5d0d60>],\n",
       " 'means': []}"
      ]
     },
     "execution_count": 41,
     "metadata": {},
     "output_type": "execute_result"
    },
    {
     "data": {
      "image/png": "[encoded data removed]",
      "text/plain": [
       "<Figure size 1440x360 with 2 Axes>"
      ]
     },
     "metadata": {
      "needs_background": "light"
     },
     "output_type": "display_data"
    }
   ],
   "source": [
    "fig = plt.figure(figsize= (20, 5))\n",
    "ax1 = fig.add_subplot(121)\n",
    "ax2 = fig.add_subplot(122)\n",
    "ax1.boxplot(newtrain['Beauty'])\n",
    "ax2.boxplot(newtrain['Electronics'])"
   ]
  },
  {
   "cell_type": "code",
   "execution_count": 43,
   "id": "11c5c3a5",
   "metadata": {},
   "outputs": [],
   "source": [
    "from sklearn.preprocessing import LabelEncoder\n",
    "le = LabelEncoder()"
   ]
  },
  {
   "cell_type": "code",
   "execution_count": 52,
   "id": "45696cfa",
   "metadata": {},
   "outputs": [
    {
     "name": "stderr",
     "output_type": "stream",
     "text": [
      "<ipython-input-52-a35a5f56d705>:3: SettingWithCopyWarning: \n",
      "A value is trying to be set on a copy of a slice from a DataFrame.\n",
      "Try using .loc[row_indexer,col_indexer] = value instead\n",
      "\n",
      "See the caveats in the documentation: https://pandas.pydata.org/pandas-docs/stable/user_guide/indexing.html#returning-a-view-versus-a-copy\n",
      "  newtrain[i] = le.fit_transform(newtrain[i])\n"
     ]
    }
   ],
   "source": [
    "x = ['Gender', 'City', 'State']\n",
    "for i in x:\n",
    "    newtrain[i] = le.fit_transform(newtrain[i])\n",
    "    newtest[i] = le.fit_transform(newtest[i])"
   ]
  },
  {
   "cell_type": "code",
   "execution_count": 53,
   "id": "b2c88acb",
   "metadata": {},
   "outputs": [
    {
     "name": "stderr",
     "output_type": "stream",
     "text": [
      "<ipython-input-53-79744317b782>:1: SettingWithCopyWarning: \n",
      "A value is trying to be set on a copy of a slice from a DataFrame.\n",
      "Try using .loc[row_indexer,col_indexer] = value instead\n",
      "\n",
      "See the caveats in the documentation: https://pandas.pydata.org/pandas-docs/stable/user_guide/indexing.html#returning-a-view-versus-a-copy\n",
      "  newtrain['Preferred_Theme'] = le.fit_transform(newtrain['Preferred_Theme'])\n"
     ]
    }
   ],
   "source": [
    "newtrain['Preferred_Theme'] = le.fit_transform(newtrain['Preferred_Theme'])"
   ]
  },
  {
   "cell_type": "code",
   "execution_count": 55,
   "id": "5115cc1c",
   "metadata": {},
   "outputs": [],
   "source": [
    "newtrain = newtrain.drop(['CustomerID', 'Sign_up_date', 'Last_order_placed_date'], axis = 1)\n",
    "newtest = newtest.drop(['CustomerID', 'Sign_up_date', 'Last_order_placed_date'], axis = 1)"
   ]
  },
  {
   "cell_type": "code",
   "execution_count": 56,
   "id": "2b39f1f0",
   "metadata": {},
   "outputs": [
    {
     "name": "stdout",
     "output_type": "stream",
     "text": [
      "<class 'pandas.core.frame.DataFrame'>\n",
      "Int64Index: 15150 entries, 0 to 15149\n",
      "Data columns (total 13 columns):\n",
      " #   Column               Non-Null Count  Dtype  \n",
      "---  ------               --------------  -----  \n",
      " 0   Age                  15150 non-null  float64\n",
      " 1   Gender               15150 non-null  int32  \n",
      " 2   City                 15150 non-null  int32  \n",
      " 3   State                15150 non-null  int32  \n",
      " 4   No_of_orders_placed  15150 non-null  float64\n",
      " 5   is_premium_member    15150 non-null  int64  \n",
      " 6   Women’s_Clothing     15150 non-null  float64\n",
      " 7   Men’s_Clothing       15150 non-null  float64\n",
      " 8   Kid’s_Clothing       15150 non-null  float64\n",
      " 9   Home_&_Living        15150 non-null  float64\n",
      " 10  Beauty               15150 non-null  float64\n",
      " 11  Electronics          15150 non-null  float64\n",
      " 12  Preferred_Theme      15150 non-null  int32  \n",
      "dtypes: float64(8), int32(4), int64(1)\n",
      "memory usage: 1.9 MB\n"
     ]
    }
   ],
   "source": [
    "newtrain.info()"
   ]
  },
  {
   "cell_type": "code",
   "execution_count": 57,
   "id": "45648a1d",
   "metadata": {},
   "outputs": [],
   "source": [
    "x = newtrain.drop('Preferred_Theme', axis = 1)\n",
    "y = newtrain['Preferred_Theme']"
   ]
  },
  {
   "cell_type": "code",
   "execution_count": 58,
   "id": "f930c040",
   "metadata": {},
   "outputs": [],
   "source": [
    "from sklearn.model_selection import train_test_split\n",
    "x_train, x_test, y_train, y_test = train_test_split(x, y, test_size = 0.2, random_state = 1)"
   ]
  },
  {
   "cell_type": "code",
   "execution_count": 59,
   "id": "4b449365",
   "metadata": {},
   "outputs": [],
   "source": [
    "from sklearn.metrics import accuracy_score"
   ]
  },
  {
   "cell_type": "code",
   "execution_count": 61,
   "id": "47648677",
   "metadata": {},
   "outputs": [
    {
     "name": "stdout",
     "output_type": "stream",
     "text": [
      "0.6706270627062706\n"
     ]
    },
    {
     "name": "stderr",
     "output_type": "stream",
     "text": [
      "C:\\Users\\Akshay.Patil\\Anaconda3\\lib\\site-packages\\sklearn\\linear_model\\_logistic.py:763: ConvergenceWarning: lbfgs failed to converge (status=1):\n",
      "STOP: TOTAL NO. of ITERATIONS REACHED LIMIT.\n",
      "\n",
      "Increase the number of iterations (max_iter) or scale the data as shown in:\n",
      "    https://scikit-learn.org/stable/modules/preprocessing.html\n",
      "Please also refer to the documentation for alternative solver options:\n",
      "    https://scikit-learn.org/stable/modules/linear_model.html#logistic-regression\n",
      "  n_iter_i = _check_optimize_result(\n"
     ]
    }
   ],
   "source": [
    "from sklearn.linear_model import LogisticRegression\n",
    "lr = LogisticRegression()\n",
    "y_pred = lr.fit(x_train, y_train).predict(x_test)\n",
    "print(accuracy_score(y_test, y_pred))"
   ]
  },
  {
   "cell_type": "code",
   "execution_count": 67,
   "id": "3d34bfd1",
   "metadata": {},
   "outputs": [
    {
     "name": "stdout",
     "output_type": "stream",
     "text": [
      "0.7217821782178218\n"
     ]
    }
   ],
   "source": [
    "from lightgbm import LGBMClassifier\n",
    "lgbm = LGBMClassifier()\n",
    "y_pred = lgbm.fit(x_train, y_train).predict(x_test)\n",
    "print(accuracy_score(y_test, y_pred))"
   ]
  },
  {
   "cell_type": "code",
   "execution_count": 73,
   "id": "41642160",
   "metadata": {},
   "outputs": [
    {
     "data": {
      "image/png": "[encoded data removed]",
      "text/plain": [
       "<Figure size 720x360 with 1 Axes>"
      ]
     },
     "metadata": {
      "needs_background": "light"
     },
     "output_type": "display_data"
    }
   ],
   "source": [
    "feature_imp = pd.DataFrame(sorted(zip(lgbm.feature_importances_, x.columns), reverse=True)[:], columns=['Value','Feature'])\n",
    "plt.figure(figsize=(10,5))\n",
    "sns.barplot(x=\"Value\", y=\"Feature\", data=feature_imp.sort_values(by=\"Value\", ascending=False))\n",
    "plt.title('LGBM Features')\n",
    "plt.tight_layout()\n",
    "plt.show()"
   ]
  },
  {
   "cell_type": "code",
   "execution_count": 80,
   "id": "a5c31259",
   "metadata": {},
   "outputs": [],
   "source": [
    "x_train = newtrain.drop(['is_premium_member', 'Gender', 'Preferred_Theme'], axis = 1)\n",
    "y_train = newtrain['Preferred_Theme']\n",
    "x_test = newtest.drop(['is_premium_member', 'Gender'], axis = 1)"
   ]
  },
  {
   "cell_type": "code",
   "execution_count": 81,
   "id": "d712f17a",
   "metadata": {},
   "outputs": [],
   "source": [
    "from lightgbm import LGBMClassifier\n",
    "lgbm = LGBMClassifier()\n",
    "y_pred = lgbm.fit(x_train, y_train).predict(x_test)\n",
    "solution = pd.DataFrame({'CustomerID': test.CustomerID, 'Preferred_Theme': le.inverse_transform(y_pred)})"
   ]
  },
  {
   "cell_type": "code",
   "execution_count": 82,
   "id": "bf7779af",
   "metadata": {},
   "outputs": [
    {
     "data": {
      "text/html": [
       "<div>\n",
       "<style scoped>\n",
       "    .dataframe tbody tr th:only-of-type {\n",
       "        vertical-align: middle;\n",
       "    }\n",
       "\n",
       "    .dataframe tbody tr th {\n",
       "        vertical-align: top;\n",
       "    }\n",
       "\n",
       "    .dataframe thead th {\n",
       "        text-align: right;\n",
       "    }\n",
       "</style>\n",
       "<table border=\"1\" class=\"dataframe\">\n",
       "  <thead>\n",
       "    <tr style=\"text-align: right;\">\n",
       "      <th></th>\n",
       "      <th>CustomerID</th>\n",
       "      <th>Preferred_Theme</th>\n",
       "    </tr>\n",
       "  </thead>\n",
       "  <tbody>\n",
       "    <tr>\n",
       "      <th>0</th>\n",
       "      <td>CusID_09654</td>\n",
       "      <td>New_UI</td>\n",
       "    </tr>\n",
       "    <tr>\n",
       "      <th>1</th>\n",
       "      <td>CusID_09727</td>\n",
       "      <td>Old_UI</td>\n",
       "    </tr>\n",
       "    <tr>\n",
       "      <th>2</th>\n",
       "      <td>CusID_07391</td>\n",
       "      <td>Old_UI</td>\n",
       "    </tr>\n",
       "    <tr>\n",
       "      <th>3</th>\n",
       "      <td>CusID_08577</td>\n",
       "      <td>Old_UI</td>\n",
       "    </tr>\n",
       "    <tr>\n",
       "      <th>4</th>\n",
       "      <td>CusID_08122</td>\n",
       "      <td>Old_UI</td>\n",
       "    </tr>\n",
       "  </tbody>\n",
       "</table>\n",
       "</div>"
      ],
      "text/plain": [
       "    CustomerID Preferred_Theme\n",
       "0  CusID_09654          New_UI\n",
       "1  CusID_09727          Old_UI\n",
       "2  CusID_07391          Old_UI\n",
       "3  CusID_08577          Old_UI\n",
       "4  CusID_08122          Old_UI"
      ]
     },
     "execution_count": 82,
     "metadata": {},
     "output_type": "execute_result"
    }
   ],
   "source": [
    "solution.head()"
   ]
  },
  {
   "cell_type": "code",
   "execution_count": 83,
   "id": "b9bd1e8e",
   "metadata": {},
   "outputs": [],
   "source": [
    "solution.to_csv('Solution.csv', index = False)"
   ]
  },
  {
   "cell_type": "code",
   "execution_count": null,
   "id": "8ab392f8",
   "metadata": {},
   "outputs": [],
   "source": []
  }
 ],
 "metadata": {
  "kernelspec": {
   "display_name": "Python 3",
   "language": "python",
   "name": "python3"
  },
  "language_info": {
   "codemirror_mode": {
    "name": "ipython",
    "version": 3
   },
   "file_extension": ".py",
   "mimetype": "text/x-python",
   "name": "python",
   "nbconvert_exporter": "python",
   "pygments_lexer": "ipython3",
   "version": "3.8.8"
  }
 },
 "nbformat": 4,
 "nbformat_minor": 5
}
