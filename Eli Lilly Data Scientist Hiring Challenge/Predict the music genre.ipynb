{
 "cells": [
  {
   "cell_type": "code",
   "execution_count": 1,
   "id": "8268a7ee",
   "metadata": {},
   "outputs": [],
   "source": [
    "import numpy as np\n",
    "import pandas as pd\n",
    "import matplotlib.pyplot as plt\n",
    "import seaborn as sns\n",
    "import re"
   ]
  },
  {
   "cell_type": "code",
   "execution_count": 2,
   "id": "0679e352",
   "metadata": {},
   "outputs": [
    {
     "data": {
      "text/html": [
       "<div>\n",
       "<style scoped>\n",
       "    .dataframe tbody tr th:only-of-type {\n",
       "        vertical-align: middle;\n",
       "    }\n",
       "\n",
       "    .dataframe tbody tr th {\n",
       "        vertical-align: top;\n",
       "    }\n",
       "\n",
       "    .dataframe thead th {\n",
       "        text-align: right;\n",
       "    }\n",
       "</style>\n",
       "<table border=\"1\" class=\"dataframe\">\n",
       "  <thead>\n",
       "    <tr style=\"text-align: right;\">\n",
       "      <th></th>\n",
       "      <th>instance_id</th>\n",
       "      <th>track_name</th>\n",
       "      <th>popularity</th>\n",
       "      <th>acousticness</th>\n",
       "      <th>danceability</th>\n",
       "      <th>duration_ms</th>\n",
       "      <th>energy</th>\n",
       "      <th>instrumentalness</th>\n",
       "      <th>key</th>\n",
       "      <th>liveness</th>\n",
       "      <th>loudness</th>\n",
       "      <th>voice_gender</th>\n",
       "      <th>mode</th>\n",
       "      <th>speechiness</th>\n",
       "      <th>tempo</th>\n",
       "      <th>musician_category</th>\n",
       "      <th>valence</th>\n",
       "      <th>music_genre</th>\n",
       "    </tr>\n",
       "  </thead>\n",
       "  <tbody>\n",
       "    <tr>\n",
       "      <th>0</th>\n",
       "      <td>MSC_83537.0</td>\n",
       "      <td>Estrellitas y Duendes</td>\n",
       "      <td>49.178</td>\n",
       "      <td>0.970522</td>\n",
       "      <td>0.580508</td>\n",
       "      <td>214625.776</td>\n",
       "      <td>0.192107</td>\n",
       "      <td>0.000000</td>\n",
       "      <td>Scale E</td>\n",
       "      <td>0.147134</td>\n",
       "      <td>-14.140</td>\n",
       "      <td>NaN</td>\n",
       "      <td>Major</td>\n",
       "      <td>0.046404</td>\n",
       "      <td>143.78799999999998</td>\n",
       "      <td>Band</td>\n",
       "      <td>0.598965</td>\n",
       "      <td>Jazz</td>\n",
       "    </tr>\n",
       "    <tr>\n",
       "      <th>1</th>\n",
       "      <td>MSC_22044.0</td>\n",
       "      <td>Al Norte</td>\n",
       "      <td>59.827</td>\n",
       "      <td>1.009380</td>\n",
       "      <td>0.687542</td>\n",
       "      <td>216232.195</td>\n",
       "      <td>0.265942</td>\n",
       "      <td>0.000031</td>\n",
       "      <td>Scale A</td>\n",
       "      <td>0.174655</td>\n",
       "      <td>-13.716</td>\n",
       "      <td>Male</td>\n",
       "      <td>?</td>\n",
       "      <td>0.039949</td>\n",
       "      <td>?</td>\n",
       "      <td>Band</td>\n",
       "      <td>0.357194</td>\n",
       "      <td>Jazz</td>\n",
       "    </tr>\n",
       "    <tr>\n",
       "      <th>2</th>\n",
       "      <td>MSC_62017.0</td>\n",
       "      <td>Yeah! (feat. Lil Jon &amp; Ludacris)</td>\n",
       "      <td>89.023</td>\n",
       "      <td>0.020041</td>\n",
       "      <td>0.967948</td>\n",
       "      <td>273314.723</td>\n",
       "      <td>0.857411</td>\n",
       "      <td>0.000000</td>\n",
       "      <td>Scale D</td>\n",
       "      <td>0.042030</td>\n",
       "      <td>-4.995</td>\n",
       "      <td>Female</td>\n",
       "      <td>Major</td>\n",
       "      <td>0.119917</td>\n",
       "      <td>105.01799999999999</td>\n",
       "      <td>Band</td>\n",
       "      <td>0.635525</td>\n",
       "      <td>Rap</td>\n",
       "    </tr>\n",
       "    <tr>\n",
       "      <th>3</th>\n",
       "      <td>MSC_76365.0</td>\n",
       "      <td>Can’t You See</td>\n",
       "      <td>55.762</td>\n",
       "      <td>0.010284</td>\n",
       "      <td>0.616287</td>\n",
       "      <td>189189.605</td>\n",
       "      <td>0.970513</td>\n",
       "      <td>0.000220</td>\n",
       "      <td>Scale D</td>\n",
       "      <td>0.124637</td>\n",
       "      <td>-4.262</td>\n",
       "      <td>Both</td>\n",
       "      <td>Major</td>\n",
       "      <td>0.167493</td>\n",
       "      <td>?</td>\n",
       "      <td>Duet</td>\n",
       "      <td>0.983750</td>\n",
       "      <td>Rock</td>\n",
       "    </tr>\n",
       "    <tr>\n",
       "      <th>4</th>\n",
       "      <td>MSC_71493.0</td>\n",
       "      <td>Sonata III (G Moll), BWV 1029: Adagio</td>\n",
       "      <td>45.095</td>\n",
       "      <td>0.858769</td>\n",
       "      <td>0.280645</td>\n",
       "      <td>410136.987</td>\n",
       "      <td>0.114732</td>\n",
       "      <td>0.002753</td>\n",
       "      <td>Scale F Sharp</td>\n",
       "      <td>0.134782</td>\n",
       "      <td>-26.922</td>\n",
       "      <td>Female</td>\n",
       "      <td>Minor</td>\n",
       "      <td>0.039139</td>\n",
       "      <td>112.18299999999999</td>\n",
       "      <td>Band</td>\n",
       "      <td>0.074412</td>\n",
       "      <td>Classical</td>\n",
       "    </tr>\n",
       "  </tbody>\n",
       "</table>\n",
       "</div>"
      ],
      "text/plain": [
       "   instance_id                             track_name  popularity  \\\n",
       "0  MSC_83537.0                  Estrellitas y Duendes      49.178   \n",
       "1  MSC_22044.0                               Al Norte      59.827   \n",
       "2  MSC_62017.0       Yeah! (feat. Lil Jon & Ludacris)      89.023   \n",
       "3  MSC_76365.0                          Can’t You See      55.762   \n",
       "4  MSC_71493.0  Sonata III (G Moll), BWV 1029: Adagio      45.095   \n",
       "\n",
       "   acousticness  danceability  duration_ms    energy  instrumentalness  \\\n",
       "0      0.970522      0.580508   214625.776  0.192107          0.000000   \n",
       "1      1.009380      0.687542   216232.195  0.265942          0.000031   \n",
       "2      0.020041      0.967948   273314.723  0.857411          0.000000   \n",
       "3      0.010284      0.616287   189189.605  0.970513          0.000220   \n",
       "4      0.858769      0.280645   410136.987  0.114732          0.002753   \n",
       "\n",
       "             key  liveness  loudness voice_gender   mode  speechiness  \\\n",
       "0        Scale E  0.147134   -14.140          NaN  Major     0.046404   \n",
       "1        Scale A  0.174655   -13.716         Male      ?     0.039949   \n",
       "2        Scale D  0.042030    -4.995       Female  Major     0.119917   \n",
       "3        Scale D  0.124637    -4.262         Both  Major     0.167493   \n",
       "4  Scale F Sharp  0.134782   -26.922       Female  Minor     0.039139   \n",
       "\n",
       "                tempo musician_category   valence music_genre  \n",
       "0  143.78799999999998              Band  0.598965        Jazz  \n",
       "1                   ?              Band  0.357194        Jazz  \n",
       "2  105.01799999999999              Band  0.635525         Rap  \n",
       "3                   ?              Duet  0.983750        Rock  \n",
       "4  112.18299999999999              Band  0.074412   Classical  "
      ]
     },
     "execution_count": 2,
     "metadata": {},
     "output_type": "execute_result"
    }
   ],
   "source": [
    "train = pd.read_csv('train.csv')\n",
    "train.head()"
   ]
  },
  {
   "cell_type": "code",
   "execution_count": 3,
   "id": "4e391c0b",
   "metadata": {},
   "outputs": [
    {
     "data": {
      "text/plain": [
       "(15681, 18)"
      ]
     },
     "execution_count": 3,
     "metadata": {},
     "output_type": "execute_result"
    }
   ],
   "source": [
    "train.shape"
   ]
  },
  {
   "cell_type": "code",
   "execution_count": 4,
   "id": "f1cd948c",
   "metadata": {},
   "outputs": [
    {
     "data": {
      "text/html": [
       "<div>\n",
       "<style scoped>\n",
       "    .dataframe tbody tr th:only-of-type {\n",
       "        vertical-align: middle;\n",
       "    }\n",
       "\n",
       "    .dataframe tbody tr th {\n",
       "        vertical-align: top;\n",
       "    }\n",
       "\n",
       "    .dataframe thead th {\n",
       "        text-align: right;\n",
       "    }\n",
       "</style>\n",
       "<table border=\"1\" class=\"dataframe\">\n",
       "  <thead>\n",
       "    <tr style=\"text-align: right;\">\n",
       "      <th></th>\n",
       "      <th>instance_id</th>\n",
       "      <th>track_name</th>\n",
       "      <th>popularity</th>\n",
       "      <th>acousticness</th>\n",
       "      <th>danceability</th>\n",
       "      <th>duration_ms</th>\n",
       "      <th>energy</th>\n",
       "      <th>instrumentalness</th>\n",
       "      <th>key</th>\n",
       "      <th>liveness</th>\n",
       "      <th>loudness</th>\n",
       "      <th>voice_gender</th>\n",
       "      <th>mode</th>\n",
       "      <th>speechiness</th>\n",
       "      <th>tempo</th>\n",
       "      <th>musician_category</th>\n",
       "      <th>valence</th>\n",
       "    </tr>\n",
       "  </thead>\n",
       "  <tbody>\n",
       "    <tr>\n",
       "      <th>0</th>\n",
       "      <td>MSC_70753.0</td>\n",
       "      <td>Bard, a Man of Lake-town - Extended Version</td>\n",
       "      <td>26.101</td>\n",
       "      <td>0.823765</td>\n",
       "      <td>0.115490</td>\n",
       "      <td>211462.287</td>\n",
       "      <td>0.125325</td>\n",
       "      <td>0.945272</td>\n",
       "      <td>Scale A Sharp</td>\n",
       "      <td>0.120392</td>\n",
       "      <td>-25.541</td>\n",
       "      <td>Both</td>\n",
       "      <td>Minor</td>\n",
       "      <td>0.038657</td>\n",
       "      <td>80.777</td>\n",
       "      <td>Duet</td>\n",
       "      <td>0.041238</td>\n",
       "    </tr>\n",
       "    <tr>\n",
       "      <th>1</th>\n",
       "      <td>MSC_24064.0</td>\n",
       "      <td>New Kings</td>\n",
       "      <td>66.325</td>\n",
       "      <td>0.015441</td>\n",
       "      <td>0.592838</td>\n",
       "      <td>249151.238</td>\n",
       "      <td>0.870798</td>\n",
       "      <td>0.000108</td>\n",
       "      <td>Scale E</td>\n",
       "      <td>0.406722</td>\n",
       "      <td>-3.905</td>\n",
       "      <td>Male</td>\n",
       "      <td>?</td>\n",
       "      <td>0.051368</td>\n",
       "      <td>76.00399999999999</td>\n",
       "      <td>Band</td>\n",
       "      <td>0.456309</td>\n",
       "    </tr>\n",
       "    <tr>\n",
       "      <th>2</th>\n",
       "      <td>MSC_22731.0</td>\n",
       "      <td>Silver Lining</td>\n",
       "      <td>71.871</td>\n",
       "      <td>0.001006</td>\n",
       "      <td>0.510340</td>\n",
       "      <td>215693.240</td>\n",
       "      <td>0.683077</td>\n",
       "      <td>0.000000</td>\n",
       "      <td>Scale C</td>\n",
       "      <td>0.084608</td>\n",
       "      <td>-6.825</td>\n",
       "      <td>Female</td>\n",
       "      <td>Major</td>\n",
       "      <td>0.034303</td>\n",
       "      <td>144.458</td>\n",
       "      <td>Solo</td>\n",
       "      <td>0.193332</td>\n",
       "    </tr>\n",
       "    <tr>\n",
       "      <th>3</th>\n",
       "      <td>MSC_32095.0</td>\n",
       "      <td>A Tale That Wasn't Right</td>\n",
       "      <td>56.151</td>\n",
       "      <td>0.315650</td>\n",
       "      <td>0.338336</td>\n",
       "      <td>307056.179</td>\n",
       "      <td>0.608904</td>\n",
       "      <td>0.000000</td>\n",
       "      <td>Scale A</td>\n",
       "      <td>0.276811</td>\n",
       "      <td>-8.382</td>\n",
       "      <td>Female</td>\n",
       "      <td>Minor</td>\n",
       "      <td>0.036934</td>\n",
       "      <td>118.145</td>\n",
       "      <td>Solo</td>\n",
       "      <td>0.214906</td>\n",
       "    </tr>\n",
       "    <tr>\n",
       "      <th>4</th>\n",
       "      <td>MSC_24198.0</td>\n",
       "      <td>Get Ready</td>\n",
       "      <td>43.687</td>\n",
       "      <td>0.038336</td>\n",
       "      <td>0.773904</td>\n",
       "      <td>352802.872</td>\n",
       "      <td>0.955500</td>\n",
       "      <td>0.000007</td>\n",
       "      <td>Scale D</td>\n",
       "      <td>0.301726</td>\n",
       "      <td>-4.733</td>\n",
       "      <td>Both</td>\n",
       "      <td>Major</td>\n",
       "      <td>0.079688</td>\n",
       "      <td>95.012</td>\n",
       "      <td>Duet</td>\n",
       "      <td>0.757347</td>\n",
       "    </tr>\n",
       "  </tbody>\n",
       "</table>\n",
       "</div>"
      ],
      "text/plain": [
       "   instance_id                                   track_name  popularity  \\\n",
       "0  MSC_70753.0  Bard, a Man of Lake-town - Extended Version      26.101   \n",
       "1  MSC_24064.0                                    New Kings      66.325   \n",
       "2  MSC_22731.0                                Silver Lining      71.871   \n",
       "3  MSC_32095.0                     A Tale That Wasn't Right      56.151   \n",
       "4  MSC_24198.0                                    Get Ready      43.687   \n",
       "\n",
       "   acousticness  danceability  duration_ms    energy  instrumentalness  \\\n",
       "0      0.823765      0.115490   211462.287  0.125325          0.945272   \n",
       "1      0.015441      0.592838   249151.238  0.870798          0.000108   \n",
       "2      0.001006      0.510340   215693.240  0.683077          0.000000   \n",
       "3      0.315650      0.338336   307056.179  0.608904          0.000000   \n",
       "4      0.038336      0.773904   352802.872  0.955500          0.000007   \n",
       "\n",
       "             key  liveness  loudness voice_gender   mode  speechiness  \\\n",
       "0  Scale A Sharp  0.120392   -25.541         Both  Minor     0.038657   \n",
       "1        Scale E  0.406722    -3.905         Male      ?     0.051368   \n",
       "2        Scale C  0.084608    -6.825       Female  Major     0.034303   \n",
       "3        Scale A  0.276811    -8.382       Female  Minor     0.036934   \n",
       "4        Scale D  0.301726    -4.733         Both  Major     0.079688   \n",
       "\n",
       "               tempo musician_category   valence  \n",
       "0             80.777              Duet  0.041238  \n",
       "1  76.00399999999999              Band  0.456309  \n",
       "2            144.458              Solo  0.193332  \n",
       "3            118.145              Solo  0.214906  \n",
       "4             95.012              Duet  0.757347  "
      ]
     },
     "execution_count": 4,
     "metadata": {},
     "output_type": "execute_result"
    }
   ],
   "source": [
    "test = pd.read_csv('test.csv')\n",
    "test.head()"
   ]
  },
  {
   "cell_type": "code",
   "execution_count": 5,
   "id": "c4f0a275",
   "metadata": {},
   "outputs": [
    {
     "data": {
      "text/plain": [
       "(3921, 17)"
      ]
     },
     "execution_count": 5,
     "metadata": {},
     "output_type": "execute_result"
    }
   ],
   "source": [
    "test.shape"
   ]
  },
  {
   "cell_type": "code",
   "execution_count": 6,
   "id": "9b6f29ac",
   "metadata": {},
   "outputs": [
    {
     "data": {
      "text/plain": [
       "0"
      ]
     },
     "execution_count": 6,
     "metadata": {},
     "output_type": "execute_result"
    }
   ],
   "source": [
    "train.duplicated().sum()"
   ]
  },
  {
   "cell_type": "code",
   "execution_count": 7,
   "id": "7814f71f",
   "metadata": {},
   "outputs": [
    {
     "data": {
      "text/plain": [
       "instance_id             0\n",
       "track_name              0\n",
       "popularity            642\n",
       "acousticness            0\n",
       "danceability          556\n",
       "duration_ms            94\n",
       "energy                 94\n",
       "instrumentalness       95\n",
       "key                     0\n",
       "liveness                0\n",
       "loudness               36\n",
       "voice_gender          765\n",
       "mode                   35\n",
       "speechiness            26\n",
       "tempo                   0\n",
       "musician_category    1360\n",
       "valence               677\n",
       "music_genre             0\n",
       "dtype: int64"
      ]
     },
     "execution_count": 7,
     "metadata": {},
     "output_type": "execute_result"
    }
   ],
   "source": [
    "train.isnull().sum()"
   ]
  },
  {
   "cell_type": "code",
   "execution_count": 8,
   "id": "43850a63",
   "metadata": {},
   "outputs": [
    {
     "data": {
      "text/plain": [
       "instance_id            0\n",
       "track_name             0\n",
       "popularity           166\n",
       "acousticness           0\n",
       "danceability         139\n",
       "duration_ms           21\n",
       "energy                33\n",
       "instrumentalness      23\n",
       "key                    0\n",
       "liveness               0\n",
       "loudness               3\n",
       "voice_gender         186\n",
       "mode                  14\n",
       "speechiness            7\n",
       "tempo                  0\n",
       "musician_category    312\n",
       "valence              191\n",
       "dtype: int64"
      ]
     },
     "execution_count": 8,
     "metadata": {},
     "output_type": "execute_result"
    }
   ],
   "source": [
    "test.isnull().sum()"
   ]
  },
  {
   "cell_type": "code",
   "execution_count": 9,
   "id": "4b474a6c",
   "metadata": {},
   "outputs": [
    {
     "name": "stdout",
     "output_type": "stream",
     "text": [
      "<class 'pandas.core.frame.DataFrame'>\n",
      "RangeIndex: 15681 entries, 0 to 15680\n",
      "Data columns (total 18 columns):\n",
      " #   Column             Non-Null Count  Dtype  \n",
      "---  ------             --------------  -----  \n",
      " 0   instance_id        15681 non-null  object \n",
      " 1   track_name         15681 non-null  object \n",
      " 2   popularity         15039 non-null  float64\n",
      " 3   acousticness       15681 non-null  float64\n",
      " 4   danceability       15125 non-null  float64\n",
      " 5   duration_ms        15587 non-null  float64\n",
      " 6   energy             15587 non-null  float64\n",
      " 7   instrumentalness   15586 non-null  float64\n",
      " 8   key                15681 non-null  object \n",
      " 9   liveness           15681 non-null  float64\n",
      " 10  loudness           15645 non-null  float64\n",
      " 11  voice_gender       14916 non-null  object \n",
      " 12  mode               15646 non-null  object \n",
      " 13  speechiness        15655 non-null  float64\n",
      " 14  tempo              15681 non-null  object \n",
      " 15  musician_category  14321 non-null  object \n",
      " 16  valence            15004 non-null  float64\n",
      " 17  music_genre        15681 non-null  object \n",
      "dtypes: float64(10), object(8)\n",
      "memory usage: 2.2+ MB\n"
     ]
    }
   ],
   "source": [
    "train.info()"
   ]
  },
  {
   "cell_type": "code",
   "execution_count": 10,
   "id": "f010c3fb",
   "metadata": {},
   "outputs": [
    {
     "data": {
      "text/html": [
       "<div>\n",
       "<style scoped>\n",
       "    .dataframe tbody tr th:only-of-type {\n",
       "        vertical-align: middle;\n",
       "    }\n",
       "\n",
       "    .dataframe tbody tr th {\n",
       "        vertical-align: top;\n",
       "    }\n",
       "\n",
       "    .dataframe thead th {\n",
       "        text-align: right;\n",
       "    }\n",
       "</style>\n",
       "<table border=\"1\" class=\"dataframe\">\n",
       "  <thead>\n",
       "    <tr style=\"text-align: right;\">\n",
       "      <th></th>\n",
       "      <th>instance_id</th>\n",
       "      <th>track_name</th>\n",
       "      <th>popularity</th>\n",
       "      <th>acousticness</th>\n",
       "      <th>danceability</th>\n",
       "      <th>duration_ms</th>\n",
       "      <th>energy</th>\n",
       "      <th>instrumentalness</th>\n",
       "      <th>key</th>\n",
       "      <th>liveness</th>\n",
       "      <th>loudness</th>\n",
       "      <th>voice_gender</th>\n",
       "      <th>mode</th>\n",
       "      <th>speechiness</th>\n",
       "      <th>tempo</th>\n",
       "      <th>musician_category</th>\n",
       "      <th>valence</th>\n",
       "      <th>music_genre</th>\n",
       "    </tr>\n",
       "  </thead>\n",
       "  <tbody>\n",
       "    <tr>\n",
       "      <th>0</th>\n",
       "      <td>MSC_83537.0</td>\n",
       "      <td>Estrellitas y Duendes</td>\n",
       "      <td>49.178</td>\n",
       "      <td>0.970522</td>\n",
       "      <td>0.580508</td>\n",
       "      <td>214625.776</td>\n",
       "      <td>0.192107</td>\n",
       "      <td>0.000000</td>\n",
       "      <td>Scale E</td>\n",
       "      <td>0.147134</td>\n",
       "      <td>-14.140</td>\n",
       "      <td>NaN</td>\n",
       "      <td>Major</td>\n",
       "      <td>0.046404</td>\n",
       "      <td>143.78799999999998</td>\n",
       "      <td>Band</td>\n",
       "      <td>0.598965</td>\n",
       "      <td>Jazz</td>\n",
       "    </tr>\n",
       "    <tr>\n",
       "      <th>1</th>\n",
       "      <td>MSC_22044.0</td>\n",
       "      <td>Al Norte</td>\n",
       "      <td>59.827</td>\n",
       "      <td>1.009380</td>\n",
       "      <td>0.687542</td>\n",
       "      <td>216232.195</td>\n",
       "      <td>0.265942</td>\n",
       "      <td>0.000031</td>\n",
       "      <td>Scale A</td>\n",
       "      <td>0.174655</td>\n",
       "      <td>-13.716</td>\n",
       "      <td>Male</td>\n",
       "      <td>?</td>\n",
       "      <td>0.039949</td>\n",
       "      <td>?</td>\n",
       "      <td>Band</td>\n",
       "      <td>0.357194</td>\n",
       "      <td>Jazz</td>\n",
       "    </tr>\n",
       "    <tr>\n",
       "      <th>2</th>\n",
       "      <td>MSC_62017.0</td>\n",
       "      <td>Yeah! (feat. Lil Jon &amp; Ludacris)</td>\n",
       "      <td>89.023</td>\n",
       "      <td>0.020041</td>\n",
       "      <td>0.967948</td>\n",
       "      <td>273314.723</td>\n",
       "      <td>0.857411</td>\n",
       "      <td>0.000000</td>\n",
       "      <td>Scale D</td>\n",
       "      <td>0.042030</td>\n",
       "      <td>-4.995</td>\n",
       "      <td>Female</td>\n",
       "      <td>Major</td>\n",
       "      <td>0.119917</td>\n",
       "      <td>105.01799999999999</td>\n",
       "      <td>Band</td>\n",
       "      <td>0.635525</td>\n",
       "      <td>Rap</td>\n",
       "    </tr>\n",
       "    <tr>\n",
       "      <th>3</th>\n",
       "      <td>MSC_76365.0</td>\n",
       "      <td>Can’t You See</td>\n",
       "      <td>55.762</td>\n",
       "      <td>0.010284</td>\n",
       "      <td>0.616287</td>\n",
       "      <td>189189.605</td>\n",
       "      <td>0.970513</td>\n",
       "      <td>0.000220</td>\n",
       "      <td>Scale D</td>\n",
       "      <td>0.124637</td>\n",
       "      <td>-4.262</td>\n",
       "      <td>Both</td>\n",
       "      <td>Major</td>\n",
       "      <td>0.167493</td>\n",
       "      <td>?</td>\n",
       "      <td>Duet</td>\n",
       "      <td>0.983750</td>\n",
       "      <td>Rock</td>\n",
       "    </tr>\n",
       "    <tr>\n",
       "      <th>4</th>\n",
       "      <td>MSC_71493.0</td>\n",
       "      <td>Sonata III (G Moll), BWV 1029: Adagio</td>\n",
       "      <td>45.095</td>\n",
       "      <td>0.858769</td>\n",
       "      <td>0.280645</td>\n",
       "      <td>410136.987</td>\n",
       "      <td>0.114732</td>\n",
       "      <td>0.002753</td>\n",
       "      <td>Scale F Sharp</td>\n",
       "      <td>0.134782</td>\n",
       "      <td>-26.922</td>\n",
       "      <td>Female</td>\n",
       "      <td>Minor</td>\n",
       "      <td>0.039139</td>\n",
       "      <td>112.18299999999999</td>\n",
       "      <td>Band</td>\n",
       "      <td>0.074412</td>\n",
       "      <td>Classical</td>\n",
       "    </tr>\n",
       "  </tbody>\n",
       "</table>\n",
       "</div>"
      ],
      "text/plain": [
       "   instance_id                             track_name  popularity  \\\n",
       "0  MSC_83537.0                  Estrellitas y Duendes      49.178   \n",
       "1  MSC_22044.0                               Al Norte      59.827   \n",
       "2  MSC_62017.0       Yeah! (feat. Lil Jon & Ludacris)      89.023   \n",
       "3  MSC_76365.0                          Can’t You See      55.762   \n",
       "4  MSC_71493.0  Sonata III (G Moll), BWV 1029: Adagio      45.095   \n",
       "\n",
       "   acousticness  danceability  duration_ms    energy  instrumentalness  \\\n",
       "0      0.970522      0.580508   214625.776  0.192107          0.000000   \n",
       "1      1.009380      0.687542   216232.195  0.265942          0.000031   \n",
       "2      0.020041      0.967948   273314.723  0.857411          0.000000   \n",
       "3      0.010284      0.616287   189189.605  0.970513          0.000220   \n",
       "4      0.858769      0.280645   410136.987  0.114732          0.002753   \n",
       "\n",
       "             key  liveness  loudness voice_gender   mode  speechiness  \\\n",
       "0        Scale E  0.147134   -14.140          NaN  Major     0.046404   \n",
       "1        Scale A  0.174655   -13.716         Male      ?     0.039949   \n",
       "2        Scale D  0.042030    -4.995       Female  Major     0.119917   \n",
       "3        Scale D  0.124637    -4.262         Both  Major     0.167493   \n",
       "4  Scale F Sharp  0.134782   -26.922       Female  Minor     0.039139   \n",
       "\n",
       "                tempo musician_category   valence music_genre  \n",
       "0  143.78799999999998              Band  0.598965        Jazz  \n",
       "1                   ?              Band  0.357194        Jazz  \n",
       "2  105.01799999999999              Band  0.635525         Rap  \n",
       "3                   ?              Duet  0.983750        Rock  \n",
       "4  112.18299999999999              Band  0.074412   Classical  "
      ]
     },
     "execution_count": 10,
     "metadata": {},
     "output_type": "execute_result"
    }
   ],
   "source": [
    "combined = pd.concat([train, test])\n",
    "combined.head()"
   ]
  },
  {
   "cell_type": "code",
   "execution_count": 11,
   "id": "0f487084",
   "metadata": {},
   "outputs": [
    {
     "data": {
      "text/plain": [
       "(19602, 18)"
      ]
     },
     "execution_count": 11,
     "metadata": {},
     "output_type": "execute_result"
    }
   ],
   "source": [
    "combined.shape"
   ]
  },
  {
   "cell_type": "code",
   "execution_count": 12,
   "id": "69ecb14d",
   "metadata": {},
   "outputs": [
    {
     "data": {
      "text/plain": [
       "Scale C          2204\n",
       "Scale G          2148\n",
       "Scale D          2108\n",
       "Scale C Sharp    2050\n",
       "Scale A          1838\n",
       "Scale F          1765\n",
       "Scale E          1514\n",
       "Scale A Sharp    1411\n",
       "Scale B          1356\n",
       "Scale G Sharp    1302\n",
       "Scale F Sharp    1152\n",
       "Scale D Sharp     754\n",
       "Name: key, dtype: int64"
      ]
     },
     "execution_count": 12,
     "metadata": {},
     "output_type": "execute_result"
    }
   ],
   "source": [
    "combined['key'].value_counts()"
   ]
  },
  {
   "cell_type": "code",
   "execution_count": 13,
   "id": "d453f0d2",
   "metadata": {},
   "outputs": [
    {
     "data": {
      "text/plain": [
       "Classical     3990\n",
       "Rock          3879\n",
       "Rap           3207\n",
       "Jazz          2850\n",
       "Country        683\n",
       "Electronic     614\n",
       "Hip-Hop        458\n",
       "Name: music_genre, dtype: int64"
      ]
     },
     "execution_count": 13,
     "metadata": {},
     "output_type": "execute_result"
    }
   ],
   "source": [
    "train['music_genre'].value_counts()"
   ]
  },
  {
   "cell_type": "code",
   "execution_count": 14,
   "id": "07d80b01",
   "metadata": {},
   "outputs": [
    {
     "data": {
      "text/plain": [
       "18267"
      ]
     },
     "execution_count": 14,
     "metadata": {},
     "output_type": "execute_result"
    }
   ],
   "source": [
    "combined['track_name'].nunique()"
   ]
  },
  {
   "cell_type": "code",
   "execution_count": 15,
   "id": "45b34005",
   "metadata": {},
   "outputs": [
    {
     "data": {
      "text/plain": [
       "19602"
      ]
     },
     "execution_count": 15,
     "metadata": {},
     "output_type": "execute_result"
    }
   ],
   "source": [
    "combined['instance_id'].nunique()"
   ]
  },
  {
   "cell_type": "code",
   "execution_count": 16,
   "id": "bbcecda2",
   "metadata": {},
   "outputs": [
    {
     "name": "stdout",
     "output_type": "stream",
     "text": [
      "<class 'pandas.core.frame.DataFrame'>\n",
      "Int64Index: 19602 entries, 0 to 3920\n",
      "Data columns (total 18 columns):\n",
      " #   Column             Non-Null Count  Dtype  \n",
      "---  ------             --------------  -----  \n",
      " 0   instance_id        19602 non-null  object \n",
      " 1   track_name         19602 non-null  object \n",
      " 2   popularity         18794 non-null  float64\n",
      " 3   acousticness       19602 non-null  float64\n",
      " 4   danceability       18907 non-null  float64\n",
      " 5   duration_ms        19487 non-null  float64\n",
      " 6   energy             19475 non-null  float64\n",
      " 7   instrumentalness   19484 non-null  float64\n",
      " 8   key                19602 non-null  object \n",
      " 9   liveness           19602 non-null  float64\n",
      " 10  loudness           19563 non-null  float64\n",
      " 11  voice_gender       18651 non-null  object \n",
      " 12  mode               19553 non-null  object \n",
      " 13  speechiness        19569 non-null  float64\n",
      " 14  tempo              19602 non-null  object \n",
      " 15  musician_category  17930 non-null  object \n",
      " 16  valence            18734 non-null  float64\n",
      " 17  music_genre        15681 non-null  object \n",
      "dtypes: float64(10), object(8)\n",
      "memory usage: 2.8+ MB\n"
     ]
    }
   ],
   "source": [
    "combined.info()"
   ]
  },
  {
   "cell_type": "raw",
   "id": "fdc2ec99",
   "metadata": {},
   "source": [
    "popularity, danceability, duration_ms, energy, instrumentalness, loudness, speechiness, valence\n",
    "voice_gender, mode, musician_category"
   ]
  },
  {
   "cell_type": "code",
   "execution_count": 17,
   "id": "343fa0b8",
   "metadata": {},
   "outputs": [],
   "source": [
    "x = ['popularity', 'danceability', 'duration_ms', 'energy', 'instrumentalness', 'loudness', 'speechiness', 'valence']\n",
    "for i in x:\n",
    "    combined[i] = combined[i].fillna(combined[i].mean())"
   ]
  },
  {
   "cell_type": "code",
   "execution_count": 18,
   "id": "1827b07b",
   "metadata": {},
   "outputs": [
    {
     "data": {
      "text/plain": [
       "Band    6012\n",
       "Solo    5962\n",
       "Duet    5956\n",
       "Name: musician_category, dtype: int64"
      ]
     },
     "execution_count": 18,
     "metadata": {},
     "output_type": "execute_result"
    }
   ],
   "source": [
    "combined['musician_category'].value_counts()"
   ]
  },
  {
   "cell_type": "code",
   "execution_count": 19,
   "id": "420fc06b",
   "metadata": {},
   "outputs": [],
   "source": [
    "x = ['voice_gender', 'mode', 'musician_category']\n",
    "for i in x:\n",
    "    combined[i] = combined[i].fillna(combined[i].value_counts().index[0])"
   ]
  },
  {
   "cell_type": "code",
   "execution_count": 20,
   "id": "a2dc4583",
   "metadata": {},
   "outputs": [
    {
     "data": {
      "text/plain": [
       "Major    11601\n",
       "Minor     6677\n",
       "?         1324\n",
       "Name: mode, dtype: int64"
      ]
     },
     "execution_count": 20,
     "metadata": {},
     "output_type": "execute_result"
    }
   ],
   "source": [
    "combined['mode'].value_counts()"
   ]
  },
  {
   "cell_type": "code",
   "execution_count": 21,
   "id": "65b3e931",
   "metadata": {},
   "outputs": [],
   "source": [
    "combined['mode'] = combined['mode'].replace({'?' : 'Major'})"
   ]
  },
  {
   "cell_type": "code",
   "execution_count": 22,
   "id": "153dfa75",
   "metadata": {},
   "outputs": [
    {
     "data": {
      "text/plain": [
       "?                     1867\n",
       "100.01                   8\n",
       "100.014                  7\n",
       "100.00299999999999       7\n",
       "119.985                  7\n",
       "                      ... \n",
       "93.618                   1\n",
       "73.01899999999999        1\n",
       "131.994                  1\n",
       "91.085                   1\n",
       "127.85600000000001       1\n",
       "Name: tempo, Length: 14925, dtype: int64"
      ]
     },
     "execution_count": 22,
     "metadata": {},
     "output_type": "execute_result"
    }
   ],
   "source": [
    "combined['tempo'].value_counts()"
   ]
  },
  {
   "cell_type": "code",
   "execution_count": 23,
   "id": "4a02fa1f",
   "metadata": {},
   "outputs": [],
   "source": [
    "combined['tempo'] = combined['tempo'].replace({'?' : 0})\n",
    "combined['tempo'] = combined['tempo'].astype(float)"
   ]
  },
  {
   "cell_type": "code",
   "execution_count": 24,
   "id": "d31c599a",
   "metadata": {},
   "outputs": [],
   "source": [
    "combined['tempo'] = combined['tempo'].replace({0 : combined['tempo'].mean()})"
   ]
  },
  {
   "cell_type": "code",
   "execution_count": 25,
   "id": "14d5e680",
   "metadata": {},
   "outputs": [],
   "source": [
    "from sklearn.preprocessing import LabelEncoder\n",
    "le = LabelEncoder()"
   ]
  },
  {
   "cell_type": "code",
   "execution_count": 26,
   "id": "9432a2b7",
   "metadata": {},
   "outputs": [],
   "source": [
    "x = ['track_name', 'voice_gender', 'mode', 'musician_category', 'key']\n",
    "for i in x:\n",
    "    combined[i] = le.fit_transform(combined[i])"
   ]
  },
  {
   "cell_type": "code",
   "execution_count": 27,
   "id": "4b3909a8",
   "metadata": {},
   "outputs": [
    {
     "name": "stdout",
     "output_type": "stream",
     "text": [
      "<class 'pandas.core.frame.DataFrame'>\n",
      "Int64Index: 19602 entries, 0 to 3920\n",
      "Data columns (total 18 columns):\n",
      " #   Column             Non-Null Count  Dtype  \n",
      "---  ------             --------------  -----  \n",
      " 0   instance_id        19602 non-null  object \n",
      " 1   track_name         19602 non-null  int32  \n",
      " 2   popularity         19602 non-null  float64\n",
      " 3   acousticness       19602 non-null  float64\n",
      " 4   danceability       19602 non-null  float64\n",
      " 5   duration_ms        19602 non-null  float64\n",
      " 6   energy             19602 non-null  float64\n",
      " 7   instrumentalness   19602 non-null  float64\n",
      " 8   key                19602 non-null  int32  \n",
      " 9   liveness           19602 non-null  float64\n",
      " 10  loudness           19602 non-null  float64\n",
      " 11  voice_gender       19602 non-null  int32  \n",
      " 12  mode               19602 non-null  int32  \n",
      " 13  speechiness        19602 non-null  float64\n",
      " 14  tempo              19602 non-null  float64\n",
      " 15  musician_category  19602 non-null  int32  \n",
      " 16  valence            19602 non-null  float64\n",
      " 17  music_genre        15681 non-null  object \n",
      "dtypes: float64(11), int32(5), object(2)\n",
      "memory usage: 2.5+ MB\n"
     ]
    }
   ],
   "source": [
    "combined.info()"
   ]
  },
  {
   "cell_type": "code",
   "execution_count": 28,
   "id": "4cd991d6",
   "metadata": {},
   "outputs": [
    {
     "data": {
      "text/plain": [
       "(15681, 18)"
      ]
     },
     "execution_count": 28,
     "metadata": {},
     "output_type": "execute_result"
    }
   ],
   "source": [
    "newtrain = combined.iloc[0:15681, :]\n",
    "newtrain.shape"
   ]
  },
  {
   "cell_type": "code",
   "execution_count": 29,
   "id": "2aa2ac61",
   "metadata": {},
   "outputs": [
    {
     "data": {
      "text/plain": [
       "(3921, 18)"
      ]
     },
     "execution_count": 29,
     "metadata": {},
     "output_type": "execute_result"
    }
   ],
   "source": [
    "newtest = combined.iloc[15681: , :]\n",
    "newtest.shape"
   ]
  },
  {
   "cell_type": "code",
   "execution_count": 30,
   "id": "dda1b4e1",
   "metadata": {},
   "outputs": [
    {
     "data": {
      "text/plain": [
       "(15681, 17)"
      ]
     },
     "execution_count": 30,
     "metadata": {},
     "output_type": "execute_result"
    }
   ],
   "source": [
    "newtrain = newtrain.drop('instance_id', axis = 1)\n",
    "newtrain.shape"
   ]
  },
  {
   "cell_type": "code",
   "execution_count": 31,
   "id": "d6344bbb",
   "metadata": {},
   "outputs": [
    {
     "data": {
      "text/plain": [
       "(3921, 16)"
      ]
     },
     "execution_count": 31,
     "metadata": {},
     "output_type": "execute_result"
    }
   ],
   "source": [
    "newtest = newtest.drop(['instance_id', 'music_genre'], axis = 1)\n",
    "newtest.shape"
   ]
  },
  {
   "cell_type": "code",
   "execution_count": 32,
   "id": "5d11212e",
   "metadata": {},
   "outputs": [],
   "source": [
    "x = newtrain.drop('music_genre', axis = 1)\n",
    "y = newtrain['music_genre']"
   ]
  },
  {
   "cell_type": "code",
   "execution_count": 33,
   "id": "309c798a",
   "metadata": {},
   "outputs": [],
   "source": [
    "from sklearn.model_selection import train_test_split\n",
    "x_train, x_test, y_train, y_test = train_test_split(x, y, test_size = 0.2, random_state = 1)"
   ]
  },
  {
   "cell_type": "code",
   "execution_count": 34,
   "id": "60a638a8",
   "metadata": {},
   "outputs": [],
   "source": [
    "from sklearn.metrics import accuracy_score"
   ]
  },
  {
   "cell_type": "code",
   "execution_count": 35,
   "id": "151a67ee",
   "metadata": {},
   "outputs": [
    {
     "name": "stdout",
     "output_type": "stream",
     "text": [
      "0.7924768887472107\n"
     ]
    }
   ],
   "source": [
    "from sklearn.ensemble import GradientBoostingClassifier\n",
    "gab = GradientBoostingClassifier()\n",
    "y_pred = gab.fit(x_train, y_train).predict(x_test)\n",
    "print(accuracy_score(y_test, y_pred))"
   ]
  },
  {
   "cell_type": "code",
   "execution_count": 36,
   "id": "3701e8f3",
   "metadata": {},
   "outputs": [
    {
     "data": {
      "image/png": "[encoded data removed]",
      "text/plain": [
       "<Figure size 720x360 with 1 Axes>"
      ]
     },
     "metadata": {
      "needs_background": "light"
     },
     "output_type": "display_data"
    }
   ],
   "source": [
    "feature_imp = pd.DataFrame(sorted(zip(gab.feature_importances_, x.columns), reverse=True)[:], columns=['Value','Feature'])\n",
    "plt.figure(figsize=(10,5))\n",
    "sns.barplot(x=\"Value\", y=\"Feature\", data=feature_imp.sort_values(by=\"Value\", ascending=False))\n",
    "plt.title('GAB Features')\n",
    "plt.tight_layout()\n",
    "plt.show()\n"
   ]
  },
  {
   "cell_type": "code",
   "execution_count": 37,
   "id": "dfc091b3",
   "metadata": {},
   "outputs": [],
   "source": [
    "x = newtrain.drop(['music_genre', 'key', 'musician_category', 'voice_gender'], axis = 1)\n",
    "y = newtrain['music_genre']"
   ]
  },
  {
   "cell_type": "code",
   "execution_count": 38,
   "id": "cd84e030",
   "metadata": {},
   "outputs": [],
   "source": [
    "from sklearn.model_selection import train_test_split\n",
    "x_train, x_test, y_train, y_test = train_test_split(x, y, test_size = 0.2, random_state = 1)"
   ]
  },
  {
   "cell_type": "code",
   "execution_count": 39,
   "id": "31cf506e",
   "metadata": {},
   "outputs": [
    {
     "name": "stdout",
     "output_type": "stream",
     "text": [
      "0.7937519923493784\n"
     ]
    }
   ],
   "source": [
    "from sklearn.ensemble import GradientBoostingClassifier\n",
    "gab = GradientBoostingClassifier()\n",
    "y_pred = gab.fit(x_train, y_train).predict(x_test)\n",
    "print(accuracy_score(y_test, y_pred))"
   ]
  },
  {
   "cell_type": "code",
   "execution_count": 40,
   "id": "bf7cae86",
   "metadata": {},
   "outputs": [],
   "source": [
    "from sklearn.model_selection import GridSearchCV"
   ]
  },
  {
   "cell_type": "code",
   "execution_count": 41,
   "id": "edb6c43b",
   "metadata": {},
   "outputs": [],
   "source": [
    "parameters = {\n",
    "    \"n_estimators\":[1,4,6,7],\n",
    "    \"max_depth\":[1,3,5,7,9],\n",
    "    \"learning_rate\":[0.01,0.1,1],\n",
    "}"
   ]
  },
  {
   "cell_type": "code",
   "execution_count": 42,
   "id": "b6b17adb",
   "metadata": {},
   "outputs": [
    {
     "data": {
      "text/plain": [
       "GridSearchCV(cv=5, estimator=GradientBoostingClassifier(),\n",
       "             param_grid={'learning_rate': [0.01, 0.1, 1],\n",
       "                         'max_depth': [1, 3, 5, 7, 9],\n",
       "                         'n_estimators': [1, 4, 6, 7]})"
      ]
     },
     "execution_count": 42,
     "metadata": {},
     "output_type": "execute_result"
    }
   ],
   "source": [
    "grid = GridSearchCV(estimator = gab, param_grid = parameters, cv = 5)\n",
    "grid.fit(x_train, y_train)"
   ]
  },
  {
   "cell_type": "code",
   "execution_count": 43,
   "id": "f6c02d7b",
   "metadata": {},
   "outputs": [
    {
     "data": {
      "text/plain": [
       "{'learning_rate': 0.1, 'max_depth': 7, 'n_estimators': 7}"
      ]
     },
     "execution_count": 43,
     "metadata": {},
     "output_type": "execute_result"
    }
   ],
   "source": [
    "grid.best_params_"
   ]
  },
  {
   "cell_type": "code",
   "execution_count": 46,
   "id": "cd3f3fb1",
   "metadata": {},
   "outputs": [],
   "source": [
    "from sklearn.ensemble import GradientBoostingClassifier\n",
    "gab = GradientBoostingClassifier(learning_rate = 0.1, max_depth = 7, n_estimators = 7)\n",
    "y_pred = gab.fit(x_train, y_train).predict(x_test)"
   ]
  },
  {
   "cell_type": "code",
   "execution_count": 51,
   "id": "1a7fd044",
   "metadata": {},
   "outputs": [],
   "source": [
    "x_train = newtrain.drop(['music_genre', 'key', 'musician_category', 'voice_gender'], axis = 1)\n",
    "y_train = newtrain['music_genre']\n",
    "x_test = newtest.drop(['key', 'musician_category', 'voice_gender'], axis = 1)"
   ]
  },
  {
   "cell_type": "code",
   "execution_count": 52,
   "id": "222525c8",
   "metadata": {},
   "outputs": [],
   "source": [
    "from sklearn.ensemble import GradientBoostingClassifier\n",
    "gab = GradientBoostingClassifier(learning_rate = 0.1, max_depth = 7, n_estimators = 7)\n",
    "y_pred = gab.fit(x_train, y_train).predict(x_test)"
   ]
  },
  {
   "cell_type": "code",
   "execution_count": 55,
   "id": "2a68d866",
   "metadata": {},
   "outputs": [
    {
     "data": {
      "text/html": [
       "<div>\n",
       "<style scoped>\n",
       "    .dataframe tbody tr th:only-of-type {\n",
       "        vertical-align: middle;\n",
       "    }\n",
       "\n",
       "    .dataframe tbody tr th {\n",
       "        vertical-align: top;\n",
       "    }\n",
       "\n",
       "    .dataframe thead th {\n",
       "        text-align: right;\n",
       "    }\n",
       "</style>\n",
       "<table border=\"1\" class=\"dataframe\">\n",
       "  <thead>\n",
       "    <tr style=\"text-align: right;\">\n",
       "      <th></th>\n",
       "      <th>instance_id</th>\n",
       "      <th>music_genre</th>\n",
       "    </tr>\n",
       "  </thead>\n",
       "  <tbody>\n",
       "    <tr>\n",
       "      <th>0</th>\n",
       "      <td>MSC_70753.0</td>\n",
       "      <td>Classical</td>\n",
       "    </tr>\n",
       "    <tr>\n",
       "      <th>1</th>\n",
       "      <td>MSC_24064.0</td>\n",
       "      <td>Rock</td>\n",
       "    </tr>\n",
       "    <tr>\n",
       "      <th>2</th>\n",
       "      <td>MSC_22731.0</td>\n",
       "      <td>Rock</td>\n",
       "    </tr>\n",
       "    <tr>\n",
       "      <th>3</th>\n",
       "      <td>MSC_32095.0</td>\n",
       "      <td>Rock</td>\n",
       "    </tr>\n",
       "    <tr>\n",
       "      <th>4</th>\n",
       "      <td>MSC_24198.0</td>\n",
       "      <td>Jazz</td>\n",
       "    </tr>\n",
       "  </tbody>\n",
       "</table>\n",
       "</div>"
      ],
      "text/plain": [
       "   instance_id music_genre\n",
       "0  MSC_70753.0   Classical\n",
       "1  MSC_24064.0        Rock\n",
       "2  MSC_22731.0        Rock\n",
       "3  MSC_32095.0        Rock\n",
       "4  MSC_24198.0        Jazz"
      ]
     },
     "execution_count": 55,
     "metadata": {},
     "output_type": "execute_result"
    }
   ],
   "source": [
    "solution = pd.DataFrame({'instance_id': test.instance_id, 'music_genre': y_pred})\n",
    "solution.head()"
   ]
  },
  {
   "cell_type": "code",
   "execution_count": 56,
   "id": "6f973c8c",
   "metadata": {},
   "outputs": [],
   "source": [
    "solution.to_csv('Solution.csv', index = False)"
   ]
  },
  {
   "cell_type": "code",
   "execution_count": null,
   "id": "15f6d7f0",
   "metadata": {},
   "outputs": [],
   "source": []
  }
 ],
 "metadata": {
  "kernelspec": {
   "display_name": "Python 3",
   "language": "python",
   "name": "python3"
  },
  "language_info": {
   "codemirror_mode": {
    "name": "ipython",
    "version": 3
   },
   "file_extension": ".py",
   "mimetype": "text/x-python",
   "name": "python",
   "nbconvert_exporter": "python",
   "pygments_lexer": "ipython3",
   "version": "3.8.8"
  }
 },
 "nbformat": 4,
 "nbformat_minor": 5
}
