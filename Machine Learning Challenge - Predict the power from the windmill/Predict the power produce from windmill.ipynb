{
 "cells": [
  {
   "cell_type": "code",
   "execution_count": 1,
   "metadata": {},
   "outputs": [],
   "source": [
    "import numpy as np\n",
    "import pandas as pd\n",
    "import matplotlib.pyplot as plt\n",
    "import seaborn as sns"
   ]
  },
  {
   "cell_type": "code",
   "execution_count": 2,
   "metadata": {},
   "outputs": [
    {
     "data": {
      "text/html": [
       "<div>\n",
       "<style scoped>\n",
       "    .dataframe tbody tr th:only-of-type {\n",
       "        vertical-align: middle;\n",
       "    }\n",
       "\n",
       "    .dataframe tbody tr th {\n",
       "        vertical-align: top;\n",
       "    }\n",
       "\n",
       "    .dataframe thead th {\n",
       "        text-align: right;\n",
       "    }\n",
       "</style>\n",
       "<table border=\"1\" class=\"dataframe\">\n",
       "  <thead>\n",
       "    <tr style=\"text-align: right;\">\n",
       "      <th></th>\n",
       "      <th>tracking_id</th>\n",
       "      <th>datetime</th>\n",
       "      <th>wind_speedms</th>\n",
       "      <th>atmospheric_temperatureC</th>\n",
       "      <th>shaft_temperatureC</th>\n",
       "      <th>blades_angle</th>\n",
       "      <th>gearbox_temperatureC</th>\n",
       "      <th>engine_temperatureC</th>\n",
       "      <th>motor_torqueNm</th>\n",
       "      <th>generator_temperatureC</th>\n",
       "      <th>...</th>\n",
       "      <th>windmill_body_temperatureC</th>\n",
       "      <th>wind_direction</th>\n",
       "      <th>resistanceohm</th>\n",
       "      <th>rotor_torqueNm</th>\n",
       "      <th>turbine_status</th>\n",
       "      <th>cloud_level</th>\n",
       "      <th>blade_lengthm</th>\n",
       "      <th>blade_breadthm</th>\n",
       "      <th>windmill_heightm</th>\n",
       "      <th>windmill_generated_powerkWh</th>\n",
       "    </tr>\n",
       "  </thead>\n",
       "  <tbody>\n",
       "    <tr>\n",
       "      <th>0</th>\n",
       "      <td>WM_33725</td>\n",
       "      <td>2019-08-04 14:33:20</td>\n",
       "      <td>94.820023</td>\n",
       "      <td>-99.000000</td>\n",
       "      <td>41.723019</td>\n",
       "      <td>-0.903423</td>\n",
       "      <td>82.410573</td>\n",
       "      <td>42.523015</td>\n",
       "      <td>2563.124522</td>\n",
       "      <td>76.665560</td>\n",
       "      <td>...</td>\n",
       "      <td>NaN</td>\n",
       "      <td>239.836388</td>\n",
       "      <td>2730.310605</td>\n",
       "      <td>42.084666</td>\n",
       "      <td>BA</td>\n",
       "      <td>Medium</td>\n",
       "      <td>2.217542</td>\n",
       "      <td>0.314065</td>\n",
       "      <td>24.281689</td>\n",
       "      <td>6.766521</td>\n",
       "    </tr>\n",
       "    <tr>\n",
       "      <th>1</th>\n",
       "      <td>WM_698</td>\n",
       "      <td>2018-11-05 10:13:20</td>\n",
       "      <td>241.832734</td>\n",
       "      <td>27.764785</td>\n",
       "      <td>-99.000000</td>\n",
       "      <td>-99.000000</td>\n",
       "      <td>44.104919</td>\n",
       "      <td>46.258870</td>\n",
       "      <td>2372.384119</td>\n",
       "      <td>78.129803</td>\n",
       "      <td>...</td>\n",
       "      <td>NaN</td>\n",
       "      <td>337.944723</td>\n",
       "      <td>1780.207200</td>\n",
       "      <td>107.888643</td>\n",
       "      <td>A2</td>\n",
       "      <td>Medium</td>\n",
       "      <td>4.210346</td>\n",
       "      <td>0.448494</td>\n",
       "      <td>27.262139</td>\n",
       "      <td>5.966275</td>\n",
       "    </tr>\n",
       "    <tr>\n",
       "      <th>2</th>\n",
       "      <td>WM_39146</td>\n",
       "      <td>2019-09-14 14:03:20</td>\n",
       "      <td>95.484724</td>\n",
       "      <td>NaN</td>\n",
       "      <td>41.855473</td>\n",
       "      <td>12.652763</td>\n",
       "      <td>42.322098</td>\n",
       "      <td>42.878552</td>\n",
       "      <td>1657.169646</td>\n",
       "      <td>67.654469</td>\n",
       "      <td>...</td>\n",
       "      <td>45.033197</td>\n",
       "      <td>227.850294</td>\n",
       "      <td>1666.049900</td>\n",
       "      <td>-42.931459</td>\n",
       "      <td>ABC</td>\n",
       "      <td>Medium</td>\n",
       "      <td>2.719475</td>\n",
       "      <td>0.302321</td>\n",
       "      <td>27.366127</td>\n",
       "      <td>2.874342</td>\n",
       "    </tr>\n",
       "    <tr>\n",
       "      <th>3</th>\n",
       "      <td>WM_6757</td>\n",
       "      <td>2018-12-25 15:33:20</td>\n",
       "      <td>238.819424</td>\n",
       "      <td>-99.000000</td>\n",
       "      <td>45.443914</td>\n",
       "      <td>15.115323</td>\n",
       "      <td>44.759643</td>\n",
       "      <td>47.282101</td>\n",
       "      <td>2888.134079</td>\n",
       "      <td>95.389974</td>\n",
       "      <td>...</td>\n",
       "      <td>44.827154</td>\n",
       "      <td>492.081520</td>\n",
       "      <td>1964.502895</td>\n",
       "      <td>42.744596</td>\n",
       "      <td>ABC</td>\n",
       "      <td>NaN</td>\n",
       "      <td>4.857385</td>\n",
       "      <td>0.367140</td>\n",
       "      <td>24.287767</td>\n",
       "      <td>14.851089</td>\n",
       "    </tr>\n",
       "    <tr>\n",
       "      <th>4</th>\n",
       "      <td>WM_21521</td>\n",
       "      <td>2019-05-04 03:13:20</td>\n",
       "      <td>10.722890</td>\n",
       "      <td>NaN</td>\n",
       "      <td>41.981183</td>\n",
       "      <td>1.715696</td>\n",
       "      <td>-17.616459</td>\n",
       "      <td>43.469852</td>\n",
       "      <td>781.695419</td>\n",
       "      <td>37.423065</td>\n",
       "      <td>...</td>\n",
       "      <td>-99.000000</td>\n",
       "      <td>259.274601</td>\n",
       "      <td>1177.516152</td>\n",
       "      <td>13.387289</td>\n",
       "      <td>AAA</td>\n",
       "      <td>Medium</td>\n",
       "      <td>NaN</td>\n",
       "      <td>0.453374</td>\n",
       "      <td>27.971650</td>\n",
       "      <td>3.519074</td>\n",
       "    </tr>\n",
       "  </tbody>\n",
       "</table>\n",
       "<p>5 rows × 22 columns</p>\n",
       "</div>"
      ],
      "text/plain": [
       "  tracking_id             datetime  wind_speedms  atmospheric_temperatureC  \\\n",
       "0    WM_33725  2019-08-04 14:33:20     94.820023                -99.000000   \n",
       "1      WM_698  2018-11-05 10:13:20    241.832734                 27.764785   \n",
       "2    WM_39146  2019-09-14 14:03:20     95.484724                       NaN   \n",
       "3     WM_6757  2018-12-25 15:33:20    238.819424                -99.000000   \n",
       "4    WM_21521  2019-05-04 03:13:20     10.722890                       NaN   \n",
       "\n",
       "   shaft_temperatureC  blades_angle  gearbox_temperatureC  \\\n",
       "0           41.723019     -0.903423             82.410573   \n",
       "1          -99.000000    -99.000000             44.104919   \n",
       "2           41.855473     12.652763             42.322098   \n",
       "3           45.443914     15.115323             44.759643   \n",
       "4           41.981183      1.715696            -17.616459   \n",
       "\n",
       "   engine_temperatureC  motor_torqueNm  generator_temperatureC  ...  \\\n",
       "0            42.523015     2563.124522               76.665560  ...   \n",
       "1            46.258870     2372.384119               78.129803  ...   \n",
       "2            42.878552     1657.169646               67.654469  ...   \n",
       "3            47.282101     2888.134079               95.389974  ...   \n",
       "4            43.469852      781.695419               37.423065  ...   \n",
       "\n",
       "   windmill_body_temperatureC  wind_direction  resistanceohm  rotor_torqueNm  \\\n",
       "0                         NaN      239.836388    2730.310605       42.084666   \n",
       "1                         NaN      337.944723    1780.207200      107.888643   \n",
       "2                   45.033197      227.850294    1666.049900      -42.931459   \n",
       "3                   44.827154      492.081520    1964.502895       42.744596   \n",
       "4                  -99.000000      259.274601    1177.516152       13.387289   \n",
       "\n",
       "   turbine_status  cloud_level blade_lengthm blade_breadthm  windmill_heightm  \\\n",
       "0              BA       Medium      2.217542       0.314065         24.281689   \n",
       "1              A2       Medium      4.210346       0.448494         27.262139   \n",
       "2             ABC       Medium      2.719475       0.302321         27.366127   \n",
       "3             ABC          NaN      4.857385       0.367140         24.287767   \n",
       "4             AAA       Medium           NaN       0.453374         27.971650   \n",
       "\n",
       "   windmill_generated_powerkWh  \n",
       "0                     6.766521  \n",
       "1                     5.966275  \n",
       "2                     2.874342  \n",
       "3                    14.851089  \n",
       "4                     3.519074  \n",
       "\n",
       "[5 rows x 22 columns]"
      ]
     },
     "execution_count": 2,
     "metadata": {},
     "output_type": "execute_result"
    }
   ],
   "source": [
    "train = pd.read_csv('train.csv')\n",
    "train = train.rename(columns = lambda x:re.sub('[^A-Za-z0-9_]+', '', x))\n",
    "train.head()"
   ]
  },
  {
   "cell_type": "code",
   "execution_count": 3,
   "metadata": {},
   "outputs": [
    {
     "data": {
      "text/plain": [
       "(28200, 22)"
      ]
     },
     "execution_count": 3,
     "metadata": {},
     "output_type": "execute_result"
    }
   ],
   "source": [
    "train.shape"
   ]
  },
  {
   "cell_type": "code",
   "execution_count": 4,
   "metadata": {},
   "outputs": [
    {
     "data": {
      "text/plain": [
       "tracking_id                       0\n",
       "datetime                          0\n",
       "wind_speedms                    273\n",
       "atmospheric_temperatureC       3450\n",
       "shaft_temperatureC                2\n",
       "blades_angle                    216\n",
       "gearbox_temperatureC              1\n",
       "engine_temperatureC              12\n",
       "motor_torqueNm                   24\n",
       "generator_temperatureC           12\n",
       "atmospheric_pressurePascal     2707\n",
       "area_temperatureC                 0\n",
       "windmill_body_temperatureC     2363\n",
       "wind_direction                 5103\n",
       "resistanceohm                     1\n",
       "rotor_torqueNm                  572\n",
       "turbine_status                 1759\n",
       "cloud_level                     276\n",
       "blade_lengthm                  5093\n",
       "blade_breadthm                    0\n",
       "windmill_heightm                543\n",
       "windmill_generated_powerkWh     207\n",
       "dtype: int64"
      ]
     },
     "execution_count": 4,
     "metadata": {},
     "output_type": "execute_result"
    }
   ],
   "source": [
    "train.isnull().sum()"
   ]
  },
  {
   "cell_type": "code",
   "execution_count": 5,
   "metadata": {},
   "outputs": [
    {
     "data": {
      "text/plain": [
       "0"
      ]
     },
     "execution_count": 5,
     "metadata": {},
     "output_type": "execute_result"
    }
   ],
   "source": [
    "train.duplicated().sum()"
   ]
  },
  {
   "cell_type": "code",
   "execution_count": 6,
   "metadata": {},
   "outputs": [
    {
     "data": {
      "text/html": [
       "<div>\n",
       "<style scoped>\n",
       "    .dataframe tbody tr th:only-of-type {\n",
       "        vertical-align: middle;\n",
       "    }\n",
       "\n",
       "    .dataframe tbody tr th {\n",
       "        vertical-align: top;\n",
       "    }\n",
       "\n",
       "    .dataframe thead th {\n",
       "        text-align: right;\n",
       "    }\n",
       "</style>\n",
       "<table border=\"1\" class=\"dataframe\">\n",
       "  <thead>\n",
       "    <tr style=\"text-align: right;\">\n",
       "      <th></th>\n",
       "      <th>tracking_id</th>\n",
       "      <th>datetime</th>\n",
       "      <th>wind_speedms</th>\n",
       "      <th>atmospheric_temperatureC</th>\n",
       "      <th>shaft_temperatureC</th>\n",
       "      <th>blades_angle</th>\n",
       "      <th>gearbox_temperatureC</th>\n",
       "      <th>engine_temperatureC</th>\n",
       "      <th>motor_torqueNm</th>\n",
       "      <th>generator_temperatureC</th>\n",
       "      <th>...</th>\n",
       "      <th>area_temperatureC</th>\n",
       "      <th>windmill_body_temperatureC</th>\n",
       "      <th>wind_direction</th>\n",
       "      <th>resistanceohm</th>\n",
       "      <th>rotor_torqueNm</th>\n",
       "      <th>turbine_status</th>\n",
       "      <th>cloud_level</th>\n",
       "      <th>blade_lengthm</th>\n",
       "      <th>blade_breadthm</th>\n",
       "      <th>windmill_heightm</th>\n",
       "    </tr>\n",
       "  </thead>\n",
       "  <tbody>\n",
       "    <tr>\n",
       "      <th>0</th>\n",
       "      <td>WM_19817</td>\n",
       "      <td>2019-04-17 08:53:20</td>\n",
       "      <td>94.324266</td>\n",
       "      <td>17.641186</td>\n",
       "      <td>89.714193</td>\n",
       "      <td>51.146788</td>\n",
       "      <td>40.460560</td>\n",
       "      <td>39.594734</td>\n",
       "      <td>1073.202715</td>\n",
       "      <td>66.830037</td>\n",
       "      <td>...</td>\n",
       "      <td>24.004812</td>\n",
       "      <td>43.756693</td>\n",
       "      <td>445.976992</td>\n",
       "      <td>1664.222023</td>\n",
       "      <td>21.912243</td>\n",
       "      <td>BA</td>\n",
       "      <td>Medium</td>\n",
       "      <td>3.185837</td>\n",
       "      <td>0.403965</td>\n",
       "      <td>25.572431</td>\n",
       "    </tr>\n",
       "    <tr>\n",
       "      <th>1</th>\n",
       "      <td>WM_18723</td>\n",
       "      <td>2019-03-30 07:43:20</td>\n",
       "      <td>10.088870</td>\n",
       "      <td>13.978119</td>\n",
       "      <td>43.272846</td>\n",
       "      <td>46.516394</td>\n",
       "      <td>40.027788</td>\n",
       "      <td>41.176860</td>\n",
       "      <td>517.436430</td>\n",
       "      <td>37.284163</td>\n",
       "      <td>...</td>\n",
       "      <td>29.431813</td>\n",
       "      <td>42.728174</td>\n",
       "      <td>499.595287</td>\n",
       "      <td>1165.111992</td>\n",
       "      <td>-35.050093</td>\n",
       "      <td>A</td>\n",
       "      <td>Medium</td>\n",
       "      <td>3.016603</td>\n",
       "      <td>0.444755</td>\n",
       "      <td>24.371823</td>\n",
       "    </tr>\n",
       "    <tr>\n",
       "      <th>2</th>\n",
       "      <td>WM_34552</td>\n",
       "      <td>2019-08-10 11:33:20</td>\n",
       "      <td>347.152090</td>\n",
       "      <td>31.423035</td>\n",
       "      <td>41.076640</td>\n",
       "      <td>26.931602</td>\n",
       "      <td>43.109122</td>\n",
       "      <td>43.439556</td>\n",
       "      <td>1480.716492</td>\n",
       "      <td>70.010762</td>\n",
       "      <td>...</td>\n",
       "      <td>29.924235</td>\n",
       "      <td>43.256122</td>\n",
       "      <td>245.432231</td>\n",
       "      <td>1667.720491</td>\n",
       "      <td>27.195302</td>\n",
       "      <td>B2</td>\n",
       "      <td>Medium</td>\n",
       "      <td>2.611941</td>\n",
       "      <td>0.387368</td>\n",
       "      <td>27.654677</td>\n",
       "    </tr>\n",
       "    <tr>\n",
       "      <th>3</th>\n",
       "      <td>WM_28570</td>\n",
       "      <td>2019-06-26 03:53:20</td>\n",
       "      <td>24.471997</td>\n",
       "      <td>-99.000000</td>\n",
       "      <td>14.375078</td>\n",
       "      <td>66.513953</td>\n",
       "      <td>13.741253</td>\n",
       "      <td>15.577472</td>\n",
       "      <td>887.979475</td>\n",
       "      <td>41.445258</td>\n",
       "      <td>...</td>\n",
       "      <td>23.886434</td>\n",
       "      <td>13.501595</td>\n",
       "      <td>NaN</td>\n",
       "      <td>1329.744740</td>\n",
       "      <td>15.245757</td>\n",
       "      <td>BBB</td>\n",
       "      <td>Low</td>\n",
       "      <td>2.866805</td>\n",
       "      <td>0.450478</td>\n",
       "      <td>24.189426</td>\n",
       "    </tr>\n",
       "    <tr>\n",
       "      <th>4</th>\n",
       "      <td>WM_36934</td>\n",
       "      <td>2019-08-27 16:43:20</td>\n",
       "      <td>96.997026</td>\n",
       "      <td>33.281836</td>\n",
       "      <td>41.405192</td>\n",
       "      <td>1.843112</td>\n",
       "      <td>121.572907</td>\n",
       "      <td>43.934587</td>\n",
       "      <td>2053.916354</td>\n",
       "      <td>68.007787</td>\n",
       "      <td>...</td>\n",
       "      <td>35.906889</td>\n",
       "      <td>-99.000000</td>\n",
       "      <td>442.425744</td>\n",
       "      <td>691.408996</td>\n",
       "      <td>34.257024</td>\n",
       "      <td>A</td>\n",
       "      <td>Low</td>\n",
       "      <td>3.549672</td>\n",
       "      <td>0.368355</td>\n",
       "      <td>4.885440</td>\n",
       "    </tr>\n",
       "  </tbody>\n",
       "</table>\n",
       "<p>5 rows × 21 columns</p>\n",
       "</div>"
      ],
      "text/plain": [
       "  tracking_id             datetime  wind_speedms  atmospheric_temperatureC  \\\n",
       "0    WM_19817  2019-04-17 08:53:20     94.324266                 17.641186   \n",
       "1    WM_18723  2019-03-30 07:43:20     10.088870                 13.978119   \n",
       "2    WM_34552  2019-08-10 11:33:20    347.152090                 31.423035   \n",
       "3    WM_28570  2019-06-26 03:53:20     24.471997                -99.000000   \n",
       "4    WM_36934  2019-08-27 16:43:20     96.997026                 33.281836   \n",
       "\n",
       "   shaft_temperatureC  blades_angle  gearbox_temperatureC  \\\n",
       "0           89.714193     51.146788             40.460560   \n",
       "1           43.272846     46.516394             40.027788   \n",
       "2           41.076640     26.931602             43.109122   \n",
       "3           14.375078     66.513953             13.741253   \n",
       "4           41.405192      1.843112            121.572907   \n",
       "\n",
       "   engine_temperatureC  motor_torqueNm  generator_temperatureC  ...  \\\n",
       "0            39.594734     1073.202715               66.830037  ...   \n",
       "1            41.176860      517.436430               37.284163  ...   \n",
       "2            43.439556     1480.716492               70.010762  ...   \n",
       "3            15.577472      887.979475               41.445258  ...   \n",
       "4            43.934587     2053.916354               68.007787  ...   \n",
       "\n",
       "   area_temperatureC  windmill_body_temperatureC  wind_direction  \\\n",
       "0          24.004812                   43.756693      445.976992   \n",
       "1          29.431813                   42.728174      499.595287   \n",
       "2          29.924235                   43.256122      245.432231   \n",
       "3          23.886434                   13.501595             NaN   \n",
       "4          35.906889                  -99.000000      442.425744   \n",
       "\n",
       "   resistanceohm  rotor_torqueNm  turbine_status cloud_level blade_lengthm  \\\n",
       "0    1664.222023       21.912243              BA      Medium      3.185837   \n",
       "1    1165.111992      -35.050093               A      Medium      3.016603   \n",
       "2    1667.720491       27.195302              B2      Medium      2.611941   \n",
       "3    1329.744740       15.245757             BBB         Low      2.866805   \n",
       "4     691.408996       34.257024               A         Low      3.549672   \n",
       "\n",
       "   blade_breadthm  windmill_heightm  \n",
       "0        0.403965         25.572431  \n",
       "1        0.444755         24.371823  \n",
       "2        0.387368         27.654677  \n",
       "3        0.450478         24.189426  \n",
       "4        0.368355          4.885440  \n",
       "\n",
       "[5 rows x 21 columns]"
      ]
     },
     "execution_count": 6,
     "metadata": {},
     "output_type": "execute_result"
    }
   ],
   "source": [
    "test = pd.read_csv('test.csv')\n",
    "test = test.rename(columns = lambda x:re.sub('[^A-Za-z0-9_]+', '', x))\n",
    "test.head()"
   ]
  },
  {
   "cell_type": "code",
   "execution_count": 7,
   "metadata": {},
   "outputs": [
    {
     "data": {
      "text/plain": [
       "(12086, 21)"
      ]
     },
     "execution_count": 7,
     "metadata": {},
     "output_type": "execute_result"
    }
   ],
   "source": [
    "test.shape"
   ]
  },
  {
   "cell_type": "code",
   "execution_count": 8,
   "metadata": {},
   "outputs": [
    {
     "data": {
      "text/plain": [
       "tracking_id                      0\n",
       "datetime                         0\n",
       "wind_speedms                   126\n",
       "atmospheric_temperatureC      1427\n",
       "shaft_temperatureC               1\n",
       "blades_angle                   106\n",
       "gearbox_temperatureC             1\n",
       "engine_temperatureC              5\n",
       "motor_torqueNm                  11\n",
       "generator_temperatureC           5\n",
       "atmospheric_pressurePascal    1151\n",
       "area_temperatureC                1\n",
       "windmill_body_temperatureC     926\n",
       "wind_direction                2160\n",
       "resistanceohm                    0\n",
       "rotor_torqueNm                 281\n",
       "turbine_status                 797\n",
       "cloud_level                    125\n",
       "blade_lengthm                 2114\n",
       "blade_breadthm                   0\n",
       "windmill_heightm               255\n",
       "dtype: int64"
      ]
     },
     "execution_count": 8,
     "metadata": {},
     "output_type": "execute_result"
    }
   ],
   "source": [
    "test.isnull().sum()"
   ]
  },
  {
   "cell_type": "code",
   "execution_count": 9,
   "metadata": {},
   "outputs": [
    {
     "name": "stdout",
     "output_type": "stream",
     "text": [
      "<class 'pandas.core.frame.DataFrame'>\n",
      "RangeIndex: 28200 entries, 0 to 28199\n",
      "Data columns (total 22 columns):\n",
      "tracking_id                    28200 non-null object\n",
      "datetime                       28200 non-null object\n",
      "wind_speedms                   27927 non-null float64\n",
      "atmospheric_temperatureC       24750 non-null float64\n",
      "shaft_temperatureC             28198 non-null float64\n",
      "blades_angle                   27984 non-null float64\n",
      "gearbox_temperatureC           28199 non-null float64\n",
      "engine_temperatureC            28188 non-null float64\n",
      "motor_torqueNm                 28176 non-null float64\n",
      "generator_temperatureC         28188 non-null float64\n",
      "atmospheric_pressurePascal     25493 non-null float64\n",
      "area_temperatureC              28200 non-null float64\n",
      "windmill_body_temperatureC     25837 non-null float64\n",
      "wind_direction                 23097 non-null float64\n",
      "resistanceohm                  28199 non-null float64\n",
      "rotor_torqueNm                 27628 non-null float64\n",
      "turbine_status                 26441 non-null object\n",
      "cloud_level                    27924 non-null object\n",
      "blade_lengthm                  23107 non-null float64\n",
      "blade_breadthm                 28200 non-null float64\n",
      "windmill_heightm               27657 non-null float64\n",
      "windmill_generated_powerkWh    27993 non-null float64\n",
      "dtypes: float64(18), object(4)\n",
      "memory usage: 4.7+ MB\n"
     ]
    }
   ],
   "source": [
    "train.info()"
   ]
  },
  {
   "cell_type": "code",
   "execution_count": 10,
   "metadata": {},
   "outputs": [],
   "source": [
    "numeric_features = train.select_dtypes(float)\n",
    "numeric_features1 = test.select_dtypes(float)"
   ]
  },
  {
   "cell_type": "code",
   "execution_count": 11,
   "metadata": {},
   "outputs": [],
   "source": [
    "for i in numeric_features:\n",
    "    train[i] = train[i].fillna(train[i].mean())"
   ]
  },
  {
   "cell_type": "code",
   "execution_count": 12,
   "metadata": {},
   "outputs": [],
   "source": [
    "for i in numeric_features1:\n",
    "    test[i] = test[i].fillna(test[i].mean())"
   ]
  },
  {
   "cell_type": "code",
   "execution_count": 13,
   "metadata": {},
   "outputs": [
    {
     "data": {
      "text/plain": [
       "BB     1946\n",
       "AAA    1939\n",
       "BCB    1933\n",
       "B2     1931\n",
       "A      1930\n",
       "D      1922\n",
       "B      1882\n",
       "AB     1868\n",
       "ABC    1867\n",
       "A2     1855\n",
       "BA     1854\n",
       "AC     1850\n",
       "BD     1843\n",
       "BBB    1821\n",
       "Name: turbine_status, dtype: int64"
      ]
     },
     "execution_count": 13,
     "metadata": {},
     "output_type": "execute_result"
    }
   ],
   "source": [
    "train['turbine_status'].value_counts()"
   ]
  },
  {
   "cell_type": "code",
   "execution_count": 14,
   "metadata": {},
   "outputs": [
    {
     "data": {
      "text/plain": [
       "Low              13921\n",
       "Medium           13704\n",
       "Extremely Low      299\n",
       "Name: cloud_level, dtype: int64"
      ]
     },
     "execution_count": 14,
     "metadata": {},
     "output_type": "execute_result"
    }
   ],
   "source": [
    "train['cloud_level'].value_counts()"
   ]
  },
  {
   "cell_type": "code",
   "execution_count": 15,
   "metadata": {},
   "outputs": [],
   "source": [
    "x = ['cloud_level', 'turbine_status']\n",
    "for i in x:\n",
    "    train[i] = train[i].fillna(train[i].value_counts().index[0])\n",
    "    test[i] = test[i].fillna(test[i].value_counts().index[0])"
   ]
  },
  {
   "cell_type": "code",
   "execution_count": 16,
   "metadata": {},
   "outputs": [
    {
     "data": {
      "text/plain": [
       "tracking_id                    0\n",
       "datetime                       0\n",
       "wind_speedms                   0\n",
       "atmospheric_temperatureC       0\n",
       "shaft_temperatureC             0\n",
       "blades_angle                   0\n",
       "gearbox_temperatureC           0\n",
       "engine_temperatureC            0\n",
       "motor_torqueNm                 0\n",
       "generator_temperatureC         0\n",
       "atmospheric_pressurePascal     0\n",
       "area_temperatureC              0\n",
       "windmill_body_temperatureC     0\n",
       "wind_direction                 0\n",
       "resistanceohm                  0\n",
       "rotor_torqueNm                 0\n",
       "turbine_status                 0\n",
       "cloud_level                    0\n",
       "blade_lengthm                  0\n",
       "blade_breadthm                 0\n",
       "windmill_heightm               0\n",
       "windmill_generated_powerkWh    0\n",
       "dtype: int64"
      ]
     },
     "execution_count": 16,
     "metadata": {},
     "output_type": "execute_result"
    }
   ],
   "source": [
    "train.isnull().sum()"
   ]
  },
  {
   "cell_type": "code",
   "execution_count": 17,
   "metadata": {},
   "outputs": [
    {
     "data": {
      "text/plain": [
       "tracking_id                   0\n",
       "datetime                      0\n",
       "wind_speedms                  0\n",
       "atmospheric_temperatureC      0\n",
       "shaft_temperatureC            0\n",
       "blades_angle                  0\n",
       "gearbox_temperatureC          0\n",
       "engine_temperatureC           0\n",
       "motor_torqueNm                0\n",
       "generator_temperatureC        0\n",
       "atmospheric_pressurePascal    0\n",
       "area_temperatureC             0\n",
       "windmill_body_temperatureC    0\n",
       "wind_direction                0\n",
       "resistanceohm                 0\n",
       "rotor_torqueNm                0\n",
       "turbine_status                0\n",
       "cloud_level                   0\n",
       "blade_lengthm                 0\n",
       "blade_breadthm                0\n",
       "windmill_heightm              0\n",
       "dtype: int64"
      ]
     },
     "execution_count": 17,
     "metadata": {},
     "output_type": "execute_result"
    }
   ],
   "source": [
    "test.isnull().sum()"
   ]
  },
  {
   "cell_type": "code",
   "execution_count": 18,
   "metadata": {},
   "outputs": [],
   "source": [
    "from sklearn.preprocessing import LabelEncoder\n",
    "le = LabelEncoder()"
   ]
  },
  {
   "cell_type": "code",
   "execution_count": 19,
   "metadata": {},
   "outputs": [],
   "source": [
    "x = ['cloud_level', 'turbine_status']\n",
    "for i in x:\n",
    "    train[i] = le.fit_transform(train[i])\n",
    "    test[i] = le.fit_transform(test[i])"
   ]
  },
  {
   "cell_type": "code",
   "execution_count": 20,
   "metadata": {},
   "outputs": [],
   "source": [
    "newtrain = train\n",
    "newtest = test"
   ]
  },
  {
   "cell_type": "code",
   "execution_count": 21,
   "metadata": {},
   "outputs": [],
   "source": [
    "newtrain = newtrain.drop(['tracking_id', 'datetime'], axis = 1)\n",
    "newtest = newtest.drop(['tracking_id', 'datetime'], axis = 1)"
   ]
  },
  {
   "cell_type": "code",
   "execution_count": 23,
   "metadata": {},
   "outputs": [],
   "source": [
    "x = newtrain.drop('windmill_generated_powerkWh', axis = 1)\n",
    "y = newtrain['windmill_generated_powerkWh']"
   ]
  },
  {
   "cell_type": "code",
   "execution_count": 24,
   "metadata": {},
   "outputs": [],
   "source": [
    "from sklearn.model_selection import train_test_split\n",
    "x_train, x_test, y_train, y_test = train_test_split(x, y, test_size = 0.2, random_state = 1)"
   ]
  },
  {
   "cell_type": "code",
   "execution_count": 25,
   "metadata": {},
   "outputs": [],
   "source": [
    "from sklearn.metrics import mean_squared_error"
   ]
  },
  {
   "cell_type": "code",
   "execution_count": 38,
   "metadata": {},
   "outputs": [
    {
     "name": "stdout",
     "output_type": "stream",
     "text": [
      "0.5569624133158224\n"
     ]
    }
   ],
   "source": [
    "from lightgbm import LGBMRegressor\n",
    "lgbm = LGBMRegressor()\n",
    "y_pred = lgbm.fit(x_train, y_train).predict(x_test)\n",
    "print(np.sqrt(mean_squared_error(y_test, y_pred)))"
   ]
  },
  {
   "cell_type": "code",
   "execution_count": 40,
   "metadata": {},
   "outputs": [
    {
     "data": {
      "image/png": "[encoded data removed]",
      "text/plain": [
       "<Figure size 720x360 with 1 Axes>"
      ]
     },
     "metadata": {
      "needs_background": "light"
     },
     "output_type": "display_data"
    }
   ],
   "source": [
    "feature_imp = pd.DataFrame(sorted(zip(lgbm.feature_importances_, x.columns), reverse=True)[:], columns=['Value','Feature'])\n",
    "plt.figure(figsize=(10,5))\n",
    "sns.barplot(x=\"Value\", y=\"Feature\", data=feature_imp.sort_values(by=\"Value\", ascending=False))\n",
    "plt.title('LGBM Features')\n",
    "plt.tight_layout()\n",
    "plt.show()"
   ]
  },
  {
   "cell_type": "code",
   "execution_count": 50,
   "metadata": {},
   "outputs": [],
   "source": [
    "x_train = newtrain.drop(['windmill_generated_powerkWh', 'cloud_level', 'turbine_status'], axis = 1)\n",
    "y_train = newtrain['windmill_generated_powerkWh']\n",
    "x_test = newtest.drop(['cloud_level', 'turbine_status'], axis = 1)"
   ]
  },
  {
   "cell_type": "code",
   "execution_count": 47,
   "metadata": {},
   "outputs": [],
   "source": [
    "from lightgbm import LGBMRegressor\n",
    "lgbm = LGBMRegressor()\n",
    "y_pred = lgbm.fit(x_train, y_train).predict(x_test)\n",
    "solution = pd.DataFrame({'tracking_id': test.tracking_id, 'datetime' : test.datetime, 'windmill_generated_power(kW/h)' : y_pred})\n",
    "solution.to_csv('Solution.csv', index = False)"
   ]
  },
  {
   "cell_type": "code",
   "execution_count": null,
   "metadata": {},
   "outputs": [],
   "source": []
  }
 ],
 "metadata": {
  "kernelspec": {
   "display_name": "Python 3",
   "language": "python",
   "name": "python3"
  },
  "language_info": {
   "codemirror_mode": {
    "name": "ipython",
    "version": 3
   },
   "file_extension": ".py",
   "mimetype": "text/x-python",
   "name": "python",
   "nbconvert_exporter": "python",
   "pygments_lexer": "ipython3",
   "version": "3.7.3"
  }
 },
 "nbformat": 4,
 "nbformat_minor": 2
}
